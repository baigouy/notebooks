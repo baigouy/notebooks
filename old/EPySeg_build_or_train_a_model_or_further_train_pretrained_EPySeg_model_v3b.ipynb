{
  "nbformat": 4,
  "nbformat_minor": 0,
  "metadata": {
    "colab": {
      "provenance": [],
      "include_colab_link": true
    },
    "kernelspec": {
      "name": "python3",
      "display_name": "Python 3"
    },
    "accelerator": "GPU",
    "widgets": {
      "application/vnd.jupyter.widget-state+json": {
        "dbf3f4a983744f9fa11a73b331e75dd6": {
          "model_module": "@jupyter-widgets/controls",
          "model_name": "VBoxModel",
          "model_module_version": "1.5.0",
          "state": {
            "_dom_classes": [],
            "_model_module": "@jupyter-widgets/controls",
            "_model_module_version": "1.5.0",
            "_model_name": "VBoxModel",
            "_view_count": null,
            "_view_module": "@jupyter-widgets/controls",
            "_view_module_version": "1.5.0",
            "_view_name": "VBoxView",
            "box_style": "",
            "children": [
              "IPY_MODEL_b0becf02407a4c0d8bd004bd2754b9ad",
              "IPY_MODEL_4b2e6bab451f4936bc8cad4191efa4d8",
              "IPY_MODEL_eb42283fb11241b0810a0a12f6f331e4"
            ],
            "layout": "IPY_MODEL_fc7eaeee8e59422e83ffb10a06f690b8"
          }
        },
        "b0becf02407a4c0d8bd004bd2754b9ad": {
          "model_module": "@jupyter-widgets/controls",
          "model_name": "LabelModel",
          "model_module_version": "1.5.0",
          "state": {
            "_dom_classes": [],
            "_model_module": "@jupyter-widgets/controls",
            "_model_module_version": "1.5.0",
            "_model_name": "LabelModel",
            "_view_count": null,
            "_view_module": "@jupyter-widgets/controls",
            "_view_module_version": "1.5.0",
            "_view_name": "LabelView",
            "description": "",
            "description_tooltip": null,
            "layout": "IPY_MODEL_27726e6906194e03b00da9b2658da655",
            "placeholder": "​",
            "style": "IPY_MODEL_df3456029c4e45759d8839fbcf9c5c34",
            "value": "Please make a choice:"
          }
        },
        "4b2e6bab451f4936bc8cad4191efa4d8": {
          "model_module": "@jupyter-widgets/controls",
          "model_name": "RadioButtonsModel",
          "model_module_version": "1.5.0",
          "state": {
            "_dom_classes": [],
            "_model_module": "@jupyter-widgets/controls",
            "_model_module_version": "1.5.0",
            "_model_name": "RadioButtonsModel",
            "_options_labels": [
              "Build a new model",
              "Load an existing model",
              "Further train the default EPySeg model"
            ],
            "_view_count": null,
            "_view_module": "@jupyter-widgets/controls",
            "_view_module_version": "1.5.0",
            "_view_name": "RadioButtonsView",
            "description": "",
            "description_tooltip": null,
            "disabled": false,
            "index": 0,
            "layout": "IPY_MODEL_f591b8dfb4dc412a9a73f4b4e36641fa",
            "style": "IPY_MODEL_a1ca64e79ad14405ba99e37032da77be"
          }
        },
        "eb42283fb11241b0810a0a12f6f331e4": {
          "model_module": "@jupyter-widgets/controls",
          "model_name": "DropdownModel",
          "model_module_version": "1.5.0",
          "state": {
            "_dom_classes": [],
            "_model_module": "@jupyter-widgets/controls",
            "_model_module_version": "1.5.0",
            "_model_name": "DropdownModel",
            "_options_labels": [
              "v2",
              "v1"
            ],
            "_view_count": null,
            "_view_module": "@jupyter-widgets/controls",
            "_view_module_version": "1.5.0",
            "_view_name": "DropdownView",
            "description": "Model version (pretrained only)",
            "description_tooltip": null,
            "disabled": false,
            "index": 0,
            "layout": "IPY_MODEL_824e5dd27f20452c9dc770cb4887bb91",
            "style": "IPY_MODEL_d752dd03a1964e65a6288980d921239a"
          }
        },
        "fc7eaeee8e59422e83ffb10a06f690b8": {
          "model_module": "@jupyter-widgets/base",
          "model_name": "LayoutModel",
          "model_module_version": "1.2.0",
          "state": {
            "_model_module": "@jupyter-widgets/base",
            "_model_module_version": "1.2.0",
            "_model_name": "LayoutModel",
            "_view_count": null,
            "_view_module": "@jupyter-widgets/base",
            "_view_module_version": "1.2.0",
            "_view_name": "LayoutView",
            "align_content": null,
            "align_items": null,
            "align_self": null,
            "border": null,
            "bottom": null,
            "display": null,
            "flex": null,
            "flex_flow": null,
            "grid_area": null,
            "grid_auto_columns": null,
            "grid_auto_flow": null,
            "grid_auto_rows": null,
            "grid_column": null,
            "grid_gap": null,
            "grid_row": null,
            "grid_template_areas": null,
            "grid_template_columns": null,
            "grid_template_rows": null,
            "height": null,
            "justify_content": null,
            "justify_items": null,
            "left": null,
            "margin": null,
            "max_height": null,
            "max_width": null,
            "min_height": null,
            "min_width": null,
            "object_fit": null,
            "object_position": null,
            "order": null,
            "overflow": null,
            "overflow_x": null,
            "overflow_y": null,
            "padding": null,
            "right": null,
            "top": null,
            "visibility": null,
            "width": null
          }
        },
        "27726e6906194e03b00da9b2658da655": {
          "model_module": "@jupyter-widgets/base",
          "model_name": "LayoutModel",
          "model_module_version": "1.2.0",
          "state": {
            "_model_module": "@jupyter-widgets/base",
            "_model_module_version": "1.2.0",
            "_model_name": "LayoutModel",
            "_view_count": null,
            "_view_module": "@jupyter-widgets/base",
            "_view_module_version": "1.2.0",
            "_view_name": "LayoutView",
            "align_content": null,
            "align_items": null,
            "align_self": null,
            "border": null,
            "bottom": null,
            "display": null,
            "flex": null,
            "flex_flow": null,
            "grid_area": null,
            "grid_auto_columns": null,
            "grid_auto_flow": null,
            "grid_auto_rows": null,
            "grid_column": null,
            "grid_gap": null,
            "grid_row": null,
            "grid_template_areas": null,
            "grid_template_columns": null,
            "grid_template_rows": null,
            "height": null,
            "justify_content": null,
            "justify_items": null,
            "left": null,
            "margin": null,
            "max_height": null,
            "max_width": null,
            "min_height": null,
            "min_width": null,
            "object_fit": null,
            "object_position": null,
            "order": null,
            "overflow": null,
            "overflow_x": null,
            "overflow_y": null,
            "padding": null,
            "right": null,
            "top": null,
            "visibility": null,
            "width": null
          }
        },
        "df3456029c4e45759d8839fbcf9c5c34": {
          "model_module": "@jupyter-widgets/controls",
          "model_name": "DescriptionStyleModel",
          "model_module_version": "1.5.0",
          "state": {
            "_model_module": "@jupyter-widgets/controls",
            "_model_module_version": "1.5.0",
            "_model_name": "DescriptionStyleModel",
            "_view_count": null,
            "_view_module": "@jupyter-widgets/base",
            "_view_module_version": "1.2.0",
            "_view_name": "StyleView",
            "description_width": ""
          }
        },
        "f591b8dfb4dc412a9a73f4b4e36641fa": {
          "model_module": "@jupyter-widgets/base",
          "model_name": "LayoutModel",
          "model_module_version": "1.2.0",
          "state": {
            "_model_module": "@jupyter-widgets/base",
            "_model_module_version": "1.2.0",
            "_model_name": "LayoutModel",
            "_view_count": null,
            "_view_module": "@jupyter-widgets/base",
            "_view_module_version": "1.2.0",
            "_view_name": "LayoutView",
            "align_content": null,
            "align_items": null,
            "align_self": null,
            "border": null,
            "bottom": null,
            "display": null,
            "flex": null,
            "flex_flow": null,
            "grid_area": null,
            "grid_auto_columns": null,
            "grid_auto_flow": null,
            "grid_auto_rows": null,
            "grid_column": null,
            "grid_gap": null,
            "grid_row": null,
            "grid_template_areas": null,
            "grid_template_columns": null,
            "grid_template_rows": null,
            "height": null,
            "justify_content": null,
            "justify_items": null,
            "left": null,
            "margin": null,
            "max_height": null,
            "max_width": null,
            "min_height": null,
            "min_width": null,
            "object_fit": null,
            "object_position": null,
            "order": null,
            "overflow": null,
            "overflow_x": null,
            "overflow_y": null,
            "padding": null,
            "right": null,
            "top": null,
            "visibility": null,
            "width": null
          }
        },
        "a1ca64e79ad14405ba99e37032da77be": {
          "model_module": "@jupyter-widgets/controls",
          "model_name": "DescriptionStyleModel",
          "model_module_version": "1.5.0",
          "state": {
            "_model_module": "@jupyter-widgets/controls",
            "_model_module_version": "1.5.0",
            "_model_name": "DescriptionStyleModel",
            "_view_count": null,
            "_view_module": "@jupyter-widgets/base",
            "_view_module_version": "1.2.0",
            "_view_name": "StyleView",
            "description_width": ""
          }
        },
        "824e5dd27f20452c9dc770cb4887bb91": {
          "model_module": "@jupyter-widgets/base",
          "model_name": "LayoutModel",
          "model_module_version": "1.2.0",
          "state": {
            "_model_module": "@jupyter-widgets/base",
            "_model_module_version": "1.2.0",
            "_model_name": "LayoutModel",
            "_view_count": null,
            "_view_module": "@jupyter-widgets/base",
            "_view_module_version": "1.2.0",
            "_view_name": "LayoutView",
            "align_content": null,
            "align_items": null,
            "align_self": null,
            "border": null,
            "bottom": null,
            "display": null,
            "flex": null,
            "flex_flow": null,
            "grid_area": null,
            "grid_auto_columns": null,
            "grid_auto_flow": null,
            "grid_auto_rows": null,
            "grid_column": null,
            "grid_gap": null,
            "grid_row": null,
            "grid_template_areas": null,
            "grid_template_columns": null,
            "grid_template_rows": null,
            "height": null,
            "justify_content": null,
            "justify_items": null,
            "left": null,
            "margin": null,
            "max_height": null,
            "max_width": null,
            "min_height": null,
            "min_width": null,
            "object_fit": null,
            "object_position": null,
            "order": null,
            "overflow": null,
            "overflow_x": null,
            "overflow_y": null,
            "padding": null,
            "right": null,
            "top": null,
            "visibility": null,
            "width": "max-content"
          }
        },
        "d752dd03a1964e65a6288980d921239a": {
          "model_module": "@jupyter-widgets/controls",
          "model_name": "DescriptionStyleModel",
          "model_module_version": "1.5.0",
          "state": {
            "_model_module": "@jupyter-widgets/controls",
            "_model_module_version": "1.5.0",
            "_model_name": "DescriptionStyleModel",
            "_view_count": null,
            "_view_module": "@jupyter-widgets/base",
            "_view_module_version": "1.2.0",
            "_view_name": "StyleView",
            "description_width": "initial"
          }
        },
        "68e75fa2451c4276b2461bcb66569869": {
          "model_module": "@jupyter-widgets/controls",
          "model_name": "VBoxModel",
          "model_module_version": "1.5.0",
          "state": {
            "_dom_classes": [],
            "_model_module": "@jupyter-widgets/controls",
            "_model_module_version": "1.5.0",
            "_model_name": "VBoxModel",
            "_view_count": null,
            "_view_module": "@jupyter-widgets/controls",
            "_view_module_version": "1.5.0",
            "_view_name": "VBoxView",
            "box_style": "",
            "children": [
              "IPY_MODEL_6c2636023cc44d07a945536470c5293e",
              "IPY_MODEL_1a90fcf3c5e441219999d013593065ca",
              "IPY_MODEL_e8b0adb24ce246f19c0081389b573605",
              "IPY_MODEL_b378a5f78bd84cd5b525df74d60418cb",
              "IPY_MODEL_7d7d8d47d7d34f2ea74bcde89c90cf11",
              "IPY_MODEL_1fc9b414384946adb892cd60190317b4",
              "IPY_MODEL_134aa9653be642f4868ae34362a88107",
              "IPY_MODEL_b9646e1fcf80495d9b278b0554eecd89"
            ],
            "layout": "IPY_MODEL_5fe887d2170648f5aa0dadd7b5ecdeaa"
          }
        },
        "6c2636023cc44d07a945536470c5293e": {
          "model_module": "@jupyter-widgets/controls",
          "model_name": "LabelModel",
          "model_module_version": "1.5.0",
          "state": {
            "_dom_classes": [],
            "_model_module": "@jupyter-widgets/controls",
            "_model_module_version": "1.5.0",
            "_model_name": "LabelModel",
            "_view_count": null,
            "_view_module": "@jupyter-widgets/controls",
            "_view_module_version": "1.5.0",
            "_view_name": "LabelView",
            "description": "",
            "description_tooltip": null,
            "layout": "IPY_MODEL_ad42d22d2020448cbce12fe8fb35ee00",
            "placeholder": "​",
            "style": "IPY_MODEL_4a724311596443d59311857b969ad502",
            "value": "Please select model parameters (then move to next step):"
          }
        },
        "1a90fcf3c5e441219999d013593065ca": {
          "model_module": "@jupyter-widgets/controls",
          "model_name": "DropdownModel",
          "model_module_version": "1.5.0",
          "state": {
            "_dom_classes": [],
            "_model_module": "@jupyter-widgets/controls",
            "_model_module_version": "1.5.0",
            "_model_name": "DropdownModel",
            "_options_labels": [
              "Unet",
              "PSPNet",
              "FPN",
              "Linknet"
            ],
            "_view_count": null,
            "_view_module": "@jupyter-widgets/controls",
            "_view_module_version": "1.5.0",
            "_view_name": "DropdownView",
            "description": "Architecture",
            "description_tooltip": null,
            "disabled": false,
            "index": 3,
            "layout": "IPY_MODEL_6aad22503b9b4c33a412e882fedadfab",
            "style": "IPY_MODEL_890affd3dec642f1b3b46f347e711142"
          }
        },
        "e8b0adb24ce246f19c0081389b573605": {
          "model_module": "@jupyter-widgets/controls",
          "model_name": "DropdownModel",
          "model_module_version": "1.5.0",
          "state": {
            "_dom_classes": [],
            "_model_module": "@jupyter-widgets/controls",
            "_model_module_version": "1.5.0",
            "_model_name": "DropdownModel",
            "_options_labels": [
              "resnet18",
              "resnet34",
              "resnet50",
              "resnet101",
              "resnet152",
              "seresnet18",
              "seresnet34",
              "seresnet50",
              "seresnet101",
              "seresnet152",
              "seresnext50",
              "seresnext101",
              "senet154",
              "resnext50",
              "resnext101",
              "vgg16",
              "vgg19",
              "densenet121",
              "densenet169",
              "densenet201",
              "inceptionresnetv2",
              "inceptionv3",
              "mobilenet",
              "mobilenetv2",
              "efficientnetb0",
              "efficientnetb1",
              "efficientnetb2",
              "efficientnetb3",
              "efficientnetb4",
              "efficientnetb5",
              "efficientnetb6",
              "efficientnetb7"
            ],
            "_view_count": null,
            "_view_module": "@jupyter-widgets/controls",
            "_view_module_version": "1.5.0",
            "_view_name": "DropdownView",
            "description": "Backbone",
            "description_tooltip": null,
            "disabled": false,
            "index": 15,
            "layout": "IPY_MODEL_0d64500d60154297b559d1b39b0a388f",
            "style": "IPY_MODEL_1ce61e9a460045fcb31fe4a517ce56cb"
          }
        },
        "b378a5f78bd84cd5b525df74d60418cb": {
          "model_module": "@jupyter-widgets/controls",
          "model_name": "IntSliderModel",
          "model_module_version": "1.5.0",
          "state": {
            "_dom_classes": [],
            "_model_module": "@jupyter-widgets/controls",
            "_model_module_version": "1.5.0",
            "_model_name": "IntSliderModel",
            "_view_count": null,
            "_view_module": "@jupyter-widgets/controls",
            "_view_module_version": "1.5.0",
            "_view_name": "IntSliderView",
            "continuous_update": true,
            "description": "Width (0 = None = any size)",
            "description_tooltip": null,
            "disabled": false,
            "layout": "IPY_MODEL_66b3ddd0d52e4aaf95ccc37f5e1cc802",
            "max": 1024,
            "min": 0,
            "orientation": "horizontal",
            "readout": true,
            "readout_format": "d",
            "step": 2,
            "style": "IPY_MODEL_decea999c9e64e65b3fb479088a912e8",
            "value": 0
          }
        },
        "7d7d8d47d7d34f2ea74bcde89c90cf11": {
          "model_module": "@jupyter-widgets/controls",
          "model_name": "IntSliderModel",
          "model_module_version": "1.5.0",
          "state": {
            "_dom_classes": [],
            "_model_module": "@jupyter-widgets/controls",
            "_model_module_version": "1.5.0",
            "_model_name": "IntSliderModel",
            "_view_count": null,
            "_view_module": "@jupyter-widgets/controls",
            "_view_module_version": "1.5.0",
            "_view_name": "IntSliderView",
            "continuous_update": true,
            "description": "Height (0 = None = any size)",
            "description_tooltip": null,
            "disabled": false,
            "layout": "IPY_MODEL_8efb6923903e4f27a24aa201e194f6e2",
            "max": 1024,
            "min": 0,
            "orientation": "horizontal",
            "readout": true,
            "readout_format": "d",
            "step": 2,
            "style": "IPY_MODEL_4d979a949e36435c8565666f2f5db1b1",
            "value": 0
          }
        },
        "1fc9b414384946adb892cd60190317b4": {
          "model_module": "@jupyter-widgets/controls",
          "model_name": "IntSliderModel",
          "model_module_version": "1.5.0",
          "state": {
            "_dom_classes": [],
            "_model_module": "@jupyter-widgets/controls",
            "_model_module_version": "1.5.0",
            "_model_name": "IntSliderModel",
            "_view_count": null,
            "_view_module": "@jupyter-widgets/controls",
            "_view_module_version": "1.5.0",
            "_view_name": "IntSliderView",
            "continuous_update": true,
            "description": "Input channels",
            "description_tooltip": null,
            "disabled": false,
            "layout": "IPY_MODEL_71bf186486c04e9aa8fbed7e80c44d19",
            "max": 100,
            "min": 1,
            "orientation": "horizontal",
            "readout": true,
            "readout_format": "d",
            "step": 1,
            "style": "IPY_MODEL_ddee6f20a2f44cfbb5441271974eaa02",
            "value": 1
          }
        },
        "134aa9653be642f4868ae34362a88107": {
          "model_module": "@jupyter-widgets/controls",
          "model_name": "DropdownModel",
          "model_module_version": "1.5.0",
          "state": {
            "_dom_classes": [],
            "_model_module": "@jupyter-widgets/controls",
            "_model_module_version": "1.5.0",
            "_model_name": "DropdownModel",
            "_options_labels": [
              "sigmoid",
              "softmax",
              "linear",
              "relu",
              "elu",
              "tanh",
              "selu",
              "softplus",
              "softsign",
              "hard_sigmoid",
              "exponential",
              "None"
            ],
            "_view_count": null,
            "_view_module": "@jupyter-widgets/controls",
            "_view_module_version": "1.5.0",
            "_view_name": "DropdownView",
            "description": "Activation",
            "description_tooltip": null,
            "disabled": false,
            "index": 0,
            "layout": "IPY_MODEL_6c3705786f1f42fda112121d68518793",
            "style": "IPY_MODEL_11ec73b6e5e343ba8515ef47084933e5"
          }
        },
        "b9646e1fcf80495d9b278b0554eecd89": {
          "model_module": "@jupyter-widgets/controls",
          "model_name": "IntSliderModel",
          "model_module_version": "1.5.0",
          "state": {
            "_dom_classes": [],
            "_model_module": "@jupyter-widgets/controls",
            "_model_module_version": "1.5.0",
            "_model_name": "IntSliderModel",
            "_view_count": null,
            "_view_module": "@jupyter-widgets/controls",
            "_view_module_version": "1.5.0",
            "_view_name": "IntSliderView",
            "continuous_update": true,
            "description": "Classes",
            "description_tooltip": null,
            "disabled": false,
            "layout": "IPY_MODEL_c88aac96c23441829d6f833f6527942a",
            "max": 100,
            "min": 1,
            "orientation": "horizontal",
            "readout": true,
            "readout_format": "d",
            "step": 1,
            "style": "IPY_MODEL_e7b6e721061144cd9eb1d2c401395961",
            "value": 1
          }
        },
        "5fe887d2170648f5aa0dadd7b5ecdeaa": {
          "model_module": "@jupyter-widgets/base",
          "model_name": "LayoutModel",
          "model_module_version": "1.2.0",
          "state": {
            "_model_module": "@jupyter-widgets/base",
            "_model_module_version": "1.2.0",
            "_model_name": "LayoutModel",
            "_view_count": null,
            "_view_module": "@jupyter-widgets/base",
            "_view_module_version": "1.2.0",
            "_view_name": "LayoutView",
            "align_content": null,
            "align_items": null,
            "align_self": null,
            "border": null,
            "bottom": null,
            "display": null,
            "flex": null,
            "flex_flow": null,
            "grid_area": null,
            "grid_auto_columns": null,
            "grid_auto_flow": null,
            "grid_auto_rows": null,
            "grid_column": null,
            "grid_gap": null,
            "grid_row": null,
            "grid_template_areas": null,
            "grid_template_columns": null,
            "grid_template_rows": null,
            "height": null,
            "justify_content": null,
            "justify_items": null,
            "left": null,
            "margin": null,
            "max_height": null,
            "max_width": null,
            "min_height": null,
            "min_width": null,
            "object_fit": null,
            "object_position": null,
            "order": null,
            "overflow": null,
            "overflow_x": null,
            "overflow_y": null,
            "padding": null,
            "right": null,
            "top": null,
            "visibility": null,
            "width": null
          }
        },
        "ad42d22d2020448cbce12fe8fb35ee00": {
          "model_module": "@jupyter-widgets/base",
          "model_name": "LayoutModel",
          "model_module_version": "1.2.0",
          "state": {
            "_model_module": "@jupyter-widgets/base",
            "_model_module_version": "1.2.0",
            "_model_name": "LayoutModel",
            "_view_count": null,
            "_view_module": "@jupyter-widgets/base",
            "_view_module_version": "1.2.0",
            "_view_name": "LayoutView",
            "align_content": null,
            "align_items": null,
            "align_self": null,
            "border": null,
            "bottom": null,
            "display": null,
            "flex": null,
            "flex_flow": null,
            "grid_area": null,
            "grid_auto_columns": null,
            "grid_auto_flow": null,
            "grid_auto_rows": null,
            "grid_column": null,
            "grid_gap": null,
            "grid_row": null,
            "grid_template_areas": null,
            "grid_template_columns": null,
            "grid_template_rows": null,
            "height": null,
            "justify_content": null,
            "justify_items": null,
            "left": null,
            "margin": null,
            "max_height": null,
            "max_width": null,
            "min_height": null,
            "min_width": null,
            "object_fit": null,
            "object_position": null,
            "order": null,
            "overflow": null,
            "overflow_x": null,
            "overflow_y": null,
            "padding": null,
            "right": null,
            "top": null,
            "visibility": null,
            "width": null
          }
        },
        "4a724311596443d59311857b969ad502": {
          "model_module": "@jupyter-widgets/controls",
          "model_name": "DescriptionStyleModel",
          "model_module_version": "1.5.0",
          "state": {
            "_model_module": "@jupyter-widgets/controls",
            "_model_module_version": "1.5.0",
            "_model_name": "DescriptionStyleModel",
            "_view_count": null,
            "_view_module": "@jupyter-widgets/base",
            "_view_module_version": "1.2.0",
            "_view_name": "StyleView",
            "description_width": ""
          }
        },
        "6aad22503b9b4c33a412e882fedadfab": {
          "model_module": "@jupyter-widgets/base",
          "model_name": "LayoutModel",
          "model_module_version": "1.2.0",
          "state": {
            "_model_module": "@jupyter-widgets/base",
            "_model_module_version": "1.2.0",
            "_model_name": "LayoutModel",
            "_view_count": null,
            "_view_module": "@jupyter-widgets/base",
            "_view_module_version": "1.2.0",
            "_view_name": "LayoutView",
            "align_content": null,
            "align_items": null,
            "align_self": null,
            "border": null,
            "bottom": null,
            "display": null,
            "flex": null,
            "flex_flow": null,
            "grid_area": null,
            "grid_auto_columns": null,
            "grid_auto_flow": null,
            "grid_auto_rows": null,
            "grid_column": null,
            "grid_gap": null,
            "grid_row": null,
            "grid_template_areas": null,
            "grid_template_columns": null,
            "grid_template_rows": null,
            "height": null,
            "justify_content": null,
            "justify_items": null,
            "left": null,
            "margin": null,
            "max_height": null,
            "max_width": null,
            "min_height": null,
            "min_width": null,
            "object_fit": null,
            "object_position": null,
            "order": null,
            "overflow": null,
            "overflow_x": null,
            "overflow_y": null,
            "padding": null,
            "right": null,
            "top": null,
            "visibility": null,
            "width": "max-content"
          }
        },
        "890affd3dec642f1b3b46f347e711142": {
          "model_module": "@jupyter-widgets/controls",
          "model_name": "DescriptionStyleModel",
          "model_module_version": "1.5.0",
          "state": {
            "_model_module": "@jupyter-widgets/controls",
            "_model_module_version": "1.5.0",
            "_model_name": "DescriptionStyleModel",
            "_view_count": null,
            "_view_module": "@jupyter-widgets/base",
            "_view_module_version": "1.2.0",
            "_view_name": "StyleView",
            "description_width": "initial"
          }
        },
        "0d64500d60154297b559d1b39b0a388f": {
          "model_module": "@jupyter-widgets/base",
          "model_name": "LayoutModel",
          "model_module_version": "1.2.0",
          "state": {
            "_model_module": "@jupyter-widgets/base",
            "_model_module_version": "1.2.0",
            "_model_name": "LayoutModel",
            "_view_count": null,
            "_view_module": "@jupyter-widgets/base",
            "_view_module_version": "1.2.0",
            "_view_name": "LayoutView",
            "align_content": null,
            "align_items": null,
            "align_self": null,
            "border": null,
            "bottom": null,
            "display": null,
            "flex": null,
            "flex_flow": null,
            "grid_area": null,
            "grid_auto_columns": null,
            "grid_auto_flow": null,
            "grid_auto_rows": null,
            "grid_column": null,
            "grid_gap": null,
            "grid_row": null,
            "grid_template_areas": null,
            "grid_template_columns": null,
            "grid_template_rows": null,
            "height": null,
            "justify_content": null,
            "justify_items": null,
            "left": null,
            "margin": null,
            "max_height": null,
            "max_width": null,
            "min_height": null,
            "min_width": null,
            "object_fit": null,
            "object_position": null,
            "order": null,
            "overflow": null,
            "overflow_x": null,
            "overflow_y": null,
            "padding": null,
            "right": null,
            "top": null,
            "visibility": null,
            "width": "max-content"
          }
        },
        "1ce61e9a460045fcb31fe4a517ce56cb": {
          "model_module": "@jupyter-widgets/controls",
          "model_name": "DescriptionStyleModel",
          "model_module_version": "1.5.0",
          "state": {
            "_model_module": "@jupyter-widgets/controls",
            "_model_module_version": "1.5.0",
            "_model_name": "DescriptionStyleModel",
            "_view_count": null,
            "_view_module": "@jupyter-widgets/base",
            "_view_module_version": "1.2.0",
            "_view_name": "StyleView",
            "description_width": "initial"
          }
        },
        "66b3ddd0d52e4aaf95ccc37f5e1cc802": {
          "model_module": "@jupyter-widgets/base",
          "model_name": "LayoutModel",
          "model_module_version": "1.2.0",
          "state": {
            "_model_module": "@jupyter-widgets/base",
            "_model_module_version": "1.2.0",
            "_model_name": "LayoutModel",
            "_view_count": null,
            "_view_module": "@jupyter-widgets/base",
            "_view_module_version": "1.2.0",
            "_view_name": "LayoutView",
            "align_content": null,
            "align_items": null,
            "align_self": null,
            "border": null,
            "bottom": null,
            "display": null,
            "flex": null,
            "flex_flow": null,
            "grid_area": null,
            "grid_auto_columns": null,
            "grid_auto_flow": null,
            "grid_auto_rows": null,
            "grid_column": null,
            "grid_gap": null,
            "grid_row": null,
            "grid_template_areas": null,
            "grid_template_columns": null,
            "grid_template_rows": null,
            "height": null,
            "justify_content": null,
            "justify_items": null,
            "left": null,
            "margin": null,
            "max_height": null,
            "max_width": null,
            "min_height": null,
            "min_width": null,
            "object_fit": null,
            "object_position": null,
            "order": null,
            "overflow": null,
            "overflow_x": null,
            "overflow_y": null,
            "padding": null,
            "right": null,
            "top": null,
            "visibility": null,
            "width": null
          }
        },
        "decea999c9e64e65b3fb479088a912e8": {
          "model_module": "@jupyter-widgets/controls",
          "model_name": "SliderStyleModel",
          "model_module_version": "1.5.0",
          "state": {
            "_model_module": "@jupyter-widgets/controls",
            "_model_module_version": "1.5.0",
            "_model_name": "SliderStyleModel",
            "_view_count": null,
            "_view_module": "@jupyter-widgets/base",
            "_view_module_version": "1.2.0",
            "_view_name": "StyleView",
            "description_width": "initial",
            "handle_color": null
          }
        },
        "8efb6923903e4f27a24aa201e194f6e2": {
          "model_module": "@jupyter-widgets/base",
          "model_name": "LayoutModel",
          "model_module_version": "1.2.0",
          "state": {
            "_model_module": "@jupyter-widgets/base",
            "_model_module_version": "1.2.0",
            "_model_name": "LayoutModel",
            "_view_count": null,
            "_view_module": "@jupyter-widgets/base",
            "_view_module_version": "1.2.0",
            "_view_name": "LayoutView",
            "align_content": null,
            "align_items": null,
            "align_self": null,
            "border": null,
            "bottom": null,
            "display": null,
            "flex": null,
            "flex_flow": null,
            "grid_area": null,
            "grid_auto_columns": null,
            "grid_auto_flow": null,
            "grid_auto_rows": null,
            "grid_column": null,
            "grid_gap": null,
            "grid_row": null,
            "grid_template_areas": null,
            "grid_template_columns": null,
            "grid_template_rows": null,
            "height": null,
            "justify_content": null,
            "justify_items": null,
            "left": null,
            "margin": null,
            "max_height": null,
            "max_width": null,
            "min_height": null,
            "min_width": null,
            "object_fit": null,
            "object_position": null,
            "order": null,
            "overflow": null,
            "overflow_x": null,
            "overflow_y": null,
            "padding": null,
            "right": null,
            "top": null,
            "visibility": null,
            "width": null
          }
        },
        "4d979a949e36435c8565666f2f5db1b1": {
          "model_module": "@jupyter-widgets/controls",
          "model_name": "SliderStyleModel",
          "model_module_version": "1.5.0",
          "state": {
            "_model_module": "@jupyter-widgets/controls",
            "_model_module_version": "1.5.0",
            "_model_name": "SliderStyleModel",
            "_view_count": null,
            "_view_module": "@jupyter-widgets/base",
            "_view_module_version": "1.2.0",
            "_view_name": "StyleView",
            "description_width": "initial",
            "handle_color": null
          }
        },
        "71bf186486c04e9aa8fbed7e80c44d19": {
          "model_module": "@jupyter-widgets/base",
          "model_name": "LayoutModel",
          "model_module_version": "1.2.0",
          "state": {
            "_model_module": "@jupyter-widgets/base",
            "_model_module_version": "1.2.0",
            "_model_name": "LayoutModel",
            "_view_count": null,
            "_view_module": "@jupyter-widgets/base",
            "_view_module_version": "1.2.0",
            "_view_name": "LayoutView",
            "align_content": null,
            "align_items": null,
            "align_self": null,
            "border": null,
            "bottom": null,
            "display": null,
            "flex": null,
            "flex_flow": null,
            "grid_area": null,
            "grid_auto_columns": null,
            "grid_auto_flow": null,
            "grid_auto_rows": null,
            "grid_column": null,
            "grid_gap": null,
            "grid_row": null,
            "grid_template_areas": null,
            "grid_template_columns": null,
            "grid_template_rows": null,
            "height": null,
            "justify_content": null,
            "justify_items": null,
            "left": null,
            "margin": null,
            "max_height": null,
            "max_width": null,
            "min_height": null,
            "min_width": null,
            "object_fit": null,
            "object_position": null,
            "order": null,
            "overflow": null,
            "overflow_x": null,
            "overflow_y": null,
            "padding": null,
            "right": null,
            "top": null,
            "visibility": null,
            "width": null
          }
        },
        "ddee6f20a2f44cfbb5441271974eaa02": {
          "model_module": "@jupyter-widgets/controls",
          "model_name": "SliderStyleModel",
          "model_module_version": "1.5.0",
          "state": {
            "_model_module": "@jupyter-widgets/controls",
            "_model_module_version": "1.5.0",
            "_model_name": "SliderStyleModel",
            "_view_count": null,
            "_view_module": "@jupyter-widgets/base",
            "_view_module_version": "1.2.0",
            "_view_name": "StyleView",
            "description_width": "initial",
            "handle_color": null
          }
        },
        "6c3705786f1f42fda112121d68518793": {
          "model_module": "@jupyter-widgets/base",
          "model_name": "LayoutModel",
          "model_module_version": "1.2.0",
          "state": {
            "_model_module": "@jupyter-widgets/base",
            "_model_module_version": "1.2.0",
            "_model_name": "LayoutModel",
            "_view_count": null,
            "_view_module": "@jupyter-widgets/base",
            "_view_module_version": "1.2.0",
            "_view_name": "LayoutView",
            "align_content": null,
            "align_items": null,
            "align_self": null,
            "border": null,
            "bottom": null,
            "display": null,
            "flex": null,
            "flex_flow": null,
            "grid_area": null,
            "grid_auto_columns": null,
            "grid_auto_flow": null,
            "grid_auto_rows": null,
            "grid_column": null,
            "grid_gap": null,
            "grid_row": null,
            "grid_template_areas": null,
            "grid_template_columns": null,
            "grid_template_rows": null,
            "height": null,
            "justify_content": null,
            "justify_items": null,
            "left": null,
            "margin": null,
            "max_height": null,
            "max_width": null,
            "min_height": null,
            "min_width": null,
            "object_fit": null,
            "object_position": null,
            "order": null,
            "overflow": null,
            "overflow_x": null,
            "overflow_y": null,
            "padding": null,
            "right": null,
            "top": null,
            "visibility": null,
            "width": "max-content"
          }
        },
        "11ec73b6e5e343ba8515ef47084933e5": {
          "model_module": "@jupyter-widgets/controls",
          "model_name": "DescriptionStyleModel",
          "model_module_version": "1.5.0",
          "state": {
            "_model_module": "@jupyter-widgets/controls",
            "_model_module_version": "1.5.0",
            "_model_name": "DescriptionStyleModel",
            "_view_count": null,
            "_view_module": "@jupyter-widgets/base",
            "_view_module_version": "1.2.0",
            "_view_name": "StyleView",
            "description_width": "initial"
          }
        },
        "c88aac96c23441829d6f833f6527942a": {
          "model_module": "@jupyter-widgets/base",
          "model_name": "LayoutModel",
          "model_module_version": "1.2.0",
          "state": {
            "_model_module": "@jupyter-widgets/base",
            "_model_module_version": "1.2.0",
            "_model_name": "LayoutModel",
            "_view_count": null,
            "_view_module": "@jupyter-widgets/base",
            "_view_module_version": "1.2.0",
            "_view_name": "LayoutView",
            "align_content": null,
            "align_items": null,
            "align_self": null,
            "border": null,
            "bottom": null,
            "display": null,
            "flex": null,
            "flex_flow": null,
            "grid_area": null,
            "grid_auto_columns": null,
            "grid_auto_flow": null,
            "grid_auto_rows": null,
            "grid_column": null,
            "grid_gap": null,
            "grid_row": null,
            "grid_template_areas": null,
            "grid_template_columns": null,
            "grid_template_rows": null,
            "height": null,
            "justify_content": null,
            "justify_items": null,
            "left": null,
            "margin": null,
            "max_height": null,
            "max_width": null,
            "min_height": null,
            "min_width": null,
            "object_fit": null,
            "object_position": null,
            "order": null,
            "overflow": null,
            "overflow_x": null,
            "overflow_y": null,
            "padding": null,
            "right": null,
            "top": null,
            "visibility": null,
            "width": null
          }
        },
        "e7b6e721061144cd9eb1d2c401395961": {
          "model_module": "@jupyter-widgets/controls",
          "model_name": "SliderStyleModel",
          "model_module_version": "1.5.0",
          "state": {
            "_model_module": "@jupyter-widgets/controls",
            "_model_module_version": "1.5.0",
            "_model_name": "SliderStyleModel",
            "_view_count": null,
            "_view_module": "@jupyter-widgets/base",
            "_view_module_version": "1.2.0",
            "_view_name": "StyleView",
            "description_width": "initial",
            "handle_color": null
          }
        },
        "82fbb15a9ed4454aa2c12343f87f0e71": {
          "model_module": "@jupyter-widgets/controls",
          "model_name": "VBoxModel",
          "model_module_version": "1.5.0",
          "state": {
            "_dom_classes": [
              "widget-interact"
            ],
            "_model_module": "@jupyter-widgets/controls",
            "_model_module_version": "1.5.0",
            "_model_name": "VBoxModel",
            "_view_count": null,
            "_view_module": "@jupyter-widgets/controls",
            "_view_module_version": "1.5.0",
            "_view_name": "VBoxView",
            "box_style": "",
            "children": [
              "IPY_MODEL_1e487be056994ce7a28ff4cb85ed87dc",
              "IPY_MODEL_443e2bccf29f43d6bb6bbeba603ec8c5"
            ],
            "layout": "IPY_MODEL_b384d7186d644ffd82757d5f5c48b778"
          }
        },
        "1e487be056994ce7a28ff4cb85ed87dc": {
          "model_module": "@jupyter-widgets/controls",
          "model_name": "DropdownModel",
          "model_module_version": "1.5.0",
          "state": {
            "_dom_classes": [],
            "_model_module": "@jupyter-widgets/controls",
            "_model_module_version": "1.5.0",
            "_model_name": "DropdownModel",
            "_options_labels": [
              "No",
              "Yes"
            ],
            "_view_count": null,
            "_view_module": "@jupyter-widgets/controls",
            "_view_module_version": "1.5.0",
            "_view_name": "DropdownView",
            "description": "Load model weights:",
            "description_tooltip": null,
            "disabled": false,
            "index": 0,
            "layout": "IPY_MODEL_452c9268e77045b2933cf983b2ba3ca1",
            "style": "IPY_MODEL_43ca06591d54458d9fd7345b3238b957"
          }
        },
        "443e2bccf29f43d6bb6bbeba603ec8c5": {
          "model_module": "@jupyter-widgets/output",
          "model_name": "OutputModel",
          "model_module_version": "1.0.0",
          "state": {
            "_dom_classes": [],
            "_model_module": "@jupyter-widgets/output",
            "_model_module_version": "1.0.0",
            "_model_name": "OutputModel",
            "_view_count": null,
            "_view_module": "@jupyter-widgets/output",
            "_view_module_version": "1.0.0",
            "_view_name": "OutputView",
            "layout": "IPY_MODEL_7ac298b9e09c443eaae5021288129f13",
            "msg_id": "",
            "outputs": [
              {
                "output_type": "display_data",
                "data": {
                  "text/plain": "Label(value='No weights to load, then please move on to next step')",
                  "application/vnd.jupyter.widget-view+json": {
                    "version_major": 2,
                    "version_minor": 0,
                    "model_id": "1bbc2ef85411479ebc4efead5752dd96"
                  }
                },
                "metadata": {}
              }
            ]
          }
        },
        "b384d7186d644ffd82757d5f5c48b778": {
          "model_module": "@jupyter-widgets/base",
          "model_name": "LayoutModel",
          "model_module_version": "1.2.0",
          "state": {
            "_model_module": "@jupyter-widgets/base",
            "_model_module_version": "1.2.0",
            "_model_name": "LayoutModel",
            "_view_count": null,
            "_view_module": "@jupyter-widgets/base",
            "_view_module_version": "1.2.0",
            "_view_name": "LayoutView",
            "align_content": null,
            "align_items": null,
            "align_self": null,
            "border": null,
            "bottom": null,
            "display": null,
            "flex": null,
            "flex_flow": null,
            "grid_area": null,
            "grid_auto_columns": null,
            "grid_auto_flow": null,
            "grid_auto_rows": null,
            "grid_column": null,
            "grid_gap": null,
            "grid_row": null,
            "grid_template_areas": null,
            "grid_template_columns": null,
            "grid_template_rows": null,
            "height": null,
            "justify_content": null,
            "justify_items": null,
            "left": null,
            "margin": null,
            "max_height": null,
            "max_width": null,
            "min_height": null,
            "min_width": null,
            "object_fit": null,
            "object_position": null,
            "order": null,
            "overflow": null,
            "overflow_x": null,
            "overflow_y": null,
            "padding": null,
            "right": null,
            "top": null,
            "visibility": null,
            "width": null
          }
        },
        "452c9268e77045b2933cf983b2ba3ca1": {
          "model_module": "@jupyter-widgets/base",
          "model_name": "LayoutModel",
          "model_module_version": "1.2.0",
          "state": {
            "_model_module": "@jupyter-widgets/base",
            "_model_module_version": "1.2.0",
            "_model_name": "LayoutModel",
            "_view_count": null,
            "_view_module": "@jupyter-widgets/base",
            "_view_module_version": "1.2.0",
            "_view_name": "LayoutView",
            "align_content": null,
            "align_items": null,
            "align_self": null,
            "border": null,
            "bottom": null,
            "display": null,
            "flex": null,
            "flex_flow": null,
            "grid_area": null,
            "grid_auto_columns": null,
            "grid_auto_flow": null,
            "grid_auto_rows": null,
            "grid_column": null,
            "grid_gap": null,
            "grid_row": null,
            "grid_template_areas": null,
            "grid_template_columns": null,
            "grid_template_rows": null,
            "height": null,
            "justify_content": null,
            "justify_items": null,
            "left": null,
            "margin": null,
            "max_height": null,
            "max_width": null,
            "min_height": null,
            "min_width": null,
            "object_fit": null,
            "object_position": null,
            "order": null,
            "overflow": null,
            "overflow_x": null,
            "overflow_y": null,
            "padding": null,
            "right": null,
            "top": null,
            "visibility": null,
            "width": "max-content"
          }
        },
        "43ca06591d54458d9fd7345b3238b957": {
          "model_module": "@jupyter-widgets/controls",
          "model_name": "DescriptionStyleModel",
          "model_module_version": "1.5.0",
          "state": {
            "_model_module": "@jupyter-widgets/controls",
            "_model_module_version": "1.5.0",
            "_model_name": "DescriptionStyleModel",
            "_view_count": null,
            "_view_module": "@jupyter-widgets/base",
            "_view_module_version": "1.2.0",
            "_view_name": "StyleView",
            "description_width": "initial"
          }
        },
        "1bbc2ef85411479ebc4efead5752dd96": {
          "model_module": "@jupyter-widgets/controls",
          "model_name": "LabelModel",
          "model_module_version": "1.5.0",
          "state": {
            "_dom_classes": [],
            "_model_module": "@jupyter-widgets/controls",
            "_model_module_version": "1.5.0",
            "_model_name": "LabelModel",
            "_view_count": null,
            "_view_module": "@jupyter-widgets/controls",
            "_view_module_version": "1.5.0",
            "_view_name": "LabelView",
            "description": "",
            "description_tooltip": null,
            "layout": "IPY_MODEL_369bab2c9d9f4a9793fefa41d0627350",
            "placeholder": "​",
            "style": "IPY_MODEL_713fe7e5ee884a02b0e773185d2d0895",
            "value": "No weights to load, then please move on to next step"
          }
        },
        "7ac298b9e09c443eaae5021288129f13": {
          "model_module": "@jupyter-widgets/base",
          "model_name": "LayoutModel",
          "model_module_version": "1.2.0",
          "state": {
            "_model_module": "@jupyter-widgets/base",
            "_model_module_version": "1.2.0",
            "_model_name": "LayoutModel",
            "_view_count": null,
            "_view_module": "@jupyter-widgets/base",
            "_view_module_version": "1.2.0",
            "_view_name": "LayoutView",
            "align_content": null,
            "align_items": null,
            "align_self": null,
            "border": null,
            "bottom": null,
            "display": null,
            "flex": null,
            "flex_flow": null,
            "grid_area": null,
            "grid_auto_columns": null,
            "grid_auto_flow": null,
            "grid_auto_rows": null,
            "grid_column": null,
            "grid_gap": null,
            "grid_row": null,
            "grid_template_areas": null,
            "grid_template_columns": null,
            "grid_template_rows": null,
            "height": null,
            "justify_content": null,
            "justify_items": null,
            "left": null,
            "margin": null,
            "max_height": null,
            "max_width": null,
            "min_height": null,
            "min_width": null,
            "object_fit": null,
            "object_position": null,
            "order": null,
            "overflow": null,
            "overflow_x": null,
            "overflow_y": null,
            "padding": null,
            "right": null,
            "top": null,
            "visibility": null,
            "width": null
          }
        },
        "369bab2c9d9f4a9793fefa41d0627350": {
          "model_module": "@jupyter-widgets/base",
          "model_name": "LayoutModel",
          "model_module_version": "1.2.0",
          "state": {
            "_model_module": "@jupyter-widgets/base",
            "_model_module_version": "1.2.0",
            "_model_name": "LayoutModel",
            "_view_count": null,
            "_view_module": "@jupyter-widgets/base",
            "_view_module_version": "1.2.0",
            "_view_name": "LayoutView",
            "align_content": null,
            "align_items": null,
            "align_self": null,
            "border": null,
            "bottom": null,
            "display": null,
            "flex": null,
            "flex_flow": null,
            "grid_area": null,
            "grid_auto_columns": null,
            "grid_auto_flow": null,
            "grid_auto_rows": null,
            "grid_column": null,
            "grid_gap": null,
            "grid_row": null,
            "grid_template_areas": null,
            "grid_template_columns": null,
            "grid_template_rows": null,
            "height": null,
            "justify_content": null,
            "justify_items": null,
            "left": null,
            "margin": null,
            "max_height": null,
            "max_width": null,
            "min_height": null,
            "min_width": null,
            "object_fit": null,
            "object_position": null,
            "order": null,
            "overflow": null,
            "overflow_x": null,
            "overflow_y": null,
            "padding": null,
            "right": null,
            "top": null,
            "visibility": null,
            "width": null
          }
        },
        "713fe7e5ee884a02b0e773185d2d0895": {
          "model_module": "@jupyter-widgets/controls",
          "model_name": "DescriptionStyleModel",
          "model_module_version": "1.5.0",
          "state": {
            "_model_module": "@jupyter-widgets/controls",
            "_model_module_version": "1.5.0",
            "_model_name": "DescriptionStyleModel",
            "_view_count": null,
            "_view_module": "@jupyter-widgets/base",
            "_view_module_version": "1.2.0",
            "_view_name": "StyleView",
            "description_width": ""
          }
        },
        "024279b2b90b42d985bd488cfe9199d0": {
          "model_module": "@jupyter-widgets/controls",
          "model_name": "VBoxModel",
          "model_module_version": "1.5.0",
          "state": {
            "_dom_classes": [],
            "_model_module": "@jupyter-widgets/controls",
            "_model_module_version": "1.5.0",
            "_model_name": "VBoxModel",
            "_view_count": null,
            "_view_module": "@jupyter-widgets/controls",
            "_view_module_version": "1.5.0",
            "_view_name": "VBoxView",
            "box_style": "",
            "children": [
              "IPY_MODEL_8bb385324bc043e1a57f0ade981725c9",
              "IPY_MODEL_67306b615db143319da9fb8a95dd08b6",
              "IPY_MODEL_bf6533fa29e34087b2e715a0e805212b",
              "IPY_MODEL_5319157ac8a740f290d25f5f6627b85d",
              "IPY_MODEL_97919e572920472583d3aa6056c78660"
            ],
            "layout": "IPY_MODEL_9e5d6f387df44961b5afb56d70841720"
          }
        },
        "8bb385324bc043e1a57f0ade981725c9": {
          "model_module": "@jupyter-widgets/controls",
          "model_name": "DropdownModel",
          "model_module_version": "1.5.0",
          "state": {
            "_dom_classes": [],
            "_model_module": "@jupyter-widgets/controls",
            "_model_module_version": "1.5.0",
            "_model_name": "DropdownModel",
            "_options_labels": [
              "mean_squared_error",
              "mean_absolute_error",
              "jaccard_loss",
              "binary_crossentropy",
              "dice_loss",
              "binary_focal_loss",
              "categorical_focal_loss",
              "categorical_crossentropy",
              "bce_dice_loss",
              "bce_jaccard_loss",
              "cce_dice_loss",
              "cce_jaccard_loss",
              "binary_focal_dice_loss",
              "binary_focal_jaccard_loss",
              "categorical_focal_dice_loss",
              "categorical_focal_jaccard_loss",
              "mean_absolute_percentage_error",
              "mean_squared_logarithmic_error",
              "squared_hinge",
              "hinge",
              "categorical_hinge",
              "logcosh",
              "huber_loss",
              "sparse_categorical_crossentropy",
              "kullback_leibler_divergence",
              "poisson",
              "cosine_proximity",
              "is_categorical_crossentropy"
            ],
            "_view_count": null,
            "_view_module": "@jupyter-widgets/controls",
            "_view_module_version": "1.5.0",
            "_view_name": "DropdownView",
            "description": "Loss function",
            "description_tooltip": null,
            "disabled": false,
            "index": 2,
            "layout": "IPY_MODEL_e9c27fc3d331418d8ecc6dd43099c612",
            "style": "IPY_MODEL_c837d840e1ae403690c4a65662eab74b"
          }
        },
        "67306b615db143319da9fb8a95dd08b6": {
          "model_module": "@jupyter-widgets/controls",
          "model_name": "DropdownModel",
          "model_module_version": "1.5.0",
          "state": {
            "_dom_classes": [],
            "_model_module": "@jupyter-widgets/controls",
            "_model_module_version": "1.5.0",
            "_model_name": "DropdownModel",
            "_options_labels": [
              "accuracy",
              "f1_score",
              "f2_score",
              "precision",
              "iou_score",
              "recall",
              "kullback_leibler_divergence",
              "mean_absolute_error",
              "mean_absolute_percentage_error",
              "mean_squared_error",
              "msle",
              "binary_accuracy",
              "binary_crossentropy",
              "categorical_accuracy",
              "categorical_crossentropy",
              "hinge",
              "poisson",
              "sparse_categorical_accuracy",
              "sparse_categorical_crossentropy",
              "sparse_top_k_categorical_accuracy",
              "top_k_categorical_accuracy",
              "squared_hinge",
              "cosine_proximity"
            ],
            "_view_count": null,
            "_view_module": "@jupyter-widgets/controls",
            "_view_module_version": "1.5.0",
            "_view_name": "DropdownView",
            "description": "Metric",
            "description_tooltip": null,
            "disabled": false,
            "index": 4,
            "layout": "IPY_MODEL_7532d0c129af46099b7596591641f543",
            "style": "IPY_MODEL_12b1b3bc95074c4e948f6fdf7344b22b"
          }
        },
        "bf6533fa29e34087b2e715a0e805212b": {
          "model_module": "@jupyter-widgets/controls",
          "model_name": "DropdownModel",
          "model_module_version": "1.5.0",
          "state": {
            "_dom_classes": [],
            "_model_module": "@jupyter-widgets/controls",
            "_model_module_version": "1.5.0",
            "_model_name": "DropdownModel",
            "_options_labels": [
              "adam",
              "sgd",
              "rmsprop",
              "adagrad",
              "adadelta",
              "adamax",
              "nadam"
            ],
            "_view_count": null,
            "_view_module": "@jupyter-widgets/controls",
            "_view_module_version": "1.5.0",
            "_view_name": "DropdownView",
            "description": "Optimizer",
            "description_tooltip": null,
            "disabled": false,
            "index": 0,
            "layout": "IPY_MODEL_89deb16e696d4c72b66638bec377fdeb",
            "style": "IPY_MODEL_3884446979c04510a9cde5592153e8df"
          }
        },
        "5319157ac8a740f290d25f5f6627b85d": {
          "model_module": "@jupyter-widgets/controls",
          "model_name": "CheckboxModel",
          "model_module_version": "1.5.0",
          "state": {
            "_dom_classes": [],
            "_model_module": "@jupyter-widgets/controls",
            "_model_module_version": "1.5.0",
            "_model_name": "CheckboxModel",
            "_view_count": null,
            "_view_module": "@jupyter-widgets/controls",
            "_view_module_version": "1.5.0",
            "_view_name": "CheckboxView",
            "description": "Use default learning rate",
            "description_tooltip": null,
            "disabled": false,
            "indent": false,
            "layout": "IPY_MODEL_06aa3dde6ac7467dbd2822f75de3ddc7",
            "style": "IPY_MODEL_05880220b4b44ed6a2b55904cf051a85",
            "value": true
          }
        },
        "97919e572920472583d3aa6056c78660": {
          "model_module": "@jupyter-widgets/controls",
          "model_name": "FloatSliderModel",
          "model_module_version": "1.5.0",
          "state": {
            "_dom_classes": [],
            "_model_module": "@jupyter-widgets/controls",
            "_model_module_version": "1.5.0",
            "_model_name": "FloatSliderModel",
            "_view_count": null,
            "_view_module": "@jupyter-widgets/controls",
            "_view_module_version": "1.5.0",
            "_view_name": "FloatSliderView",
            "continuous_update": false,
            "description": "Learning rate:",
            "description_tooltip": null,
            "disabled": true,
            "layout": "IPY_MODEL_bf9b8c6a23474a7394d093276e6a0f2f",
            "max": 0.1,
            "min": 1e-7,
            "orientation": "horizontal",
            "readout": true,
            "readout_format": ".7f",
            "step": 0.00001,
            "style": "IPY_MODEL_d7c1cc4998b841139e244db3274e9c50",
            "value": 0.001
          }
        },
        "9e5d6f387df44961b5afb56d70841720": {
          "model_module": "@jupyter-widgets/base",
          "model_name": "LayoutModel",
          "model_module_version": "1.2.0",
          "state": {
            "_model_module": "@jupyter-widgets/base",
            "_model_module_version": "1.2.0",
            "_model_name": "LayoutModel",
            "_view_count": null,
            "_view_module": "@jupyter-widgets/base",
            "_view_module_version": "1.2.0",
            "_view_name": "LayoutView",
            "align_content": null,
            "align_items": null,
            "align_self": null,
            "border": null,
            "bottom": null,
            "display": null,
            "flex": null,
            "flex_flow": null,
            "grid_area": null,
            "grid_auto_columns": null,
            "grid_auto_flow": null,
            "grid_auto_rows": null,
            "grid_column": null,
            "grid_gap": null,
            "grid_row": null,
            "grid_template_areas": null,
            "grid_template_columns": null,
            "grid_template_rows": null,
            "height": null,
            "justify_content": null,
            "justify_items": null,
            "left": null,
            "margin": null,
            "max_height": null,
            "max_width": null,
            "min_height": null,
            "min_width": null,
            "object_fit": null,
            "object_position": null,
            "order": null,
            "overflow": null,
            "overflow_x": null,
            "overflow_y": null,
            "padding": null,
            "right": null,
            "top": null,
            "visibility": null,
            "width": null
          }
        },
        "e9c27fc3d331418d8ecc6dd43099c612": {
          "model_module": "@jupyter-widgets/base",
          "model_name": "LayoutModel",
          "model_module_version": "1.2.0",
          "state": {
            "_model_module": "@jupyter-widgets/base",
            "_model_module_version": "1.2.0",
            "_model_name": "LayoutModel",
            "_view_count": null,
            "_view_module": "@jupyter-widgets/base",
            "_view_module_version": "1.2.0",
            "_view_name": "LayoutView",
            "align_content": null,
            "align_items": null,
            "align_self": null,
            "border": null,
            "bottom": null,
            "display": null,
            "flex": null,
            "flex_flow": null,
            "grid_area": null,
            "grid_auto_columns": null,
            "grid_auto_flow": null,
            "grid_auto_rows": null,
            "grid_column": null,
            "grid_gap": null,
            "grid_row": null,
            "grid_template_areas": null,
            "grid_template_columns": null,
            "grid_template_rows": null,
            "height": null,
            "justify_content": null,
            "justify_items": null,
            "left": null,
            "margin": null,
            "max_height": null,
            "max_width": null,
            "min_height": null,
            "min_width": null,
            "object_fit": null,
            "object_position": null,
            "order": null,
            "overflow": null,
            "overflow_x": null,
            "overflow_y": null,
            "padding": null,
            "right": null,
            "top": null,
            "visibility": null,
            "width": "max-content"
          }
        },
        "c837d840e1ae403690c4a65662eab74b": {
          "model_module": "@jupyter-widgets/controls",
          "model_name": "DescriptionStyleModel",
          "model_module_version": "1.5.0",
          "state": {
            "_model_module": "@jupyter-widgets/controls",
            "_model_module_version": "1.5.0",
            "_model_name": "DescriptionStyleModel",
            "_view_count": null,
            "_view_module": "@jupyter-widgets/base",
            "_view_module_version": "1.2.0",
            "_view_name": "StyleView",
            "description_width": "initial"
          }
        },
        "7532d0c129af46099b7596591641f543": {
          "model_module": "@jupyter-widgets/base",
          "model_name": "LayoutModel",
          "model_module_version": "1.2.0",
          "state": {
            "_model_module": "@jupyter-widgets/base",
            "_model_module_version": "1.2.0",
            "_model_name": "LayoutModel",
            "_view_count": null,
            "_view_module": "@jupyter-widgets/base",
            "_view_module_version": "1.2.0",
            "_view_name": "LayoutView",
            "align_content": null,
            "align_items": null,
            "align_self": null,
            "border": null,
            "bottom": null,
            "display": null,
            "flex": null,
            "flex_flow": null,
            "grid_area": null,
            "grid_auto_columns": null,
            "grid_auto_flow": null,
            "grid_auto_rows": null,
            "grid_column": null,
            "grid_gap": null,
            "grid_row": null,
            "grid_template_areas": null,
            "grid_template_columns": null,
            "grid_template_rows": null,
            "height": null,
            "justify_content": null,
            "justify_items": null,
            "left": null,
            "margin": null,
            "max_height": null,
            "max_width": null,
            "min_height": null,
            "min_width": null,
            "object_fit": null,
            "object_position": null,
            "order": null,
            "overflow": null,
            "overflow_x": null,
            "overflow_y": null,
            "padding": null,
            "right": null,
            "top": null,
            "visibility": null,
            "width": "max-content"
          }
        },
        "12b1b3bc95074c4e948f6fdf7344b22b": {
          "model_module": "@jupyter-widgets/controls",
          "model_name": "DescriptionStyleModel",
          "model_module_version": "1.5.0",
          "state": {
            "_model_module": "@jupyter-widgets/controls",
            "_model_module_version": "1.5.0",
            "_model_name": "DescriptionStyleModel",
            "_view_count": null,
            "_view_module": "@jupyter-widgets/base",
            "_view_module_version": "1.2.0",
            "_view_name": "StyleView",
            "description_width": "initial"
          }
        },
        "89deb16e696d4c72b66638bec377fdeb": {
          "model_module": "@jupyter-widgets/base",
          "model_name": "LayoutModel",
          "model_module_version": "1.2.0",
          "state": {
            "_model_module": "@jupyter-widgets/base",
            "_model_module_version": "1.2.0",
            "_model_name": "LayoutModel",
            "_view_count": null,
            "_view_module": "@jupyter-widgets/base",
            "_view_module_version": "1.2.0",
            "_view_name": "LayoutView",
            "align_content": null,
            "align_items": null,
            "align_self": null,
            "border": null,
            "bottom": null,
            "display": null,
            "flex": null,
            "flex_flow": null,
            "grid_area": null,
            "grid_auto_columns": null,
            "grid_auto_flow": null,
            "grid_auto_rows": null,
            "grid_column": null,
            "grid_gap": null,
            "grid_row": null,
            "grid_template_areas": null,
            "grid_template_columns": null,
            "grid_template_rows": null,
            "height": null,
            "justify_content": null,
            "justify_items": null,
            "left": null,
            "margin": null,
            "max_height": null,
            "max_width": null,
            "min_height": null,
            "min_width": null,
            "object_fit": null,
            "object_position": null,
            "order": null,
            "overflow": null,
            "overflow_x": null,
            "overflow_y": null,
            "padding": null,
            "right": null,
            "top": null,
            "visibility": null,
            "width": "max-content"
          }
        },
        "3884446979c04510a9cde5592153e8df": {
          "model_module": "@jupyter-widgets/controls",
          "model_name": "DescriptionStyleModel",
          "model_module_version": "1.5.0",
          "state": {
            "_model_module": "@jupyter-widgets/controls",
            "_model_module_version": "1.5.0",
            "_model_name": "DescriptionStyleModel",
            "_view_count": null,
            "_view_module": "@jupyter-widgets/base",
            "_view_module_version": "1.2.0",
            "_view_name": "StyleView",
            "description_width": "initial"
          }
        },
        "06aa3dde6ac7467dbd2822f75de3ddc7": {
          "model_module": "@jupyter-widgets/base",
          "model_name": "LayoutModel",
          "model_module_version": "1.2.0",
          "state": {
            "_model_module": "@jupyter-widgets/base",
            "_model_module_version": "1.2.0",
            "_model_name": "LayoutModel",
            "_view_count": null,
            "_view_module": "@jupyter-widgets/base",
            "_view_module_version": "1.2.0",
            "_view_name": "LayoutView",
            "align_content": null,
            "align_items": null,
            "align_self": null,
            "border": null,
            "bottom": null,
            "display": null,
            "flex": null,
            "flex_flow": null,
            "grid_area": null,
            "grid_auto_columns": null,
            "grid_auto_flow": null,
            "grid_auto_rows": null,
            "grid_column": null,
            "grid_gap": null,
            "grid_row": null,
            "grid_template_areas": null,
            "grid_template_columns": null,
            "grid_template_rows": null,
            "height": null,
            "justify_content": null,
            "justify_items": null,
            "left": null,
            "margin": null,
            "max_height": null,
            "max_width": null,
            "min_height": null,
            "min_width": null,
            "object_fit": null,
            "object_position": null,
            "order": null,
            "overflow": null,
            "overflow_x": null,
            "overflow_y": null,
            "padding": null,
            "right": null,
            "top": null,
            "visibility": null,
            "width": null
          }
        },
        "05880220b4b44ed6a2b55904cf051a85": {
          "model_module": "@jupyter-widgets/controls",
          "model_name": "DescriptionStyleModel",
          "model_module_version": "1.5.0",
          "state": {
            "_model_module": "@jupyter-widgets/controls",
            "_model_module_version": "1.5.0",
            "_model_name": "DescriptionStyleModel",
            "_view_count": null,
            "_view_module": "@jupyter-widgets/base",
            "_view_module_version": "1.2.0",
            "_view_name": "StyleView",
            "description_width": "initial"
          }
        },
        "bf9b8c6a23474a7394d093276e6a0f2f": {
          "model_module": "@jupyter-widgets/base",
          "model_name": "LayoutModel",
          "model_module_version": "1.2.0",
          "state": {
            "_model_module": "@jupyter-widgets/base",
            "_model_module_version": "1.2.0",
            "_model_name": "LayoutModel",
            "_view_count": null,
            "_view_module": "@jupyter-widgets/base",
            "_view_module_version": "1.2.0",
            "_view_name": "LayoutView",
            "align_content": null,
            "align_items": null,
            "align_self": null,
            "border": null,
            "bottom": null,
            "display": null,
            "flex": null,
            "flex_flow": null,
            "grid_area": null,
            "grid_auto_columns": null,
            "grid_auto_flow": null,
            "grid_auto_rows": null,
            "grid_column": null,
            "grid_gap": null,
            "grid_row": null,
            "grid_template_areas": null,
            "grid_template_columns": null,
            "grid_template_rows": null,
            "height": null,
            "justify_content": null,
            "justify_items": null,
            "left": null,
            "margin": null,
            "max_height": null,
            "max_width": null,
            "min_height": null,
            "min_width": null,
            "object_fit": null,
            "object_position": null,
            "order": null,
            "overflow": null,
            "overflow_x": null,
            "overflow_y": null,
            "padding": null,
            "right": null,
            "top": null,
            "visibility": "hidden",
            "width": null
          }
        },
        "d7c1cc4998b841139e244db3274e9c50": {
          "model_module": "@jupyter-widgets/controls",
          "model_name": "SliderStyleModel",
          "model_module_version": "1.5.0",
          "state": {
            "_model_module": "@jupyter-widgets/controls",
            "_model_module_version": "1.5.0",
            "_model_name": "SliderStyleModel",
            "_view_count": null,
            "_view_module": "@jupyter-widgets/base",
            "_view_module_version": "1.2.0",
            "_view_name": "StyleView",
            "description_width": "initial",
            "handle_color": null
          }
        },
        "896d1d1805d04f83a3e096d37188c0cd": {
          "model_module": "@jupyter-widgets/controls",
          "model_name": "VBoxModel",
          "model_module_version": "1.5.0",
          "state": {
            "_dom_classes": [],
            "_model_module": "@jupyter-widgets/controls",
            "_model_module_version": "1.5.0",
            "_model_name": "VBoxModel",
            "_view_count": null,
            "_view_module": "@jupyter-widgets/controls",
            "_view_module_version": "1.5.0",
            "_view_name": "VBoxView",
            "box_style": "",
            "children": [
              "IPY_MODEL_475b2bf04df04ee899f0fa25a815b277",
              "IPY_MODEL_51fe5e4b55dd4f1d862925ca98650cfd"
            ],
            "layout": "IPY_MODEL_57736bef91cc43e7b69072b70b520df6"
          }
        },
        "475b2bf04df04ee899f0fa25a815b277": {
          "model_module": "@jupyter-widgets/controls",
          "model_name": "LabelModel",
          "model_module_version": "1.5.0",
          "state": {
            "_dom_classes": [],
            "_model_module": "@jupyter-widgets/controls",
            "_model_module_version": "1.5.0",
            "_model_name": "LabelModel",
            "_view_count": null,
            "_view_module": "@jupyter-widgets/controls",
            "_view_module_version": "1.5.0",
            "_view_name": "LabelView",
            "description": "",
            "description_tooltip": null,
            "layout": "IPY_MODEL_41486dfc66d143a79e8776dcb44167a8",
            "placeholder": "​",
            "style": "IPY_MODEL_72026f84e91e40fd8291f959d0a3cbf4",
            "value": "Please select the folder in your drive that contains the original images to use for training (then move on to next step):"
          }
        },
        "51fe5e4b55dd4f1d862925ca98650cfd": {
          "model_module": "@jupyter-widgets/controls",
          "model_name": "VBoxModel",
          "model_module_version": "1.5.0",
          "state": {
            "_dom_classes": [],
            "_model_module": "@jupyter-widgets/controls",
            "_model_module_version": "1.5.0",
            "_model_name": "VBoxModel",
            "_view_count": null,
            "_view_module": "@jupyter-widgets/controls",
            "_view_module_version": "1.5.0",
            "_view_name": "VBoxView",
            "box_style": "",
            "children": [
              "IPY_MODEL_ffcc4162c542472b9c6c70738085bdc9",
              "IPY_MODEL_1340636f2e104bee947a5efbdbbdc225"
            ],
            "layout": "IPY_MODEL_302237301e94423aa5653669b1631e00"
          }
        },
        "57736bef91cc43e7b69072b70b520df6": {
          "model_module": "@jupyter-widgets/base",
          "model_name": "LayoutModel",
          "model_module_version": "1.2.0",
          "state": {
            "_model_module": "@jupyter-widgets/base",
            "_model_module_version": "1.2.0",
            "_model_name": "LayoutModel",
            "_view_count": null,
            "_view_module": "@jupyter-widgets/base",
            "_view_module_version": "1.2.0",
            "_view_name": "LayoutView",
            "align_content": null,
            "align_items": null,
            "align_self": null,
            "border": null,
            "bottom": null,
            "display": null,
            "flex": null,
            "flex_flow": null,
            "grid_area": null,
            "grid_auto_columns": null,
            "grid_auto_flow": null,
            "grid_auto_rows": null,
            "grid_column": null,
            "grid_gap": null,
            "grid_row": null,
            "grid_template_areas": null,
            "grid_template_columns": null,
            "grid_template_rows": null,
            "height": null,
            "justify_content": null,
            "justify_items": null,
            "left": null,
            "margin": null,
            "max_height": null,
            "max_width": null,
            "min_height": null,
            "min_width": null,
            "object_fit": null,
            "object_position": null,
            "order": null,
            "overflow": null,
            "overflow_x": null,
            "overflow_y": null,
            "padding": null,
            "right": null,
            "top": null,
            "visibility": null,
            "width": null
          }
        },
        "41486dfc66d143a79e8776dcb44167a8": {
          "model_module": "@jupyter-widgets/base",
          "model_name": "LayoutModel",
          "model_module_version": "1.2.0",
          "state": {
            "_model_module": "@jupyter-widgets/base",
            "_model_module_version": "1.2.0",
            "_model_name": "LayoutModel",
            "_view_count": null,
            "_view_module": "@jupyter-widgets/base",
            "_view_module_version": "1.2.0",
            "_view_name": "LayoutView",
            "align_content": null,
            "align_items": null,
            "align_self": null,
            "border": null,
            "bottom": null,
            "display": null,
            "flex": null,
            "flex_flow": null,
            "grid_area": null,
            "grid_auto_columns": null,
            "grid_auto_flow": null,
            "grid_auto_rows": null,
            "grid_column": null,
            "grid_gap": null,
            "grid_row": null,
            "grid_template_areas": null,
            "grid_template_columns": null,
            "grid_template_rows": null,
            "height": null,
            "justify_content": null,
            "justify_items": null,
            "left": null,
            "margin": null,
            "max_height": null,
            "max_width": null,
            "min_height": null,
            "min_width": null,
            "object_fit": null,
            "object_position": null,
            "order": null,
            "overflow": null,
            "overflow_x": null,
            "overflow_y": null,
            "padding": null,
            "right": null,
            "top": null,
            "visibility": null,
            "width": null
          }
        },
        "72026f84e91e40fd8291f959d0a3cbf4": {
          "model_module": "@jupyter-widgets/controls",
          "model_name": "DescriptionStyleModel",
          "model_module_version": "1.5.0",
          "state": {
            "_model_module": "@jupyter-widgets/controls",
            "_model_module_version": "1.5.0",
            "_model_name": "DescriptionStyleModel",
            "_view_count": null,
            "_view_module": "@jupyter-widgets/base",
            "_view_module_version": "1.2.0",
            "_view_name": "StyleView",
            "description_width": ""
          }
        },
        "ffcc4162c542472b9c6c70738085bdc9": {
          "model_module": "@jupyter-widgets/controls",
          "model_name": "BoxModel",
          "model_module_version": "1.5.0",
          "state": {
            "_dom_classes": [],
            "_model_module": "@jupyter-widgets/controls",
            "_model_module_version": "1.5.0",
            "_model_name": "BoxModel",
            "_view_count": null,
            "_view_module": "@jupyter-widgets/controls",
            "_view_module_version": "1.5.0",
            "_view_name": "BoxView",
            "box_style": "",
            "children": [
              "IPY_MODEL_c40d7b0e126b401f84f60c5ec08e1b55",
              "IPY_MODEL_5bb530a6c81542ebb586d9fa8c39aba6",
              "IPY_MODEL_45f7e998deba43b18025f7befc2a5a8c",
              "IPY_MODEL_f1e9cc7f63e942a6a176e4d4fb754ef9",
              "IPY_MODEL_f6cd45274be444afab5c8884186b22c2",
              "IPY_MODEL_97bd30e0076d419b9d5c09e6f4df6269",
              "IPY_MODEL_5fe7f3bae8794062b9851762dd6aa982",
              "IPY_MODEL_52e830cc467e4ddfab9af3939fa90909",
              "IPY_MODEL_039b56797d8646e883606be70da7724f",
              "IPY_MODEL_c6182104eede416fb06aecf074303089",
              "IPY_MODEL_f0325da8033841eabd4af4f03530f368",
              "IPY_MODEL_ab603f1e1bae41d6859f3dc6c679e82b",
              "IPY_MODEL_a2ca0e458ad54372b7858181ea94523f",
              "IPY_MODEL_fc00928218a348848c30e6003073f9a3",
              "IPY_MODEL_4056cfec1739454da48ec051b3e2f4ed",
              "IPY_MODEL_641ed8a6b25f472abb3a32564fdee1f8",
              "IPY_MODEL_b5793f470da54b6ba868e2476bf1c4a1",
              "IPY_MODEL_a5e29bfab5d04d37bc542981a01db2b0",
              "IPY_MODEL_e47254b108fb47caadedbd9e4f90089a",
              "IPY_MODEL_dfb50ee4d02f482784d035651fab3877"
            ],
            "layout": "IPY_MODEL_15e8e7ff0f614a4a8b1fcf20c2b9f67d"
          }
        },
        "1340636f2e104bee947a5efbdbbdc225": {
          "model_module": "@jupyter-widgets/controls",
          "model_name": "LabelModel",
          "model_module_version": "1.5.0",
          "state": {
            "_dom_classes": [],
            "_model_module": "@jupyter-widgets/controls",
            "_model_module_version": "1.5.0",
            "_model_name": "LabelModel",
            "_view_count": null,
            "_view_module": "@jupyter-widgets/controls",
            "_view_module_version": "1.5.0",
            "_view_name": "LabelView",
            "description": "",
            "description_tooltip": null,
            "layout": "IPY_MODEL_9bc7b1addb274dd0bc8601762ee67023",
            "placeholder": "​",
            "style": "IPY_MODEL_ad0e7809fe2d45e1b92224f17cdc58d6",
            "value": "Selected path: /content/drive/MyDrive/originals_training"
          }
        },
        "302237301e94423aa5653669b1631e00": {
          "model_module": "@jupyter-widgets/base",
          "model_name": "LayoutModel",
          "model_module_version": "1.2.0",
          "state": {
            "_model_module": "@jupyter-widgets/base",
            "_model_module_version": "1.2.0",
            "_model_name": "LayoutModel",
            "_view_count": null,
            "_view_module": "@jupyter-widgets/base",
            "_view_module_version": "1.2.0",
            "_view_name": "LayoutView",
            "align_content": null,
            "align_items": null,
            "align_self": null,
            "border": null,
            "bottom": null,
            "display": null,
            "flex": null,
            "flex_flow": null,
            "grid_area": null,
            "grid_auto_columns": null,
            "grid_auto_flow": null,
            "grid_auto_rows": null,
            "grid_column": null,
            "grid_gap": null,
            "grid_row": null,
            "grid_template_areas": null,
            "grid_template_columns": null,
            "grid_template_rows": null,
            "height": null,
            "justify_content": null,
            "justify_items": null,
            "left": null,
            "margin": null,
            "max_height": null,
            "max_width": null,
            "min_height": null,
            "min_width": null,
            "object_fit": null,
            "object_position": null,
            "order": null,
            "overflow": null,
            "overflow_x": null,
            "overflow_y": null,
            "padding": null,
            "right": null,
            "top": null,
            "visibility": null,
            "width": null
          }
        },
        "c40d7b0e126b401f84f60c5ec08e1b55": {
          "model_module": "@jupyter-widgets/controls",
          "model_name": "ButtonModel",
          "model_module_version": "1.5.0",
          "state": {
            "_dom_classes": [],
            "_model_module": "@jupyter-widgets/controls",
            "_model_module_version": "1.5.0",
            "_model_name": "ButtonModel",
            "_view_count": null,
            "_view_module": "@jupyter-widgets/controls",
            "_view_module_version": "1.5.0",
            "_view_name": "ButtonView",
            "button_style": "",
            "description": "..",
            "disabled": false,
            "icon": "",
            "layout": "IPY_MODEL_914af166390047c6b86b2d695becf121",
            "style": "IPY_MODEL_45132ccecd9c4deaa1893effefc2a6f2",
            "tooltip": ""
          }
        },
        "5bb530a6c81542ebb586d9fa8c39aba6": {
          "model_module": "@jupyter-widgets/controls",
          "model_name": "ButtonModel",
          "model_module_version": "1.5.0",
          "state": {
            "_dom_classes": [],
            "_model_module": "@jupyter-widgets/controls",
            "_model_module_version": "1.5.0",
            "_model_name": "ButtonModel",
            "_view_count": null,
            "_view_module": "@jupyter-widgets/controls",
            "_view_module_version": "1.5.0",
            "_view_name": "ButtonView",
            "button_style": "",
            "description": "Colab Notebooks",
            "disabled": false,
            "icon": "folder",
            "layout": "IPY_MODEL_914af166390047c6b86b2d695becf121",
            "style": "IPY_MODEL_4d80671c87f54117a9ba2e8e932032b7",
            "tooltip": "Colab Notebooks"
          }
        },
        "45f7e998deba43b18025f7befc2a5a8c": {
          "model_module": "@jupyter-widgets/controls",
          "model_name": "ButtonModel",
          "model_module_version": "1.5.0",
          "state": {
            "_dom_classes": [],
            "_model_module": "@jupyter-widgets/controls",
            "_model_module_version": "1.5.0",
            "_model_name": "ButtonModel",
            "_view_count": null,
            "_view_module": "@jupyter-widgets/controls",
            "_view_module_version": "1.5.0",
            "_view_name": "ButtonView",
            "button_style": "",
            "description": "predict_test",
            "disabled": false,
            "icon": "folder",
            "layout": "IPY_MODEL_914af166390047c6b86b2d695becf121",
            "style": "IPY_MODEL_4d80671c87f54117a9ba2e8e932032b7",
            "tooltip": "predict_test"
          }
        },
        "f1e9cc7f63e942a6a176e4d4fb754ef9": {
          "model_module": "@jupyter-widgets/controls",
          "model_name": "ButtonModel",
          "model_module_version": "1.5.0",
          "state": {
            "_dom_classes": [],
            "_model_module": "@jupyter-widgets/controls",
            "_model_module_version": "1.5.0",
            "_model_name": "ButtonModel",
            "_view_count": null,
            "_view_module": "@jupyter-widgets/controls",
            "_view_module_version": "1.5.0",
            "_view_name": "ButtonView",
            "button_style": "",
            "description": "originals_training",
            "disabled": false,
            "icon": "folder",
            "layout": "IPY_MODEL_914af166390047c6b86b2d695becf121",
            "style": "IPY_MODEL_4d80671c87f54117a9ba2e8e932032b7",
            "tooltip": "originals_training"
          }
        },
        "f6cd45274be444afab5c8884186b22c2": {
          "model_module": "@jupyter-widgets/controls",
          "model_name": "ButtonModel",
          "model_module_version": "1.5.0",
          "state": {
            "_dom_classes": [],
            "_model_module": "@jupyter-widgets/controls",
            "_model_module_version": "1.5.0",
            "_model_name": "ButtonModel",
            "_view_count": null,
            "_view_module": "@jupyter-widgets/controls",
            "_view_module_version": "1.5.0",
            "_view_name": "ButtonView",
            "button_style": "",
            "description": "segmentation_training",
            "disabled": false,
            "icon": "folder",
            "layout": "IPY_MODEL_914af166390047c6b86b2d695becf121",
            "style": "IPY_MODEL_4d80671c87f54117a9ba2e8e932032b7",
            "tooltip": "segmentation_training"
          }
        },
        "97bd30e0076d419b9d5c09e6f4df6269": {
          "model_module": "@jupyter-widgets/controls",
          "model_name": "ButtonModel",
          "model_module_version": "1.5.0",
          "state": {
            "_dom_classes": [],
            "_model_module": "@jupyter-widgets/controls",
            "_model_module_version": "1.5.0",
            "_model_name": "ButtonModel",
            "_view_count": null,
            "_view_module": "@jupyter-widgets/controls",
            "_view_module_version": "1.5.0",
            "_view_name": "ButtonView",
            "button_style": "",
            "description": ".ipynb_checkpoints",
            "disabled": false,
            "icon": "folder",
            "layout": "IPY_MODEL_914af166390047c6b86b2d695becf121",
            "style": "IPY_MODEL_4d80671c87f54117a9ba2e8e932032b7",
            "tooltip": ".ipynb_checkpoints"
          }
        },
        "5fe7f3bae8794062b9851762dd6aa982": {
          "model_module": "@jupyter-widgets/controls",
          "model_name": "ButtonModel",
          "model_module_version": "1.5.0",
          "state": {
            "_dom_classes": [],
            "_model_module": "@jupyter-widgets/controls",
            "_model_module_version": "1.5.0",
            "_model_name": "ButtonModel",
            "_view_count": null,
            "_view_module": "@jupyter-widgets/controls",
            "_view_module_version": "1.5.0",
            "_view_name": "ButtonView",
            "button_style": "",
            "description": "a_trier",
            "disabled": false,
            "icon": "folder",
            "layout": "IPY_MODEL_914af166390047c6b86b2d695becf121",
            "style": "IPY_MODEL_4d80671c87f54117a9ba2e8e932032b7",
            "tooltip": "a_trier"
          }
        },
        "52e830cc467e4ddfab9af3939fa90909": {
          "model_module": "@jupyter-widgets/controls",
          "model_name": "ButtonModel",
          "model_module_version": "1.5.0",
          "state": {
            "_dom_classes": [],
            "_model_module": "@jupyter-widgets/controls",
            "_model_module_version": "1.5.0",
            "_model_name": "ButtonModel",
            "_view_count": null,
            "_view_module": "@jupyter-widgets/controls",
            "_view_module_version": "1.5.0",
            "_view_name": "ButtonView",
            "button_style": "",
            "description": "CARE",
            "disabled": false,
            "icon": "folder",
            "layout": "IPY_MODEL_914af166390047c6b86b2d695becf121",
            "style": "IPY_MODEL_4d80671c87f54117a9ba2e8e932032b7",
            "tooltip": "CARE"
          }
        },
        "039b56797d8646e883606be70da7724f": {
          "model_module": "@jupyter-widgets/controls",
          "model_name": "ButtonModel",
          "model_module_version": "1.5.0",
          "state": {
            "_dom_classes": [],
            "_model_module": "@jupyter-widgets/controls",
            "_model_module_version": "1.5.0",
            "_model_name": "ButtonModel",
            "_view_count": null,
            "_view_module": "@jupyter-widgets/controls",
            "_view_module_version": "1.5.0",
            "_view_name": "ButtonView",
            "button_style": "",
            "description": "models",
            "disabled": false,
            "icon": "folder",
            "layout": "IPY_MODEL_914af166390047c6b86b2d695becf121",
            "style": "IPY_MODEL_4d80671c87f54117a9ba2e8e932032b7",
            "tooltip": "models"
          }
        },
        "c6182104eede416fb06aecf074303089": {
          "model_module": "@jupyter-widgets/controls",
          "model_name": "ButtonModel",
          "model_module_version": "1.5.0",
          "state": {
            "_dom_classes": [],
            "_model_module": "@jupyter-widgets/controls",
            "_model_module_version": "1.5.0",
            "_model_name": "ButtonModel",
            "_view_count": null,
            "_view_module": "@jupyter-widgets/controls",
            "_view_module_version": "1.5.0",
            "_view_name": "ButtonView",
            "button_style": "",
            "description": "CARESEG3D_trained_models",
            "disabled": false,
            "icon": "folder",
            "layout": "IPY_MODEL_914af166390047c6b86b2d695becf121",
            "style": "IPY_MODEL_4d80671c87f54117a9ba2e8e932032b7",
            "tooltip": "CARESEG3D_trained_models"
          }
        },
        "f0325da8033841eabd4af4f03530f368": {
          "model_module": "@jupyter-widgets/controls",
          "model_name": "ButtonModel",
          "model_module_version": "1.5.0",
          "state": {
            "_dom_classes": [],
            "_model_module": "@jupyter-widgets/controls",
            "_model_module_version": "1.5.0",
            "_model_name": "ButtonModel",
            "_view_count": null,
            "_view_module": "@jupyter-widgets/controls",
            "_view_module_version": "1.5.0",
            "_view_name": "ButtonView",
            "button_style": "",
            "description": "CARE_model",
            "disabled": false,
            "icon": "folder",
            "layout": "IPY_MODEL_914af166390047c6b86b2d695becf121",
            "style": "IPY_MODEL_4d80671c87f54117a9ba2e8e932032b7",
            "tooltip": "CARE_model"
          }
        },
        "ab603f1e1bae41d6859f3dc6c679e82b": {
          "model_module": "@jupyter-widgets/controls",
          "model_name": "ButtonModel",
          "model_module_version": "1.5.0",
          "state": {
            "_dom_classes": [],
            "_model_module": "@jupyter-widgets/controls",
            "_model_module_version": "1.5.0",
            "_model_name": "ButtonModel",
            "_view_count": null,
            "_view_module": "@jupyter-widgets/controls",
            "_view_module_version": "1.5.0",
            "_view_name": "ButtonView",
            "button_style": "",
            "description": "CARESEG_Zroll",
            "disabled": false,
            "icon": "folder",
            "layout": "IPY_MODEL_914af166390047c6b86b2d695becf121",
            "style": "IPY_MODEL_4d80671c87f54117a9ba2e8e932032b7",
            "tooltip": "CARESEG_Zroll"
          }
        },
        "a2ca0e458ad54372b7858181ea94523f": {
          "model_module": "@jupyter-widgets/controls",
          "model_name": "ButtonModel",
          "model_module_version": "1.5.0",
          "state": {
            "_dom_classes": [],
            "_model_module": "@jupyter-widgets/controls",
            "_model_module_version": "1.5.0",
            "_model_name": "ButtonModel",
            "_view_count": null,
            "_view_module": "@jupyter-widgets/controls",
            "_view_module_version": "1.5.0",
            "_view_name": "ButtonView",
            "button_style": "",
            "description": "CARESEG_shuffle_n_roll",
            "disabled": false,
            "icon": "folder",
            "layout": "IPY_MODEL_914af166390047c6b86b2d695becf121",
            "style": "IPY_MODEL_4d80671c87f54117a9ba2e8e932032b7",
            "tooltip": "CARESEG_shuffle_n_roll"
          }
        },
        "fc00928218a348848c30e6003073f9a3": {
          "model_module": "@jupyter-widgets/controls",
          "model_name": "ButtonModel",
          "model_module_version": "1.5.0",
          "state": {
            "_dom_classes": [],
            "_model_module": "@jupyter-widgets/controls",
            "_model_module_version": "1.5.0",
            "_model_name": "ButtonModel",
            "_view_count": null,
            "_view_module": "@jupyter-widgets/controls",
            "_view_module_version": "1.5.0",
            "_view_name": "ButtonView",
            "button_style": "",
            "description": "CARESEG_another_normal_training_201216",
            "disabled": false,
            "icon": "folder",
            "layout": "IPY_MODEL_914af166390047c6b86b2d695becf121",
            "style": "IPY_MODEL_4d80671c87f54117a9ba2e8e932032b7",
            "tooltip": "CARESEG_another_normal_training_201216"
          }
        },
        "4056cfec1739454da48ec051b3e2f4ed": {
          "model_module": "@jupyter-widgets/controls",
          "model_name": "ButtonModel",
          "model_module_version": "1.5.0",
          "state": {
            "_dom_classes": [],
            "_model_module": "@jupyter-widgets/controls",
            "_model_module_version": "1.5.0",
            "_model_name": "ButtonModel",
            "_view_count": null,
            "_view_module": "@jupyter-widgets/controls",
            "_view_module_version": "1.5.0",
            "_view_name": "ButtonView",
            "button_style": "",
            "description": "epyseg_training",
            "disabled": false,
            "icon": "folder",
            "layout": "IPY_MODEL_914af166390047c6b86b2d695becf121",
            "style": "IPY_MODEL_4d80671c87f54117a9ba2e8e932032b7",
            "tooltip": "epyseg_training"
          }
        },
        "641ed8a6b25f472abb3a32564fdee1f8": {
          "model_module": "@jupyter-widgets/controls",
          "model_name": "ButtonModel",
          "model_module_version": "1.5.0",
          "state": {
            "_dom_classes": [],
            "_model_module": "@jupyter-widgets/controls",
            "_model_module_version": "1.5.0",
            "_model_name": "ButtonModel",
            "_view_count": null,
            "_view_module": "@jupyter-widgets/controls",
            "_view_module_version": "1.5.0",
            "_view_name": "ButtonView",
            "button_style": "",
            "description": "neurons_EM_had",
            "disabled": false,
            "icon": "folder",
            "layout": "IPY_MODEL_914af166390047c6b86b2d695becf121",
            "style": "IPY_MODEL_4d80671c87f54117a9ba2e8e932032b7",
            "tooltip": "neurons_EM_had"
          }
        },
        "b5793f470da54b6ba868e2476bf1c4a1": {
          "model_module": "@jupyter-widgets/controls",
          "model_name": "ButtonModel",
          "model_module_version": "1.5.0",
          "state": {
            "_dom_classes": [],
            "_model_module": "@jupyter-widgets/controls",
            "_model_module_version": "1.5.0",
            "_model_name": "ButtonModel",
            "_view_count": null,
            "_view_module": "@jupyter-widgets/controls",
            "_view_module_version": "1.5.0",
            "_view_name": "ButtonView",
            "button_style": "",
            "description": "test_mermaid",
            "disabled": false,
            "icon": "folder",
            "layout": "IPY_MODEL_914af166390047c6b86b2d695becf121",
            "style": "IPY_MODEL_4d80671c87f54117a9ba2e8e932032b7",
            "tooltip": "test_mermaid"
          }
        },
        "a5e29bfab5d04d37bc542981a01db2b0": {
          "model_module": "@jupyter-widgets/controls",
          "model_name": "ButtonModel",
          "model_module_version": "1.5.0",
          "state": {
            "_dom_classes": [],
            "_model_module": "@jupyter-widgets/controls",
            "_model_module_version": "1.5.0",
            "_model_name": "ButtonModel",
            "_view_count": null,
            "_view_module": "@jupyter-widgets/controls",
            "_view_module_version": "1.5.0",
            "_view_name": "ButtonView",
            "button_style": "",
            "description": "gut_images_tests",
            "disabled": false,
            "icon": "folder",
            "layout": "IPY_MODEL_914af166390047c6b86b2d695becf121",
            "style": "IPY_MODEL_4d80671c87f54117a9ba2e8e932032b7",
            "tooltip": "gut_images_tests"
          }
        },
        "e47254b108fb47caadedbd9e4f90089a": {
          "model_module": "@jupyter-widgets/controls",
          "model_name": "ButtonModel",
          "model_module_version": "1.5.0",
          "state": {
            "_dom_classes": [],
            "_model_module": "@jupyter-widgets/controls",
            "_model_module_version": "1.5.0",
            "_model_name": "ButtonModel",
            "_view_count": null,
            "_view_module": "@jupyter-widgets/controls",
            "_view_module_version": "1.5.0",
            "_view_name": "ButtonView",
            "button_style": "",
            "description": "linknet-vgg16-sigmoid.model",
            "disabled": false,
            "icon": "folder",
            "layout": "IPY_MODEL_914af166390047c6b86b2d695becf121",
            "style": "IPY_MODEL_4d80671c87f54117a9ba2e8e932032b7",
            "tooltip": "linknet-vgg16-sigmoid.model"
          }
        },
        "dfb50ee4d02f482784d035651fab3877": {
          "model_module": "@jupyter-widgets/controls",
          "model_name": "ButtonModel",
          "model_module_version": "1.5.0",
          "state": {
            "_dom_classes": [],
            "_model_module": "@jupyter-widgets/controls",
            "_model_module_version": "1.5.0",
            "_model_name": "ButtonModel",
            "_view_count": null,
            "_view_module": "@jupyter-widgets/controls",
            "_view_module_version": "1.5.0",
            "_view_name": "ButtonView",
            "button_style": "",
            "description": "Linknet-vgg16-sigmoid-pretrained.model",
            "disabled": false,
            "icon": "folder",
            "layout": "IPY_MODEL_914af166390047c6b86b2d695becf121",
            "style": "IPY_MODEL_4d80671c87f54117a9ba2e8e932032b7",
            "tooltip": "Linknet-vgg16-sigmoid-pretrained.model"
          }
        },
        "15e8e7ff0f614a4a8b1fcf20c2b9f67d": {
          "model_module": "@jupyter-widgets/base",
          "model_name": "LayoutModel",
          "model_module_version": "1.2.0",
          "state": {
            "_model_module": "@jupyter-widgets/base",
            "_model_module_version": "1.2.0",
            "_model_name": "LayoutModel",
            "_view_count": null,
            "_view_module": "@jupyter-widgets/base",
            "_view_module_version": "1.2.0",
            "_view_name": "LayoutView",
            "align_content": null,
            "align_items": "flex-start",
            "align_self": null,
            "border": "1px solid black",
            "bottom": null,
            "display": "flex",
            "flex": null,
            "flex_flow": "column wrap",
            "grid_area": null,
            "grid_auto_columns": null,
            "grid_auto_flow": null,
            "grid_auto_rows": null,
            "grid_column": null,
            "grid_gap": null,
            "grid_row": null,
            "grid_template_areas": null,
            "grid_template_columns": null,
            "grid_template_rows": null,
            "height": "200px",
            "justify_content": null,
            "justify_items": null,
            "left": null,
            "margin": null,
            "max_height": null,
            "max_width": null,
            "min_height": null,
            "min_width": null,
            "object_fit": null,
            "object_position": null,
            "order": null,
            "overflow": "scroll",
            "overflow_x": null,
            "overflow_y": null,
            "padding": null,
            "right": null,
            "top": null,
            "visibility": null,
            "width": "auto"
          }
        },
        "9bc7b1addb274dd0bc8601762ee67023": {
          "model_module": "@jupyter-widgets/base",
          "model_name": "LayoutModel",
          "model_module_version": "1.2.0",
          "state": {
            "_model_module": "@jupyter-widgets/base",
            "_model_module_version": "1.2.0",
            "_model_name": "LayoutModel",
            "_view_count": null,
            "_view_module": "@jupyter-widgets/base",
            "_view_module_version": "1.2.0",
            "_view_name": "LayoutView",
            "align_content": null,
            "align_items": null,
            "align_self": null,
            "border": null,
            "bottom": null,
            "display": null,
            "flex": null,
            "flex_flow": null,
            "grid_area": null,
            "grid_auto_columns": null,
            "grid_auto_flow": null,
            "grid_auto_rows": null,
            "grid_column": null,
            "grid_gap": null,
            "grid_row": null,
            "grid_template_areas": null,
            "grid_template_columns": null,
            "grid_template_rows": null,
            "height": null,
            "justify_content": null,
            "justify_items": null,
            "left": null,
            "margin": null,
            "max_height": null,
            "max_width": null,
            "min_height": null,
            "min_width": null,
            "object_fit": null,
            "object_position": null,
            "order": null,
            "overflow": null,
            "overflow_x": null,
            "overflow_y": null,
            "padding": null,
            "right": null,
            "top": null,
            "visibility": null,
            "width": null
          }
        },
        "ad0e7809fe2d45e1b92224f17cdc58d6": {
          "model_module": "@jupyter-widgets/controls",
          "model_name": "DescriptionStyleModel",
          "model_module_version": "1.5.0",
          "state": {
            "_model_module": "@jupyter-widgets/controls",
            "_model_module_version": "1.5.0",
            "_model_name": "DescriptionStyleModel",
            "_view_count": null,
            "_view_module": "@jupyter-widgets/base",
            "_view_module_version": "1.2.0",
            "_view_name": "StyleView",
            "description_width": ""
          }
        },
        "914af166390047c6b86b2d695becf121": {
          "model_module": "@jupyter-widgets/base",
          "model_name": "LayoutModel",
          "model_module_version": "1.2.0",
          "state": {
            "_model_module": "@jupyter-widgets/base",
            "_model_module_version": "1.2.0",
            "_model_name": "LayoutModel",
            "_view_count": null,
            "_view_module": "@jupyter-widgets/base",
            "_view_module_version": "1.2.0",
            "_view_name": "LayoutView",
            "align_content": null,
            "align_items": null,
            "align_self": null,
            "border": null,
            "bottom": null,
            "display": null,
            "flex": null,
            "flex_flow": null,
            "grid_area": null,
            "grid_auto_columns": null,
            "grid_auto_flow": null,
            "grid_auto_rows": null,
            "grid_column": null,
            "grid_gap": null,
            "grid_row": null,
            "grid_template_areas": null,
            "grid_template_columns": null,
            "grid_template_rows": null,
            "height": "auto",
            "justify_content": null,
            "justify_items": null,
            "left": "0px",
            "margin": null,
            "max_height": null,
            "max_width": null,
            "min_height": null,
            "min_width": null,
            "object_fit": null,
            "object_position": null,
            "order": null,
            "overflow": null,
            "overflow_x": null,
            "overflow_y": null,
            "padding": null,
            "right": null,
            "top": null,
            "visibility": null,
            "width": "auto"
          }
        },
        "45132ccecd9c4deaa1893effefc2a6f2": {
          "model_module": "@jupyter-widgets/controls",
          "model_name": "ButtonStyleModel",
          "model_module_version": "1.5.0",
          "state": {
            "_model_module": "@jupyter-widgets/controls",
            "_model_module_version": "1.5.0",
            "_model_name": "ButtonStyleModel",
            "_view_count": null,
            "_view_module": "@jupyter-widgets/base",
            "_view_module_version": "1.2.0",
            "_view_name": "StyleView",
            "button_color": "lightblue",
            "font_weight": ""
          }
        },
        "4d80671c87f54117a9ba2e8e932032b7": {
          "model_module": "@jupyter-widgets/controls",
          "model_name": "ButtonStyleModel",
          "model_module_version": "1.5.0",
          "state": {
            "_model_module": "@jupyter-widgets/controls",
            "_model_module_version": "1.5.0",
            "_model_name": "ButtonStyleModel",
            "_view_count": null,
            "_view_module": "@jupyter-widgets/base",
            "_view_module_version": "1.2.0",
            "_view_name": "StyleView",
            "button_color": "lightgray",
            "font_weight": ""
          }
        },
        "fc099ccc0da4480eab322aa55026e2e2": {
          "model_module": "@jupyter-widgets/controls",
          "model_name": "VBoxModel",
          "model_module_version": "1.5.0",
          "state": {
            "_dom_classes": [],
            "_model_module": "@jupyter-widgets/controls",
            "_model_module_version": "1.5.0",
            "_model_name": "VBoxModel",
            "_view_count": null,
            "_view_module": "@jupyter-widgets/controls",
            "_view_module_version": "1.5.0",
            "_view_name": "VBoxView",
            "box_style": "",
            "children": [
              "IPY_MODEL_b4a0c707d16643379941019d531aa102",
              "IPY_MODEL_5a8fd850d35c42abb21cb15588e71830"
            ],
            "layout": "IPY_MODEL_9dcc31975df745489ac5f92af174307f"
          }
        },
        "b4a0c707d16643379941019d531aa102": {
          "model_module": "@jupyter-widgets/controls",
          "model_name": "LabelModel",
          "model_module_version": "1.5.0",
          "state": {
            "_dom_classes": [],
            "_model_module": "@jupyter-widgets/controls",
            "_model_module_version": "1.5.0",
            "_model_name": "LabelModel",
            "_view_count": null,
            "_view_module": "@jupyter-widgets/controls",
            "_view_module_version": "1.5.0",
            "_view_name": "LabelView",
            "description": "",
            "description_tooltip": null,
            "layout": "IPY_MODEL_c6adf333b1774425a585ea88959d1dd6",
            "placeholder": "​",
            "style": "IPY_MODEL_5af5eee6f14b493fb0f85274ee66d3e0",
            "value": "Please select the folder in your drive that contains the segmented images corresponding to the original loaded in the previous cell (then move on to next step):"
          }
        },
        "5a8fd850d35c42abb21cb15588e71830": {
          "model_module": "@jupyter-widgets/controls",
          "model_name": "VBoxModel",
          "model_module_version": "1.5.0",
          "state": {
            "_dom_classes": [],
            "_model_module": "@jupyter-widgets/controls",
            "_model_module_version": "1.5.0",
            "_model_name": "VBoxModel",
            "_view_count": null,
            "_view_module": "@jupyter-widgets/controls",
            "_view_module_version": "1.5.0",
            "_view_name": "VBoxView",
            "box_style": "",
            "children": [
              "IPY_MODEL_32e9c940c3174704b3a76614cb4be941",
              "IPY_MODEL_ea0a4e1d3c5b4853bdcc5611d825b2ad"
            ],
            "layout": "IPY_MODEL_efa8ff81b3424df9be6f9df3341341d1"
          }
        },
        "9dcc31975df745489ac5f92af174307f": {
          "model_module": "@jupyter-widgets/base",
          "model_name": "LayoutModel",
          "model_module_version": "1.2.0",
          "state": {
            "_model_module": "@jupyter-widgets/base",
            "_model_module_version": "1.2.0",
            "_model_name": "LayoutModel",
            "_view_count": null,
            "_view_module": "@jupyter-widgets/base",
            "_view_module_version": "1.2.0",
            "_view_name": "LayoutView",
            "align_content": null,
            "align_items": null,
            "align_self": null,
            "border": null,
            "bottom": null,
            "display": null,
            "flex": null,
            "flex_flow": null,
            "grid_area": null,
            "grid_auto_columns": null,
            "grid_auto_flow": null,
            "grid_auto_rows": null,
            "grid_column": null,
            "grid_gap": null,
            "grid_row": null,
            "grid_template_areas": null,
            "grid_template_columns": null,
            "grid_template_rows": null,
            "height": null,
            "justify_content": null,
            "justify_items": null,
            "left": null,
            "margin": null,
            "max_height": null,
            "max_width": null,
            "min_height": null,
            "min_width": null,
            "object_fit": null,
            "object_position": null,
            "order": null,
            "overflow": null,
            "overflow_x": null,
            "overflow_y": null,
            "padding": null,
            "right": null,
            "top": null,
            "visibility": null,
            "width": null
          }
        },
        "c6adf333b1774425a585ea88959d1dd6": {
          "model_module": "@jupyter-widgets/base",
          "model_name": "LayoutModel",
          "model_module_version": "1.2.0",
          "state": {
            "_model_module": "@jupyter-widgets/base",
            "_model_module_version": "1.2.0",
            "_model_name": "LayoutModel",
            "_view_count": null,
            "_view_module": "@jupyter-widgets/base",
            "_view_module_version": "1.2.0",
            "_view_name": "LayoutView",
            "align_content": null,
            "align_items": null,
            "align_self": null,
            "border": null,
            "bottom": null,
            "display": null,
            "flex": null,
            "flex_flow": null,
            "grid_area": null,
            "grid_auto_columns": null,
            "grid_auto_flow": null,
            "grid_auto_rows": null,
            "grid_column": null,
            "grid_gap": null,
            "grid_row": null,
            "grid_template_areas": null,
            "grid_template_columns": null,
            "grid_template_rows": null,
            "height": null,
            "justify_content": null,
            "justify_items": null,
            "left": null,
            "margin": null,
            "max_height": null,
            "max_width": null,
            "min_height": null,
            "min_width": null,
            "object_fit": null,
            "object_position": null,
            "order": null,
            "overflow": null,
            "overflow_x": null,
            "overflow_y": null,
            "padding": null,
            "right": null,
            "top": null,
            "visibility": null,
            "width": null
          }
        },
        "5af5eee6f14b493fb0f85274ee66d3e0": {
          "model_module": "@jupyter-widgets/controls",
          "model_name": "DescriptionStyleModel",
          "model_module_version": "1.5.0",
          "state": {
            "_model_module": "@jupyter-widgets/controls",
            "_model_module_version": "1.5.0",
            "_model_name": "DescriptionStyleModel",
            "_view_count": null,
            "_view_module": "@jupyter-widgets/base",
            "_view_module_version": "1.2.0",
            "_view_name": "StyleView",
            "description_width": ""
          }
        },
        "32e9c940c3174704b3a76614cb4be941": {
          "model_module": "@jupyter-widgets/controls",
          "model_name": "BoxModel",
          "model_module_version": "1.5.0",
          "state": {
            "_dom_classes": [],
            "_model_module": "@jupyter-widgets/controls",
            "_model_module_version": "1.5.0",
            "_model_name": "BoxModel",
            "_view_count": null,
            "_view_module": "@jupyter-widgets/controls",
            "_view_module_version": "1.5.0",
            "_view_name": "BoxView",
            "box_style": "",
            "children": [
              "IPY_MODEL_3356b217659d4a2ea81b48201070f1c5",
              "IPY_MODEL_7694261cfa43466a94bc092276bf6d65",
              "IPY_MODEL_2e46d4656fde40a487a58ca9d242550d",
              "IPY_MODEL_04bfd297dab34f0d8f88ce044dfaa92e",
              "IPY_MODEL_efd34a8e8cdd4436a95ae6b8833be468",
              "IPY_MODEL_71691fd262254c398d2070399da40892",
              "IPY_MODEL_aebed65d4ac44ac58a9f9a97a7d88698",
              "IPY_MODEL_e5e78caab18e4bddbf783a064efa357f",
              "IPY_MODEL_eaa64ce570c3426c85fe390d93bca0d9",
              "IPY_MODEL_6902ad5ccb8f4712952e21508325baaa",
              "IPY_MODEL_db833703d7f345aaa5e0893542e61810",
              "IPY_MODEL_619e5ae40cec492f8ddddb9921102eb5",
              "IPY_MODEL_a4190e7d10314ad59082d25a78d6146c",
              "IPY_MODEL_f332645719dd4f93ad3c3d4fb6771276",
              "IPY_MODEL_9189954133ce4eaa92a7bae8aada30fb",
              "IPY_MODEL_ad341d6d63bb4be3989c8487d5c225db",
              "IPY_MODEL_6eda948cf9734c42810c72f1061afd13",
              "IPY_MODEL_faabbb51353a4314a7148bab7eacb192",
              "IPY_MODEL_5e68184083bc437284df24ce92d3e75c",
              "IPY_MODEL_2038a378607a45dd813a91820e982c80"
            ],
            "layout": "IPY_MODEL_8bdcc41cf9cf4665b1ccbb5b61c057e4"
          }
        },
        "ea0a4e1d3c5b4853bdcc5611d825b2ad": {
          "model_module": "@jupyter-widgets/controls",
          "model_name": "LabelModel",
          "model_module_version": "1.5.0",
          "state": {
            "_dom_classes": [],
            "_model_module": "@jupyter-widgets/controls",
            "_model_module_version": "1.5.0",
            "_model_name": "LabelModel",
            "_view_count": null,
            "_view_module": "@jupyter-widgets/controls",
            "_view_module_version": "1.5.0",
            "_view_name": "LabelView",
            "description": "",
            "description_tooltip": null,
            "layout": "IPY_MODEL_f44f8f0614b84e7fbddd33ae5e06afb8",
            "placeholder": "​",
            "style": "IPY_MODEL_9854f5afdb7f4c2c9ae28956009d547d",
            "value": "Selected path: /content/drive/MyDrive/segmentation_training"
          }
        },
        "efa8ff81b3424df9be6f9df3341341d1": {
          "model_module": "@jupyter-widgets/base",
          "model_name": "LayoutModel",
          "model_module_version": "1.2.0",
          "state": {
            "_model_module": "@jupyter-widgets/base",
            "_model_module_version": "1.2.0",
            "_model_name": "LayoutModel",
            "_view_count": null,
            "_view_module": "@jupyter-widgets/base",
            "_view_module_version": "1.2.0",
            "_view_name": "LayoutView",
            "align_content": null,
            "align_items": null,
            "align_self": null,
            "border": null,
            "bottom": null,
            "display": null,
            "flex": null,
            "flex_flow": null,
            "grid_area": null,
            "grid_auto_columns": null,
            "grid_auto_flow": null,
            "grid_auto_rows": null,
            "grid_column": null,
            "grid_gap": null,
            "grid_row": null,
            "grid_template_areas": null,
            "grid_template_columns": null,
            "grid_template_rows": null,
            "height": null,
            "justify_content": null,
            "justify_items": null,
            "left": null,
            "margin": null,
            "max_height": null,
            "max_width": null,
            "min_height": null,
            "min_width": null,
            "object_fit": null,
            "object_position": null,
            "order": null,
            "overflow": null,
            "overflow_x": null,
            "overflow_y": null,
            "padding": null,
            "right": null,
            "top": null,
            "visibility": null,
            "width": null
          }
        },
        "3356b217659d4a2ea81b48201070f1c5": {
          "model_module": "@jupyter-widgets/controls",
          "model_name": "ButtonModel",
          "model_module_version": "1.5.0",
          "state": {
            "_dom_classes": [],
            "_model_module": "@jupyter-widgets/controls",
            "_model_module_version": "1.5.0",
            "_model_name": "ButtonModel",
            "_view_count": null,
            "_view_module": "@jupyter-widgets/controls",
            "_view_module_version": "1.5.0",
            "_view_name": "ButtonView",
            "button_style": "",
            "description": "..",
            "disabled": false,
            "icon": "",
            "layout": "IPY_MODEL_8c5cf561c3714fcdacf82bec0a66dbf2",
            "style": "IPY_MODEL_f113b6e08e44465299474d6a00685f49",
            "tooltip": ""
          }
        },
        "7694261cfa43466a94bc092276bf6d65": {
          "model_module": "@jupyter-widgets/controls",
          "model_name": "ButtonModel",
          "model_module_version": "1.5.0",
          "state": {
            "_dom_classes": [],
            "_model_module": "@jupyter-widgets/controls",
            "_model_module_version": "1.5.0",
            "_model_name": "ButtonModel",
            "_view_count": null,
            "_view_module": "@jupyter-widgets/controls",
            "_view_module_version": "1.5.0",
            "_view_name": "ButtonView",
            "button_style": "",
            "description": "Colab Notebooks",
            "disabled": false,
            "icon": "folder",
            "layout": "IPY_MODEL_8c5cf561c3714fcdacf82bec0a66dbf2",
            "style": "IPY_MODEL_8b51fa2765f9484ebea10ca25a2074e1",
            "tooltip": "Colab Notebooks"
          }
        },
        "2e46d4656fde40a487a58ca9d242550d": {
          "model_module": "@jupyter-widgets/controls",
          "model_name": "ButtonModel",
          "model_module_version": "1.5.0",
          "state": {
            "_dom_classes": [],
            "_model_module": "@jupyter-widgets/controls",
            "_model_module_version": "1.5.0",
            "_model_name": "ButtonModel",
            "_view_count": null,
            "_view_module": "@jupyter-widgets/controls",
            "_view_module_version": "1.5.0",
            "_view_name": "ButtonView",
            "button_style": "",
            "description": "predict_test",
            "disabled": false,
            "icon": "folder",
            "layout": "IPY_MODEL_8c5cf561c3714fcdacf82bec0a66dbf2",
            "style": "IPY_MODEL_8b51fa2765f9484ebea10ca25a2074e1",
            "tooltip": "predict_test"
          }
        },
        "04bfd297dab34f0d8f88ce044dfaa92e": {
          "model_module": "@jupyter-widgets/controls",
          "model_name": "ButtonModel",
          "model_module_version": "1.5.0",
          "state": {
            "_dom_classes": [],
            "_model_module": "@jupyter-widgets/controls",
            "_model_module_version": "1.5.0",
            "_model_name": "ButtonModel",
            "_view_count": null,
            "_view_module": "@jupyter-widgets/controls",
            "_view_module_version": "1.5.0",
            "_view_name": "ButtonView",
            "button_style": "",
            "description": "originals_training",
            "disabled": false,
            "icon": "folder",
            "layout": "IPY_MODEL_8c5cf561c3714fcdacf82bec0a66dbf2",
            "style": "IPY_MODEL_8b51fa2765f9484ebea10ca25a2074e1",
            "tooltip": "originals_training"
          }
        },
        "efd34a8e8cdd4436a95ae6b8833be468": {
          "model_module": "@jupyter-widgets/controls",
          "model_name": "ButtonModel",
          "model_module_version": "1.5.0",
          "state": {
            "_dom_classes": [],
            "_model_module": "@jupyter-widgets/controls",
            "_model_module_version": "1.5.0",
            "_model_name": "ButtonModel",
            "_view_count": null,
            "_view_module": "@jupyter-widgets/controls",
            "_view_module_version": "1.5.0",
            "_view_name": "ButtonView",
            "button_style": "",
            "description": "segmentation_training",
            "disabled": false,
            "icon": "folder",
            "layout": "IPY_MODEL_8c5cf561c3714fcdacf82bec0a66dbf2",
            "style": "IPY_MODEL_8b51fa2765f9484ebea10ca25a2074e1",
            "tooltip": "segmentation_training"
          }
        },
        "71691fd262254c398d2070399da40892": {
          "model_module": "@jupyter-widgets/controls",
          "model_name": "ButtonModel",
          "model_module_version": "1.5.0",
          "state": {
            "_dom_classes": [],
            "_model_module": "@jupyter-widgets/controls",
            "_model_module_version": "1.5.0",
            "_model_name": "ButtonModel",
            "_view_count": null,
            "_view_module": "@jupyter-widgets/controls",
            "_view_module_version": "1.5.0",
            "_view_name": "ButtonView",
            "button_style": "",
            "description": ".ipynb_checkpoints",
            "disabled": false,
            "icon": "folder",
            "layout": "IPY_MODEL_8c5cf561c3714fcdacf82bec0a66dbf2",
            "style": "IPY_MODEL_8b51fa2765f9484ebea10ca25a2074e1",
            "tooltip": ".ipynb_checkpoints"
          }
        },
        "aebed65d4ac44ac58a9f9a97a7d88698": {
          "model_module": "@jupyter-widgets/controls",
          "model_name": "ButtonModel",
          "model_module_version": "1.5.0",
          "state": {
            "_dom_classes": [],
            "_model_module": "@jupyter-widgets/controls",
            "_model_module_version": "1.5.0",
            "_model_name": "ButtonModel",
            "_view_count": null,
            "_view_module": "@jupyter-widgets/controls",
            "_view_module_version": "1.5.0",
            "_view_name": "ButtonView",
            "button_style": "",
            "description": "a_trier",
            "disabled": false,
            "icon": "folder",
            "layout": "IPY_MODEL_8c5cf561c3714fcdacf82bec0a66dbf2",
            "style": "IPY_MODEL_8b51fa2765f9484ebea10ca25a2074e1",
            "tooltip": "a_trier"
          }
        },
        "e5e78caab18e4bddbf783a064efa357f": {
          "model_module": "@jupyter-widgets/controls",
          "model_name": "ButtonModel",
          "model_module_version": "1.5.0",
          "state": {
            "_dom_classes": [],
            "_model_module": "@jupyter-widgets/controls",
            "_model_module_version": "1.5.0",
            "_model_name": "ButtonModel",
            "_view_count": null,
            "_view_module": "@jupyter-widgets/controls",
            "_view_module_version": "1.5.0",
            "_view_name": "ButtonView",
            "button_style": "",
            "description": "CARE",
            "disabled": false,
            "icon": "folder",
            "layout": "IPY_MODEL_8c5cf561c3714fcdacf82bec0a66dbf2",
            "style": "IPY_MODEL_8b51fa2765f9484ebea10ca25a2074e1",
            "tooltip": "CARE"
          }
        },
        "eaa64ce570c3426c85fe390d93bca0d9": {
          "model_module": "@jupyter-widgets/controls",
          "model_name": "ButtonModel",
          "model_module_version": "1.5.0",
          "state": {
            "_dom_classes": [],
            "_model_module": "@jupyter-widgets/controls",
            "_model_module_version": "1.5.0",
            "_model_name": "ButtonModel",
            "_view_count": null,
            "_view_module": "@jupyter-widgets/controls",
            "_view_module_version": "1.5.0",
            "_view_name": "ButtonView",
            "button_style": "",
            "description": "models",
            "disabled": false,
            "icon": "folder",
            "layout": "IPY_MODEL_8c5cf561c3714fcdacf82bec0a66dbf2",
            "style": "IPY_MODEL_8b51fa2765f9484ebea10ca25a2074e1",
            "tooltip": "models"
          }
        },
        "6902ad5ccb8f4712952e21508325baaa": {
          "model_module": "@jupyter-widgets/controls",
          "model_name": "ButtonModel",
          "model_module_version": "1.5.0",
          "state": {
            "_dom_classes": [],
            "_model_module": "@jupyter-widgets/controls",
            "_model_module_version": "1.5.0",
            "_model_name": "ButtonModel",
            "_view_count": null,
            "_view_module": "@jupyter-widgets/controls",
            "_view_module_version": "1.5.0",
            "_view_name": "ButtonView",
            "button_style": "",
            "description": "CARESEG3D_trained_models",
            "disabled": false,
            "icon": "folder",
            "layout": "IPY_MODEL_8c5cf561c3714fcdacf82bec0a66dbf2",
            "style": "IPY_MODEL_8b51fa2765f9484ebea10ca25a2074e1",
            "tooltip": "CARESEG3D_trained_models"
          }
        },
        "db833703d7f345aaa5e0893542e61810": {
          "model_module": "@jupyter-widgets/controls",
          "model_name": "ButtonModel",
          "model_module_version": "1.5.0",
          "state": {
            "_dom_classes": [],
            "_model_module": "@jupyter-widgets/controls",
            "_model_module_version": "1.5.0",
            "_model_name": "ButtonModel",
            "_view_count": null,
            "_view_module": "@jupyter-widgets/controls",
            "_view_module_version": "1.5.0",
            "_view_name": "ButtonView",
            "button_style": "",
            "description": "CARE_model",
            "disabled": false,
            "icon": "folder",
            "layout": "IPY_MODEL_8c5cf561c3714fcdacf82bec0a66dbf2",
            "style": "IPY_MODEL_8b51fa2765f9484ebea10ca25a2074e1",
            "tooltip": "CARE_model"
          }
        },
        "619e5ae40cec492f8ddddb9921102eb5": {
          "model_module": "@jupyter-widgets/controls",
          "model_name": "ButtonModel",
          "model_module_version": "1.5.0",
          "state": {
            "_dom_classes": [],
            "_model_module": "@jupyter-widgets/controls",
            "_model_module_version": "1.5.0",
            "_model_name": "ButtonModel",
            "_view_count": null,
            "_view_module": "@jupyter-widgets/controls",
            "_view_module_version": "1.5.0",
            "_view_name": "ButtonView",
            "button_style": "",
            "description": "CARESEG_Zroll",
            "disabled": false,
            "icon": "folder",
            "layout": "IPY_MODEL_8c5cf561c3714fcdacf82bec0a66dbf2",
            "style": "IPY_MODEL_8b51fa2765f9484ebea10ca25a2074e1",
            "tooltip": "CARESEG_Zroll"
          }
        },
        "a4190e7d10314ad59082d25a78d6146c": {
          "model_module": "@jupyter-widgets/controls",
          "model_name": "ButtonModel",
          "model_module_version": "1.5.0",
          "state": {
            "_dom_classes": [],
            "_model_module": "@jupyter-widgets/controls",
            "_model_module_version": "1.5.0",
            "_model_name": "ButtonModel",
            "_view_count": null,
            "_view_module": "@jupyter-widgets/controls",
            "_view_module_version": "1.5.0",
            "_view_name": "ButtonView",
            "button_style": "",
            "description": "CARESEG_shuffle_n_roll",
            "disabled": false,
            "icon": "folder",
            "layout": "IPY_MODEL_8c5cf561c3714fcdacf82bec0a66dbf2",
            "style": "IPY_MODEL_8b51fa2765f9484ebea10ca25a2074e1",
            "tooltip": "CARESEG_shuffle_n_roll"
          }
        },
        "f332645719dd4f93ad3c3d4fb6771276": {
          "model_module": "@jupyter-widgets/controls",
          "model_name": "ButtonModel",
          "model_module_version": "1.5.0",
          "state": {
            "_dom_classes": [],
            "_model_module": "@jupyter-widgets/controls",
            "_model_module_version": "1.5.0",
            "_model_name": "ButtonModel",
            "_view_count": null,
            "_view_module": "@jupyter-widgets/controls",
            "_view_module_version": "1.5.0",
            "_view_name": "ButtonView",
            "button_style": "",
            "description": "CARESEG_another_normal_training_201216",
            "disabled": false,
            "icon": "folder",
            "layout": "IPY_MODEL_8c5cf561c3714fcdacf82bec0a66dbf2",
            "style": "IPY_MODEL_8b51fa2765f9484ebea10ca25a2074e1",
            "tooltip": "CARESEG_another_normal_training_201216"
          }
        },
        "9189954133ce4eaa92a7bae8aada30fb": {
          "model_module": "@jupyter-widgets/controls",
          "model_name": "ButtonModel",
          "model_module_version": "1.5.0",
          "state": {
            "_dom_classes": [],
            "_model_module": "@jupyter-widgets/controls",
            "_model_module_version": "1.5.0",
            "_model_name": "ButtonModel",
            "_view_count": null,
            "_view_module": "@jupyter-widgets/controls",
            "_view_module_version": "1.5.0",
            "_view_name": "ButtonView",
            "button_style": "",
            "description": "epyseg_training",
            "disabled": false,
            "icon": "folder",
            "layout": "IPY_MODEL_8c5cf561c3714fcdacf82bec0a66dbf2",
            "style": "IPY_MODEL_8b51fa2765f9484ebea10ca25a2074e1",
            "tooltip": "epyseg_training"
          }
        },
        "ad341d6d63bb4be3989c8487d5c225db": {
          "model_module": "@jupyter-widgets/controls",
          "model_name": "ButtonModel",
          "model_module_version": "1.5.0",
          "state": {
            "_dom_classes": [],
            "_model_module": "@jupyter-widgets/controls",
            "_model_module_version": "1.5.0",
            "_model_name": "ButtonModel",
            "_view_count": null,
            "_view_module": "@jupyter-widgets/controls",
            "_view_module_version": "1.5.0",
            "_view_name": "ButtonView",
            "button_style": "",
            "description": "neurons_EM_had",
            "disabled": false,
            "icon": "folder",
            "layout": "IPY_MODEL_8c5cf561c3714fcdacf82bec0a66dbf2",
            "style": "IPY_MODEL_8b51fa2765f9484ebea10ca25a2074e1",
            "tooltip": "neurons_EM_had"
          }
        },
        "6eda948cf9734c42810c72f1061afd13": {
          "model_module": "@jupyter-widgets/controls",
          "model_name": "ButtonModel",
          "model_module_version": "1.5.0",
          "state": {
            "_dom_classes": [],
            "_model_module": "@jupyter-widgets/controls",
            "_model_module_version": "1.5.0",
            "_model_name": "ButtonModel",
            "_view_count": null,
            "_view_module": "@jupyter-widgets/controls",
            "_view_module_version": "1.5.0",
            "_view_name": "ButtonView",
            "button_style": "",
            "description": "test_mermaid",
            "disabled": false,
            "icon": "folder",
            "layout": "IPY_MODEL_8c5cf561c3714fcdacf82bec0a66dbf2",
            "style": "IPY_MODEL_8b51fa2765f9484ebea10ca25a2074e1",
            "tooltip": "test_mermaid"
          }
        },
        "faabbb51353a4314a7148bab7eacb192": {
          "model_module": "@jupyter-widgets/controls",
          "model_name": "ButtonModel",
          "model_module_version": "1.5.0",
          "state": {
            "_dom_classes": [],
            "_model_module": "@jupyter-widgets/controls",
            "_model_module_version": "1.5.0",
            "_model_name": "ButtonModel",
            "_view_count": null,
            "_view_module": "@jupyter-widgets/controls",
            "_view_module_version": "1.5.0",
            "_view_name": "ButtonView",
            "button_style": "",
            "description": "gut_images_tests",
            "disabled": false,
            "icon": "folder",
            "layout": "IPY_MODEL_8c5cf561c3714fcdacf82bec0a66dbf2",
            "style": "IPY_MODEL_8b51fa2765f9484ebea10ca25a2074e1",
            "tooltip": "gut_images_tests"
          }
        },
        "5e68184083bc437284df24ce92d3e75c": {
          "model_module": "@jupyter-widgets/controls",
          "model_name": "ButtonModel",
          "model_module_version": "1.5.0",
          "state": {
            "_dom_classes": [],
            "_model_module": "@jupyter-widgets/controls",
            "_model_module_version": "1.5.0",
            "_model_name": "ButtonModel",
            "_view_count": null,
            "_view_module": "@jupyter-widgets/controls",
            "_view_module_version": "1.5.0",
            "_view_name": "ButtonView",
            "button_style": "",
            "description": "linknet-vgg16-sigmoid.model",
            "disabled": false,
            "icon": "folder",
            "layout": "IPY_MODEL_8c5cf561c3714fcdacf82bec0a66dbf2",
            "style": "IPY_MODEL_8b51fa2765f9484ebea10ca25a2074e1",
            "tooltip": "linknet-vgg16-sigmoid.model"
          }
        },
        "2038a378607a45dd813a91820e982c80": {
          "model_module": "@jupyter-widgets/controls",
          "model_name": "ButtonModel",
          "model_module_version": "1.5.0",
          "state": {
            "_dom_classes": [],
            "_model_module": "@jupyter-widgets/controls",
            "_model_module_version": "1.5.0",
            "_model_name": "ButtonModel",
            "_view_count": null,
            "_view_module": "@jupyter-widgets/controls",
            "_view_module_version": "1.5.0",
            "_view_name": "ButtonView",
            "button_style": "",
            "description": "Linknet-vgg16-sigmoid-pretrained.model",
            "disabled": false,
            "icon": "folder",
            "layout": "IPY_MODEL_8c5cf561c3714fcdacf82bec0a66dbf2",
            "style": "IPY_MODEL_8b51fa2765f9484ebea10ca25a2074e1",
            "tooltip": "Linknet-vgg16-sigmoid-pretrained.model"
          }
        },
        "8bdcc41cf9cf4665b1ccbb5b61c057e4": {
          "model_module": "@jupyter-widgets/base",
          "model_name": "LayoutModel",
          "model_module_version": "1.2.0",
          "state": {
            "_model_module": "@jupyter-widgets/base",
            "_model_module_version": "1.2.0",
            "_model_name": "LayoutModel",
            "_view_count": null,
            "_view_module": "@jupyter-widgets/base",
            "_view_module_version": "1.2.0",
            "_view_name": "LayoutView",
            "align_content": null,
            "align_items": "flex-start",
            "align_self": null,
            "border": "1px solid black",
            "bottom": null,
            "display": "flex",
            "flex": null,
            "flex_flow": "column wrap",
            "grid_area": null,
            "grid_auto_columns": null,
            "grid_auto_flow": null,
            "grid_auto_rows": null,
            "grid_column": null,
            "grid_gap": null,
            "grid_row": null,
            "grid_template_areas": null,
            "grid_template_columns": null,
            "grid_template_rows": null,
            "height": "200px",
            "justify_content": null,
            "justify_items": null,
            "left": null,
            "margin": null,
            "max_height": null,
            "max_width": null,
            "min_height": null,
            "min_width": null,
            "object_fit": null,
            "object_position": null,
            "order": null,
            "overflow": "scroll",
            "overflow_x": null,
            "overflow_y": null,
            "padding": null,
            "right": null,
            "top": null,
            "visibility": null,
            "width": "auto"
          }
        },
        "f44f8f0614b84e7fbddd33ae5e06afb8": {
          "model_module": "@jupyter-widgets/base",
          "model_name": "LayoutModel",
          "model_module_version": "1.2.0",
          "state": {
            "_model_module": "@jupyter-widgets/base",
            "_model_module_version": "1.2.0",
            "_model_name": "LayoutModel",
            "_view_count": null,
            "_view_module": "@jupyter-widgets/base",
            "_view_module_version": "1.2.0",
            "_view_name": "LayoutView",
            "align_content": null,
            "align_items": null,
            "align_self": null,
            "border": null,
            "bottom": null,
            "display": null,
            "flex": null,
            "flex_flow": null,
            "grid_area": null,
            "grid_auto_columns": null,
            "grid_auto_flow": null,
            "grid_auto_rows": null,
            "grid_column": null,
            "grid_gap": null,
            "grid_row": null,
            "grid_template_areas": null,
            "grid_template_columns": null,
            "grid_template_rows": null,
            "height": null,
            "justify_content": null,
            "justify_items": null,
            "left": null,
            "margin": null,
            "max_height": null,
            "max_width": null,
            "min_height": null,
            "min_width": null,
            "object_fit": null,
            "object_position": null,
            "order": null,
            "overflow": null,
            "overflow_x": null,
            "overflow_y": null,
            "padding": null,
            "right": null,
            "top": null,
            "visibility": null,
            "width": null
          }
        },
        "9854f5afdb7f4c2c9ae28956009d547d": {
          "model_module": "@jupyter-widgets/controls",
          "model_name": "DescriptionStyleModel",
          "model_module_version": "1.5.0",
          "state": {
            "_model_module": "@jupyter-widgets/controls",
            "_model_module_version": "1.5.0",
            "_model_name": "DescriptionStyleModel",
            "_view_count": null,
            "_view_module": "@jupyter-widgets/base",
            "_view_module_version": "1.2.0",
            "_view_name": "StyleView",
            "description_width": ""
          }
        },
        "8c5cf561c3714fcdacf82bec0a66dbf2": {
          "model_module": "@jupyter-widgets/base",
          "model_name": "LayoutModel",
          "model_module_version": "1.2.0",
          "state": {
            "_model_module": "@jupyter-widgets/base",
            "_model_module_version": "1.2.0",
            "_model_name": "LayoutModel",
            "_view_count": null,
            "_view_module": "@jupyter-widgets/base",
            "_view_module_version": "1.2.0",
            "_view_name": "LayoutView",
            "align_content": null,
            "align_items": null,
            "align_self": null,
            "border": null,
            "bottom": null,
            "display": null,
            "flex": null,
            "flex_flow": null,
            "grid_area": null,
            "grid_auto_columns": null,
            "grid_auto_flow": null,
            "grid_auto_rows": null,
            "grid_column": null,
            "grid_gap": null,
            "grid_row": null,
            "grid_template_areas": null,
            "grid_template_columns": null,
            "grid_template_rows": null,
            "height": "auto",
            "justify_content": null,
            "justify_items": null,
            "left": "0px",
            "margin": null,
            "max_height": null,
            "max_width": null,
            "min_height": null,
            "min_width": null,
            "object_fit": null,
            "object_position": null,
            "order": null,
            "overflow": null,
            "overflow_x": null,
            "overflow_y": null,
            "padding": null,
            "right": null,
            "top": null,
            "visibility": null,
            "width": "auto"
          }
        },
        "f113b6e08e44465299474d6a00685f49": {
          "model_module": "@jupyter-widgets/controls",
          "model_name": "ButtonStyleModel",
          "model_module_version": "1.5.0",
          "state": {
            "_model_module": "@jupyter-widgets/controls",
            "_model_module_version": "1.5.0",
            "_model_name": "ButtonStyleModel",
            "_view_count": null,
            "_view_module": "@jupyter-widgets/base",
            "_view_module_version": "1.2.0",
            "_view_name": "StyleView",
            "button_color": "lightblue",
            "font_weight": ""
          }
        },
        "8b51fa2765f9484ebea10ca25a2074e1": {
          "model_module": "@jupyter-widgets/controls",
          "model_name": "ButtonStyleModel",
          "model_module_version": "1.5.0",
          "state": {
            "_model_module": "@jupyter-widgets/controls",
            "_model_module_version": "1.5.0",
            "_model_name": "ButtonStyleModel",
            "_view_count": null,
            "_view_module": "@jupyter-widgets/base",
            "_view_module_version": "1.2.0",
            "_view_name": "StyleView",
            "button_color": "lightgray",
            "font_weight": ""
          }
        },
        "69c7803043a54c69869856dcee9608f8": {
          "model_module": "@jupyter-widgets/controls",
          "model_name": "VBoxModel",
          "model_module_version": "1.5.0",
          "state": {
            "_dom_classes": [],
            "_model_module": "@jupyter-widgets/controls",
            "_model_module_version": "1.5.0",
            "_model_name": "VBoxModel",
            "_view_count": null,
            "_view_module": "@jupyter-widgets/controls",
            "_view_module_version": "1.5.0",
            "_view_name": "VBoxView",
            "box_style": "",
            "children": [
              "IPY_MODEL_4adf5b85cb8745eab88195ed30f4d21b",
              "IPY_MODEL_9aca61a967e14564a5cf9a66994482bd",
              "IPY_MODEL_b189e9f53dfc414b9534e28365c997c5",
              "IPY_MODEL_4135abb859f84cd799c80eff08132600",
              "IPY_MODEL_32a45a9ef28e473e80749f5d135bf8b9",
              "IPY_MODEL_54920d1c484d47eabd064c62fbe5daa4",
              "IPY_MODEL_ec195dd863f048588a5436f2d86ac0d0",
              "IPY_MODEL_79e5983c24fb4bb494b46f800b6c328f"
            ],
            "layout": "IPY_MODEL_1b46658f3e6840ed8a3eee25898ec1f4"
          }
        },
        "4adf5b85cb8745eab88195ed30f4d21b": {
          "model_module": "@jupyter-widgets/controls",
          "model_name": "LabelModel",
          "model_module_version": "1.5.0",
          "state": {
            "_dom_classes": [],
            "_model_module": "@jupyter-widgets/controls",
            "_model_module_version": "1.5.0",
            "_model_name": "LabelModel",
            "_view_count": null,
            "_view_module": "@jupyter-widgets/controls",
            "_view_module_version": "1.5.0",
            "_view_name": "LabelView",
            "description": "",
            "description_tooltip": null,
            "layout": "IPY_MODEL_ac88a60b5675421a850ce26ca44930b2",
            "placeholder": "​",
            "style": "IPY_MODEL_3b9921fec35d44ed81ae3e771286260c",
            "value": "If you don't know what to do, just leave pamaters unchanged and move on to next step."
          }
        },
        "9aca61a967e14564a5cf9a66994482bd": {
          "model_module": "@jupyter-widgets/controls",
          "model_name": "HBoxModel",
          "model_module_version": "1.5.0",
          "state": {
            "_dom_classes": [],
            "_model_module": "@jupyter-widgets/controls",
            "_model_module_version": "1.5.0",
            "_model_name": "HBoxModel",
            "_view_count": null,
            "_view_module": "@jupyter-widgets/controls",
            "_view_module_version": "1.5.0",
            "_view_name": "HBoxView",
            "box_style": "",
            "children": [
              "IPY_MODEL_d1d5cf1ece924532ae712249ce5d1a7f",
              "IPY_MODEL_72cdbdf25af14a9cbec12aa5955a9069"
            ],
            "layout": "IPY_MODEL_7bf3e1f05d1d49e5b0c5899803c49d53"
          }
        },
        "b189e9f53dfc414b9534e28365c997c5": {
          "model_module": "@jupyter-widgets/controls",
          "model_name": "DropdownModel",
          "model_module_version": "1.5.0",
          "state": {
            "_dom_classes": [],
            "_model_module": "@jupyter-widgets/controls",
            "_model_module_version": "1.5.0",
            "_model_name": "DropdownModel",
            "_options_labels": [
              "0",
              "1",
              "2"
            ],
            "_view_count": null,
            "_view_module": "@jupyter-widgets/controls",
            "_view_module_version": "1.5.0",
            "_view_name": "DropdownView",
            "description": "Channel of interest (COI)",
            "description_tooltip": null,
            "disabled": false,
            "index": 0,
            "layout": "IPY_MODEL_d36fd41e9eb846ca92ed6a37ef324c53",
            "style": "IPY_MODEL_e5d82781cbe544e4a3d0c74471d009d7"
          }
        },
        "4135abb859f84cd799c80eff08132600": {
          "model_module": "@jupyter-widgets/controls",
          "model_name": "DropdownModel",
          "model_module_version": "1.5.0",
          "state": {
            "_dom_classes": [],
            "_model_module": "@jupyter-widgets/controls",
            "_model_module_version": "1.5.0",
            "_model_name": "DropdownModel",
            "_options_labels": [
              "copy the COI to all available channels",
              "force copy the COI to all available channels even if nb of channels is ok",
              "remove extra channels"
            ],
            "_view_count": null,
            "_view_module": "@jupyter-widgets/controls",
            "_view_module_version": "1.5.0",
            "_view_name": "DropdownView",
            "description": "Rule to reduce nb of channels (if needed)",
            "description_tooltip": null,
            "disabled": false,
            "index": 0,
            "layout": "IPY_MODEL_8c9a1f6c84b141779f895280e1b9b2f1",
            "style": "IPY_MODEL_1182f63969764c6d850b907c60659530"
          }
        },
        "32a45a9ef28e473e80749f5d135bf8b9": {
          "model_module": "@jupyter-widgets/controls",
          "model_name": "DropdownModel",
          "model_module_version": "1.5.0",
          "state": {
            "_dom_classes": [],
            "_model_module": "@jupyter-widgets/controls",
            "_model_module_version": "1.5.0",
            "_model_name": "DropdownModel",
            "_options_labels": [
              "copy the COI to all channels",
              "force copy the COI to all available channels even if nb of channels is ok",
              "copy the COI to missing channels only",
              "add empty channels (0 filled)"
            ],
            "_view_count": null,
            "_view_module": "@jupyter-widgets/controls",
            "_view_module_version": "1.5.0",
            "_view_name": "DropdownView",
            "description": "Rule to increase nb of channels (if needed)",
            "description_tooltip": null,
            "disabled": false,
            "index": 0,
            "layout": "IPY_MODEL_fd7a8bc817d249bfa00559868bccd037",
            "style": "IPY_MODEL_7401b210bf8c4003b1920be19d6358e8"
          }
        },
        "54920d1c484d47eabd064c62fbe5daa4": {
          "model_module": "@jupyter-widgets/controls",
          "model_name": "HBoxModel",
          "model_module_version": "1.5.0",
          "state": {
            "_dom_classes": [],
            "_model_module": "@jupyter-widgets/controls",
            "_model_module_version": "1.5.0",
            "_model_name": "HBoxModel",
            "_view_count": null,
            "_view_module": "@jupyter-widgets/controls",
            "_view_module_version": "1.5.0",
            "_view_name": "HBoxView",
            "box_style": "",
            "children": [
              "IPY_MODEL_96b23ab062e8433d81729b4f8a97da2f",
              "IPY_MODEL_22af9f57aafe4286873c2d5007b1ebca",
              "IPY_MODEL_afbb6536ba68492d952e8f439327e055"
            ],
            "layout": "IPY_MODEL_246e379a38184a22bd2949c016c7116d"
          }
        },
        "ec195dd863f048588a5436f2d86ac0d0": {
          "model_module": "@jupyter-widgets/controls",
          "model_name": "HBoxModel",
          "model_module_version": "1.5.0",
          "state": {
            "_dom_classes": [],
            "_model_module": "@jupyter-widgets/controls",
            "_model_module_version": "1.5.0",
            "_model_name": "HBoxModel",
            "_view_count": null,
            "_view_module": "@jupyter-widgets/controls",
            "_view_module_version": "1.5.0",
            "_view_name": "HBoxView",
            "box_style": "",
            "children": [
              "IPY_MODEL_996bbe4ae8c643b28e731b58005533a6",
              "IPY_MODEL_efe6bc8049a0482b9cf3a6918f8ebf26",
              "IPY_MODEL_9a91e1e2ee1b44cc8b6119521fc46a72"
            ],
            "layout": "IPY_MODEL_896be89ec985414dae68d479dd5cf23c"
          }
        },
        "79e5983c24fb4bb494b46f800b6c328f": {
          "model_module": "@jupyter-widgets/controls",
          "model_name": "CheckboxModel",
          "model_module_version": "1.5.0",
          "state": {
            "_dom_classes": [],
            "_model_module": "@jupyter-widgets/controls",
            "_model_module_version": "1.5.0",
            "_model_name": "CheckboxModel",
            "_view_count": null,
            "_view_module": "@jupyter-widgets/controls",
            "_view_module_version": "1.5.0",
            "_view_name": "CheckboxView",
            "description": "Negative/invert intensity",
            "description_tooltip": null,
            "disabled": false,
            "indent": true,
            "layout": "IPY_MODEL_c90246ce2ae3492a8821fb7d36661a25",
            "style": "IPY_MODEL_46bdf3f1791747d4907ecb74fdb131dc",
            "value": false
          }
        },
        "1b46658f3e6840ed8a3eee25898ec1f4": {
          "model_module": "@jupyter-widgets/base",
          "model_name": "LayoutModel",
          "model_module_version": "1.2.0",
          "state": {
            "_model_module": "@jupyter-widgets/base",
            "_model_module_version": "1.2.0",
            "_model_name": "LayoutModel",
            "_view_count": null,
            "_view_module": "@jupyter-widgets/base",
            "_view_module_version": "1.2.0",
            "_view_name": "LayoutView",
            "align_content": null,
            "align_items": null,
            "align_self": null,
            "border": null,
            "bottom": null,
            "display": null,
            "flex": null,
            "flex_flow": null,
            "grid_area": null,
            "grid_auto_columns": null,
            "grid_auto_flow": null,
            "grid_auto_rows": null,
            "grid_column": null,
            "grid_gap": null,
            "grid_row": null,
            "grid_template_areas": null,
            "grid_template_columns": null,
            "grid_template_rows": null,
            "height": null,
            "justify_content": null,
            "justify_items": null,
            "left": null,
            "margin": null,
            "max_height": null,
            "max_width": null,
            "min_height": null,
            "min_width": null,
            "object_fit": null,
            "object_position": null,
            "order": null,
            "overflow": null,
            "overflow_x": null,
            "overflow_y": null,
            "padding": null,
            "right": null,
            "top": null,
            "visibility": null,
            "width": null
          }
        },
        "ac88a60b5675421a850ce26ca44930b2": {
          "model_module": "@jupyter-widgets/base",
          "model_name": "LayoutModel",
          "model_module_version": "1.2.0",
          "state": {
            "_model_module": "@jupyter-widgets/base",
            "_model_module_version": "1.2.0",
            "_model_name": "LayoutModel",
            "_view_count": null,
            "_view_module": "@jupyter-widgets/base",
            "_view_module_version": "1.2.0",
            "_view_name": "LayoutView",
            "align_content": null,
            "align_items": null,
            "align_self": null,
            "border": null,
            "bottom": null,
            "display": null,
            "flex": null,
            "flex_flow": null,
            "grid_area": null,
            "grid_auto_columns": null,
            "grid_auto_flow": null,
            "grid_auto_rows": null,
            "grid_column": null,
            "grid_gap": null,
            "grid_row": null,
            "grid_template_areas": null,
            "grid_template_columns": null,
            "grid_template_rows": null,
            "height": null,
            "justify_content": null,
            "justify_items": null,
            "left": null,
            "margin": null,
            "max_height": null,
            "max_width": null,
            "min_height": null,
            "min_width": null,
            "object_fit": null,
            "object_position": null,
            "order": null,
            "overflow": null,
            "overflow_x": null,
            "overflow_y": null,
            "padding": null,
            "right": null,
            "top": null,
            "visibility": null,
            "width": null
          }
        },
        "3b9921fec35d44ed81ae3e771286260c": {
          "model_module": "@jupyter-widgets/controls",
          "model_name": "DescriptionStyleModel",
          "model_module_version": "1.5.0",
          "state": {
            "_model_module": "@jupyter-widgets/controls",
            "_model_module_version": "1.5.0",
            "_model_name": "DescriptionStyleModel",
            "_view_count": null,
            "_view_module": "@jupyter-widgets/base",
            "_view_module_version": "1.2.0",
            "_view_name": "StyleView",
            "description_width": ""
          }
        },
        "d1d5cf1ece924532ae712249ce5d1a7f": {
          "model_module": "@jupyter-widgets/controls",
          "model_name": "DropdownModel",
          "model_module_version": "1.5.0",
          "state": {
            "_dom_classes": [],
            "_model_module": "@jupyter-widgets/controls",
            "_model_module_version": "1.5.0",
            "_model_name": "DropdownModel",
            "_options_labels": [
              "ignore outliers",
              "+",
              "+/-",
              "-"
            ],
            "_view_count": null,
            "_view_module": "@jupyter-widgets/controls",
            "_view_module_version": "1.5.0",
            "_view_name": "DropdownView",
            "description": "clip intensity",
            "description_tooltip": null,
            "disabled": false,
            "index": 0,
            "layout": "IPY_MODEL_a06b1787a50b459bb8efb5c64cb82775",
            "style": "IPY_MODEL_95ca6f4fcf8346d8b61b242630edac38"
          }
        },
        "72cdbdf25af14a9cbec12aa5955a9069": {
          "model_module": "@jupyter-widgets/controls",
          "model_name": "FloatSliderModel",
          "model_module_version": "1.5.0",
          "state": {
            "_dom_classes": [],
            "_model_module": "@jupyter-widgets/controls",
            "_model_module_version": "1.5.0",
            "_model_name": "FloatSliderModel",
            "_view_count": null,
            "_view_module": "@jupyter-widgets/controls",
            "_view_module_version": "1.5.0",
            "_view_name": "FloatSliderView",
            "continuous_update": true,
            "description": "range (clipping)",
            "description_tooltip": null,
            "disabled": false,
            "layout": "IPY_MODEL_7692e2f3858d45beabe4acbee145d77e",
            "max": 0.3,
            "min": 0,
            "orientation": "horizontal",
            "readout": true,
            "readout_format": ".2f",
            "step": 0.001,
            "style": "IPY_MODEL_c4ba6db967a0438c81c4e93b266abf84",
            "value": 0.005
          }
        },
        "7bf3e1f05d1d49e5b0c5899803c49d53": {
          "model_module": "@jupyter-widgets/base",
          "model_name": "LayoutModel",
          "model_module_version": "1.2.0",
          "state": {
            "_model_module": "@jupyter-widgets/base",
            "_model_module_version": "1.2.0",
            "_model_name": "LayoutModel",
            "_view_count": null,
            "_view_module": "@jupyter-widgets/base",
            "_view_module_version": "1.2.0",
            "_view_name": "LayoutView",
            "align_content": null,
            "align_items": null,
            "align_self": null,
            "border": null,
            "bottom": null,
            "display": null,
            "flex": null,
            "flex_flow": null,
            "grid_area": null,
            "grid_auto_columns": null,
            "grid_auto_flow": null,
            "grid_auto_rows": null,
            "grid_column": null,
            "grid_gap": null,
            "grid_row": null,
            "grid_template_areas": null,
            "grid_template_columns": null,
            "grid_template_rows": null,
            "height": null,
            "justify_content": null,
            "justify_items": null,
            "left": null,
            "margin": null,
            "max_height": null,
            "max_width": null,
            "min_height": null,
            "min_width": null,
            "object_fit": null,
            "object_position": null,
            "order": null,
            "overflow": null,
            "overflow_x": null,
            "overflow_y": null,
            "padding": null,
            "right": null,
            "top": null,
            "visibility": null,
            "width": null
          }
        },
        "d36fd41e9eb846ca92ed6a37ef324c53": {
          "model_module": "@jupyter-widgets/base",
          "model_name": "LayoutModel",
          "model_module_version": "1.2.0",
          "state": {
            "_model_module": "@jupyter-widgets/base",
            "_model_module_version": "1.2.0",
            "_model_name": "LayoutModel",
            "_view_count": null,
            "_view_module": "@jupyter-widgets/base",
            "_view_module_version": "1.2.0",
            "_view_name": "LayoutView",
            "align_content": null,
            "align_items": null,
            "align_self": null,
            "border": null,
            "bottom": null,
            "display": null,
            "flex": null,
            "flex_flow": null,
            "grid_area": null,
            "grid_auto_columns": null,
            "grid_auto_flow": null,
            "grid_auto_rows": null,
            "grid_column": null,
            "grid_gap": null,
            "grid_row": null,
            "grid_template_areas": null,
            "grid_template_columns": null,
            "grid_template_rows": null,
            "height": null,
            "justify_content": null,
            "justify_items": null,
            "left": null,
            "margin": null,
            "max_height": null,
            "max_width": null,
            "min_height": null,
            "min_width": null,
            "object_fit": null,
            "object_position": null,
            "order": null,
            "overflow": null,
            "overflow_x": null,
            "overflow_y": null,
            "padding": null,
            "right": null,
            "top": null,
            "visibility": null,
            "width": "max-content"
          }
        },
        "e5d82781cbe544e4a3d0c74471d009d7": {
          "model_module": "@jupyter-widgets/controls",
          "model_name": "DescriptionStyleModel",
          "model_module_version": "1.5.0",
          "state": {
            "_model_module": "@jupyter-widgets/controls",
            "_model_module_version": "1.5.0",
            "_model_name": "DescriptionStyleModel",
            "_view_count": null,
            "_view_module": "@jupyter-widgets/base",
            "_view_module_version": "1.2.0",
            "_view_name": "StyleView",
            "description_width": "initial"
          }
        },
        "8c9a1f6c84b141779f895280e1b9b2f1": {
          "model_module": "@jupyter-widgets/base",
          "model_name": "LayoutModel",
          "model_module_version": "1.2.0",
          "state": {
            "_model_module": "@jupyter-widgets/base",
            "_model_module_version": "1.2.0",
            "_model_name": "LayoutModel",
            "_view_count": null,
            "_view_module": "@jupyter-widgets/base",
            "_view_module_version": "1.2.0",
            "_view_name": "LayoutView",
            "align_content": null,
            "align_items": null,
            "align_self": null,
            "border": null,
            "bottom": null,
            "display": null,
            "flex": null,
            "flex_flow": null,
            "grid_area": null,
            "grid_auto_columns": null,
            "grid_auto_flow": null,
            "grid_auto_rows": null,
            "grid_column": null,
            "grid_gap": null,
            "grid_row": null,
            "grid_template_areas": null,
            "grid_template_columns": null,
            "grid_template_rows": null,
            "height": null,
            "justify_content": null,
            "justify_items": null,
            "left": null,
            "margin": null,
            "max_height": null,
            "max_width": null,
            "min_height": null,
            "min_width": null,
            "object_fit": null,
            "object_position": null,
            "order": null,
            "overflow": null,
            "overflow_x": null,
            "overflow_y": null,
            "padding": null,
            "right": null,
            "top": null,
            "visibility": null,
            "width": "max-content"
          }
        },
        "1182f63969764c6d850b907c60659530": {
          "model_module": "@jupyter-widgets/controls",
          "model_name": "DescriptionStyleModel",
          "model_module_version": "1.5.0",
          "state": {
            "_model_module": "@jupyter-widgets/controls",
            "_model_module_version": "1.5.0",
            "_model_name": "DescriptionStyleModel",
            "_view_count": null,
            "_view_module": "@jupyter-widgets/base",
            "_view_module_version": "1.2.0",
            "_view_name": "StyleView",
            "description_width": "initial"
          }
        },
        "fd7a8bc817d249bfa00559868bccd037": {
          "model_module": "@jupyter-widgets/base",
          "model_name": "LayoutModel",
          "model_module_version": "1.2.0",
          "state": {
            "_model_module": "@jupyter-widgets/base",
            "_model_module_version": "1.2.0",
            "_model_name": "LayoutModel",
            "_view_count": null,
            "_view_module": "@jupyter-widgets/base",
            "_view_module_version": "1.2.0",
            "_view_name": "LayoutView",
            "align_content": null,
            "align_items": null,
            "align_self": null,
            "border": null,
            "bottom": null,
            "display": null,
            "flex": null,
            "flex_flow": null,
            "grid_area": null,
            "grid_auto_columns": null,
            "grid_auto_flow": null,
            "grid_auto_rows": null,
            "grid_column": null,
            "grid_gap": null,
            "grid_row": null,
            "grid_template_areas": null,
            "grid_template_columns": null,
            "grid_template_rows": null,
            "height": null,
            "justify_content": null,
            "justify_items": null,
            "left": null,
            "margin": null,
            "max_height": null,
            "max_width": null,
            "min_height": null,
            "min_width": null,
            "object_fit": null,
            "object_position": null,
            "order": null,
            "overflow": null,
            "overflow_x": null,
            "overflow_y": null,
            "padding": null,
            "right": null,
            "top": null,
            "visibility": null,
            "width": "max-content"
          }
        },
        "7401b210bf8c4003b1920be19d6358e8": {
          "model_module": "@jupyter-widgets/controls",
          "model_name": "DescriptionStyleModel",
          "model_module_version": "1.5.0",
          "state": {
            "_model_module": "@jupyter-widgets/controls",
            "_model_module_version": "1.5.0",
            "_model_name": "DescriptionStyleModel",
            "_view_count": null,
            "_view_module": "@jupyter-widgets/base",
            "_view_module_version": "1.2.0",
            "_view_name": "StyleView",
            "description_width": "initial"
          }
        },
        "96b23ab062e8433d81729b4f8a97da2f": {
          "model_module": "@jupyter-widgets/controls",
          "model_name": "DropdownModel",
          "model_module_version": "1.5.0",
          "state": {
            "_dom_classes": [],
            "_model_module": "@jupyter-widgets/controls",
            "_model_module_version": "1.5.0",
            "_model_name": "DropdownModel",
            "_options_labels": [
              "Rescaling (min-max normalization)",
              "Standardization (Z-score Normalization)",
              "Mean normalization",
              "Max normalization (auto)",
              "Max normalization (x/255)",
              "Max normalization (x/4095)",
              "Max normalization (x/65535)",
              "Rescaling based on defined lower and upper percentiles",
              "None"
            ],
            "_view_count": null,
            "_view_module": "@jupyter-widgets/controls",
            "_view_module_version": "1.5.0",
            "_view_name": "DropdownView",
            "description": "Normalization method",
            "description_tooltip": null,
            "disabled": false,
            "index": 0,
            "layout": "IPY_MODEL_dae7fe7544064156a7b6013b55f9c7d2",
            "style": "IPY_MODEL_53b65eb5f280481ea0068f664400dfac"
          }
        },
        "22af9f57aafe4286873c2d5007b1ebca": {
          "model_module": "@jupyter-widgets/controls",
          "model_name": "DropdownModel",
          "model_module_version": "1.5.0",
          "state": {
            "_dom_classes": [],
            "_model_module": "@jupyter-widgets/controls",
            "_model_module_version": "1.5.0",
            "_model_name": "DropdownModel",
            "_options_labels": [
              "[0, 1]",
              "[-1, 1]"
            ],
            "_view_count": null,
            "_view_module": "@jupyter-widgets/controls",
            "_view_module_version": "1.5.0",
            "_view_name": "DropdownView",
            "description": "Normalization range",
            "description_tooltip": null,
            "disabled": false,
            "index": 0,
            "layout": "IPY_MODEL_54ed07837b44403cb6c4038a3ce67a3f",
            "style": "IPY_MODEL_bc03f63bea5e48e0a48a3736e1e81b7c"
          }
        },
        "afbb6536ba68492d952e8f439327e055": {
          "model_module": "@jupyter-widgets/controls",
          "model_name": "CheckboxModel",
          "model_module_version": "1.5.0",
          "state": {
            "_dom_classes": [],
            "_model_module": "@jupyter-widgets/controls",
            "_model_module_version": "1.5.0",
            "_model_name": "CheckboxModel",
            "_view_count": null,
            "_view_module": "@jupyter-widgets/controls",
            "_view_module_version": "1.5.0",
            "_view_name": "CheckboxView",
            "description": "Per channel normalization",
            "description_tooltip": null,
            "disabled": false,
            "indent": true,
            "layout": "IPY_MODEL_d4e158454de045a9ba96c58c3b31f047",
            "style": "IPY_MODEL_324dcca2feb049cb86aa63f9fe4bdb44",
            "value": true
          }
        },
        "246e379a38184a22bd2949c016c7116d": {
          "model_module": "@jupyter-widgets/base",
          "model_name": "LayoutModel",
          "model_module_version": "1.2.0",
          "state": {
            "_model_module": "@jupyter-widgets/base",
            "_model_module_version": "1.2.0",
            "_model_name": "LayoutModel",
            "_view_count": null,
            "_view_module": "@jupyter-widgets/base",
            "_view_module_version": "1.2.0",
            "_view_name": "LayoutView",
            "align_content": null,
            "align_items": null,
            "align_self": null,
            "border": null,
            "bottom": null,
            "display": null,
            "flex": null,
            "flex_flow": null,
            "grid_area": null,
            "grid_auto_columns": null,
            "grid_auto_flow": null,
            "grid_auto_rows": null,
            "grid_column": null,
            "grid_gap": null,
            "grid_row": null,
            "grid_template_areas": null,
            "grid_template_columns": null,
            "grid_template_rows": null,
            "height": null,
            "justify_content": null,
            "justify_items": null,
            "left": null,
            "margin": null,
            "max_height": null,
            "max_width": null,
            "min_height": null,
            "min_width": null,
            "object_fit": null,
            "object_position": null,
            "order": null,
            "overflow": null,
            "overflow_x": null,
            "overflow_y": null,
            "padding": null,
            "right": null,
            "top": null,
            "visibility": null,
            "width": null
          }
        },
        "996bbe4ae8c643b28e731b58005533a6": {
          "model_module": "@jupyter-widgets/controls",
          "model_name": "FloatSliderModel",
          "model_module_version": "1.5.0",
          "state": {
            "_dom_classes": [],
            "_model_module": "@jupyter-widgets/controls",
            "_model_module_version": "1.5.0",
            "_model_name": "FloatSliderModel",
            "_view_count": null,
            "_view_module": "@jupyter-widgets/controls",
            "_view_module_version": "1.5.0",
            "_view_name": "FloatSliderView",
            "continuous_update": true,
            "description": "min percentile",
            "description_tooltip": null,
            "disabled": false,
            "layout": "IPY_MODEL_45be6ea09ffb4ee9bc846b12d7cf9e35",
            "max": 30,
            "min": 0,
            "orientation": "horizontal",
            "readout": true,
            "readout_format": ".2f",
            "step": 0.1,
            "style": "IPY_MODEL_2162a533ca134765b364c70174d8efbc",
            "value": 2
          }
        },
        "efe6bc8049a0482b9cf3a6918f8ebf26": {
          "model_module": "@jupyter-widgets/controls",
          "model_name": "FloatSliderModel",
          "model_module_version": "1.5.0",
          "state": {
            "_dom_classes": [],
            "_model_module": "@jupyter-widgets/controls",
            "_model_module_version": "1.5.0",
            "_model_name": "FloatSliderModel",
            "_view_count": null,
            "_view_module": "@jupyter-widgets/controls",
            "_view_module_version": "1.5.0",
            "_view_name": "FloatSliderView",
            "continuous_update": true,
            "description": "max percentile",
            "description_tooltip": null,
            "disabled": false,
            "layout": "IPY_MODEL_b64887b61c924770bd84831e51e3e143",
            "max": 100,
            "min": 70,
            "orientation": "horizontal",
            "readout": true,
            "readout_format": ".2f",
            "step": 0.1,
            "style": "IPY_MODEL_cfd8769404bb4568a7b60e5ba630bdae",
            "value": 99.8
          }
        },
        "9a91e1e2ee1b44cc8b6119521fc46a72": {
          "model_module": "@jupyter-widgets/controls",
          "model_name": "CheckboxModel",
          "model_module_version": "1.5.0",
          "state": {
            "_dom_classes": [],
            "_model_module": "@jupyter-widgets/controls",
            "_model_module_version": "1.5.0",
            "_model_name": "CheckboxModel",
            "_view_count": null,
            "_view_module": "@jupyter-widgets/controls",
            "_view_module_version": "1.5.0",
            "_view_name": "CheckboxView",
            "description": "Clip",
            "description_tooltip": null,
            "disabled": false,
            "indent": false,
            "layout": "IPY_MODEL_d355be5edb9e4265961931fbb3b3f00b",
            "style": "IPY_MODEL_9f51c024fb0e49d493e5465b4813ff5e",
            "value": false
          }
        },
        "896be89ec985414dae68d479dd5cf23c": {
          "model_module": "@jupyter-widgets/base",
          "model_name": "LayoutModel",
          "model_module_version": "1.2.0",
          "state": {
            "_model_module": "@jupyter-widgets/base",
            "_model_module_version": "1.2.0",
            "_model_name": "LayoutModel",
            "_view_count": null,
            "_view_module": "@jupyter-widgets/base",
            "_view_module_version": "1.2.0",
            "_view_name": "LayoutView",
            "align_content": null,
            "align_items": null,
            "align_self": null,
            "border": null,
            "bottom": null,
            "display": null,
            "flex": null,
            "flex_flow": null,
            "grid_area": null,
            "grid_auto_columns": null,
            "grid_auto_flow": null,
            "grid_auto_rows": null,
            "grid_column": null,
            "grid_gap": null,
            "grid_row": null,
            "grid_template_areas": null,
            "grid_template_columns": null,
            "grid_template_rows": null,
            "height": null,
            "justify_content": null,
            "justify_items": null,
            "left": null,
            "margin": null,
            "max_height": null,
            "max_width": null,
            "min_height": null,
            "min_width": null,
            "object_fit": null,
            "object_position": null,
            "order": null,
            "overflow": null,
            "overflow_x": null,
            "overflow_y": null,
            "padding": null,
            "right": null,
            "top": null,
            "visibility": null,
            "width": null
          }
        },
        "c90246ce2ae3492a8821fb7d36661a25": {
          "model_module": "@jupyter-widgets/base",
          "model_name": "LayoutModel",
          "model_module_version": "1.2.0",
          "state": {
            "_model_module": "@jupyter-widgets/base",
            "_model_module_version": "1.2.0",
            "_model_name": "LayoutModel",
            "_view_count": null,
            "_view_module": "@jupyter-widgets/base",
            "_view_module_version": "1.2.0",
            "_view_name": "LayoutView",
            "align_content": null,
            "align_items": null,
            "align_self": null,
            "border": null,
            "bottom": null,
            "display": null,
            "flex": null,
            "flex_flow": null,
            "grid_area": null,
            "grid_auto_columns": null,
            "grid_auto_flow": null,
            "grid_auto_rows": null,
            "grid_column": null,
            "grid_gap": null,
            "grid_row": null,
            "grid_template_areas": null,
            "grid_template_columns": null,
            "grid_template_rows": null,
            "height": null,
            "justify_content": null,
            "justify_items": null,
            "left": null,
            "margin": null,
            "max_height": null,
            "max_width": null,
            "min_height": null,
            "min_width": null,
            "object_fit": null,
            "object_position": null,
            "order": null,
            "overflow": null,
            "overflow_x": null,
            "overflow_y": null,
            "padding": null,
            "right": null,
            "top": null,
            "visibility": null,
            "width": null
          }
        },
        "46bdf3f1791747d4907ecb74fdb131dc": {
          "model_module": "@jupyter-widgets/controls",
          "model_name": "DescriptionStyleModel",
          "model_module_version": "1.5.0",
          "state": {
            "_model_module": "@jupyter-widgets/controls",
            "_model_module_version": "1.5.0",
            "_model_name": "DescriptionStyleModel",
            "_view_count": null,
            "_view_module": "@jupyter-widgets/base",
            "_view_module_version": "1.2.0",
            "_view_name": "StyleView",
            "description_width": "initial"
          }
        },
        "a06b1787a50b459bb8efb5c64cb82775": {
          "model_module": "@jupyter-widgets/base",
          "model_name": "LayoutModel",
          "model_module_version": "1.2.0",
          "state": {
            "_model_module": "@jupyter-widgets/base",
            "_model_module_version": "1.2.0",
            "_model_name": "LayoutModel",
            "_view_count": null,
            "_view_module": "@jupyter-widgets/base",
            "_view_module_version": "1.2.0",
            "_view_name": "LayoutView",
            "align_content": null,
            "align_items": null,
            "align_self": null,
            "border": null,
            "bottom": null,
            "display": null,
            "flex": null,
            "flex_flow": null,
            "grid_area": null,
            "grid_auto_columns": null,
            "grid_auto_flow": null,
            "grid_auto_rows": null,
            "grid_column": null,
            "grid_gap": null,
            "grid_row": null,
            "grid_template_areas": null,
            "grid_template_columns": null,
            "grid_template_rows": null,
            "height": null,
            "justify_content": null,
            "justify_items": null,
            "left": null,
            "margin": null,
            "max_height": null,
            "max_width": null,
            "min_height": null,
            "min_width": null,
            "object_fit": null,
            "object_position": null,
            "order": null,
            "overflow": null,
            "overflow_x": null,
            "overflow_y": null,
            "padding": null,
            "right": null,
            "top": null,
            "visibility": null,
            "width": "max-content"
          }
        },
        "95ca6f4fcf8346d8b61b242630edac38": {
          "model_module": "@jupyter-widgets/controls",
          "model_name": "DescriptionStyleModel",
          "model_module_version": "1.5.0",
          "state": {
            "_model_module": "@jupyter-widgets/controls",
            "_model_module_version": "1.5.0",
            "_model_name": "DescriptionStyleModel",
            "_view_count": null,
            "_view_module": "@jupyter-widgets/base",
            "_view_module_version": "1.2.0",
            "_view_name": "StyleView",
            "description_width": "initial"
          }
        },
        "7692e2f3858d45beabe4acbee145d77e": {
          "model_module": "@jupyter-widgets/base",
          "model_name": "LayoutModel",
          "model_module_version": "1.2.0",
          "state": {
            "_model_module": "@jupyter-widgets/base",
            "_model_module_version": "1.2.0",
            "_model_name": "LayoutModel",
            "_view_count": null,
            "_view_module": "@jupyter-widgets/base",
            "_view_module_version": "1.2.0",
            "_view_name": "LayoutView",
            "align_content": null,
            "align_items": null,
            "align_self": null,
            "border": null,
            "bottom": null,
            "display": null,
            "flex": null,
            "flex_flow": null,
            "grid_area": null,
            "grid_auto_columns": null,
            "grid_auto_flow": null,
            "grid_auto_rows": null,
            "grid_column": null,
            "grid_gap": null,
            "grid_row": null,
            "grid_template_areas": null,
            "grid_template_columns": null,
            "grid_template_rows": null,
            "height": null,
            "justify_content": null,
            "justify_items": null,
            "left": null,
            "margin": null,
            "max_height": null,
            "max_width": null,
            "min_height": null,
            "min_width": null,
            "object_fit": null,
            "object_position": null,
            "order": null,
            "overflow": null,
            "overflow_x": null,
            "overflow_y": null,
            "padding": null,
            "right": null,
            "top": null,
            "visibility": null,
            "width": null
          }
        },
        "c4ba6db967a0438c81c4e93b266abf84": {
          "model_module": "@jupyter-widgets/controls",
          "model_name": "SliderStyleModel",
          "model_module_version": "1.5.0",
          "state": {
            "_model_module": "@jupyter-widgets/controls",
            "_model_module_version": "1.5.0",
            "_model_name": "SliderStyleModel",
            "_view_count": null,
            "_view_module": "@jupyter-widgets/base",
            "_view_module_version": "1.2.0",
            "_view_name": "StyleView",
            "description_width": "initial",
            "handle_color": null
          }
        },
        "dae7fe7544064156a7b6013b55f9c7d2": {
          "model_module": "@jupyter-widgets/base",
          "model_name": "LayoutModel",
          "model_module_version": "1.2.0",
          "state": {
            "_model_module": "@jupyter-widgets/base",
            "_model_module_version": "1.2.0",
            "_model_name": "LayoutModel",
            "_view_count": null,
            "_view_module": "@jupyter-widgets/base",
            "_view_module_version": "1.2.0",
            "_view_name": "LayoutView",
            "align_content": null,
            "align_items": null,
            "align_self": null,
            "border": null,
            "bottom": null,
            "display": null,
            "flex": null,
            "flex_flow": null,
            "grid_area": null,
            "grid_auto_columns": null,
            "grid_auto_flow": null,
            "grid_auto_rows": null,
            "grid_column": null,
            "grid_gap": null,
            "grid_row": null,
            "grid_template_areas": null,
            "grid_template_columns": null,
            "grid_template_rows": null,
            "height": null,
            "justify_content": null,
            "justify_items": null,
            "left": null,
            "margin": null,
            "max_height": null,
            "max_width": null,
            "min_height": null,
            "min_width": null,
            "object_fit": null,
            "object_position": null,
            "order": null,
            "overflow": null,
            "overflow_x": null,
            "overflow_y": null,
            "padding": null,
            "right": null,
            "top": null,
            "visibility": null,
            "width": "max-content"
          }
        },
        "53b65eb5f280481ea0068f664400dfac": {
          "model_module": "@jupyter-widgets/controls",
          "model_name": "DescriptionStyleModel",
          "model_module_version": "1.5.0",
          "state": {
            "_model_module": "@jupyter-widgets/controls",
            "_model_module_version": "1.5.0",
            "_model_name": "DescriptionStyleModel",
            "_view_count": null,
            "_view_module": "@jupyter-widgets/base",
            "_view_module_version": "1.2.0",
            "_view_name": "StyleView",
            "description_width": "initial"
          }
        },
        "54ed07837b44403cb6c4038a3ce67a3f": {
          "model_module": "@jupyter-widgets/base",
          "model_name": "LayoutModel",
          "model_module_version": "1.2.0",
          "state": {
            "_model_module": "@jupyter-widgets/base",
            "_model_module_version": "1.2.0",
            "_model_name": "LayoutModel",
            "_view_count": null,
            "_view_module": "@jupyter-widgets/base",
            "_view_module_version": "1.2.0",
            "_view_name": "LayoutView",
            "align_content": null,
            "align_items": null,
            "align_self": null,
            "border": null,
            "bottom": null,
            "display": null,
            "flex": null,
            "flex_flow": null,
            "grid_area": null,
            "grid_auto_columns": null,
            "grid_auto_flow": null,
            "grid_auto_rows": null,
            "grid_column": null,
            "grid_gap": null,
            "grid_row": null,
            "grid_template_areas": null,
            "grid_template_columns": null,
            "grid_template_rows": null,
            "height": null,
            "justify_content": null,
            "justify_items": null,
            "left": null,
            "margin": null,
            "max_height": null,
            "max_width": null,
            "min_height": null,
            "min_width": null,
            "object_fit": null,
            "object_position": null,
            "order": null,
            "overflow": null,
            "overflow_x": null,
            "overflow_y": null,
            "padding": null,
            "right": null,
            "top": null,
            "visibility": null,
            "width": null
          }
        },
        "bc03f63bea5e48e0a48a3736e1e81b7c": {
          "model_module": "@jupyter-widgets/controls",
          "model_name": "DescriptionStyleModel",
          "model_module_version": "1.5.0",
          "state": {
            "_model_module": "@jupyter-widgets/controls",
            "_model_module_version": "1.5.0",
            "_model_name": "DescriptionStyleModel",
            "_view_count": null,
            "_view_module": "@jupyter-widgets/base",
            "_view_module_version": "1.2.0",
            "_view_name": "StyleView",
            "description_width": "initial"
          }
        },
        "d4e158454de045a9ba96c58c3b31f047": {
          "model_module": "@jupyter-widgets/base",
          "model_name": "LayoutModel",
          "model_module_version": "1.2.0",
          "state": {
            "_model_module": "@jupyter-widgets/base",
            "_model_module_version": "1.2.0",
            "_model_name": "LayoutModel",
            "_view_count": null,
            "_view_module": "@jupyter-widgets/base",
            "_view_module_version": "1.2.0",
            "_view_name": "LayoutView",
            "align_content": null,
            "align_items": null,
            "align_self": null,
            "border": null,
            "bottom": null,
            "display": null,
            "flex": null,
            "flex_flow": null,
            "grid_area": null,
            "grid_auto_columns": null,
            "grid_auto_flow": null,
            "grid_auto_rows": null,
            "grid_column": null,
            "grid_gap": null,
            "grid_row": null,
            "grid_template_areas": null,
            "grid_template_columns": null,
            "grid_template_rows": null,
            "height": null,
            "justify_content": null,
            "justify_items": null,
            "left": null,
            "margin": null,
            "max_height": null,
            "max_width": null,
            "min_height": null,
            "min_width": null,
            "object_fit": null,
            "object_position": null,
            "order": null,
            "overflow": null,
            "overflow_x": null,
            "overflow_y": null,
            "padding": null,
            "right": null,
            "top": null,
            "visibility": null,
            "width": null
          }
        },
        "324dcca2feb049cb86aa63f9fe4bdb44": {
          "model_module": "@jupyter-widgets/controls",
          "model_name": "DescriptionStyleModel",
          "model_module_version": "1.5.0",
          "state": {
            "_model_module": "@jupyter-widgets/controls",
            "_model_module_version": "1.5.0",
            "_model_name": "DescriptionStyleModel",
            "_view_count": null,
            "_view_module": "@jupyter-widgets/base",
            "_view_module_version": "1.2.0",
            "_view_name": "StyleView",
            "description_width": "initial"
          }
        },
        "45be6ea09ffb4ee9bc846b12d7cf9e35": {
          "model_module": "@jupyter-widgets/base",
          "model_name": "LayoutModel",
          "model_module_version": "1.2.0",
          "state": {
            "_model_module": "@jupyter-widgets/base",
            "_model_module_version": "1.2.0",
            "_model_name": "LayoutModel",
            "_view_count": null,
            "_view_module": "@jupyter-widgets/base",
            "_view_module_version": "1.2.0",
            "_view_name": "LayoutView",
            "align_content": null,
            "align_items": null,
            "align_self": null,
            "border": null,
            "bottom": null,
            "display": null,
            "flex": null,
            "flex_flow": null,
            "grid_area": null,
            "grid_auto_columns": null,
            "grid_auto_flow": null,
            "grid_auto_rows": null,
            "grid_column": null,
            "grid_gap": null,
            "grid_row": null,
            "grid_template_areas": null,
            "grid_template_columns": null,
            "grid_template_rows": null,
            "height": null,
            "justify_content": null,
            "justify_items": null,
            "left": null,
            "margin": null,
            "max_height": null,
            "max_width": null,
            "min_height": null,
            "min_width": null,
            "object_fit": null,
            "object_position": null,
            "order": null,
            "overflow": null,
            "overflow_x": null,
            "overflow_y": null,
            "padding": null,
            "right": null,
            "top": null,
            "visibility": "hidden",
            "width": null
          }
        },
        "2162a533ca134765b364c70174d8efbc": {
          "model_module": "@jupyter-widgets/controls",
          "model_name": "SliderStyleModel",
          "model_module_version": "1.5.0",
          "state": {
            "_model_module": "@jupyter-widgets/controls",
            "_model_module_version": "1.5.0",
            "_model_name": "SliderStyleModel",
            "_view_count": null,
            "_view_module": "@jupyter-widgets/base",
            "_view_module_version": "1.2.0",
            "_view_name": "StyleView",
            "description_width": "initial",
            "handle_color": null
          }
        },
        "b64887b61c924770bd84831e51e3e143": {
          "model_module": "@jupyter-widgets/base",
          "model_name": "LayoutModel",
          "model_module_version": "1.2.0",
          "state": {
            "_model_module": "@jupyter-widgets/base",
            "_model_module_version": "1.2.0",
            "_model_name": "LayoutModel",
            "_view_count": null,
            "_view_module": "@jupyter-widgets/base",
            "_view_module_version": "1.2.0",
            "_view_name": "LayoutView",
            "align_content": null,
            "align_items": null,
            "align_self": null,
            "border": null,
            "bottom": null,
            "display": null,
            "flex": null,
            "flex_flow": null,
            "grid_area": null,
            "grid_auto_columns": null,
            "grid_auto_flow": null,
            "grid_auto_rows": null,
            "grid_column": null,
            "grid_gap": null,
            "grid_row": null,
            "grid_template_areas": null,
            "grid_template_columns": null,
            "grid_template_rows": null,
            "height": null,
            "justify_content": null,
            "justify_items": null,
            "left": null,
            "margin": null,
            "max_height": null,
            "max_width": null,
            "min_height": null,
            "min_width": null,
            "object_fit": null,
            "object_position": null,
            "order": null,
            "overflow": null,
            "overflow_x": null,
            "overflow_y": null,
            "padding": null,
            "right": null,
            "top": null,
            "visibility": "hidden",
            "width": null
          }
        },
        "cfd8769404bb4568a7b60e5ba630bdae": {
          "model_module": "@jupyter-widgets/controls",
          "model_name": "SliderStyleModel",
          "model_module_version": "1.5.0",
          "state": {
            "_model_module": "@jupyter-widgets/controls",
            "_model_module_version": "1.5.0",
            "_model_name": "SliderStyleModel",
            "_view_count": null,
            "_view_module": "@jupyter-widgets/base",
            "_view_module_version": "1.2.0",
            "_view_name": "StyleView",
            "description_width": "initial",
            "handle_color": null
          }
        },
        "d355be5edb9e4265961931fbb3b3f00b": {
          "model_module": "@jupyter-widgets/base",
          "model_name": "LayoutModel",
          "model_module_version": "1.2.0",
          "state": {
            "_model_module": "@jupyter-widgets/base",
            "_model_module_version": "1.2.0",
            "_model_name": "LayoutModel",
            "_view_count": null,
            "_view_module": "@jupyter-widgets/base",
            "_view_module_version": "1.2.0",
            "_view_name": "LayoutView",
            "align_content": null,
            "align_items": null,
            "align_self": null,
            "border": null,
            "bottom": null,
            "display": null,
            "flex": null,
            "flex_flow": null,
            "grid_area": null,
            "grid_auto_columns": null,
            "grid_auto_flow": null,
            "grid_auto_rows": null,
            "grid_column": null,
            "grid_gap": null,
            "grid_row": null,
            "grid_template_areas": null,
            "grid_template_columns": null,
            "grid_template_rows": null,
            "height": null,
            "justify_content": null,
            "justify_items": null,
            "left": null,
            "margin": null,
            "max_height": null,
            "max_width": null,
            "min_height": null,
            "min_width": null,
            "object_fit": null,
            "object_position": null,
            "order": null,
            "overflow": null,
            "overflow_x": null,
            "overflow_y": null,
            "padding": null,
            "right": null,
            "top": null,
            "visibility": "hidden",
            "width": null
          }
        },
        "9f51c024fb0e49d493e5465b4813ff5e": {
          "model_module": "@jupyter-widgets/controls",
          "model_name": "DescriptionStyleModel",
          "model_module_version": "1.5.0",
          "state": {
            "_model_module": "@jupyter-widgets/controls",
            "_model_module_version": "1.5.0",
            "_model_name": "DescriptionStyleModel",
            "_view_count": null,
            "_view_module": "@jupyter-widgets/base",
            "_view_module_version": "1.2.0",
            "_view_name": "StyleView",
            "description_width": "initial"
          }
        },
        "f75d45a823d74f469dc04b720496e94a": {
          "model_module": "@jupyter-widgets/controls",
          "model_name": "VBoxModel",
          "model_module_version": "1.5.0",
          "state": {
            "_dom_classes": [],
            "_model_module": "@jupyter-widgets/controls",
            "_model_module_version": "1.5.0",
            "_model_name": "VBoxModel",
            "_view_count": null,
            "_view_module": "@jupyter-widgets/controls",
            "_view_module_version": "1.5.0",
            "_view_name": "VBoxView",
            "box_style": "",
            "children": [
              "IPY_MODEL_643d76cfec724424a7257b9fd2e364d9",
              "IPY_MODEL_6ad2321df5fd437792a90761620d3947",
              "IPY_MODEL_8cdb41b4ac604131840986d97ea43000",
              "IPY_MODEL_12bb80f25c8948b389937ead625cf985",
              "IPY_MODEL_640d777422ee46f58fc8eb9ff4433544",
              "IPY_MODEL_70d03b3aa1c7401fb4c97752d3e9bbe9",
              "IPY_MODEL_6058474ad707418abd64a49760316c66",
              "IPY_MODEL_c0b53b5af65d40dbb7079db49e06570d"
            ],
            "layout": "IPY_MODEL_d45e2b87972f46baba281b50e8eaaf6c"
          }
        },
        "643d76cfec724424a7257b9fd2e364d9": {
          "model_module": "@jupyter-widgets/controls",
          "model_name": "LabelModel",
          "model_module_version": "1.5.0",
          "state": {
            "_dom_classes": [],
            "_model_module": "@jupyter-widgets/controls",
            "_model_module_version": "1.5.0",
            "_model_name": "LabelModel",
            "_view_count": null,
            "_view_module": "@jupyter-widgets/controls",
            "_view_module_version": "1.5.0",
            "_view_name": "LabelView",
            "description": "",
            "description_tooltip": null,
            "layout": "IPY_MODEL_cf21160a36234f17bb33960d976534e6",
            "placeholder": "​",
            "style": "IPY_MODEL_22e40a0f7b3547c98a2a7e2ef3bd6cc9",
            "value": "If you don't know what to do, just leave pamaters unchanged and move on to next step."
          }
        },
        "6ad2321df5fd437792a90761620d3947": {
          "model_module": "@jupyter-widgets/controls",
          "model_name": "DropdownModel",
          "model_module_version": "1.5.0",
          "state": {
            "_dom_classes": [],
            "_model_module": "@jupyter-widgets/controls",
            "_model_module_version": "1.5.0",
            "_model_name": "DropdownModel",
            "_options_labels": [
              "0",
              "1",
              "2"
            ],
            "_view_count": null,
            "_view_module": "@jupyter-widgets/controls",
            "_view_module_version": "1.5.0",
            "_view_name": "DropdownView",
            "description": "Channel of interest (COI)",
            "description_tooltip": null,
            "disabled": false,
            "index": 0,
            "layout": "IPY_MODEL_2a82013b96f34a0b83d57a96439e89db",
            "style": "IPY_MODEL_9e1636f23ca54888a9790f6c37b5800c"
          }
        },
        "8cdb41b4ac604131840986d97ea43000": {
          "model_module": "@jupyter-widgets/controls",
          "model_name": "DropdownModel",
          "model_module_version": "1.5.0",
          "state": {
            "_dom_classes": [],
            "_model_module": "@jupyter-widgets/controls",
            "_model_module_version": "1.5.0",
            "_model_name": "DropdownModel",
            "_options_labels": [
              "copy the COI to all available channels",
              "force copy the COI to all available channels even if nb of channels is ok",
              "remove extra channels"
            ],
            "_view_count": null,
            "_view_module": "@jupyter-widgets/controls",
            "_view_module_version": "1.5.0",
            "_view_name": "DropdownView",
            "description": "Rule to reduce nb of channels (if needed)",
            "description_tooltip": null,
            "disabled": false,
            "index": 0,
            "layout": "IPY_MODEL_25f7498402144c26ba38b407be32c619",
            "style": "IPY_MODEL_78210bd6e6cc4d25a897b7b947bda2a9"
          }
        },
        "12bb80f25c8948b389937ead625cf985": {
          "model_module": "@jupyter-widgets/controls",
          "model_name": "DropdownModel",
          "model_module_version": "1.5.0",
          "state": {
            "_dom_classes": [],
            "_model_module": "@jupyter-widgets/controls",
            "_model_module_version": "1.5.0",
            "_model_name": "DropdownModel",
            "_options_labels": [
              "copy the COI to all channels",
              "force copy the COI to all available channels even if nb of channels is ok",
              "copy the COI to missing channels only",
              "add empty channels (0 filled)"
            ],
            "_view_count": null,
            "_view_module": "@jupyter-widgets/controls",
            "_view_module_version": "1.5.0",
            "_view_name": "DropdownView",
            "description": "Rule to increase nb of channels (if needed)",
            "description_tooltip": null,
            "disabled": false,
            "index": 0,
            "layout": "IPY_MODEL_93bc0ad9a4104cf2a1082aaef49d9ee9",
            "style": "IPY_MODEL_234c4861d3b5474eb4144af9383e72dc"
          }
        },
        "640d777422ee46f58fc8eb9ff4433544": {
          "model_module": "@jupyter-widgets/controls",
          "model_name": "HBoxModel",
          "model_module_version": "1.5.0",
          "state": {
            "_dom_classes": [],
            "_model_module": "@jupyter-widgets/controls",
            "_model_module_version": "1.5.0",
            "_model_name": "HBoxModel",
            "_view_count": null,
            "_view_module": "@jupyter-widgets/controls",
            "_view_module_version": "1.5.0",
            "_view_name": "HBoxView",
            "box_style": "",
            "children": [
              "IPY_MODEL_1ee1e9bd2f6c479ca2f69275b08c8843",
              "IPY_MODEL_cee96a5192db471dbf30af95392ba2b4",
              "IPY_MODEL_a5f286495b274de6bf5dc4c5b69d61c9"
            ],
            "layout": "IPY_MODEL_dc178a6b5b024aa885e349c16b242827"
          }
        },
        "70d03b3aa1c7401fb4c97752d3e9bbe9": {
          "model_module": "@jupyter-widgets/controls",
          "model_name": "HBoxModel",
          "model_module_version": "1.5.0",
          "state": {
            "_dom_classes": [],
            "_model_module": "@jupyter-widgets/controls",
            "_model_module_version": "1.5.0",
            "_model_name": "HBoxModel",
            "_view_count": null,
            "_view_module": "@jupyter-widgets/controls",
            "_view_module_version": "1.5.0",
            "_view_name": "HBoxView",
            "box_style": "",
            "children": [
              "IPY_MODEL_e7abd588e71d42f69102a5f9c36223dd",
              "IPY_MODEL_b563d37fb02c497cbeadf6ff322031e7",
              "IPY_MODEL_74d12976fa4f4b12b2a255057237844e"
            ],
            "layout": "IPY_MODEL_36a1a93ab2814b588a9fc22aba47b17c"
          }
        },
        "6058474ad707418abd64a49760316c66": {
          "model_module": "@jupyter-widgets/controls",
          "model_name": "IntSliderModel",
          "model_module_version": "1.5.0",
          "state": {
            "_dom_classes": [],
            "_model_module": "@jupyter-widgets/controls",
            "_model_module_version": "1.5.0",
            "_model_name": "IntSliderModel",
            "_view_count": null,
            "_view_module": "@jupyter-widgets/controls",
            "_view_module_version": "1.5.0",
            "_view_name": "IntSliderView",
            "continuous_update": true,
            "description": "Remove border pixels",
            "description_tooltip": null,
            "disabled": false,
            "layout": "IPY_MODEL_f5e023d8a98b45a4949c1309515c4e36",
            "max": 10,
            "min": 0,
            "orientation": "horizontal",
            "readout": true,
            "readout_format": "d",
            "step": 1,
            "style": "IPY_MODEL_70666f981fc64f9c95f75784b77ce498",
            "value": 0
          }
        },
        "c0b53b5af65d40dbb7079db49e06570d": {
          "model_module": "@jupyter-widgets/controls",
          "model_name": "IntSliderModel",
          "model_module_version": "1.5.0",
          "state": {
            "_dom_classes": [],
            "_model_module": "@jupyter-widgets/controls",
            "_model_module_version": "1.5.0",
            "_model_name": "IntSliderModel",
            "_view_count": null,
            "_view_module": "@jupyter-widgets/controls",
            "_view_module_version": "1.5.0",
            "_view_name": "IntSliderView",
            "continuous_update": true,
            "description": "Dilation",
            "description_tooltip": null,
            "disabled": false,
            "layout": "IPY_MODEL_e6d324d11eaf46bebc3a976835d5edca",
            "max": 10,
            "min": 0,
            "orientation": "horizontal",
            "readout": true,
            "readout_format": "d",
            "step": 1,
            "style": "IPY_MODEL_eb9b440b6aec4047be9a211c8ca2f25d",
            "value": 0
          }
        },
        "d45e2b87972f46baba281b50e8eaaf6c": {
          "model_module": "@jupyter-widgets/base",
          "model_name": "LayoutModel",
          "model_module_version": "1.2.0",
          "state": {
            "_model_module": "@jupyter-widgets/base",
            "_model_module_version": "1.2.0",
            "_model_name": "LayoutModel",
            "_view_count": null,
            "_view_module": "@jupyter-widgets/base",
            "_view_module_version": "1.2.0",
            "_view_name": "LayoutView",
            "align_content": null,
            "align_items": null,
            "align_self": null,
            "border": null,
            "bottom": null,
            "display": null,
            "flex": null,
            "flex_flow": null,
            "grid_area": null,
            "grid_auto_columns": null,
            "grid_auto_flow": null,
            "grid_auto_rows": null,
            "grid_column": null,
            "grid_gap": null,
            "grid_row": null,
            "grid_template_areas": null,
            "grid_template_columns": null,
            "grid_template_rows": null,
            "height": null,
            "justify_content": null,
            "justify_items": null,
            "left": null,
            "margin": null,
            "max_height": null,
            "max_width": null,
            "min_height": null,
            "min_width": null,
            "object_fit": null,
            "object_position": null,
            "order": null,
            "overflow": null,
            "overflow_x": null,
            "overflow_y": null,
            "padding": null,
            "right": null,
            "top": null,
            "visibility": null,
            "width": null
          }
        },
        "cf21160a36234f17bb33960d976534e6": {
          "model_module": "@jupyter-widgets/base",
          "model_name": "LayoutModel",
          "model_module_version": "1.2.0",
          "state": {
            "_model_module": "@jupyter-widgets/base",
            "_model_module_version": "1.2.0",
            "_model_name": "LayoutModel",
            "_view_count": null,
            "_view_module": "@jupyter-widgets/base",
            "_view_module_version": "1.2.0",
            "_view_name": "LayoutView",
            "align_content": null,
            "align_items": null,
            "align_self": null,
            "border": null,
            "bottom": null,
            "display": null,
            "flex": null,
            "flex_flow": null,
            "grid_area": null,
            "grid_auto_columns": null,
            "grid_auto_flow": null,
            "grid_auto_rows": null,
            "grid_column": null,
            "grid_gap": null,
            "grid_row": null,
            "grid_template_areas": null,
            "grid_template_columns": null,
            "grid_template_rows": null,
            "height": null,
            "justify_content": null,
            "justify_items": null,
            "left": null,
            "margin": null,
            "max_height": null,
            "max_width": null,
            "min_height": null,
            "min_width": null,
            "object_fit": null,
            "object_position": null,
            "order": null,
            "overflow": null,
            "overflow_x": null,
            "overflow_y": null,
            "padding": null,
            "right": null,
            "top": null,
            "visibility": null,
            "width": null
          }
        },
        "22e40a0f7b3547c98a2a7e2ef3bd6cc9": {
          "model_module": "@jupyter-widgets/controls",
          "model_name": "DescriptionStyleModel",
          "model_module_version": "1.5.0",
          "state": {
            "_model_module": "@jupyter-widgets/controls",
            "_model_module_version": "1.5.0",
            "_model_name": "DescriptionStyleModel",
            "_view_count": null,
            "_view_module": "@jupyter-widgets/base",
            "_view_module_version": "1.2.0",
            "_view_name": "StyleView",
            "description_width": ""
          }
        },
        "2a82013b96f34a0b83d57a96439e89db": {
          "model_module": "@jupyter-widgets/base",
          "model_name": "LayoutModel",
          "model_module_version": "1.2.0",
          "state": {
            "_model_module": "@jupyter-widgets/base",
            "_model_module_version": "1.2.0",
            "_model_name": "LayoutModel",
            "_view_count": null,
            "_view_module": "@jupyter-widgets/base",
            "_view_module_version": "1.2.0",
            "_view_name": "LayoutView",
            "align_content": null,
            "align_items": null,
            "align_self": null,
            "border": null,
            "bottom": null,
            "display": null,
            "flex": null,
            "flex_flow": null,
            "grid_area": null,
            "grid_auto_columns": null,
            "grid_auto_flow": null,
            "grid_auto_rows": null,
            "grid_column": null,
            "grid_gap": null,
            "grid_row": null,
            "grid_template_areas": null,
            "grid_template_columns": null,
            "grid_template_rows": null,
            "height": null,
            "justify_content": null,
            "justify_items": null,
            "left": null,
            "margin": null,
            "max_height": null,
            "max_width": null,
            "min_height": null,
            "min_width": null,
            "object_fit": null,
            "object_position": null,
            "order": null,
            "overflow": null,
            "overflow_x": null,
            "overflow_y": null,
            "padding": null,
            "right": null,
            "top": null,
            "visibility": null,
            "width": "max-content"
          }
        },
        "9e1636f23ca54888a9790f6c37b5800c": {
          "model_module": "@jupyter-widgets/controls",
          "model_name": "DescriptionStyleModel",
          "model_module_version": "1.5.0",
          "state": {
            "_model_module": "@jupyter-widgets/controls",
            "_model_module_version": "1.5.0",
            "_model_name": "DescriptionStyleModel",
            "_view_count": null,
            "_view_module": "@jupyter-widgets/base",
            "_view_module_version": "1.2.0",
            "_view_name": "StyleView",
            "description_width": "initial"
          }
        },
        "25f7498402144c26ba38b407be32c619": {
          "model_module": "@jupyter-widgets/base",
          "model_name": "LayoutModel",
          "model_module_version": "1.2.0",
          "state": {
            "_model_module": "@jupyter-widgets/base",
            "_model_module_version": "1.2.0",
            "_model_name": "LayoutModel",
            "_view_count": null,
            "_view_module": "@jupyter-widgets/base",
            "_view_module_version": "1.2.0",
            "_view_name": "LayoutView",
            "align_content": null,
            "align_items": null,
            "align_self": null,
            "border": null,
            "bottom": null,
            "display": null,
            "flex": null,
            "flex_flow": null,
            "grid_area": null,
            "grid_auto_columns": null,
            "grid_auto_flow": null,
            "grid_auto_rows": null,
            "grid_column": null,
            "grid_gap": null,
            "grid_row": null,
            "grid_template_areas": null,
            "grid_template_columns": null,
            "grid_template_rows": null,
            "height": null,
            "justify_content": null,
            "justify_items": null,
            "left": null,
            "margin": null,
            "max_height": null,
            "max_width": null,
            "min_height": null,
            "min_width": null,
            "object_fit": null,
            "object_position": null,
            "order": null,
            "overflow": null,
            "overflow_x": null,
            "overflow_y": null,
            "padding": null,
            "right": null,
            "top": null,
            "visibility": null,
            "width": "max-content"
          }
        },
        "78210bd6e6cc4d25a897b7b947bda2a9": {
          "model_module": "@jupyter-widgets/controls",
          "model_name": "DescriptionStyleModel",
          "model_module_version": "1.5.0",
          "state": {
            "_model_module": "@jupyter-widgets/controls",
            "_model_module_version": "1.5.0",
            "_model_name": "DescriptionStyleModel",
            "_view_count": null,
            "_view_module": "@jupyter-widgets/base",
            "_view_module_version": "1.2.0",
            "_view_name": "StyleView",
            "description_width": "initial"
          }
        },
        "93bc0ad9a4104cf2a1082aaef49d9ee9": {
          "model_module": "@jupyter-widgets/base",
          "model_name": "LayoutModel",
          "model_module_version": "1.2.0",
          "state": {
            "_model_module": "@jupyter-widgets/base",
            "_model_module_version": "1.2.0",
            "_model_name": "LayoutModel",
            "_view_count": null,
            "_view_module": "@jupyter-widgets/base",
            "_view_module_version": "1.2.0",
            "_view_name": "LayoutView",
            "align_content": null,
            "align_items": null,
            "align_self": null,
            "border": null,
            "bottom": null,
            "display": null,
            "flex": null,
            "flex_flow": null,
            "grid_area": null,
            "grid_auto_columns": null,
            "grid_auto_flow": null,
            "grid_auto_rows": null,
            "grid_column": null,
            "grid_gap": null,
            "grid_row": null,
            "grid_template_areas": null,
            "grid_template_columns": null,
            "grid_template_rows": null,
            "height": null,
            "justify_content": null,
            "justify_items": null,
            "left": null,
            "margin": null,
            "max_height": null,
            "max_width": null,
            "min_height": null,
            "min_width": null,
            "object_fit": null,
            "object_position": null,
            "order": null,
            "overflow": null,
            "overflow_x": null,
            "overflow_y": null,
            "padding": null,
            "right": null,
            "top": null,
            "visibility": null,
            "width": "max-content"
          }
        },
        "234c4861d3b5474eb4144af9383e72dc": {
          "model_module": "@jupyter-widgets/controls",
          "model_name": "DescriptionStyleModel",
          "model_module_version": "1.5.0",
          "state": {
            "_model_module": "@jupyter-widgets/controls",
            "_model_module_version": "1.5.0",
            "_model_name": "DescriptionStyleModel",
            "_view_count": null,
            "_view_module": "@jupyter-widgets/base",
            "_view_module_version": "1.2.0",
            "_view_name": "StyleView",
            "description_width": "initial"
          }
        },
        "1ee1e9bd2f6c479ca2f69275b08c8843": {
          "model_module": "@jupyter-widgets/controls",
          "model_name": "DropdownModel",
          "model_module_version": "1.5.0",
          "state": {
            "_dom_classes": [],
            "_model_module": "@jupyter-widgets/controls",
            "_model_module_version": "1.5.0",
            "_model_name": "DropdownModel",
            "_options_labels": [
              "Rescaling (min-max normalization)",
              "Standardization (Z-score Normalization)",
              "Mean normalization",
              "Max normalization (auto)",
              "Max normalization (x/255)",
              "Max normalization (x/4095)",
              "Max normalization (x/65535)",
              "Rescaling based on defined lower and upper percentiles",
              "None"
            ],
            "_view_count": null,
            "_view_module": "@jupyter-widgets/controls",
            "_view_module_version": "1.5.0",
            "_view_name": "DropdownView",
            "description": "Normalization method",
            "description_tooltip": null,
            "disabled": false,
            "index": 0,
            "layout": "IPY_MODEL_1c3f47ffce7c4a3f91a9f59497defad8",
            "style": "IPY_MODEL_c9a4fcc50af74892987922b7eb0c8c0d"
          }
        },
        "cee96a5192db471dbf30af95392ba2b4": {
          "model_module": "@jupyter-widgets/controls",
          "model_name": "DropdownModel",
          "model_module_version": "1.5.0",
          "state": {
            "_dom_classes": [],
            "_model_module": "@jupyter-widgets/controls",
            "_model_module_version": "1.5.0",
            "_model_name": "DropdownModel",
            "_options_labels": [
              "[0, 1]",
              "[-1, 1]"
            ],
            "_view_count": null,
            "_view_module": "@jupyter-widgets/controls",
            "_view_module_version": "1.5.0",
            "_view_name": "DropdownView",
            "description": "Normalization range",
            "description_tooltip": null,
            "disabled": false,
            "index": 0,
            "layout": "IPY_MODEL_952fdd78dc89463b911346335854e965",
            "style": "IPY_MODEL_dd252b4b108943f7b50d57bbf948ae3c"
          }
        },
        "a5f286495b274de6bf5dc4c5b69d61c9": {
          "model_module": "@jupyter-widgets/controls",
          "model_name": "CheckboxModel",
          "model_module_version": "1.5.0",
          "state": {
            "_dom_classes": [],
            "_model_module": "@jupyter-widgets/controls",
            "_model_module_version": "1.5.0",
            "_model_name": "CheckboxModel",
            "_view_count": null,
            "_view_module": "@jupyter-widgets/controls",
            "_view_module_version": "1.5.0",
            "_view_name": "CheckboxView",
            "description": "Per channel normalization",
            "description_tooltip": null,
            "disabled": false,
            "indent": true,
            "layout": "IPY_MODEL_81f58e8d08d8433697c5d896fa326e42",
            "style": "IPY_MODEL_8bc8d4776abd4407bedced9300ad5372",
            "value": true
          }
        },
        "dc178a6b5b024aa885e349c16b242827": {
          "model_module": "@jupyter-widgets/base",
          "model_name": "LayoutModel",
          "model_module_version": "1.2.0",
          "state": {
            "_model_module": "@jupyter-widgets/base",
            "_model_module_version": "1.2.0",
            "_model_name": "LayoutModel",
            "_view_count": null,
            "_view_module": "@jupyter-widgets/base",
            "_view_module_version": "1.2.0",
            "_view_name": "LayoutView",
            "align_content": null,
            "align_items": null,
            "align_self": null,
            "border": null,
            "bottom": null,
            "display": null,
            "flex": null,
            "flex_flow": null,
            "grid_area": null,
            "grid_auto_columns": null,
            "grid_auto_flow": null,
            "grid_auto_rows": null,
            "grid_column": null,
            "grid_gap": null,
            "grid_row": null,
            "grid_template_areas": null,
            "grid_template_columns": null,
            "grid_template_rows": null,
            "height": null,
            "justify_content": null,
            "justify_items": null,
            "left": null,
            "margin": null,
            "max_height": null,
            "max_width": null,
            "min_height": null,
            "min_width": null,
            "object_fit": null,
            "object_position": null,
            "order": null,
            "overflow": null,
            "overflow_x": null,
            "overflow_y": null,
            "padding": null,
            "right": null,
            "top": null,
            "visibility": null,
            "width": null
          }
        },
        "e7abd588e71d42f69102a5f9c36223dd": {
          "model_module": "@jupyter-widgets/controls",
          "model_name": "FloatSliderModel",
          "model_module_version": "1.5.0",
          "state": {
            "_dom_classes": [],
            "_model_module": "@jupyter-widgets/controls",
            "_model_module_version": "1.5.0",
            "_model_name": "FloatSliderModel",
            "_view_count": null,
            "_view_module": "@jupyter-widgets/controls",
            "_view_module_version": "1.5.0",
            "_view_name": "FloatSliderView",
            "continuous_update": true,
            "description": "min percentile",
            "description_tooltip": null,
            "disabled": false,
            "layout": "IPY_MODEL_2907d656fbf84c7e883cd4f65fc4dbf6",
            "max": 30,
            "min": 0,
            "orientation": "horizontal",
            "readout": true,
            "readout_format": ".2f",
            "step": 0.1,
            "style": "IPY_MODEL_5d8e588e45af4fd4918392d0a5f45cb7",
            "value": 2
          }
        },
        "b563d37fb02c497cbeadf6ff322031e7": {
          "model_module": "@jupyter-widgets/controls",
          "model_name": "FloatSliderModel",
          "model_module_version": "1.5.0",
          "state": {
            "_dom_classes": [],
            "_model_module": "@jupyter-widgets/controls",
            "_model_module_version": "1.5.0",
            "_model_name": "FloatSliderModel",
            "_view_count": null,
            "_view_module": "@jupyter-widgets/controls",
            "_view_module_version": "1.5.0",
            "_view_name": "FloatSliderView",
            "continuous_update": true,
            "description": "max percentile",
            "description_tooltip": null,
            "disabled": false,
            "layout": "IPY_MODEL_137362d978864cce978b570dd005ef34",
            "max": 100,
            "min": 70,
            "orientation": "horizontal",
            "readout": true,
            "readout_format": ".2f",
            "step": 0.1,
            "style": "IPY_MODEL_2f4fe6ef74804119a587a6dcc0425afb",
            "value": 99.8
          }
        },
        "74d12976fa4f4b12b2a255057237844e": {
          "model_module": "@jupyter-widgets/controls",
          "model_name": "CheckboxModel",
          "model_module_version": "1.5.0",
          "state": {
            "_dom_classes": [],
            "_model_module": "@jupyter-widgets/controls",
            "_model_module_version": "1.5.0",
            "_model_name": "CheckboxModel",
            "_view_count": null,
            "_view_module": "@jupyter-widgets/controls",
            "_view_module_version": "1.5.0",
            "_view_name": "CheckboxView",
            "description": "Clip",
            "description_tooltip": null,
            "disabled": false,
            "indent": false,
            "layout": "IPY_MODEL_83963aa3d99243f8940d6662771d4c63",
            "style": "IPY_MODEL_72a93702b1cb4991b62a1a28e3eecb69",
            "value": false
          }
        },
        "36a1a93ab2814b588a9fc22aba47b17c": {
          "model_module": "@jupyter-widgets/base",
          "model_name": "LayoutModel",
          "model_module_version": "1.2.0",
          "state": {
            "_model_module": "@jupyter-widgets/base",
            "_model_module_version": "1.2.0",
            "_model_name": "LayoutModel",
            "_view_count": null,
            "_view_module": "@jupyter-widgets/base",
            "_view_module_version": "1.2.0",
            "_view_name": "LayoutView",
            "align_content": null,
            "align_items": null,
            "align_self": null,
            "border": null,
            "bottom": null,
            "display": null,
            "flex": null,
            "flex_flow": null,
            "grid_area": null,
            "grid_auto_columns": null,
            "grid_auto_flow": null,
            "grid_auto_rows": null,
            "grid_column": null,
            "grid_gap": null,
            "grid_row": null,
            "grid_template_areas": null,
            "grid_template_columns": null,
            "grid_template_rows": null,
            "height": null,
            "justify_content": null,
            "justify_items": null,
            "left": null,
            "margin": null,
            "max_height": null,
            "max_width": null,
            "min_height": null,
            "min_width": null,
            "object_fit": null,
            "object_position": null,
            "order": null,
            "overflow": null,
            "overflow_x": null,
            "overflow_y": null,
            "padding": null,
            "right": null,
            "top": null,
            "visibility": null,
            "width": null
          }
        },
        "f5e023d8a98b45a4949c1309515c4e36": {
          "model_module": "@jupyter-widgets/base",
          "model_name": "LayoutModel",
          "model_module_version": "1.2.0",
          "state": {
            "_model_module": "@jupyter-widgets/base",
            "_model_module_version": "1.2.0",
            "_model_name": "LayoutModel",
            "_view_count": null,
            "_view_module": "@jupyter-widgets/base",
            "_view_module_version": "1.2.0",
            "_view_name": "LayoutView",
            "align_content": null,
            "align_items": null,
            "align_self": null,
            "border": null,
            "bottom": null,
            "display": null,
            "flex": null,
            "flex_flow": null,
            "grid_area": null,
            "grid_auto_columns": null,
            "grid_auto_flow": null,
            "grid_auto_rows": null,
            "grid_column": null,
            "grid_gap": null,
            "grid_row": null,
            "grid_template_areas": null,
            "grid_template_columns": null,
            "grid_template_rows": null,
            "height": null,
            "justify_content": null,
            "justify_items": null,
            "left": null,
            "margin": null,
            "max_height": null,
            "max_width": null,
            "min_height": null,
            "min_width": null,
            "object_fit": null,
            "object_position": null,
            "order": null,
            "overflow": null,
            "overflow_x": null,
            "overflow_y": null,
            "padding": null,
            "right": null,
            "top": null,
            "visibility": null,
            "width": null
          }
        },
        "70666f981fc64f9c95f75784b77ce498": {
          "model_module": "@jupyter-widgets/controls",
          "model_name": "SliderStyleModel",
          "model_module_version": "1.5.0",
          "state": {
            "_model_module": "@jupyter-widgets/controls",
            "_model_module_version": "1.5.0",
            "_model_name": "SliderStyleModel",
            "_view_count": null,
            "_view_module": "@jupyter-widgets/base",
            "_view_module_version": "1.2.0",
            "_view_name": "StyleView",
            "description_width": "initial",
            "handle_color": null
          }
        },
        "e6d324d11eaf46bebc3a976835d5edca": {
          "model_module": "@jupyter-widgets/base",
          "model_name": "LayoutModel",
          "model_module_version": "1.2.0",
          "state": {
            "_model_module": "@jupyter-widgets/base",
            "_model_module_version": "1.2.0",
            "_model_name": "LayoutModel",
            "_view_count": null,
            "_view_module": "@jupyter-widgets/base",
            "_view_module_version": "1.2.0",
            "_view_name": "LayoutView",
            "align_content": null,
            "align_items": null,
            "align_self": null,
            "border": null,
            "bottom": null,
            "display": null,
            "flex": null,
            "flex_flow": null,
            "grid_area": null,
            "grid_auto_columns": null,
            "grid_auto_flow": null,
            "grid_auto_rows": null,
            "grid_column": null,
            "grid_gap": null,
            "grid_row": null,
            "grid_template_areas": null,
            "grid_template_columns": null,
            "grid_template_rows": null,
            "height": null,
            "justify_content": null,
            "justify_items": null,
            "left": null,
            "margin": null,
            "max_height": null,
            "max_width": null,
            "min_height": null,
            "min_width": null,
            "object_fit": null,
            "object_position": null,
            "order": null,
            "overflow": null,
            "overflow_x": null,
            "overflow_y": null,
            "padding": null,
            "right": null,
            "top": null,
            "visibility": null,
            "width": null
          }
        },
        "eb9b440b6aec4047be9a211c8ca2f25d": {
          "model_module": "@jupyter-widgets/controls",
          "model_name": "SliderStyleModel",
          "model_module_version": "1.5.0",
          "state": {
            "_model_module": "@jupyter-widgets/controls",
            "_model_module_version": "1.5.0",
            "_model_name": "SliderStyleModel",
            "_view_count": null,
            "_view_module": "@jupyter-widgets/base",
            "_view_module_version": "1.2.0",
            "_view_name": "StyleView",
            "description_width": "initial",
            "handle_color": null
          }
        },
        "1c3f47ffce7c4a3f91a9f59497defad8": {
          "model_module": "@jupyter-widgets/base",
          "model_name": "LayoutModel",
          "model_module_version": "1.2.0",
          "state": {
            "_model_module": "@jupyter-widgets/base",
            "_model_module_version": "1.2.0",
            "_model_name": "LayoutModel",
            "_view_count": null,
            "_view_module": "@jupyter-widgets/base",
            "_view_module_version": "1.2.0",
            "_view_name": "LayoutView",
            "align_content": null,
            "align_items": null,
            "align_self": null,
            "border": null,
            "bottom": null,
            "display": null,
            "flex": null,
            "flex_flow": null,
            "grid_area": null,
            "grid_auto_columns": null,
            "grid_auto_flow": null,
            "grid_auto_rows": null,
            "grid_column": null,
            "grid_gap": null,
            "grid_row": null,
            "grid_template_areas": null,
            "grid_template_columns": null,
            "grid_template_rows": null,
            "height": null,
            "justify_content": null,
            "justify_items": null,
            "left": null,
            "margin": null,
            "max_height": null,
            "max_width": null,
            "min_height": null,
            "min_width": null,
            "object_fit": null,
            "object_position": null,
            "order": null,
            "overflow": null,
            "overflow_x": null,
            "overflow_y": null,
            "padding": null,
            "right": null,
            "top": null,
            "visibility": null,
            "width": "max-content"
          }
        },
        "c9a4fcc50af74892987922b7eb0c8c0d": {
          "model_module": "@jupyter-widgets/controls",
          "model_name": "DescriptionStyleModel",
          "model_module_version": "1.5.0",
          "state": {
            "_model_module": "@jupyter-widgets/controls",
            "_model_module_version": "1.5.0",
            "_model_name": "DescriptionStyleModel",
            "_view_count": null,
            "_view_module": "@jupyter-widgets/base",
            "_view_module_version": "1.2.0",
            "_view_name": "StyleView",
            "description_width": "initial"
          }
        },
        "952fdd78dc89463b911346335854e965": {
          "model_module": "@jupyter-widgets/base",
          "model_name": "LayoutModel",
          "model_module_version": "1.2.0",
          "state": {
            "_model_module": "@jupyter-widgets/base",
            "_model_module_version": "1.2.0",
            "_model_name": "LayoutModel",
            "_view_count": null,
            "_view_module": "@jupyter-widgets/base",
            "_view_module_version": "1.2.0",
            "_view_name": "LayoutView",
            "align_content": null,
            "align_items": null,
            "align_self": null,
            "border": null,
            "bottom": null,
            "display": null,
            "flex": null,
            "flex_flow": null,
            "grid_area": null,
            "grid_auto_columns": null,
            "grid_auto_flow": null,
            "grid_auto_rows": null,
            "grid_column": null,
            "grid_gap": null,
            "grid_row": null,
            "grid_template_areas": null,
            "grid_template_columns": null,
            "grid_template_rows": null,
            "height": null,
            "justify_content": null,
            "justify_items": null,
            "left": null,
            "margin": null,
            "max_height": null,
            "max_width": null,
            "min_height": null,
            "min_width": null,
            "object_fit": null,
            "object_position": null,
            "order": null,
            "overflow": null,
            "overflow_x": null,
            "overflow_y": null,
            "padding": null,
            "right": null,
            "top": null,
            "visibility": null,
            "width": null
          }
        },
        "dd252b4b108943f7b50d57bbf948ae3c": {
          "model_module": "@jupyter-widgets/controls",
          "model_name": "DescriptionStyleModel",
          "model_module_version": "1.5.0",
          "state": {
            "_model_module": "@jupyter-widgets/controls",
            "_model_module_version": "1.5.0",
            "_model_name": "DescriptionStyleModel",
            "_view_count": null,
            "_view_module": "@jupyter-widgets/base",
            "_view_module_version": "1.2.0",
            "_view_name": "StyleView",
            "description_width": "initial"
          }
        },
        "81f58e8d08d8433697c5d896fa326e42": {
          "model_module": "@jupyter-widgets/base",
          "model_name": "LayoutModel",
          "model_module_version": "1.2.0",
          "state": {
            "_model_module": "@jupyter-widgets/base",
            "_model_module_version": "1.2.0",
            "_model_name": "LayoutModel",
            "_view_count": null,
            "_view_module": "@jupyter-widgets/base",
            "_view_module_version": "1.2.0",
            "_view_name": "LayoutView",
            "align_content": null,
            "align_items": null,
            "align_self": null,
            "border": null,
            "bottom": null,
            "display": null,
            "flex": null,
            "flex_flow": null,
            "grid_area": null,
            "grid_auto_columns": null,
            "grid_auto_flow": null,
            "grid_auto_rows": null,
            "grid_column": null,
            "grid_gap": null,
            "grid_row": null,
            "grid_template_areas": null,
            "grid_template_columns": null,
            "grid_template_rows": null,
            "height": null,
            "justify_content": null,
            "justify_items": null,
            "left": null,
            "margin": null,
            "max_height": null,
            "max_width": null,
            "min_height": null,
            "min_width": null,
            "object_fit": null,
            "object_position": null,
            "order": null,
            "overflow": null,
            "overflow_x": null,
            "overflow_y": null,
            "padding": null,
            "right": null,
            "top": null,
            "visibility": null,
            "width": null
          }
        },
        "8bc8d4776abd4407bedced9300ad5372": {
          "model_module": "@jupyter-widgets/controls",
          "model_name": "DescriptionStyleModel",
          "model_module_version": "1.5.0",
          "state": {
            "_model_module": "@jupyter-widgets/controls",
            "_model_module_version": "1.5.0",
            "_model_name": "DescriptionStyleModel",
            "_view_count": null,
            "_view_module": "@jupyter-widgets/base",
            "_view_module_version": "1.2.0",
            "_view_name": "StyleView",
            "description_width": "initial"
          }
        },
        "2907d656fbf84c7e883cd4f65fc4dbf6": {
          "model_module": "@jupyter-widgets/base",
          "model_name": "LayoutModel",
          "model_module_version": "1.2.0",
          "state": {
            "_model_module": "@jupyter-widgets/base",
            "_model_module_version": "1.2.0",
            "_model_name": "LayoutModel",
            "_view_count": null,
            "_view_module": "@jupyter-widgets/base",
            "_view_module_version": "1.2.0",
            "_view_name": "LayoutView",
            "align_content": null,
            "align_items": null,
            "align_self": null,
            "border": null,
            "bottom": null,
            "display": null,
            "flex": null,
            "flex_flow": null,
            "grid_area": null,
            "grid_auto_columns": null,
            "grid_auto_flow": null,
            "grid_auto_rows": null,
            "grid_column": null,
            "grid_gap": null,
            "grid_row": null,
            "grid_template_areas": null,
            "grid_template_columns": null,
            "grid_template_rows": null,
            "height": null,
            "justify_content": null,
            "justify_items": null,
            "left": null,
            "margin": null,
            "max_height": null,
            "max_width": null,
            "min_height": null,
            "min_width": null,
            "object_fit": null,
            "object_position": null,
            "order": null,
            "overflow": null,
            "overflow_x": null,
            "overflow_y": null,
            "padding": null,
            "right": null,
            "top": null,
            "visibility": "hidden",
            "width": null
          }
        },
        "5d8e588e45af4fd4918392d0a5f45cb7": {
          "model_module": "@jupyter-widgets/controls",
          "model_name": "SliderStyleModel",
          "model_module_version": "1.5.0",
          "state": {
            "_model_module": "@jupyter-widgets/controls",
            "_model_module_version": "1.5.0",
            "_model_name": "SliderStyleModel",
            "_view_count": null,
            "_view_module": "@jupyter-widgets/base",
            "_view_module_version": "1.2.0",
            "_view_name": "StyleView",
            "description_width": "initial",
            "handle_color": null
          }
        },
        "137362d978864cce978b570dd005ef34": {
          "model_module": "@jupyter-widgets/base",
          "model_name": "LayoutModel",
          "model_module_version": "1.2.0",
          "state": {
            "_model_module": "@jupyter-widgets/base",
            "_model_module_version": "1.2.0",
            "_model_name": "LayoutModel",
            "_view_count": null,
            "_view_module": "@jupyter-widgets/base",
            "_view_module_version": "1.2.0",
            "_view_name": "LayoutView",
            "align_content": null,
            "align_items": null,
            "align_self": null,
            "border": null,
            "bottom": null,
            "display": null,
            "flex": null,
            "flex_flow": null,
            "grid_area": null,
            "grid_auto_columns": null,
            "grid_auto_flow": null,
            "grid_auto_rows": null,
            "grid_column": null,
            "grid_gap": null,
            "grid_row": null,
            "grid_template_areas": null,
            "grid_template_columns": null,
            "grid_template_rows": null,
            "height": null,
            "justify_content": null,
            "justify_items": null,
            "left": null,
            "margin": null,
            "max_height": null,
            "max_width": null,
            "min_height": null,
            "min_width": null,
            "object_fit": null,
            "object_position": null,
            "order": null,
            "overflow": null,
            "overflow_x": null,
            "overflow_y": null,
            "padding": null,
            "right": null,
            "top": null,
            "visibility": "hidden",
            "width": null
          }
        },
        "2f4fe6ef74804119a587a6dcc0425afb": {
          "model_module": "@jupyter-widgets/controls",
          "model_name": "SliderStyleModel",
          "model_module_version": "1.5.0",
          "state": {
            "_model_module": "@jupyter-widgets/controls",
            "_model_module_version": "1.5.0",
            "_model_name": "SliderStyleModel",
            "_view_count": null,
            "_view_module": "@jupyter-widgets/base",
            "_view_module_version": "1.2.0",
            "_view_name": "StyleView",
            "description_width": "initial",
            "handle_color": null
          }
        },
        "83963aa3d99243f8940d6662771d4c63": {
          "model_module": "@jupyter-widgets/base",
          "model_name": "LayoutModel",
          "model_module_version": "1.2.0",
          "state": {
            "_model_module": "@jupyter-widgets/base",
            "_model_module_version": "1.2.0",
            "_model_name": "LayoutModel",
            "_view_count": null,
            "_view_module": "@jupyter-widgets/base",
            "_view_module_version": "1.2.0",
            "_view_name": "LayoutView",
            "align_content": null,
            "align_items": null,
            "align_self": null,
            "border": null,
            "bottom": null,
            "display": null,
            "flex": null,
            "flex_flow": null,
            "grid_area": null,
            "grid_auto_columns": null,
            "grid_auto_flow": null,
            "grid_auto_rows": null,
            "grid_column": null,
            "grid_gap": null,
            "grid_row": null,
            "grid_template_areas": null,
            "grid_template_columns": null,
            "grid_template_rows": null,
            "height": null,
            "justify_content": null,
            "justify_items": null,
            "left": null,
            "margin": null,
            "max_height": null,
            "max_width": null,
            "min_height": null,
            "min_width": null,
            "object_fit": null,
            "object_position": null,
            "order": null,
            "overflow": null,
            "overflow_x": null,
            "overflow_y": null,
            "padding": null,
            "right": null,
            "top": null,
            "visibility": "hidden",
            "width": null
          }
        },
        "72a93702b1cb4991b62a1a28e3eecb69": {
          "model_module": "@jupyter-widgets/controls",
          "model_name": "DescriptionStyleModel",
          "model_module_version": "1.5.0",
          "state": {
            "_model_module": "@jupyter-widgets/controls",
            "_model_module_version": "1.5.0",
            "_model_name": "DescriptionStyleModel",
            "_view_count": null,
            "_view_module": "@jupyter-widgets/base",
            "_view_module_version": "1.2.0",
            "_view_name": "StyleView",
            "description_width": "initial"
          }
        },
        "2a7c75f97f5141589f3e7ddffbd27dbb": {
          "model_module": "@jupyter-widgets/controls",
          "model_name": "VBoxModel",
          "model_module_version": "1.5.0",
          "state": {
            "_dom_classes": [],
            "_model_module": "@jupyter-widgets/controls",
            "_model_module_version": "1.5.0",
            "_model_name": "VBoxModel",
            "_view_count": null,
            "_view_module": "@jupyter-widgets/controls",
            "_view_module_version": "1.5.0",
            "_view_name": "VBoxView",
            "box_style": "",
            "children": [
              "IPY_MODEL_3881c202d0374ad3af2f06704411b5a2",
              "IPY_MODEL_b29b451a7fe845838bb7f1ba457ad6fd",
              "IPY_MODEL_fe5086d9beac41e9adec68f0ae17b25b",
              "IPY_MODEL_6491e465d98b40eab2b100e52e0603c1",
              "IPY_MODEL_6a7f254b4fb94191bf12568100dfd297"
            ],
            "layout": "IPY_MODEL_815a1f0c9b6744b4a6b76a414d364953"
          }
        },
        "3881c202d0374ad3af2f06704411b5a2": {
          "model_module": "@jupyter-widgets/controls",
          "model_name": "CheckboxModel",
          "model_module_version": "1.5.0",
          "state": {
            "_dom_classes": [],
            "_model_module": "@jupyter-widgets/controls",
            "_model_module_version": "1.5.0",
            "_model_name": "CheckboxModel",
            "_view_count": null,
            "_view_module": "@jupyter-widgets/controls",
            "_view_module_version": "1.5.0",
            "_view_name": "CheckboxView",
            "description": "Shuffle training sets",
            "description_tooltip": null,
            "disabled": false,
            "indent": false,
            "layout": "IPY_MODEL_a16dd420d39a4de3b1bfd2ae8b43a51c",
            "style": "IPY_MODEL_adba13b29b9d4aa3b109e6e495cf8c93",
            "value": true
          }
        },
        "b29b451a7fe845838bb7f1ba457ad6fd": {
          "model_module": "@jupyter-widgets/controls",
          "model_name": "IntSliderModel",
          "model_module_version": "1.5.0",
          "state": {
            "_dom_classes": [],
            "_model_module": "@jupyter-widgets/controls",
            "_model_module_version": "1.5.0",
            "_model_name": "IntSliderModel",
            "_view_count": null,
            "_view_module": "@jupyter-widgets/controls",
            "_view_module_version": "1.5.0",
            "_view_name": "IntSliderView",
            "continuous_update": true,
            "description": "Batch size",
            "description_tooltip": null,
            "disabled": false,
            "layout": "IPY_MODEL_c7822fd2ef08483e86a20d536bff3377",
            "max": 256,
            "min": 1,
            "orientation": "horizontal",
            "readout": true,
            "readout_format": "d",
            "step": 1,
            "style": "IPY_MODEL_962cc46f285b488ab6e3e80bb21e972d",
            "value": 16
          }
        },
        "fe5086d9beac41e9adec68f0ae17b25b": {
          "model_module": "@jupyter-widgets/controls",
          "model_name": "IntSliderModel",
          "model_module_version": "1.5.0",
          "state": {
            "_dom_classes": [],
            "_model_module": "@jupyter-widgets/controls",
            "_model_module_version": "1.5.0",
            "_model_name": "IntSliderModel",
            "_view_count": null,
            "_view_module": "@jupyter-widgets/controls",
            "_view_module_version": "1.5.0",
            "_view_name": "IntSliderView",
            "continuous_update": true,
            "description": "Number of epochs",
            "description_tooltip": null,
            "disabled": false,
            "layout": "IPY_MODEL_8dc86cfa7c9245f9af3861a4909e7526",
            "max": 1000,
            "min": 5,
            "orientation": "horizontal",
            "readout": true,
            "readout_format": "d",
            "step": 1,
            "style": "IPY_MODEL_8c574d72e6614e13878ae32500dfeb31",
            "value": 100
          }
        },
        "6491e465d98b40eab2b100e52e0603c1": {
          "model_module": "@jupyter-widgets/controls",
          "model_name": "IntSliderModel",
          "model_module_version": "1.5.0",
          "state": {
            "_dom_classes": [],
            "_model_module": "@jupyter-widgets/controls",
            "_model_module_version": "1.5.0",
            "_model_name": "IntSliderModel",
            "_view_count": null,
            "_view_module": "@jupyter-widgets/controls",
            "_view_module_version": "1.5.0",
            "_view_name": "IntSliderView",
            "continuous_update": true,
            "description": "Keep best models",
            "description_tooltip": null,
            "disabled": false,
            "layout": "IPY_MODEL_977ce97a038d4804b34c355465b3c653",
            "max": 1000,
            "min": -1,
            "orientation": "horizontal",
            "readout": true,
            "readout_format": "d",
            "step": 1,
            "style": "IPY_MODEL_dcc152d8554f492e9762e51441f9aa89",
            "value": 5
          }
        },
        "6a7f254b4fb94191bf12568100dfd297": {
          "model_module": "@jupyter-widgets/controls",
          "model_name": "HBoxModel",
          "model_module_version": "1.5.0",
          "state": {
            "_dom_classes": [],
            "_model_module": "@jupyter-widgets/controls",
            "_model_module_version": "1.5.0",
            "_model_name": "HBoxModel",
            "_view_count": null,
            "_view_module": "@jupyter-widgets/controls",
            "_view_module_version": "1.5.0",
            "_view_name": "HBoxView",
            "box_style": "",
            "children": [
              "IPY_MODEL_c678ce02955348ccac4bbb3a3a82f07e",
              "IPY_MODEL_9248eca3d61043ca999e776e771cd3e3",
              "IPY_MODEL_b634abe43d1d4bea971769c819bd18ec"
            ],
            "layout": "IPY_MODEL_96cfec2da190400dbbdb201229420454"
          }
        },
        "815a1f0c9b6744b4a6b76a414d364953": {
          "model_module": "@jupyter-widgets/base",
          "model_name": "LayoutModel",
          "model_module_version": "1.2.0",
          "state": {
            "_model_module": "@jupyter-widgets/base",
            "_model_module_version": "1.2.0",
            "_model_name": "LayoutModel",
            "_view_count": null,
            "_view_module": "@jupyter-widgets/base",
            "_view_module_version": "1.2.0",
            "_view_name": "LayoutView",
            "align_content": null,
            "align_items": null,
            "align_self": null,
            "border": null,
            "bottom": null,
            "display": null,
            "flex": null,
            "flex_flow": null,
            "grid_area": null,
            "grid_auto_columns": null,
            "grid_auto_flow": null,
            "grid_auto_rows": null,
            "grid_column": null,
            "grid_gap": null,
            "grid_row": null,
            "grid_template_areas": null,
            "grid_template_columns": null,
            "grid_template_rows": null,
            "height": null,
            "justify_content": null,
            "justify_items": null,
            "left": null,
            "margin": null,
            "max_height": null,
            "max_width": null,
            "min_height": null,
            "min_width": null,
            "object_fit": null,
            "object_position": null,
            "order": null,
            "overflow": null,
            "overflow_x": null,
            "overflow_y": null,
            "padding": null,
            "right": null,
            "top": null,
            "visibility": null,
            "width": null
          }
        },
        "a16dd420d39a4de3b1bfd2ae8b43a51c": {
          "model_module": "@jupyter-widgets/base",
          "model_name": "LayoutModel",
          "model_module_version": "1.2.0",
          "state": {
            "_model_module": "@jupyter-widgets/base",
            "_model_module_version": "1.2.0",
            "_model_name": "LayoutModel",
            "_view_count": null,
            "_view_module": "@jupyter-widgets/base",
            "_view_module_version": "1.2.0",
            "_view_name": "LayoutView",
            "align_content": null,
            "align_items": null,
            "align_self": null,
            "border": null,
            "bottom": null,
            "display": null,
            "flex": null,
            "flex_flow": null,
            "grid_area": null,
            "grid_auto_columns": null,
            "grid_auto_flow": null,
            "grid_auto_rows": null,
            "grid_column": null,
            "grid_gap": null,
            "grid_row": null,
            "grid_template_areas": null,
            "grid_template_columns": null,
            "grid_template_rows": null,
            "height": null,
            "justify_content": null,
            "justify_items": null,
            "left": null,
            "margin": null,
            "max_height": null,
            "max_width": null,
            "min_height": null,
            "min_width": null,
            "object_fit": null,
            "object_position": null,
            "order": null,
            "overflow": null,
            "overflow_x": null,
            "overflow_y": null,
            "padding": null,
            "right": null,
            "top": null,
            "visibility": null,
            "width": null
          }
        },
        "adba13b29b9d4aa3b109e6e495cf8c93": {
          "model_module": "@jupyter-widgets/controls",
          "model_name": "DescriptionStyleModel",
          "model_module_version": "1.5.0",
          "state": {
            "_model_module": "@jupyter-widgets/controls",
            "_model_module_version": "1.5.0",
            "_model_name": "DescriptionStyleModel",
            "_view_count": null,
            "_view_module": "@jupyter-widgets/base",
            "_view_module_version": "1.2.0",
            "_view_name": "StyleView",
            "description_width": "initial"
          }
        },
        "c7822fd2ef08483e86a20d536bff3377": {
          "model_module": "@jupyter-widgets/base",
          "model_name": "LayoutModel",
          "model_module_version": "1.2.0",
          "state": {
            "_model_module": "@jupyter-widgets/base",
            "_model_module_version": "1.2.0",
            "_model_name": "LayoutModel",
            "_view_count": null,
            "_view_module": "@jupyter-widgets/base",
            "_view_module_version": "1.2.0",
            "_view_name": "LayoutView",
            "align_content": null,
            "align_items": null,
            "align_self": null,
            "border": null,
            "bottom": null,
            "display": null,
            "flex": null,
            "flex_flow": null,
            "grid_area": null,
            "grid_auto_columns": null,
            "grid_auto_flow": null,
            "grid_auto_rows": null,
            "grid_column": null,
            "grid_gap": null,
            "grid_row": null,
            "grid_template_areas": null,
            "grid_template_columns": null,
            "grid_template_rows": null,
            "height": null,
            "justify_content": null,
            "justify_items": null,
            "left": null,
            "margin": null,
            "max_height": null,
            "max_width": null,
            "min_height": null,
            "min_width": null,
            "object_fit": null,
            "object_position": null,
            "order": null,
            "overflow": null,
            "overflow_x": null,
            "overflow_y": null,
            "padding": null,
            "right": null,
            "top": null,
            "visibility": null,
            "width": null
          }
        },
        "962cc46f285b488ab6e3e80bb21e972d": {
          "model_module": "@jupyter-widgets/controls",
          "model_name": "SliderStyleModel",
          "model_module_version": "1.5.0",
          "state": {
            "_model_module": "@jupyter-widgets/controls",
            "_model_module_version": "1.5.0",
            "_model_name": "SliderStyleModel",
            "_view_count": null,
            "_view_module": "@jupyter-widgets/base",
            "_view_module_version": "1.2.0",
            "_view_name": "StyleView",
            "description_width": "initial",
            "handle_color": null
          }
        },
        "8dc86cfa7c9245f9af3861a4909e7526": {
          "model_module": "@jupyter-widgets/base",
          "model_name": "LayoutModel",
          "model_module_version": "1.2.0",
          "state": {
            "_model_module": "@jupyter-widgets/base",
            "_model_module_version": "1.2.0",
            "_model_name": "LayoutModel",
            "_view_count": null,
            "_view_module": "@jupyter-widgets/base",
            "_view_module_version": "1.2.0",
            "_view_name": "LayoutView",
            "align_content": null,
            "align_items": null,
            "align_self": null,
            "border": null,
            "bottom": null,
            "display": null,
            "flex": null,
            "flex_flow": null,
            "grid_area": null,
            "grid_auto_columns": null,
            "grid_auto_flow": null,
            "grid_auto_rows": null,
            "grid_column": null,
            "grid_gap": null,
            "grid_row": null,
            "grid_template_areas": null,
            "grid_template_columns": null,
            "grid_template_rows": null,
            "height": null,
            "justify_content": null,
            "justify_items": null,
            "left": null,
            "margin": null,
            "max_height": null,
            "max_width": null,
            "min_height": null,
            "min_width": null,
            "object_fit": null,
            "object_position": null,
            "order": null,
            "overflow": null,
            "overflow_x": null,
            "overflow_y": null,
            "padding": null,
            "right": null,
            "top": null,
            "visibility": null,
            "width": null
          }
        },
        "8c574d72e6614e13878ae32500dfeb31": {
          "model_module": "@jupyter-widgets/controls",
          "model_name": "SliderStyleModel",
          "model_module_version": "1.5.0",
          "state": {
            "_model_module": "@jupyter-widgets/controls",
            "_model_module_version": "1.5.0",
            "_model_name": "SliderStyleModel",
            "_view_count": null,
            "_view_module": "@jupyter-widgets/base",
            "_view_module_version": "1.2.0",
            "_view_name": "StyleView",
            "description_width": "initial",
            "handle_color": null
          }
        },
        "977ce97a038d4804b34c355465b3c653": {
          "model_module": "@jupyter-widgets/base",
          "model_name": "LayoutModel",
          "model_module_version": "1.2.0",
          "state": {
            "_model_module": "@jupyter-widgets/base",
            "_model_module_version": "1.2.0",
            "_model_name": "LayoutModel",
            "_view_count": null,
            "_view_module": "@jupyter-widgets/base",
            "_view_module_version": "1.2.0",
            "_view_name": "LayoutView",
            "align_content": null,
            "align_items": null,
            "align_self": null,
            "border": null,
            "bottom": null,
            "display": null,
            "flex": null,
            "flex_flow": null,
            "grid_area": null,
            "grid_auto_columns": null,
            "grid_auto_flow": null,
            "grid_auto_rows": null,
            "grid_column": null,
            "grid_gap": null,
            "grid_row": null,
            "grid_template_areas": null,
            "grid_template_columns": null,
            "grid_template_rows": null,
            "height": null,
            "justify_content": null,
            "justify_items": null,
            "left": null,
            "margin": null,
            "max_height": null,
            "max_width": null,
            "min_height": null,
            "min_width": null,
            "object_fit": null,
            "object_position": null,
            "order": null,
            "overflow": null,
            "overflow_x": null,
            "overflow_y": null,
            "padding": null,
            "right": null,
            "top": null,
            "visibility": null,
            "width": null
          }
        },
        "dcc152d8554f492e9762e51441f9aa89": {
          "model_module": "@jupyter-widgets/controls",
          "model_name": "SliderStyleModel",
          "model_module_version": "1.5.0",
          "state": {
            "_model_module": "@jupyter-widgets/controls",
            "_model_module_version": "1.5.0",
            "_model_name": "SliderStyleModel",
            "_view_count": null,
            "_view_module": "@jupyter-widgets/base",
            "_view_module_version": "1.2.0",
            "_view_name": "StyleView",
            "description_width": "initial",
            "handle_color": null
          }
        },
        "c678ce02955348ccac4bbb3a3a82f07e": {
          "model_module": "@jupyter-widgets/controls",
          "model_name": "CheckboxModel",
          "model_module_version": "1.5.0",
          "state": {
            "_dom_classes": [],
            "_model_module": "@jupyter-widgets/controls",
            "_model_module_version": "1.5.0",
            "_model_name": "CheckboxModel",
            "_view_count": null,
            "_view_module": "@jupyter-widgets/controls",
            "_view_module_version": "1.5.0",
            "_view_name": "CheckboxView",
            "description": "Reduce learning rate on plateau",
            "description_tooltip": null,
            "disabled": false,
            "indent": false,
            "layout": "IPY_MODEL_bd4235e71e4e4672bfa3f8ffc9883d5c",
            "style": "IPY_MODEL_964184d632d54066876dbbbb0ccb1ad6",
            "value": true
          }
        },
        "9248eca3d61043ca999e776e771cd3e3": {
          "model_module": "@jupyter-widgets/controls",
          "model_name": "FloatSliderModel",
          "model_module_version": "1.5.0",
          "state": {
            "_dom_classes": [],
            "_model_module": "@jupyter-widgets/controls",
            "_model_module_version": "1.5.0",
            "_model_name": "FloatSliderModel",
            "_view_count": null,
            "_view_module": "@jupyter-widgets/controls",
            "_view_module_version": "1.5.0",
            "_view_name": "FloatSliderView",
            "continuous_update": true,
            "description": "Factor (0.5 means reduce lr by 2)",
            "description_tooltip": null,
            "disabled": false,
            "layout": "IPY_MODEL_e68c0512c24f46b09664e1b3693d1d5f",
            "max": 1,
            "min": 0,
            "orientation": "horizontal",
            "readout": true,
            "readout_format": ".2f",
            "step": 0.01,
            "style": "IPY_MODEL_06fea95d2e234cd884f9cdbbb49ee02f",
            "value": 0.5
          }
        },
        "b634abe43d1d4bea971769c819bd18ec": {
          "model_module": "@jupyter-widgets/controls",
          "model_name": "IntSliderModel",
          "model_module_version": "1.5.0",
          "state": {
            "_dom_classes": [],
            "_model_module": "@jupyter-widgets/controls",
            "_model_module_version": "1.5.0",
            "_model_name": "IntSliderModel",
            "_view_count": null,
            "_view_module": "@jupyter-widgets/controls",
            "_view_module_version": "1.5.0",
            "_view_name": "IntSliderView",
            "continuous_update": true,
            "description": "Patience",
            "description_tooltip": null,
            "disabled": false,
            "layout": "IPY_MODEL_e4b3bdaefcd1485eadf8b6539530785c",
            "max": 100,
            "min": 2,
            "orientation": "horizontal",
            "readout": true,
            "readout_format": "d",
            "step": 1,
            "style": "IPY_MODEL_cf596c43264644c4beede5a3d26f0a7d",
            "value": 10
          }
        },
        "96cfec2da190400dbbdb201229420454": {
          "model_module": "@jupyter-widgets/base",
          "model_name": "LayoutModel",
          "model_module_version": "1.2.0",
          "state": {
            "_model_module": "@jupyter-widgets/base",
            "_model_module_version": "1.2.0",
            "_model_name": "LayoutModel",
            "_view_count": null,
            "_view_module": "@jupyter-widgets/base",
            "_view_module_version": "1.2.0",
            "_view_name": "LayoutView",
            "align_content": null,
            "align_items": null,
            "align_self": null,
            "border": null,
            "bottom": null,
            "display": null,
            "flex": null,
            "flex_flow": null,
            "grid_area": null,
            "grid_auto_columns": null,
            "grid_auto_flow": null,
            "grid_auto_rows": null,
            "grid_column": null,
            "grid_gap": null,
            "grid_row": null,
            "grid_template_areas": null,
            "grid_template_columns": null,
            "grid_template_rows": null,
            "height": null,
            "justify_content": null,
            "justify_items": null,
            "left": null,
            "margin": null,
            "max_height": null,
            "max_width": null,
            "min_height": null,
            "min_width": null,
            "object_fit": null,
            "object_position": null,
            "order": null,
            "overflow": null,
            "overflow_x": null,
            "overflow_y": null,
            "padding": null,
            "right": null,
            "top": null,
            "visibility": null,
            "width": null
          }
        },
        "bd4235e71e4e4672bfa3f8ffc9883d5c": {
          "model_module": "@jupyter-widgets/base",
          "model_name": "LayoutModel",
          "model_module_version": "1.2.0",
          "state": {
            "_model_module": "@jupyter-widgets/base",
            "_model_module_version": "1.2.0",
            "_model_name": "LayoutModel",
            "_view_count": null,
            "_view_module": "@jupyter-widgets/base",
            "_view_module_version": "1.2.0",
            "_view_name": "LayoutView",
            "align_content": null,
            "align_items": null,
            "align_self": null,
            "border": null,
            "bottom": null,
            "display": null,
            "flex": null,
            "flex_flow": null,
            "grid_area": null,
            "grid_auto_columns": null,
            "grid_auto_flow": null,
            "grid_auto_rows": null,
            "grid_column": null,
            "grid_gap": null,
            "grid_row": null,
            "grid_template_areas": null,
            "grid_template_columns": null,
            "grid_template_rows": null,
            "height": null,
            "justify_content": null,
            "justify_items": null,
            "left": null,
            "margin": null,
            "max_height": null,
            "max_width": null,
            "min_height": null,
            "min_width": null,
            "object_fit": null,
            "object_position": null,
            "order": null,
            "overflow": null,
            "overflow_x": null,
            "overflow_y": null,
            "padding": null,
            "right": null,
            "top": null,
            "visibility": null,
            "width": null
          }
        },
        "964184d632d54066876dbbbb0ccb1ad6": {
          "model_module": "@jupyter-widgets/controls",
          "model_name": "DescriptionStyleModel",
          "model_module_version": "1.5.0",
          "state": {
            "_model_module": "@jupyter-widgets/controls",
            "_model_module_version": "1.5.0",
            "_model_name": "DescriptionStyleModel",
            "_view_count": null,
            "_view_module": "@jupyter-widgets/base",
            "_view_module_version": "1.2.0",
            "_view_name": "StyleView",
            "description_width": "initial"
          }
        },
        "e68c0512c24f46b09664e1b3693d1d5f": {
          "model_module": "@jupyter-widgets/base",
          "model_name": "LayoutModel",
          "model_module_version": "1.2.0",
          "state": {
            "_model_module": "@jupyter-widgets/base",
            "_model_module_version": "1.2.0",
            "_model_name": "LayoutModel",
            "_view_count": null,
            "_view_module": "@jupyter-widgets/base",
            "_view_module_version": "1.2.0",
            "_view_name": "LayoutView",
            "align_content": null,
            "align_items": null,
            "align_self": null,
            "border": null,
            "bottom": null,
            "display": null,
            "flex": null,
            "flex_flow": null,
            "grid_area": null,
            "grid_auto_columns": null,
            "grid_auto_flow": null,
            "grid_auto_rows": null,
            "grid_column": null,
            "grid_gap": null,
            "grid_row": null,
            "grid_template_areas": null,
            "grid_template_columns": null,
            "grid_template_rows": null,
            "height": null,
            "justify_content": null,
            "justify_items": null,
            "left": null,
            "margin": null,
            "max_height": null,
            "max_width": null,
            "min_height": null,
            "min_width": null,
            "object_fit": null,
            "object_position": null,
            "order": null,
            "overflow": null,
            "overflow_x": null,
            "overflow_y": null,
            "padding": null,
            "right": null,
            "top": null,
            "visibility": null,
            "width": null
          }
        },
        "06fea95d2e234cd884f9cdbbb49ee02f": {
          "model_module": "@jupyter-widgets/controls",
          "model_name": "SliderStyleModel",
          "model_module_version": "1.5.0",
          "state": {
            "_model_module": "@jupyter-widgets/controls",
            "_model_module_version": "1.5.0",
            "_model_name": "SliderStyleModel",
            "_view_count": null,
            "_view_module": "@jupyter-widgets/base",
            "_view_module_version": "1.2.0",
            "_view_name": "StyleView",
            "description_width": "initial",
            "handle_color": null
          }
        },
        "e4b3bdaefcd1485eadf8b6539530785c": {
          "model_module": "@jupyter-widgets/base",
          "model_name": "LayoutModel",
          "model_module_version": "1.2.0",
          "state": {
            "_model_module": "@jupyter-widgets/base",
            "_model_module_version": "1.2.0",
            "_model_name": "LayoutModel",
            "_view_count": null,
            "_view_module": "@jupyter-widgets/base",
            "_view_module_version": "1.2.0",
            "_view_name": "LayoutView",
            "align_content": null,
            "align_items": null,
            "align_self": null,
            "border": null,
            "bottom": null,
            "display": null,
            "flex": null,
            "flex_flow": null,
            "grid_area": null,
            "grid_auto_columns": null,
            "grid_auto_flow": null,
            "grid_auto_rows": null,
            "grid_column": null,
            "grid_gap": null,
            "grid_row": null,
            "grid_template_areas": null,
            "grid_template_columns": null,
            "grid_template_rows": null,
            "height": null,
            "justify_content": null,
            "justify_items": null,
            "left": null,
            "margin": null,
            "max_height": null,
            "max_width": null,
            "min_height": null,
            "min_width": null,
            "object_fit": null,
            "object_position": null,
            "order": null,
            "overflow": null,
            "overflow_x": null,
            "overflow_y": null,
            "padding": null,
            "right": null,
            "top": null,
            "visibility": null,
            "width": null
          }
        },
        "cf596c43264644c4beede5a3d26f0a7d": {
          "model_module": "@jupyter-widgets/controls",
          "model_name": "SliderStyleModel",
          "model_module_version": "1.5.0",
          "state": {
            "_model_module": "@jupyter-widgets/controls",
            "_model_module_version": "1.5.0",
            "_model_name": "SliderStyleModel",
            "_view_count": null,
            "_view_module": "@jupyter-widgets/base",
            "_view_module_version": "1.2.0",
            "_view_name": "StyleView",
            "description_width": "initial",
            "handle_color": null
          }
        },
        "789c10e376fc4fc28c1e65f719441ce2": {
          "model_module": "@jupyter-widgets/controls",
          "model_name": "VBoxModel",
          "model_module_version": "1.5.0",
          "state": {
            "_dom_classes": [],
            "_model_module": "@jupyter-widgets/controls",
            "_model_module_version": "1.5.0",
            "_model_name": "VBoxModel",
            "_view_count": null,
            "_view_module": "@jupyter-widgets/controls",
            "_view_module_version": "1.5.0",
            "_view_name": "VBoxView",
            "box_style": "",
            "children": [
              "IPY_MODEL_b76ded6a952446838d966bed7430e544",
              "IPY_MODEL_ce64a1f0bf34476eb3c853aac6807aed"
            ],
            "layout": "IPY_MODEL_ebc3c7a9151e432b8dfd487578db23de"
          }
        },
        "b76ded6a952446838d966bed7430e544": {
          "model_module": "@jupyter-widgets/controls",
          "model_name": "IntSliderModel",
          "model_module_version": "1.5.0",
          "state": {
            "_dom_classes": [],
            "_model_module": "@jupyter-widgets/controls",
            "_model_module_version": "1.5.0",
            "_model_name": "IntSliderModel",
            "_view_count": null,
            "_view_module": "@jupyter-widgets/controls",
            "_view_module_version": "1.5.0",
            "_view_name": "IntSliderView",
            "continuous_update": true,
            "description": "tile width",
            "description_tooltip": null,
            "disabled": false,
            "layout": "IPY_MODEL_415d4d13e83f49bd9d348f1408e4e98f",
            "max": 1024,
            "min": 16,
            "orientation": "horizontal",
            "readout": true,
            "readout_format": "d",
            "step": 2,
            "style": "IPY_MODEL_7ed4354cfb3e404b8514a89fcf87aa16",
            "value": 128
          }
        },
        "ce64a1f0bf34476eb3c853aac6807aed": {
          "model_module": "@jupyter-widgets/controls",
          "model_name": "IntSliderModel",
          "model_module_version": "1.5.0",
          "state": {
            "_dom_classes": [],
            "_model_module": "@jupyter-widgets/controls",
            "_model_module_version": "1.5.0",
            "_model_name": "IntSliderModel",
            "_view_count": null,
            "_view_module": "@jupyter-widgets/controls",
            "_view_module_version": "1.5.0",
            "_view_name": "IntSliderView",
            "continuous_update": true,
            "description": "tile height",
            "description_tooltip": null,
            "disabled": false,
            "layout": "IPY_MODEL_4a0839b6e35f47d48583163f0bda577a",
            "max": 1024,
            "min": 16,
            "orientation": "horizontal",
            "readout": true,
            "readout_format": "d",
            "step": 2,
            "style": "IPY_MODEL_71bec140d0c1426099deb5f6989cc344",
            "value": 128
          }
        },
        "ebc3c7a9151e432b8dfd487578db23de": {
          "model_module": "@jupyter-widgets/base",
          "model_name": "LayoutModel",
          "model_module_version": "1.2.0",
          "state": {
            "_model_module": "@jupyter-widgets/base",
            "_model_module_version": "1.2.0",
            "_model_name": "LayoutModel",
            "_view_count": null,
            "_view_module": "@jupyter-widgets/base",
            "_view_module_version": "1.2.0",
            "_view_name": "LayoutView",
            "align_content": null,
            "align_items": null,
            "align_self": null,
            "border": null,
            "bottom": null,
            "display": null,
            "flex": null,
            "flex_flow": null,
            "grid_area": null,
            "grid_auto_columns": null,
            "grid_auto_flow": null,
            "grid_auto_rows": null,
            "grid_column": null,
            "grid_gap": null,
            "grid_row": null,
            "grid_template_areas": null,
            "grid_template_columns": null,
            "grid_template_rows": null,
            "height": null,
            "justify_content": null,
            "justify_items": null,
            "left": null,
            "margin": null,
            "max_height": null,
            "max_width": null,
            "min_height": null,
            "min_width": null,
            "object_fit": null,
            "object_position": null,
            "order": null,
            "overflow": null,
            "overflow_x": null,
            "overflow_y": null,
            "padding": null,
            "right": null,
            "top": null,
            "visibility": null,
            "width": null
          }
        },
        "415d4d13e83f49bd9d348f1408e4e98f": {
          "model_module": "@jupyter-widgets/base",
          "model_name": "LayoutModel",
          "model_module_version": "1.2.0",
          "state": {
            "_model_module": "@jupyter-widgets/base",
            "_model_module_version": "1.2.0",
            "_model_name": "LayoutModel",
            "_view_count": null,
            "_view_module": "@jupyter-widgets/base",
            "_view_module_version": "1.2.0",
            "_view_name": "LayoutView",
            "align_content": null,
            "align_items": null,
            "align_self": null,
            "border": null,
            "bottom": null,
            "display": null,
            "flex": null,
            "flex_flow": null,
            "grid_area": null,
            "grid_auto_columns": null,
            "grid_auto_flow": null,
            "grid_auto_rows": null,
            "grid_column": null,
            "grid_gap": null,
            "grid_row": null,
            "grid_template_areas": null,
            "grid_template_columns": null,
            "grid_template_rows": null,
            "height": null,
            "justify_content": null,
            "justify_items": null,
            "left": null,
            "margin": null,
            "max_height": null,
            "max_width": null,
            "min_height": null,
            "min_width": null,
            "object_fit": null,
            "object_position": null,
            "order": null,
            "overflow": null,
            "overflow_x": null,
            "overflow_y": null,
            "padding": null,
            "right": null,
            "top": null,
            "visibility": null,
            "width": null
          }
        },
        "7ed4354cfb3e404b8514a89fcf87aa16": {
          "model_module": "@jupyter-widgets/controls",
          "model_name": "SliderStyleModel",
          "model_module_version": "1.5.0",
          "state": {
            "_model_module": "@jupyter-widgets/controls",
            "_model_module_version": "1.5.0",
            "_model_name": "SliderStyleModel",
            "_view_count": null,
            "_view_module": "@jupyter-widgets/base",
            "_view_module_version": "1.2.0",
            "_view_name": "StyleView",
            "description_width": "initial",
            "handle_color": null
          }
        },
        "4a0839b6e35f47d48583163f0bda577a": {
          "model_module": "@jupyter-widgets/base",
          "model_name": "LayoutModel",
          "model_module_version": "1.2.0",
          "state": {
            "_model_module": "@jupyter-widgets/base",
            "_model_module_version": "1.2.0",
            "_model_name": "LayoutModel",
            "_view_count": null,
            "_view_module": "@jupyter-widgets/base",
            "_view_module_version": "1.2.0",
            "_view_name": "LayoutView",
            "align_content": null,
            "align_items": null,
            "align_self": null,
            "border": null,
            "bottom": null,
            "display": null,
            "flex": null,
            "flex_flow": null,
            "grid_area": null,
            "grid_auto_columns": null,
            "grid_auto_flow": null,
            "grid_auto_rows": null,
            "grid_column": null,
            "grid_gap": null,
            "grid_row": null,
            "grid_template_areas": null,
            "grid_template_columns": null,
            "grid_template_rows": null,
            "height": null,
            "justify_content": null,
            "justify_items": null,
            "left": null,
            "margin": null,
            "max_height": null,
            "max_width": null,
            "min_height": null,
            "min_width": null,
            "object_fit": null,
            "object_position": null,
            "order": null,
            "overflow": null,
            "overflow_x": null,
            "overflow_y": null,
            "padding": null,
            "right": null,
            "top": null,
            "visibility": null,
            "width": null
          }
        },
        "71bec140d0c1426099deb5f6989cc344": {
          "model_module": "@jupyter-widgets/controls",
          "model_name": "SliderStyleModel",
          "model_module_version": "1.5.0",
          "state": {
            "_model_module": "@jupyter-widgets/controls",
            "_model_module_version": "1.5.0",
            "_model_name": "SliderStyleModel",
            "_view_count": null,
            "_view_module": "@jupyter-widgets/base",
            "_view_module_version": "1.2.0",
            "_view_name": "StyleView",
            "description_width": "initial",
            "handle_color": null
          }
        },
        "ca969e66944749fd81fb45e0b85bd64e": {
          "model_module": "@jupyter-widgets/controls",
          "model_name": "VBoxModel",
          "model_module_version": "1.5.0",
          "state": {
            "_dom_classes": [
              "widget-interact"
            ],
            "_model_module": "@jupyter-widgets/controls",
            "_model_module_version": "1.5.0",
            "_model_name": "VBoxModel",
            "_view_count": null,
            "_view_module": "@jupyter-widgets/controls",
            "_view_module_version": "1.5.0",
            "_view_name": "VBoxView",
            "box_style": "",
            "children": [
              "IPY_MODEL_2378a85ffb5c45f584e420697656ffbc",
              "IPY_MODEL_58199ad69cb1472bae0c9370466e073e"
            ],
            "layout": "IPY_MODEL_3cf8595a292f49d3994f1373cce78d4c"
          }
        },
        "2378a85ffb5c45f584e420697656ffbc": {
          "model_module": "@jupyter-widgets/controls",
          "model_name": "DropdownModel",
          "model_module_version": "1.5.0",
          "state": {
            "_dom_classes": [],
            "_model_module": "@jupyter-widgets/controls",
            "_model_module_version": "1.5.0",
            "_model_name": "DropdownModel",
            "_options_labels": [
              "None",
              "shear",
              "zoom",
              "rotate",
              "rotate (interpolation free)",
              "flip",
              "blur",
              "intensity",
              "translate",
              "invert",
              "low noise",
              "roll along Z (2D + GT ignored)",
              "shuffle images along Z (2D + GT ignored)",
              "random_intensity_gamma_contrast",
              "high noise",
              "stretch",
              "elastic",
              "strong_elastic",
              "elastic_with_zoom_and_translation",
              "strong_elastic_with_zoom_and_translation",
              "graded_intensity_modification"
            ],
            "_view_count": null,
            "_view_module": "@jupyter-widgets/controls",
            "_view_module_version": "1.5.0",
            "_view_name": "DropdownView",
            "description": "Data augmentation",
            "description_tooltip": null,
            "disabled": false,
            "index": 4,
            "layout": "IPY_MODEL_47e01aeee90043f985f4486223c99f21",
            "style": "IPY_MODEL_cb6c455133c848af8bbfd50c7544bb5a"
          }
        },
        "58199ad69cb1472bae0c9370466e073e": {
          "model_module": "@jupyter-widgets/output",
          "model_name": "OutputModel",
          "model_module_version": "1.0.0",
          "state": {
            "_dom_classes": [],
            "_model_module": "@jupyter-widgets/output",
            "_model_module_version": "1.0.0",
            "_model_name": "OutputModel",
            "_view_count": null,
            "_view_module": "@jupyter-widgets/output",
            "_view_module_version": "1.0.0",
            "_view_name": "OutputView",
            "layout": "IPY_MODEL_8a2f73e24f824d5a9923e245f98af050",
            "msg_id": "",
            "outputs": []
          }
        },
        "3cf8595a292f49d3994f1373cce78d4c": {
          "model_module": "@jupyter-widgets/base",
          "model_name": "LayoutModel",
          "model_module_version": "1.2.0",
          "state": {
            "_model_module": "@jupyter-widgets/base",
            "_model_module_version": "1.2.0",
            "_model_name": "LayoutModel",
            "_view_count": null,
            "_view_module": "@jupyter-widgets/base",
            "_view_module_version": "1.2.0",
            "_view_name": "LayoutView",
            "align_content": null,
            "align_items": null,
            "align_self": null,
            "border": null,
            "bottom": null,
            "display": null,
            "flex": null,
            "flex_flow": null,
            "grid_area": null,
            "grid_auto_columns": null,
            "grid_auto_flow": null,
            "grid_auto_rows": null,
            "grid_column": null,
            "grid_gap": null,
            "grid_row": null,
            "grid_template_areas": null,
            "grid_template_columns": null,
            "grid_template_rows": null,
            "height": null,
            "justify_content": null,
            "justify_items": null,
            "left": null,
            "margin": null,
            "max_height": null,
            "max_width": null,
            "min_height": null,
            "min_width": null,
            "object_fit": null,
            "object_position": null,
            "order": null,
            "overflow": null,
            "overflow_x": null,
            "overflow_y": null,
            "padding": null,
            "right": null,
            "top": null,
            "visibility": null,
            "width": null
          }
        },
        "47e01aeee90043f985f4486223c99f21": {
          "model_module": "@jupyter-widgets/base",
          "model_name": "LayoutModel",
          "model_module_version": "1.2.0",
          "state": {
            "_model_module": "@jupyter-widgets/base",
            "_model_module_version": "1.2.0",
            "_model_name": "LayoutModel",
            "_view_count": null,
            "_view_module": "@jupyter-widgets/base",
            "_view_module_version": "1.2.0",
            "_view_name": "LayoutView",
            "align_content": null,
            "align_items": null,
            "align_self": null,
            "border": null,
            "bottom": null,
            "display": null,
            "flex": null,
            "flex_flow": null,
            "grid_area": null,
            "grid_auto_columns": null,
            "grid_auto_flow": null,
            "grid_auto_rows": null,
            "grid_column": null,
            "grid_gap": null,
            "grid_row": null,
            "grid_template_areas": null,
            "grid_template_columns": null,
            "grid_template_rows": null,
            "height": null,
            "justify_content": null,
            "justify_items": null,
            "left": null,
            "margin": null,
            "max_height": null,
            "max_width": null,
            "min_height": null,
            "min_width": null,
            "object_fit": null,
            "object_position": null,
            "order": null,
            "overflow": null,
            "overflow_x": null,
            "overflow_y": null,
            "padding": null,
            "right": null,
            "top": null,
            "visibility": null,
            "width": null
          }
        },
        "cb6c455133c848af8bbfd50c7544bb5a": {
          "model_module": "@jupyter-widgets/controls",
          "model_name": "DescriptionStyleModel",
          "model_module_version": "1.5.0",
          "state": {
            "_model_module": "@jupyter-widgets/controls",
            "_model_module_version": "1.5.0",
            "_model_name": "DescriptionStyleModel",
            "_view_count": null,
            "_view_module": "@jupyter-widgets/base",
            "_view_module_version": "1.2.0",
            "_view_name": "StyleView",
            "description_width": "initial"
          }
        },
        "8a2f73e24f824d5a9923e245f98af050": {
          "model_module": "@jupyter-widgets/base",
          "model_name": "LayoutModel",
          "model_module_version": "1.2.0",
          "state": {
            "_model_module": "@jupyter-widgets/base",
            "_model_module_version": "1.2.0",
            "_model_name": "LayoutModel",
            "_view_count": null,
            "_view_module": "@jupyter-widgets/base",
            "_view_module_version": "1.2.0",
            "_view_name": "LayoutView",
            "align_content": null,
            "align_items": null,
            "align_self": null,
            "border": null,
            "bottom": null,
            "display": null,
            "flex": null,
            "flex_flow": null,
            "grid_area": null,
            "grid_auto_columns": null,
            "grid_auto_flow": null,
            "grid_auto_rows": null,
            "grid_column": null,
            "grid_gap": null,
            "grid_row": null,
            "grid_template_areas": null,
            "grid_template_columns": null,
            "grid_template_rows": null,
            "height": null,
            "justify_content": null,
            "justify_items": null,
            "left": null,
            "margin": null,
            "max_height": null,
            "max_width": null,
            "min_height": null,
            "min_width": null,
            "object_fit": null,
            "object_position": null,
            "order": null,
            "overflow": null,
            "overflow_x": null,
            "overflow_y": null,
            "padding": null,
            "right": null,
            "top": null,
            "visibility": null,
            "width": null
          }
        },
        "5cc6a893831e436c9c2819a4e233fd0f": {
          "model_module": "@jupyter-widgets/controls",
          "model_name": "VBoxModel",
          "model_module_version": "1.5.0",
          "state": {
            "_dom_classes": [],
            "_model_module": "@jupyter-widgets/controls",
            "_model_module_version": "1.5.0",
            "_model_name": "VBoxModel",
            "_view_count": null,
            "_view_module": "@jupyter-widgets/controls",
            "_view_module_version": "1.5.0",
            "_view_name": "VBoxView",
            "box_style": "",
            "children": [
              "IPY_MODEL_9c09cdd954dc4428a03e7892f4a507a4",
              "IPY_MODEL_09d7b7880c32460181ccd598c0c56196",
              "IPY_MODEL_35d36f1c068042a8bceb5928531a2edb",
              "IPY_MODEL_f5f96f90f4b14dbf999395f2830a3649"
            ],
            "layout": "IPY_MODEL_b31d59e5d2a74bfaad172597be6ee0ca"
          }
        },
        "9c09cdd954dc4428a03e7892f4a507a4": {
          "model_module": "@jupyter-widgets/controls",
          "model_name": "SelectModel",
          "model_module_version": "1.5.0",
          "state": {
            "_dom_classes": [],
            "_model_module": "@jupyter-widgets/controls",
            "_model_module_version": "1.5.0",
            "_model_name": "SelectModel",
            "_options_labels": [
              "{\"type\": \"flip\"}",
              "{\"type\": \"zoom\", \"value\": 0.25}",
              "{\"type\": \"rotate\", \"value\": 1.0}",
              "{\"type\": \"rotate (interpolation free)\"}"
            ],
            "_view_count": null,
            "_view_module": "@jupyter-widgets/controls",
            "_view_module_version": "1.5.0",
            "_view_name": "SelectView",
            "description": "Selected augmentations:",
            "description_tooltip": null,
            "disabled": false,
            "index": 0,
            "layout": "IPY_MODEL_f0b5b87d85f54f6680e88cb5aeebba4c",
            "rows": 5,
            "style": "IPY_MODEL_0c592b627a744217ba03c38b342f7331"
          }
        },
        "09d7b7880c32460181ccd598c0c56196": {
          "model_module": "@jupyter-widgets/controls",
          "model_name": "FloatSliderModel",
          "model_module_version": "1.5.0",
          "state": {
            "_dom_classes": [],
            "_model_module": "@jupyter-widgets/controls",
            "_model_module_version": "1.5.0",
            "_model_name": "FloatSliderModel",
            "_view_count": null,
            "_view_module": "@jupyter-widgets/controls",
            "_view_module_version": "1.5.0",
            "_view_name": "FloatSliderView",
            "continuous_update": true,
            "description": "range/rate",
            "description_tooltip": null,
            "disabled": true,
            "layout": "IPY_MODEL_1aee75d0895c40a6a5ddc2c9277dd3b2",
            "max": 1,
            "min": 0,
            "orientation": "horizontal",
            "readout": true,
            "readout_format": ".2f",
            "step": 0.01,
            "style": "IPY_MODEL_09997cb623464f26868cdc5eded9396f",
            "value": 1
          }
        },
        "35d36f1c068042a8bceb5928531a2edb": {
          "model_module": "@jupyter-widgets/controls",
          "model_name": "HBoxModel",
          "model_module_version": "1.5.0",
          "state": {
            "_dom_classes": [],
            "_model_module": "@jupyter-widgets/controls",
            "_model_module_version": "1.5.0",
            "_model_name": "HBoxModel",
            "_view_count": null,
            "_view_module": "@jupyter-widgets/controls",
            "_view_module_version": "1.5.0",
            "_view_name": "HBoxView",
            "box_style": "",
            "children": [
              "IPY_MODEL_c653c529b8424684894b42b1fd45f3ad",
              "IPY_MODEL_271ad7b1d00044dab99c8187e7e900d0"
            ],
            "layout": "IPY_MODEL_d62b756291c74badae6eca252eeb5dee"
          }
        },
        "f5f96f90f4b14dbf999395f2830a3649": {
          "model_module": "@jupyter-widgets/controls",
          "model_name": "CheckboxModel",
          "model_module_version": "1.5.0",
          "state": {
            "_dom_classes": [],
            "_model_module": "@jupyter-widgets/controls",
            "_model_module_version": "1.5.0",
            "_model_name": "CheckboxModel",
            "_view_count": null,
            "_view_module": "@jupyter-widgets/controls",
            "_view_module_version": "1.5.0",
            "_view_name": "CheckboxView",
            "description": "Rotate/flip augmented output (interpolation free)",
            "description_tooltip": null,
            "disabled": false,
            "indent": false,
            "layout": "IPY_MODEL_59813b7950c840ac96398c8637fcd2d6",
            "style": "IPY_MODEL_b73aa97b338a40f09b76d10224af2552",
            "value": true
          }
        },
        "b31d59e5d2a74bfaad172597be6ee0ca": {
          "model_module": "@jupyter-widgets/base",
          "model_name": "LayoutModel",
          "model_module_version": "1.2.0",
          "state": {
            "_model_module": "@jupyter-widgets/base",
            "_model_module_version": "1.2.0",
            "_model_name": "LayoutModel",
            "_view_count": null,
            "_view_module": "@jupyter-widgets/base",
            "_view_module_version": "1.2.0",
            "_view_name": "LayoutView",
            "align_content": null,
            "align_items": null,
            "align_self": null,
            "border": null,
            "bottom": null,
            "display": null,
            "flex": null,
            "flex_flow": null,
            "grid_area": null,
            "grid_auto_columns": null,
            "grid_auto_flow": null,
            "grid_auto_rows": null,
            "grid_column": null,
            "grid_gap": null,
            "grid_row": null,
            "grid_template_areas": null,
            "grid_template_columns": null,
            "grid_template_rows": null,
            "height": null,
            "justify_content": null,
            "justify_items": null,
            "left": null,
            "margin": null,
            "max_height": null,
            "max_width": null,
            "min_height": null,
            "min_width": null,
            "object_fit": null,
            "object_position": null,
            "order": null,
            "overflow": null,
            "overflow_x": null,
            "overflow_y": null,
            "padding": null,
            "right": null,
            "top": null,
            "visibility": null,
            "width": null
          }
        },
        "f0b5b87d85f54f6680e88cb5aeebba4c": {
          "model_module": "@jupyter-widgets/base",
          "model_name": "LayoutModel",
          "model_module_version": "1.2.0",
          "state": {
            "_model_module": "@jupyter-widgets/base",
            "_model_module_version": "1.2.0",
            "_model_name": "LayoutModel",
            "_view_count": null,
            "_view_module": "@jupyter-widgets/base",
            "_view_module_version": "1.2.0",
            "_view_name": "LayoutView",
            "align_content": null,
            "align_items": null,
            "align_self": null,
            "border": null,
            "bottom": null,
            "display": null,
            "flex": null,
            "flex_flow": null,
            "grid_area": null,
            "grid_auto_columns": null,
            "grid_auto_flow": null,
            "grid_auto_rows": null,
            "grid_column": null,
            "grid_gap": null,
            "grid_row": null,
            "grid_template_areas": null,
            "grid_template_columns": null,
            "grid_template_rows": null,
            "height": null,
            "justify_content": null,
            "justify_items": null,
            "left": null,
            "margin": null,
            "max_height": null,
            "max_width": null,
            "min_height": null,
            "min_width": null,
            "object_fit": null,
            "object_position": null,
            "order": null,
            "overflow": null,
            "overflow_x": null,
            "overflow_y": null,
            "padding": null,
            "right": null,
            "top": null,
            "visibility": null,
            "width": null
          }
        },
        "0c592b627a744217ba03c38b342f7331": {
          "model_module": "@jupyter-widgets/controls",
          "model_name": "DescriptionStyleModel",
          "model_module_version": "1.5.0",
          "state": {
            "_model_module": "@jupyter-widgets/controls",
            "_model_module_version": "1.5.0",
            "_model_name": "DescriptionStyleModel",
            "_view_count": null,
            "_view_module": "@jupyter-widgets/base",
            "_view_module_version": "1.2.0",
            "_view_name": "StyleView",
            "description_width": "initial"
          }
        },
        "1aee75d0895c40a6a5ddc2c9277dd3b2": {
          "model_module": "@jupyter-widgets/base",
          "model_name": "LayoutModel",
          "model_module_version": "1.2.0",
          "state": {
            "_model_module": "@jupyter-widgets/base",
            "_model_module_version": "1.2.0",
            "_model_name": "LayoutModel",
            "_view_count": null,
            "_view_module": "@jupyter-widgets/base",
            "_view_module_version": "1.2.0",
            "_view_name": "LayoutView",
            "align_content": null,
            "align_items": null,
            "align_self": null,
            "border": null,
            "bottom": null,
            "display": null,
            "flex": null,
            "flex_flow": null,
            "grid_area": null,
            "grid_auto_columns": null,
            "grid_auto_flow": null,
            "grid_auto_rows": null,
            "grid_column": null,
            "grid_gap": null,
            "grid_row": null,
            "grid_template_areas": null,
            "grid_template_columns": null,
            "grid_template_rows": null,
            "height": null,
            "justify_content": null,
            "justify_items": null,
            "left": null,
            "margin": null,
            "max_height": null,
            "max_width": null,
            "min_height": null,
            "min_width": null,
            "object_fit": null,
            "object_position": null,
            "order": null,
            "overflow": null,
            "overflow_x": null,
            "overflow_y": null,
            "padding": null,
            "right": null,
            "top": null,
            "visibility": null,
            "width": null
          }
        },
        "09997cb623464f26868cdc5eded9396f": {
          "model_module": "@jupyter-widgets/controls",
          "model_name": "SliderStyleModel",
          "model_module_version": "1.5.0",
          "state": {
            "_model_module": "@jupyter-widgets/controls",
            "_model_module_version": "1.5.0",
            "_model_name": "SliderStyleModel",
            "_view_count": null,
            "_view_module": "@jupyter-widgets/base",
            "_view_module_version": "1.2.0",
            "_view_name": "StyleView",
            "description_width": "initial",
            "handle_color": null
          }
        },
        "c653c529b8424684894b42b1fd45f3ad": {
          "model_module": "@jupyter-widgets/controls",
          "model_name": "ButtonModel",
          "model_module_version": "1.5.0",
          "state": {
            "_dom_classes": [],
            "_model_module": "@jupyter-widgets/controls",
            "_model_module_version": "1.5.0",
            "_model_name": "ButtonModel",
            "_view_count": null,
            "_view_module": "@jupyter-widgets/controls",
            "_view_module_version": "1.5.0",
            "_view_name": "ButtonView",
            "button_style": "",
            "description": "Add",
            "disabled": false,
            "icon": "",
            "layout": "IPY_MODEL_0ca9ecb9a6b74231a0653fc438ad8f0c",
            "style": "IPY_MODEL_9335b1b1c78a48a59dfa006074776f5c",
            "tooltip": ""
          }
        },
        "271ad7b1d00044dab99c8187e7e900d0": {
          "model_module": "@jupyter-widgets/controls",
          "model_name": "ButtonModel",
          "model_module_version": "1.5.0",
          "state": {
            "_dom_classes": [],
            "_model_module": "@jupyter-widgets/controls",
            "_model_module_version": "1.5.0",
            "_model_name": "ButtonModel",
            "_view_count": null,
            "_view_module": "@jupyter-widgets/controls",
            "_view_module_version": "1.5.0",
            "_view_name": "ButtonView",
            "button_style": "",
            "description": "Remove",
            "disabled": false,
            "icon": "",
            "layout": "IPY_MODEL_77a8ca6dddb24f56b39b7f819f229155",
            "style": "IPY_MODEL_5aedf7ed671c4ba3ad8cdf4f79dd1411",
            "tooltip": ""
          }
        },
        "d62b756291c74badae6eca252eeb5dee": {
          "model_module": "@jupyter-widgets/base",
          "model_name": "LayoutModel",
          "model_module_version": "1.2.0",
          "state": {
            "_model_module": "@jupyter-widgets/base",
            "_model_module_version": "1.2.0",
            "_model_name": "LayoutModel",
            "_view_count": null,
            "_view_module": "@jupyter-widgets/base",
            "_view_module_version": "1.2.0",
            "_view_name": "LayoutView",
            "align_content": null,
            "align_items": null,
            "align_self": null,
            "border": null,
            "bottom": null,
            "display": null,
            "flex": null,
            "flex_flow": null,
            "grid_area": null,
            "grid_auto_columns": null,
            "grid_auto_flow": null,
            "grid_auto_rows": null,
            "grid_column": null,
            "grid_gap": null,
            "grid_row": null,
            "grid_template_areas": null,
            "grid_template_columns": null,
            "grid_template_rows": null,
            "height": null,
            "justify_content": null,
            "justify_items": null,
            "left": null,
            "margin": null,
            "max_height": null,
            "max_width": null,
            "min_height": null,
            "min_width": null,
            "object_fit": null,
            "object_position": null,
            "order": null,
            "overflow": null,
            "overflow_x": null,
            "overflow_y": null,
            "padding": null,
            "right": null,
            "top": null,
            "visibility": null,
            "width": null
          }
        },
        "59813b7950c840ac96398c8637fcd2d6": {
          "model_module": "@jupyter-widgets/base",
          "model_name": "LayoutModel",
          "model_module_version": "1.2.0",
          "state": {
            "_model_module": "@jupyter-widgets/base",
            "_model_module_version": "1.2.0",
            "_model_name": "LayoutModel",
            "_view_count": null,
            "_view_module": "@jupyter-widgets/base",
            "_view_module_version": "1.2.0",
            "_view_name": "LayoutView",
            "align_content": null,
            "align_items": null,
            "align_self": null,
            "border": null,
            "bottom": null,
            "display": null,
            "flex": null,
            "flex_flow": null,
            "grid_area": null,
            "grid_auto_columns": null,
            "grid_auto_flow": null,
            "grid_auto_rows": null,
            "grid_column": null,
            "grid_gap": null,
            "grid_row": null,
            "grid_template_areas": null,
            "grid_template_columns": null,
            "grid_template_rows": null,
            "height": null,
            "justify_content": null,
            "justify_items": null,
            "left": null,
            "margin": null,
            "max_height": null,
            "max_width": null,
            "min_height": null,
            "min_width": null,
            "object_fit": null,
            "object_position": null,
            "order": null,
            "overflow": null,
            "overflow_x": null,
            "overflow_y": null,
            "padding": null,
            "right": null,
            "top": null,
            "visibility": null,
            "width": null
          }
        },
        "b73aa97b338a40f09b76d10224af2552": {
          "model_module": "@jupyter-widgets/controls",
          "model_name": "DescriptionStyleModel",
          "model_module_version": "1.5.0",
          "state": {
            "_model_module": "@jupyter-widgets/controls",
            "_model_module_version": "1.5.0",
            "_model_name": "DescriptionStyleModel",
            "_view_count": null,
            "_view_module": "@jupyter-widgets/base",
            "_view_module_version": "1.2.0",
            "_view_name": "StyleView",
            "description_width": "initial"
          }
        },
        "0ca9ecb9a6b74231a0653fc438ad8f0c": {
          "model_module": "@jupyter-widgets/base",
          "model_name": "LayoutModel",
          "model_module_version": "1.2.0",
          "state": {
            "_model_module": "@jupyter-widgets/base",
            "_model_module_version": "1.2.0",
            "_model_name": "LayoutModel",
            "_view_count": null,
            "_view_module": "@jupyter-widgets/base",
            "_view_module_version": "1.2.0",
            "_view_name": "LayoutView",
            "align_content": null,
            "align_items": null,
            "align_self": null,
            "border": null,
            "bottom": null,
            "display": null,
            "flex": null,
            "flex_flow": null,
            "grid_area": null,
            "grid_auto_columns": null,
            "grid_auto_flow": null,
            "grid_auto_rows": null,
            "grid_column": null,
            "grid_gap": null,
            "grid_row": null,
            "grid_template_areas": null,
            "grid_template_columns": null,
            "grid_template_rows": null,
            "height": null,
            "justify_content": null,
            "justify_items": null,
            "left": null,
            "margin": null,
            "max_height": null,
            "max_width": null,
            "min_height": null,
            "min_width": null,
            "object_fit": null,
            "object_position": null,
            "order": null,
            "overflow": null,
            "overflow_x": null,
            "overflow_y": null,
            "padding": null,
            "right": null,
            "top": null,
            "visibility": null,
            "width": null
          }
        },
        "9335b1b1c78a48a59dfa006074776f5c": {
          "model_module": "@jupyter-widgets/controls",
          "model_name": "ButtonStyleModel",
          "model_module_version": "1.5.0",
          "state": {
            "_model_module": "@jupyter-widgets/controls",
            "_model_module_version": "1.5.0",
            "_model_name": "ButtonStyleModel",
            "_view_count": null,
            "_view_module": "@jupyter-widgets/base",
            "_view_module_version": "1.2.0",
            "_view_name": "StyleView",
            "button_color": null,
            "font_weight": ""
          }
        },
        "77a8ca6dddb24f56b39b7f819f229155": {
          "model_module": "@jupyter-widgets/base",
          "model_name": "LayoutModel",
          "model_module_version": "1.2.0",
          "state": {
            "_model_module": "@jupyter-widgets/base",
            "_model_module_version": "1.2.0",
            "_model_name": "LayoutModel",
            "_view_count": null,
            "_view_module": "@jupyter-widgets/base",
            "_view_module_version": "1.2.0",
            "_view_name": "LayoutView",
            "align_content": null,
            "align_items": null,
            "align_self": null,
            "border": null,
            "bottom": null,
            "display": null,
            "flex": null,
            "flex_flow": null,
            "grid_area": null,
            "grid_auto_columns": null,
            "grid_auto_flow": null,
            "grid_auto_rows": null,
            "grid_column": null,
            "grid_gap": null,
            "grid_row": null,
            "grid_template_areas": null,
            "grid_template_columns": null,
            "grid_template_rows": null,
            "height": null,
            "justify_content": null,
            "justify_items": null,
            "left": null,
            "margin": null,
            "max_height": null,
            "max_width": null,
            "min_height": null,
            "min_width": null,
            "object_fit": null,
            "object_position": null,
            "order": null,
            "overflow": null,
            "overflow_x": null,
            "overflow_y": null,
            "padding": null,
            "right": null,
            "top": null,
            "visibility": null,
            "width": null
          }
        },
        "5aedf7ed671c4ba3ad8cdf4f79dd1411": {
          "model_module": "@jupyter-widgets/controls",
          "model_name": "ButtonStyleModel",
          "model_module_version": "1.5.0",
          "state": {
            "_model_module": "@jupyter-widgets/controls",
            "_model_module_version": "1.5.0",
            "_model_name": "ButtonStyleModel",
            "_view_count": null,
            "_view_module": "@jupyter-widgets/base",
            "_view_module_version": "1.2.0",
            "_view_name": "StyleView",
            "button_color": null,
            "font_weight": ""
          }
        }
      }
    }
  },
  "cells": [
    {
      "cell_type": "markdown",
      "metadata": {
        "id": "view-in-github",
        "colab_type": "text"
      },
      "source": [
        "<a href=\"https://colab.research.google.com/github/baigouy/notebooks/blob/master/EPySeg_build_or_train_a_model_or_further_train_pretrained_EPySeg_model_v3.ipynb\" target=\"_parent\"><img src=\"https://colab.research.google.com/assets/colab-badge.svg\" alt=\"Open In Colab\"/></a>"
      ]
    },
    {
      "cell_type": "markdown",
      "metadata": {
        "id": "03dH2obICNBM"
      },
      "source": [
        "# Before you start\n",
        "\n",
        "__Note: You are using this at your own risk__, the author cannot be help responsible for damage to Google drive or misfunction of the e-mail account (due to drive overfilling). To avoid issues please use a second account dedicated to deep learning. __If you disagree, please quit this page__.\n",
        "\n",
        "[General colab notebook tips](https://github.com/baigouy/notebooks#getting-started)\n",
        "\n",
        "Please report bugs to baigouy@gmail.com"
      ]
    },
    {
      "cell_type": "markdown",
      "metadata": {
        "id": "2LwPS5x44SP7"
      },
      "source": [
        "# Step 1:\n",
        "- Mount Google drive ([How to](https://github.com/baigouy/notebooks#how-to-mount-google-drive-in-colab)).\n",
        "- Select a GPU runtime ([How to](https://github.com/baigouy/notebooks#select-a-gpu-runtime)).\n",
        "- Then run the code cell below ([How to](https://github.com/baigouy/notebooks#how-to-run-a-code-cell))."
      ]
    },
    {
      "cell_type": "code",
      "metadata": {
        "id": "iZ_tom_AB8qr",
        "cellView": "form",
        "colab": {
          "base_uri": "https://localhost:8080/",
          "height": 192
        },
        "outputId": "418d154b-2223-4fc3-f08e-1c601d074343"
      },
      "source": [
        "#@title <-- Press Run\n",
        "from __future__ import print_function # bug fix --> import future must be at the beginning\n",
        "%tensorflow_version 2.x\n",
        "import tensorflow as tf\n",
        "import sys\n",
        "import ipywidgets as widgets\n",
        "from ipywidgets import interact, interactive, fixed, interact_manual\n",
        "from IPython.display import Markdown, display\n",
        "import os\n",
        "\n",
        "# defining an html/md formatting print function\n",
        "def printmd(string):\n",
        "    display(Markdown(string))\n",
        "\n",
        "# defining a filebrowser that can be used later on\n",
        "# FileBrowser modified from DrDub https://gist.github.com/DrDub/6efba6e522302e43d055 PD licence\n",
        "# new beahviour: single click selects a file or a folder, double click browses folders. Blocked browsing of files as if they were folders. Has an option to show files or not (files are shown by default).\n",
        "# Note that I have made a very quick n dirty hack of the initial nice code so that it handles double click, my changes would need some love but it seems functional, please report bugs to BA otherwise\n",
        "# TODO also maybe hack it to select files only or folders or maybe ignore and do the check later and put a warning accordingly (maybe simpler for now)\n",
        "\n",
        "\n",
        "import os\n",
        "import ipywidgets as widgets\n",
        "from ipywidgets import Layout, Button, VBox, Label,Box, HBox, ButtonStyle\n",
        "from timeit import default_timer as timer\n",
        "\n",
        "class FileBrowser(object):\n",
        "    def __init__(self, width='auto', height=\"200px\", item_width=\"auto\", item_height=\"auto\", folders_only=False):\n",
        "        \n",
        "        self.folders_only = folders_only\n",
        "        self.path = os.getcwd()\n",
        "        self._update_files()\n",
        "        \n",
        "        self.layout = Layout(overflow='scroll',\n",
        "                             border ='1px solid black',\n",
        "                             width  ='{}'.format(width),\n",
        "                             height ='{}'.format(height),\n",
        "                             flex_flow = \"column wrap\",\n",
        "                             align_items = \"flex-start\",\n",
        "                             display='flex')\n",
        "        \n",
        "        self.button_dir_syle  = ButtonStyle(button_color='lightgray')\n",
        "        self.button_file_syle = ButtonStyle(button_color='#Fafaff')\n",
        "        \n",
        "        self.button_layout    = Layout(left=\"0px\", width=\"{}\".format(item_width), height=\"{}\".format(item_height))\n",
        "        self.last_click = None\n",
        "        self.root_folder = None\n",
        "        \n",
        "        \n",
        "    def _update_files(self):\n",
        "        self.files = list()\n",
        "        self.dirs  = list()\n",
        "        # print('is dir', self.path, os.path.isdir(self.path))\n",
        "        if(os.path.isdir(self.path)):\n",
        "            for f in os.listdir(self.path):\n",
        "                ff = os.path.join(self.path,f)\n",
        "                if os.path.isdir(ff):\n",
        "                    self.dirs.append(f)\n",
        "                else:\n",
        "                    self.files.append(f)\n",
        "        \n",
        "    def widget(self):\n",
        "        list_box = widgets.Box(layout=self.layout)\n",
        "        box = VBox([list_box, Label(self.path)])\n",
        "        self._update_box(box)\n",
        "        \n",
        "        return box\n",
        "    \n",
        "    \n",
        "    def _update_box(self, main_box, double_click=True):\n",
        "        # print('double click in there', double_click)\n",
        "        path_label = main_box.children[1]\n",
        "        file_or_path = \"Selected file: {}\"\n",
        "        if os.path.isdir(self.path):\n",
        "          file_or_path = \"Selected path: {}\"\n",
        "        path_label.value = file_or_path.format(self.path)\n",
        "        \n",
        "        if self.root_folder is None:\n",
        "          self.root_folder = self.path\n",
        "\n",
        "        box        = main_box.children[0]\n",
        "        if not double_click:\n",
        "          # print('skipping')\n",
        "          return box\n",
        "        else:\n",
        "          if (os.path.isfile(self.path)):\n",
        "            # prevent 'browsing' files\n",
        "            return box\n",
        "          # print('starting path', self.path)\n",
        "          self.root_folder = self.path\n",
        "\n",
        "        def on_click(b):\n",
        "            double_click = False\n",
        "\n",
        "            # detect single or double click and act accordingly (dirty hack by BA)\n",
        "            if self.last_click is not None:\n",
        "              # print('delay',timer()-self.last_click)\n",
        "              if timer()-self.last_click<=0.600:\n",
        "                # print('double click')\n",
        "                double_click = True\n",
        "              else:\n",
        "                # print('single click')\n",
        "                self.last_click = timer()\n",
        "            else:\n",
        "              self.last_click = timer()  \n",
        "              # print('single click')          \n",
        "\n",
        "            if b.description == '..':\n",
        "                if not double_click: #skip double click for previous folder\n",
        "                  self.path = os.path.split(self.root_folder)[0]\n",
        "\n",
        "                double_click=True\n",
        "                # print('path parent',self.path)\n",
        "            else:\n",
        "                if not double_click:\n",
        "                  self.path = os.path.join(self.root_folder, b.description)\n",
        "                else:\n",
        "                  self.path = os.path.join(self.root_folder, b.description)\n",
        "\n",
        "            self._update_files()\n",
        "            self._update_box(main_box, double_click)\n",
        "\n",
        "        buttons = []\n",
        "        if os.path.dirname(self.path) != self.path:\n",
        "            button = widgets.Button(description='..', style=ButtonStyle(button_color='lightblue'), layout=self.button_layout)\n",
        "            button.on_click(on_click)\n",
        "            buttons.append(button)\n",
        "        \n",
        "        for f in self.dirs:\n",
        "            button = widgets.Button(description=f, style=self.button_dir_syle, icon='fa-folder', tooltip=f, layout=self.button_layout)\n",
        "            button.on_click(on_click)\n",
        "            buttons.append(button)\n",
        "        \n",
        "        if not self.folders_only:\n",
        "          for f in self.files:\n",
        "              button = widgets.Button(description=f, style=self.button_file_syle, tooltip=f, layout=self.button_layout)\n",
        "              button.on_click(on_click)\n",
        "              buttons.append(button)\n",
        "            \n",
        "        box.children = buttons\n",
        "\n",
        "\n",
        "try:\n",
        "  # check that google drive is successfully mounted\n",
        "  \n",
        "  if os.path.exists('/content/drive/My Drive'):#/content/dri #create an error # /content/drive/My Drive # full path\n",
        "    printmd('<font color=\"green\">Google drive successfully mounted!</font>')\n",
        "    # move to the drive folder\n",
        "    %cd /content/drive/My Drive\n",
        "  else:\n",
        "    from google.colab import drive\n",
        "    printmd('<font color=\"green\"><b>Open the external link and follow the instructions until you get the authorization code. Copy this code, paste it below then press \"Enter\"</b></font>')\n",
        "    drive.mount('/content/drive')\n",
        "\n",
        "    if not os.path.exists('/content/drive/My Drive'):\n",
        "      printmd('<font color=\"red\">Please connect to Google drive and repeat this step:</font>')\n",
        "      print('How to: https://github.com/baigouy/notebooks#how-to-mount-google-drive-in-colab') # could be useful indeed\n",
        "      #assert False\n",
        "      raise Exception('error!')\n",
        "    else:\n",
        "      # move to the drive folder\n",
        "      %cd /content/drive/My Drive\n",
        "      printmd('<font color=\"green\">Google drive successfully mounted!</font>')\n",
        "    # sys.exit()\n",
        "    #quit(keep_kernel=False)\n",
        "\n",
        "\n",
        "  # check we are using GPU\n",
        "  device_name = tf.test.gpu_device_name()\n",
        "  if device_name != '/device:GPU:0':\n",
        "    printmd('<font color=\"red\">GPU not found, please repeat this step.</font>')\n",
        "    print('How to: https://github.com/baigouy/notebooks#select-a-gpu-runtime') # could be useful indeed\n",
        "    # should also do that first and print the link to help people use this stuff!!!\n",
        "    # quit\n",
        "    raise Exception('error!')\n",
        "  else:\n",
        "    printmd('<font color=\"green\">GPU found!</font>')\n",
        "    # should I merge all in one single step because if anyway anything fails it is not gonna work...\n",
        "    # maybe it's an idea\n",
        "\n",
        "  printmd('<br><font color=\"green\">Everything went fine, please move on to next step!</font>')\n",
        "except:\n",
        "  pass\n",
        "\n",
        "\n",
        "# printmd('this is a test')"
      ],
      "execution_count": 1,
      "outputs": [
        {
          "output_type": "stream",
          "name": "stdout",
          "text": [
            "Colab only includes TensorFlow 2.x; %tensorflow_version has no effect.\n"
          ]
        },
        {
          "output_type": "display_data",
          "data": {
            "text/plain": [
              "<IPython.core.display.Markdown object>"
            ],
            "text/markdown": "<font color=\"green\"><b>Open the external link and follow the instructions until you get the authorization code. Copy this code, paste it below then press \"Enter\"</b></font>"
          },
          "metadata": {}
        },
        {
          "output_type": "stream",
          "name": "stdout",
          "text": [
            "Mounted at /content/drive\n",
            "/content/drive/My Drive\n"
          ]
        },
        {
          "output_type": "display_data",
          "data": {
            "text/plain": [
              "<IPython.core.display.Markdown object>"
            ],
            "text/markdown": "<font color=\"green\">Google drive successfully mounted!</font>"
          },
          "metadata": {}
        },
        {
          "output_type": "display_data",
          "data": {
            "text/plain": [
              "<IPython.core.display.Markdown object>"
            ],
            "text/markdown": "<font color=\"green\">GPU found!</font>"
          },
          "metadata": {}
        },
        {
          "output_type": "display_data",
          "data": {
            "text/plain": [
              "<IPython.core.display.Markdown object>"
            ],
            "text/markdown": "<br><font color=\"green\">Everything went fine, please move on to next step!</font>"
          },
          "metadata": {}
        }
      ]
    },
    {
      "cell_type": "markdown",
      "metadata": {
        "id": "lpxi5NktFAZU"
      },
      "source": [
        "# Step 2:\n",
        "- Install the required python libraries by running the code cell below (please be patient, this may take time...)"
      ]
    },
    {
      "cell_type": "code",
      "metadata": {
        "id": "PSqOZJ75E_6k",
        "cellView": "form",
        "colab": {
          "base_uri": "https://localhost:8080/",
          "height": 1000
        },
        "outputId": "78a3ee83-2672-4ddb-c797-7c7d528c3cf0"
      },
      "source": [
        "#@title <-- Press Run\n",
        "\n",
        "# slow --> keep it as a separate step\n",
        "# install python libraries necessary to run epyseg\n",
        "# TODO check that all those libs are reallyu required but ok for now\n",
        "!pip install czifile\n",
        "!pip install h5py\n",
        "!pip install Markdown\n",
        "!pip install matplotlib\n",
        "!pip install numpy\n",
        "!pip install numpydoc\n",
        "!pip install Pillow\n",
        "!pip install PyQt5\n",
        "!pip install PyQtWebEngine\n",
        "!pip install read-lif\n",
        "!pip install scikit-image\n",
        "!pip install scipy\n",
        "!pip install segmentation-models==1.0.1\n",
        "!pip install tifffile>=2021.11.2\n",
        "!pip install qtawesome\n",
        "!pip install natsort\n",
        "!pip install numexpr\n",
        "!pip install elasticdeform\n",
        "!pip install roifile\n",
        "!pip install prettytable\n",
        "!pip install pyperclip\n",
        "!pip install scikit-learn\n",
        "!pip install --no-deps epyseg # prevent reinstalling tf 2.x and rather use the google optimized tf\n",
        "# !pip install --no-deps --index-url https://test.pypi.org/simple/ epyseg\n",
        "\n",
        "\n",
        "# libraries loaded checking epyseg to see if everything is functional\n",
        "try:\n",
        "  from epyseg.img import Img\n",
        "  # just try import any class from Epyseg --> will raise an error if loading fails if loads most likely everything should work\n",
        "  from epyseg.deeplearning.deepl import EZDeepLearning\n",
        "  from epyseg.deeplearning.augmentation.meta import MetaAugmenter\n",
        "  from epyseg.deeplearning.augmentation.generators.data import DataGenerator\n",
        "  deepTA = EZDeepLearning()\n",
        "  printmd('<br><font color=\"green\">EPySeg succesfully loaded, please move on to next step!</font>') \n",
        "except:\n",
        "  printmd('<br><font color=\"red\">EPySeg failed to load. Please repeat this step</font>.')"
      ],
      "execution_count": 2,
      "outputs": [
        {
          "output_type": "stream",
          "name": "stdout",
          "text": [
            "Looking in indexes: https://pypi.org/simple, https://us-python.pkg.dev/colab-wheels/public/simple/\n",
            "Collecting czifile\n",
            "  Downloading czifile-2019.7.2-py2.py3-none-any.whl (18 kB)\n",
            "Requirement already satisfied: tifffile>=2019.7.2 in /usr/local/lib/python3.10/dist-packages (from czifile) (2023.4.12)\n",
            "Requirement already satisfied: numpy>=1.11.3 in /usr/local/lib/python3.10/dist-packages (from czifile) (1.22.4)\n",
            "Installing collected packages: czifile\n",
            "Successfully installed czifile-2019.7.2\n",
            "Looking in indexes: https://pypi.org/simple, https://us-python.pkg.dev/colab-wheels/public/simple/\n",
            "Requirement already satisfied: h5py in /usr/local/lib/python3.10/dist-packages (3.8.0)\n",
            "Requirement already satisfied: numpy>=1.14.5 in /usr/local/lib/python3.10/dist-packages (from h5py) (1.22.4)\n",
            "Looking in indexes: https://pypi.org/simple, https://us-python.pkg.dev/colab-wheels/public/simple/\n",
            "Requirement already satisfied: Markdown in /usr/local/lib/python3.10/dist-packages (3.4.3)\n",
            "Looking in indexes: https://pypi.org/simple, https://us-python.pkg.dev/colab-wheels/public/simple/\n",
            "Requirement already satisfied: matplotlib in /usr/local/lib/python3.10/dist-packages (3.7.1)\n",
            "Requirement already satisfied: packaging>=20.0 in /usr/local/lib/python3.10/dist-packages (from matplotlib) (23.1)\n",
            "Requirement already satisfied: numpy>=1.20 in /usr/local/lib/python3.10/dist-packages (from matplotlib) (1.22.4)\n",
            "Requirement already satisfied: pyparsing>=2.3.1 in /usr/local/lib/python3.10/dist-packages (from matplotlib) (3.0.9)\n",
            "Requirement already satisfied: fonttools>=4.22.0 in /usr/local/lib/python3.10/dist-packages (from matplotlib) (4.39.3)\n",
            "Requirement already satisfied: contourpy>=1.0.1 in /usr/local/lib/python3.10/dist-packages (from matplotlib) (1.0.7)\n",
            "Requirement already satisfied: kiwisolver>=1.0.1 in /usr/local/lib/python3.10/dist-packages (from matplotlib) (1.4.4)\n",
            "Requirement already satisfied: python-dateutil>=2.7 in /usr/local/lib/python3.10/dist-packages (from matplotlib) (2.8.2)\n",
            "Requirement already satisfied: pillow>=6.2.0 in /usr/local/lib/python3.10/dist-packages (from matplotlib) (8.4.0)\n",
            "Requirement already satisfied: cycler>=0.10 in /usr/local/lib/python3.10/dist-packages (from matplotlib) (0.11.0)\n",
            "Requirement already satisfied: six>=1.5 in /usr/local/lib/python3.10/dist-packages (from python-dateutil>=2.7->matplotlib) (1.16.0)\n",
            "Looking in indexes: https://pypi.org/simple, https://us-python.pkg.dev/colab-wheels/public/simple/\n",
            "Requirement already satisfied: numpy in /usr/local/lib/python3.10/dist-packages (1.22.4)\n",
            "Looking in indexes: https://pypi.org/simple, https://us-python.pkg.dev/colab-wheels/public/simple/\n",
            "Collecting numpydoc\n",
            "  Downloading numpydoc-1.5.0-py3-none-any.whl (52 kB)\n",
            "\u001b[2K     \u001b[90m━━━━━━━━━━━━━━━━━━━━━━━━━━━━━━━━━━━━━━━━\u001b[0m \u001b[32m52.4/52.4 kB\u001b[0m \u001b[31m7.2 MB/s\u001b[0m eta \u001b[36m0:00:00\u001b[0m\n",
            "\u001b[?25hRequirement already satisfied: Jinja2>=2.10 in /usr/local/lib/python3.10/dist-packages (from numpydoc) (3.1.2)\n",
            "Collecting sphinx>=4.2\n",
            "  Downloading sphinx-7.0.0-py3-none-any.whl (3.0 MB)\n",
            "\u001b[2K     \u001b[90m━━━━━━━━━━━━━━━━━━━━━━━━━━━━━━━━━━━━━━━━\u001b[0m \u001b[32m3.0/3.0 MB\u001b[0m \u001b[31m80.5 MB/s\u001b[0m eta \u001b[36m0:00:00\u001b[0m\n",
            "\u001b[?25hRequirement already satisfied: MarkupSafe>=2.0 in /usr/local/lib/python3.10/dist-packages (from Jinja2>=2.10->numpydoc) (2.1.2)\n",
            "Requirement already satisfied: sphinxcontrib-devhelp in /usr/local/lib/python3.10/dist-packages (from sphinx>=4.2->numpydoc) (1.0.2)\n",
            "Requirement already satisfied: Pygments>=2.13 in /usr/local/lib/python3.10/dist-packages (from sphinx>=4.2->numpydoc) (2.14.0)\n",
            "Requirement already satisfied: sphinxcontrib-applehelp in /usr/local/lib/python3.10/dist-packages (from sphinx>=4.2->numpydoc) (1.0.4)\n",
            "Requirement already satisfied: sphinxcontrib-jsmath in /usr/local/lib/python3.10/dist-packages (from sphinx>=4.2->numpydoc) (1.0.1)\n",
            "Requirement already satisfied: sphinxcontrib-qthelp in /usr/local/lib/python3.10/dist-packages (from sphinx>=4.2->numpydoc) (1.0.3)\n",
            "Requirement already satisfied: packaging>=21.0 in /usr/local/lib/python3.10/dist-packages (from sphinx>=4.2->numpydoc) (23.1)\n",
            "Requirement already satisfied: babel>=2.9 in /usr/local/lib/python3.10/dist-packages (from sphinx>=4.2->numpydoc) (2.12.1)\n",
            "Requirement already satisfied: alabaster<0.8,>=0.7 in /usr/local/lib/python3.10/dist-packages (from sphinx>=4.2->numpydoc) (0.7.13)\n",
            "Requirement already satisfied: requests>=2.25.0 in /usr/local/lib/python3.10/dist-packages (from sphinx>=4.2->numpydoc) (2.27.1)\n",
            "Requirement already satisfied: snowballstemmer>=2.0 in /usr/local/lib/python3.10/dist-packages (from sphinx>=4.2->numpydoc) (2.2.0)\n",
            "Requirement already satisfied: sphinxcontrib-serializinghtml>=1.1.5 in /usr/local/lib/python3.10/dist-packages (from sphinx>=4.2->numpydoc) (1.1.5)\n",
            "Collecting docutils<0.20,>=0.18.1\n",
            "  Downloading docutils-0.19-py3-none-any.whl (570 kB)\n",
            "\u001b[2K     \u001b[90m━━━━━━━━━━━━━━━━━━━━━━━━━━━━━━━━━━━━━━\u001b[0m \u001b[32m570.5/570.5 kB\u001b[0m \u001b[31m48.8 MB/s\u001b[0m eta \u001b[36m0:00:00\u001b[0m\n",
            "\u001b[?25hRequirement already satisfied: imagesize>=1.3 in /usr/local/lib/python3.10/dist-packages (from sphinx>=4.2->numpydoc) (1.4.1)\n",
            "Requirement already satisfied: sphinxcontrib-htmlhelp>=2.0.0 in /usr/local/lib/python3.10/dist-packages (from sphinx>=4.2->numpydoc) (2.0.1)\n",
            "Requirement already satisfied: idna<4,>=2.5 in /usr/local/lib/python3.10/dist-packages (from requests>=2.25.0->sphinx>=4.2->numpydoc) (3.4)\n",
            "Requirement already satisfied: charset-normalizer~=2.0.0 in /usr/local/lib/python3.10/dist-packages (from requests>=2.25.0->sphinx>=4.2->numpydoc) (2.0.12)\n",
            "Requirement already satisfied: certifi>=2017.4.17 in /usr/local/lib/python3.10/dist-packages (from requests>=2.25.0->sphinx>=4.2->numpydoc) (2022.12.7)\n",
            "Requirement already satisfied: urllib3<1.27,>=1.21.1 in /usr/local/lib/python3.10/dist-packages (from requests>=2.25.0->sphinx>=4.2->numpydoc) (1.26.15)\n",
            "Installing collected packages: docutils, sphinx, numpydoc\n",
            "  Attempting uninstall: docutils\n",
            "    Found existing installation: docutils 0.16\n",
            "    Uninstalling docutils-0.16:\n",
            "      Successfully uninstalled docutils-0.16\n",
            "  Attempting uninstall: sphinx\n",
            "    Found existing installation: Sphinx 3.5.4\n",
            "    Uninstalling Sphinx-3.5.4:\n",
            "      Successfully uninstalled Sphinx-3.5.4\n",
            "Successfully installed docutils-0.19 numpydoc-1.5.0 sphinx-7.0.0\n",
            "Looking in indexes: https://pypi.org/simple, https://us-python.pkg.dev/colab-wheels/public/simple/\n",
            "Requirement already satisfied: Pillow in /usr/local/lib/python3.10/dist-packages (8.4.0)\n",
            "Looking in indexes: https://pypi.org/simple, https://us-python.pkg.dev/colab-wheels/public/simple/\n",
            "Collecting PyQt5\n",
            "  Downloading PyQt5-5.15.9-cp37-abi3-manylinux_2_17_x86_64.whl (8.4 MB)\n",
            "\u001b[2K     \u001b[90m━━━━━━━━━━━━━━━━━━━━━━━━━━━━━━━━━━━━━━━━\u001b[0m \u001b[32m8.4/8.4 MB\u001b[0m \u001b[31m83.9 MB/s\u001b[0m eta \u001b[36m0:00:00\u001b[0m\n",
            "\u001b[?25hCollecting PyQt5-sip<13,>=12.11\n",
            "  Downloading PyQt5_sip-12.12.1-cp310-cp310-manylinux_2_5_x86_64.manylinux1_x86_64.whl (360 kB)\n",
            "\u001b[2K     \u001b[90m━━━━━━━━━━━━━━━━━━━━━━━━━━━━━━━━━━━━━━\u001b[0m \u001b[32m360.5/360.5 kB\u001b[0m \u001b[31m42.8 MB/s\u001b[0m eta \u001b[36m0:00:00\u001b[0m\n",
            "\u001b[?25hCollecting PyQt5-Qt5>=5.15.2\n",
            "  Downloading PyQt5_Qt5-5.15.2-py3-none-manylinux2014_x86_64.whl (59.9 MB)\n",
            "\u001b[2K     \u001b[90m━━━━━━━━━━━━━━━━━━━━━━━━━━━━━━━━━━━━━━━━\u001b[0m \u001b[32m59.9/59.9 MB\u001b[0m \u001b[31m14.4 MB/s\u001b[0m eta \u001b[36m0:00:00\u001b[0m\n",
            "\u001b[?25hInstalling collected packages: PyQt5-Qt5, PyQt5-sip, PyQt5\n",
            "Successfully installed PyQt5-5.15.9 PyQt5-Qt5-5.15.2 PyQt5-sip-12.12.1\n",
            "Looking in indexes: https://pypi.org/simple, https://us-python.pkg.dev/colab-wheels/public/simple/\n",
            "Collecting PyQtWebEngine\n",
            "  Downloading PyQtWebEngine-5.15.6-cp37-abi3-manylinux1_x86_64.whl (230 kB)\n",
            "\u001b[2K     \u001b[90m━━━━━━━━━━━━━━━━━━━━━━━━━━━━━━━━━━━━━━\u001b[0m \u001b[32m230.4/230.4 kB\u001b[0m \u001b[31m12.7 MB/s\u001b[0m eta \u001b[36m0:00:00\u001b[0m\n",
            "\u001b[?25hRequirement already satisfied: PyQt5-sip<13,>=12.11 in /usr/local/lib/python3.10/dist-packages (from PyQtWebEngine) (12.12.1)\n",
            "Requirement already satisfied: PyQt5>=5.15.4 in /usr/local/lib/python3.10/dist-packages (from PyQtWebEngine) (5.15.9)\n",
            "Collecting PyQtWebEngine-Qt5>=5.15.0\n",
            "  Downloading PyQtWebEngine_Qt5-5.15.2-py3-none-manylinux2014_x86_64.whl (67.5 MB)\n",
            "\u001b[2K     \u001b[90m━━━━━━━━━━━━━━━━━━━━━━━━━━━━━━━━━━━━━━━━\u001b[0m \u001b[32m67.5/67.5 MB\u001b[0m \u001b[31m12.7 MB/s\u001b[0m eta \u001b[36m0:00:00\u001b[0m\n",
            "\u001b[?25hRequirement already satisfied: PyQt5-Qt5>=5.15.2 in /usr/local/lib/python3.10/dist-packages (from PyQt5>=5.15.4->PyQtWebEngine) (5.15.2)\n",
            "Installing collected packages: PyQtWebEngine-Qt5, PyQtWebEngine\n",
            "Successfully installed PyQtWebEngine-5.15.6 PyQtWebEngine-Qt5-5.15.2\n",
            "Looking in indexes: https://pypi.org/simple, https://us-python.pkg.dev/colab-wheels/public/simple/\n",
            "Collecting read-lif\n",
            "  Downloading read_lif-0.4.0.tar.gz (23 kB)\n",
            "  Preparing metadata (setup.py) ... \u001b[?25l\u001b[?25hdone\n",
            "Requirement already satisfied: numpy in /usr/local/lib/python3.10/dist-packages (from read-lif) (1.22.4)\n",
            "Building wheels for collected packages: read-lif\n",
            "  Building wheel for read-lif (setup.py) ... \u001b[?25l\u001b[?25hdone\n",
            "  Created wheel for read-lif: filename=read_lif-0.4.0-py3-none-any.whl size=23787 sha256=d654e8f241b931d05ac763f97505cc353a5de379ffac5c144873039a4f8715c1\n",
            "  Stored in directory: /root/.cache/pip/wheels/9a/64/d4/354ed341df4f7abb98c6ab5b511aff3d93db7f3bc1e9b2fa66\n",
            "Successfully built read-lif\n",
            "Installing collected packages: read-lif\n",
            "Successfully installed read-lif-0.4.0\n",
            "Looking in indexes: https://pypi.org/simple, https://us-python.pkg.dev/colab-wheels/public/simple/\n",
            "Requirement already satisfied: scikit-image in /usr/local/lib/python3.10/dist-packages (0.19.3)\n",
            "Requirement already satisfied: PyWavelets>=1.1.1 in /usr/local/lib/python3.10/dist-packages (from scikit-image) (1.4.1)\n",
            "Requirement already satisfied: tifffile>=2019.7.26 in /usr/local/lib/python3.10/dist-packages (from scikit-image) (2023.4.12)\n",
            "Requirement already satisfied: numpy>=1.17.0 in /usr/local/lib/python3.10/dist-packages (from scikit-image) (1.22.4)\n",
            "Requirement already satisfied: pillow!=7.1.0,!=7.1.1,!=8.3.0,>=6.1.0 in /usr/local/lib/python3.10/dist-packages (from scikit-image) (8.4.0)\n",
            "Requirement already satisfied: imageio>=2.4.1 in /usr/local/lib/python3.10/dist-packages (from scikit-image) (2.25.1)\n",
            "Requirement already satisfied: packaging>=20.0 in /usr/local/lib/python3.10/dist-packages (from scikit-image) (23.1)\n",
            "Requirement already satisfied: scipy>=1.4.1 in /usr/local/lib/python3.10/dist-packages (from scikit-image) (1.10.1)\n",
            "Requirement already satisfied: networkx>=2.2 in /usr/local/lib/python3.10/dist-packages (from scikit-image) (3.1)\n",
            "Looking in indexes: https://pypi.org/simple, https://us-python.pkg.dev/colab-wheels/public/simple/\n",
            "Requirement already satisfied: scipy in /usr/local/lib/python3.10/dist-packages (1.10.1)\n",
            "Requirement already satisfied: numpy<1.27.0,>=1.19.5 in /usr/local/lib/python3.10/dist-packages (from scipy) (1.22.4)\n",
            "Looking in indexes: https://pypi.org/simple, https://us-python.pkg.dev/colab-wheels/public/simple/\n",
            "Collecting segmentation-models==1.0.1\n",
            "  Downloading segmentation_models-1.0.1-py3-none-any.whl (33 kB)\n",
            "Collecting efficientnet==1.0.0\n",
            "  Downloading efficientnet-1.0.0-py3-none-any.whl (17 kB)\n",
            "Collecting image-classifiers==1.0.0\n",
            "  Downloading image_classifiers-1.0.0-py3-none-any.whl (19 kB)\n",
            "Collecting keras-applications<=1.0.8,>=1.0.7\n",
            "  Downloading Keras_Applications-1.0.8-py3-none-any.whl (50 kB)\n",
            "\u001b[2K     \u001b[90m━━━━━━━━━━━━━━━━━━━━━━━━━━━━━━━━━━━━━━━━\u001b[0m \u001b[32m50.7/50.7 kB\u001b[0m \u001b[31m7.4 MB/s\u001b[0m eta \u001b[36m0:00:00\u001b[0m\n",
            "\u001b[?25hRequirement already satisfied: scikit-image in /usr/local/lib/python3.10/dist-packages (from efficientnet==1.0.0->segmentation-models==1.0.1) (0.19.3)\n",
            "Requirement already satisfied: h5py in /usr/local/lib/python3.10/dist-packages (from keras-applications<=1.0.8,>=1.0.7->segmentation-models==1.0.1) (3.8.0)\n",
            "Requirement already satisfied: numpy>=1.9.1 in /usr/local/lib/python3.10/dist-packages (from keras-applications<=1.0.8,>=1.0.7->segmentation-models==1.0.1) (1.22.4)\n",
            "Requirement already satisfied: imageio>=2.4.1 in /usr/local/lib/python3.10/dist-packages (from scikit-image->efficientnet==1.0.0->segmentation-models==1.0.1) (2.25.1)\n",
            "Requirement already satisfied: tifffile>=2019.7.26 in /usr/local/lib/python3.10/dist-packages (from scikit-image->efficientnet==1.0.0->segmentation-models==1.0.1) (2023.4.12)\n",
            "Requirement already satisfied: networkx>=2.2 in /usr/local/lib/python3.10/dist-packages (from scikit-image->efficientnet==1.0.0->segmentation-models==1.0.1) (3.1)\n",
            "Requirement already satisfied: PyWavelets>=1.1.1 in /usr/local/lib/python3.10/dist-packages (from scikit-image->efficientnet==1.0.0->segmentation-models==1.0.1) (1.4.1)\n",
            "Requirement already satisfied: pillow!=7.1.0,!=7.1.1,!=8.3.0,>=6.1.0 in /usr/local/lib/python3.10/dist-packages (from scikit-image->efficientnet==1.0.0->segmentation-models==1.0.1) (8.4.0)\n",
            "Requirement already satisfied: packaging>=20.0 in /usr/local/lib/python3.10/dist-packages (from scikit-image->efficientnet==1.0.0->segmentation-models==1.0.1) (23.1)\n",
            "Requirement already satisfied: scipy>=1.4.1 in /usr/local/lib/python3.10/dist-packages (from scikit-image->efficientnet==1.0.0->segmentation-models==1.0.1) (1.10.1)\n",
            "Installing collected packages: keras-applications, image-classifiers, efficientnet, segmentation-models\n",
            "Successfully installed efficientnet-1.0.0 image-classifiers-1.0.0 keras-applications-1.0.8 segmentation-models-1.0.1\n",
            "Looking in indexes: https://pypi.org/simple, https://us-python.pkg.dev/colab-wheels/public/simple/\n",
            "Collecting qtawesome\n",
            "  Downloading QtAwesome-1.2.3-py3-none-any.whl (2.3 MB)\n",
            "\u001b[2K     \u001b[90m━━━━━━━━━━━━━━━━━━━━━━━━━━━━━━━━━━━━━━━━\u001b[0m \u001b[32m2.3/2.3 MB\u001b[0m \u001b[31m59.0 MB/s\u001b[0m eta \u001b[36m0:00:00\u001b[0m\n",
            "\u001b[?25hCollecting qtpy\n",
            "  Downloading QtPy-2.3.1-py3-none-any.whl (84 kB)\n",
            "\u001b[2K     \u001b[90m━━━━━━━━━━━━━━━━━━━━━━━━━━━━━━━━━━━━━━━━\u001b[0m \u001b[32m84.9/84.9 kB\u001b[0m \u001b[31m10.9 MB/s\u001b[0m eta \u001b[36m0:00:00\u001b[0m\n",
            "\u001b[?25hRequirement already satisfied: packaging in /usr/local/lib/python3.10/dist-packages (from qtpy->qtawesome) (23.1)\n",
            "Installing collected packages: qtpy, qtawesome\n",
            "Successfully installed qtawesome-1.2.3 qtpy-2.3.1\n",
            "Looking in indexes: https://pypi.org/simple, https://us-python.pkg.dev/colab-wheels/public/simple/\n",
            "Requirement already satisfied: natsort in /usr/local/lib/python3.10/dist-packages (8.3.1)\n",
            "Looking in indexes: https://pypi.org/simple, https://us-python.pkg.dev/colab-wheels/public/simple/\n",
            "Requirement already satisfied: numexpr in /usr/local/lib/python3.10/dist-packages (2.8.4)\n",
            "Requirement already satisfied: numpy>=1.13.3 in /usr/local/lib/python3.10/dist-packages (from numexpr) (1.22.4)\n",
            "Looking in indexes: https://pypi.org/simple, https://us-python.pkg.dev/colab-wheels/public/simple/\n",
            "Collecting elasticdeform\n",
            "  Downloading elasticdeform-0.5.0-cp310-cp310-manylinux_2_17_x86_64.manylinux2014_x86_64.whl (91 kB)\n",
            "\u001b[2K     \u001b[90m━━━━━━━━━━━━━━━━━━━━━━━━━━━━━━━━━━━━━━━━\u001b[0m \u001b[32m91.6/91.6 kB\u001b[0m \u001b[31m7.5 MB/s\u001b[0m eta \u001b[36m0:00:00\u001b[0m\n",
            "\u001b[?25hRequirement already satisfied: numpy in /usr/local/lib/python3.10/dist-packages (from elasticdeform) (1.22.4)\n",
            "Requirement already satisfied: scipy in /usr/local/lib/python3.10/dist-packages (from elasticdeform) (1.10.1)\n",
            "Installing collected packages: elasticdeform\n",
            "Successfully installed elasticdeform-0.5.0\n",
            "Looking in indexes: https://pypi.org/simple, https://us-python.pkg.dev/colab-wheels/public/simple/\n",
            "Collecting roifile\n",
            "  Downloading roifile-2023.2.12-py3-none-any.whl (15 kB)\n",
            "Requirement already satisfied: numpy>=1.19.2 in /usr/local/lib/python3.10/dist-packages (from roifile) (1.22.4)\n",
            "Installing collected packages: roifile\n",
            "Successfully installed roifile-2023.2.12\n",
            "Looking in indexes: https://pypi.org/simple, https://us-python.pkg.dev/colab-wheels/public/simple/\n",
            "Requirement already satisfied: prettytable in /usr/local/lib/python3.10/dist-packages (0.7.2)\n",
            "Looking in indexes: https://pypi.org/simple, https://us-python.pkg.dev/colab-wheels/public/simple/\n",
            "Collecting pyperclip\n",
            "  Downloading pyperclip-1.8.2.tar.gz (20 kB)\n",
            "  Preparing metadata (setup.py) ... \u001b[?25l\u001b[?25hdone\n",
            "Building wheels for collected packages: pyperclip\n",
            "  Building wheel for pyperclip (setup.py) ... \u001b[?25l\u001b[?25hdone\n",
            "  Created wheel for pyperclip: filename=pyperclip-1.8.2-py3-none-any.whl size=11135 sha256=d87bc1b9870eb5af6e225fcf089a0bd027549ba7c7334bfc20cc991388bf494c\n",
            "  Stored in directory: /root/.cache/pip/wheels/04/24/fe/140a94a7f1036003ede94579e6b4227fe96c840c6f4dcbe307\n",
            "Successfully built pyperclip\n",
            "Installing collected packages: pyperclip\n",
            "Successfully installed pyperclip-1.8.2\n",
            "Looking in indexes: https://pypi.org/simple, https://us-python.pkg.dev/colab-wheels/public/simple/\n",
            "Requirement already satisfied: scikit-learn in /usr/local/lib/python3.10/dist-packages (1.2.2)\n",
            "Requirement already satisfied: scipy>=1.3.2 in /usr/local/lib/python3.10/dist-packages (from scikit-learn) (1.10.1)\n",
            "Requirement already satisfied: threadpoolctl>=2.0.0 in /usr/local/lib/python3.10/dist-packages (from scikit-learn) (3.1.0)\n",
            "Requirement already satisfied: joblib>=1.1.1 in /usr/local/lib/python3.10/dist-packages (from scikit-learn) (1.2.0)\n",
            "Requirement already satisfied: numpy>=1.17.3 in /usr/local/lib/python3.10/dist-packages (from scikit-learn) (1.22.4)\n",
            "Looking in indexes: https://pypi.org/simple, https://us-python.pkg.dev/colab-wheels/public/simple/\n",
            "Collecting epyseg\n",
            "  Downloading epyseg-0.1.30-py3-none-any.whl (2.2 MB)\n",
            "\u001b[2K     \u001b[90m━━━━━━━━━━━━━━━━━━━━━━━━━━━━━━━━━━━━━━━━\u001b[0m \u001b[32m2.2/2.2 MB\u001b[0m \u001b[31m9.6 MB/s\u001b[0m eta \u001b[36m0:00:00\u001b[0m\n",
            "\u001b[?25hInstalling collected packages: epyseg\n",
            "Successfully installed epyseg-0.1.30\n",
            "Segmentation Models: using `tf.keras` framework.\n",
            "Using tensorflow version 2.12.0\n",
            "Using segmentation models version 1.0.1\n"
          ]
        },
        {
          "output_type": "display_data",
          "data": {
            "text/plain": [
              "<IPython.core.display.Markdown object>"
            ],
            "text/markdown": "<br><font color=\"green\">EPySeg succesfully loaded, please move on to next step!</font>"
          },
          "metadata": {}
        }
      ]
    },
    {
      "cell_type": "markdown",
      "metadata": {
        "id": "ysOUju3zkOXg"
      },
      "source": [
        "# Step 3\n",
        "- Run the cell below and choose between loading or building a model, then move to next cell."
      ]
    },
    {
      "cell_type": "code",
      "metadata": {
        "id": "brmF8PQOkOiY",
        "colab": {
          "base_uri": "https://localhost:8080/",
          "height": 153,
          "referenced_widgets": [
            "dbf3f4a983744f9fa11a73b331e75dd6",
            "b0becf02407a4c0d8bd004bd2754b9ad",
            "4b2e6bab451f4936bc8cad4191efa4d8",
            "eb42283fb11241b0810a0a12f6f331e4",
            "fc7eaeee8e59422e83ffb10a06f690b8",
            "27726e6906194e03b00da9b2658da655",
            "df3456029c4e45759d8839fbcf9c5c34",
            "f591b8dfb4dc412a9a73f4b4e36641fa",
            "a1ca64e79ad14405ba99e37032da77be",
            "824e5dd27f20452c9dc770cb4887bb91",
            "d752dd03a1964e65a6288980d921239a"
          ]
        },
        "cellView": "form",
        "outputId": "6e78be1b-c6e3-4337-ca0f-abd34e088164"
      },
      "source": [
        "#@title <-- Press Run\n",
        "\n",
        "label = widgets.Label('Please make a choice:')\n",
        "# cannot be horizontal https://github.com/jupyter-widgets/ipywidgets/issues/1247\n",
        "options = [['Build a new model',1], ['Load an existing model',2], ['Further train the default EPySeg model',3] ] #,['Use a pre-trained model',3]\n",
        "model = widgets.RadioButtons(options=options)\n",
        "\n",
        "model_version = widgets.Dropdown(\n",
        "    value='v2',\n",
        "    placeholder='Model version (pretrained only)',\n",
        "    options=['v2', 'v1'],\n",
        "    description='Model version (pretrained only)',\n",
        "    ensure_option=True,\n",
        "    disabled=False,\n",
        "    layout={'width': 'max-content'},\n",
        "    style={'description_width': 'initial'}\n",
        ")\n",
        "\n",
        "ui = widgets.VBox([label, model,model_version])\n",
        "display(ui) "
      ],
      "execution_count": 3,
      "outputs": [
        {
          "output_type": "display_data",
          "data": {
            "text/plain": [
              "VBox(children=(Label(value='Please make a choice:'), RadioButtons(options=(['Build a new model', 1], ['Load an…"
            ],
            "application/vnd.jupyter.widget-view+json": {
              "version_major": 2,
              "version_minor": 0,
              "model_id": "dbf3f4a983744f9fa11a73b331e75dd6"
            }
          },
          "metadata": {}
        }
      ]
    },
    {
      "cell_type": "markdown",
      "metadata": {
        "id": "Jjd5PUsSut7M"
      },
      "source": [
        "# Step 4\n",
        "- Please run the cell below and follow output instructions"
      ]
    },
    {
      "cell_type": "code",
      "metadata": {
        "id": "8Ixle9inksxs",
        "colab": {
          "base_uri": "https://localhost:8080/",
          "height": 273,
          "referenced_widgets": [
            "68e75fa2451c4276b2461bcb66569869",
            "6c2636023cc44d07a945536470c5293e",
            "1a90fcf3c5e441219999d013593065ca",
            "e8b0adb24ce246f19c0081389b573605",
            "b378a5f78bd84cd5b525df74d60418cb",
            "7d7d8d47d7d34f2ea74bcde89c90cf11",
            "1fc9b414384946adb892cd60190317b4",
            "134aa9653be642f4868ae34362a88107",
            "b9646e1fcf80495d9b278b0554eecd89",
            "5fe887d2170648f5aa0dadd7b5ecdeaa",
            "ad42d22d2020448cbce12fe8fb35ee00",
            "4a724311596443d59311857b969ad502",
            "6aad22503b9b4c33a412e882fedadfab",
            "890affd3dec642f1b3b46f347e711142",
            "0d64500d60154297b559d1b39b0a388f",
            "1ce61e9a460045fcb31fe4a517ce56cb",
            "66b3ddd0d52e4aaf95ccc37f5e1cc802",
            "decea999c9e64e65b3fb479088a912e8",
            "8efb6923903e4f27a24aa201e194f6e2",
            "4d979a949e36435c8565666f2f5db1b1",
            "71bf186486c04e9aa8fbed7e80c44d19",
            "ddee6f20a2f44cfbb5441271974eaa02",
            "6c3705786f1f42fda112121d68518793",
            "11ec73b6e5e343ba8515ef47084933e5",
            "c88aac96c23441829d6f833f6527942a",
            "e7b6e721061144cd9eb1d2c401395961"
          ]
        },
        "cellView": "form",
        "outputId": "59737d27-e062-47ac-959d-8728bccfecf3"
      },
      "source": [
        "#@title <-- Press Run\n",
        "\n",
        "# print(model.value)\n",
        "if model.value == 1:\n",
        "  # print('build')\n",
        "  # should offer loading a model from drive\n",
        "  # should I allow to locate a file ????\n",
        "\n",
        "  label_mod_params = Label('Please select model parameters (then move to next step):')\n",
        "  # get all available model architectures\n",
        "  available_architectures = deepTA.available_model_architectures\n",
        "  architecture = widgets.Dropdown(\n",
        "      value='Linknet',\n",
        "      placeholder='Choose an architecture',\n",
        "      options=available_architectures,\n",
        "      description='Architecture',\n",
        "      ensure_option=True,\n",
        "      disabled=False,\n",
        "      layout={'width': 'max-content'},\n",
        "      style={'description_width': 'initial'}\n",
        "  )\n",
        "\n",
        "  # get all available backbones\n",
        "  available_backbones = deepTA.available_sm_backbones\n",
        "  backbone = widgets.Dropdown(\n",
        "      value='vgg16',\n",
        "      placeholder='Choose a backbone',\n",
        "      options=available_backbones,\n",
        "      description='Backbone',\n",
        "      ensure_option=True,\n",
        "      disabled=False,\n",
        "      layout={'width': 'max-content'},\n",
        "      style={'description_width': 'initial'}\n",
        "  )\n",
        "\n",
        "  # get all available activation for the last layer\n",
        "  available_activations = deepTA.last_layer_activation\n",
        "  activation = widgets.Dropdown(\n",
        "      value='sigmoid',\n",
        "      placeholder='Choose an activation',\n",
        "      options=available_activations,\n",
        "      description='Activation',\n",
        "      ensure_option=True,\n",
        "      disabled=False,\n",
        "      layout={'width': 'max-content'},\n",
        "      style={'description_width': 'initial'}\n",
        "  )\n",
        "\n",
        "  # model input width\n",
        "  input_width = widgets.IntSlider(description='Width (0 = None = any size)', value=0, min=0, max=1024, step=2, style={'description_width': 'initial'})\n",
        "  # model input height\n",
        "  input_height = widgets.IntSlider(description='Height (0 = None = any size)', value=0, min=0, max=1024, step=2, style={'description_width': 'initial'})\n",
        "  # model input channels\n",
        "  inp_channels = widgets.IntSlider(description='Input channels', min=1, step=1, style={'description_width': 'initial'})\n",
        "  # model output channels\n",
        "  classes = widgets.IntSlider(description='Classes', min=1, step=1, style={'description_width': 'initial'})\n",
        "  ui = widgets.VBox([label_mod_params, architecture, backbone, input_width, input_height, inp_channels,activation, classes])\n",
        "  display(ui) \n",
        "elif model.value == 2:\n",
        "  # print('load')\n",
        "  # browse for input model\n",
        "  load_model_label = Label('Please select a model file and move on to next step:')\n",
        "  model_path = FileBrowser(folders_only=False) #item_width=\"140px\"\n",
        "  ui = widgets.VBox([load_model_label, model_path.widget()])\n",
        "  display(ui)\n",
        "elif model.value == 3:\n",
        "  # make it load the default epyseg model and be ready to retrain it\n",
        "  available_pretrained_models = deepTA.get_available_pretrained_models()\n",
        "  printmd('<br><font color=\"green\">Please move on to next step!</font>')\n",
        "\n",
        "# else: # TODO deactivate for now!!!\n",
        "  # print('pre-trained')"
      ],
      "execution_count": 4,
      "outputs": [
        {
          "output_type": "display_data",
          "data": {
            "text/plain": [
              "VBox(children=(Label(value='Please select model parameters (then move to next step):'), Dropdown(description='…"
            ],
            "application/vnd.jupyter.widget-view+json": {
              "version_major": 2,
              "version_minor": 0,
              "model_id": "68e75fa2451c4276b2461bcb66569869"
            }
          },
          "metadata": {}
        }
      ]
    },
    {
      "cell_type": "markdown",
      "metadata": {
        "id": "gu16_2PHnf7t"
      },
      "source": [
        "# Step 5\n",
        "- Please run the cell below and follow instructions"
      ]
    },
    {
      "cell_type": "code",
      "metadata": {
        "id": "p_dkyHcVoBmq",
        "colab": {
          "base_uri": "https://localhost:8080/",
          "height": 1000
        },
        "cellView": "form",
        "outputId": "e16483ed-ded8-4dec-afe7-bb73b5641365"
      },
      "source": [
        "#@title <-- Press Run\n",
        "\n",
        "deepTA.model = None # does it really reset model or not\n",
        "try:\n",
        "  action = 'built'\n",
        "  # First we try to build or load the model and if something goes wrong ask to repeat step 4\n",
        "  if model.value == 1:\n",
        "    # build model from scratch\n",
        "    \n",
        "\n",
        "    # architecture, backbone, input_width, input_height, inp_channels,activation, classes\n",
        "    deepTA.load_or_build(architecture=architecture.value, backbone=backbone.value, activation=activation.value, classes=classes.value, input_width=input_width.value, input_height=input_height.value, input_channels=inp_channels.value)\n",
        "    # deepTA.summary()\n",
        "    # if deepTA.model is None:\n",
        "      # printmd('<font color=\"green\">Model successfully built!</font>')\n",
        "    # else:\n",
        "      # printmd('<font color=\"red\">Could not build model, please check the model parameters. Repeat Step 4</font>')\n",
        "  elif model.value == 2:\n",
        "    # try to load an existing model and report error if model could not be loaded\n",
        "    action = 'loaded'\n",
        "    # check wether model can be loaded \n",
        "\n",
        "    path = model_path.path\n",
        "    if not os.path.exists(path):\n",
        "      printmd('<font color=\"red\">Please provide a valid model path. </font>')\n",
        "      raise Exception('error!')\n",
        "    else:\n",
        "      # try load the model and return error upon failure\n",
        "      # printmd('<font color=\"red\">test!</font>')\n",
        "      deepTA.load_or_build(model=path)\n",
        "  elif model.value == 3:\n",
        "    action = 'loaded'\n",
        "    # Load a pre-trained model\n",
        "    #pretrained_model_parameters = deepTA.pretrained_models_2D_epithelia['Linknet-vgg16-sigmoid']\n",
        "    pretrained_model_parameters = deepTA.pretrained_models['Linknet-vgg16-sigmoid'] if model_version.value=='v1' else  deepTA.pretrained_models[\n",
        "                'Linknet-vgg16-sigmoid'+'-'+model_version.value]\n",
        "    pretrained_model_name = 'Linknet-vgg16-sigmoid'  if model_version.value=='v1' else 'Linknet-vgg16-sigmoid'+'-'+model_version.value\n",
        "    # print(pretrained_model_parameters)\n",
        "    # deepTA.load_or_build(model=pretrained_model_parameters['model'], model_weights=pretrained_model_parameters['model_weights'], architecture=pretrained_model_parameters['architecture'], backbone=pretrained_model_parameters['backbone'], activation=pretrained_model_parameters['activation'], classes=pretrained_model_parameters['classes'], input_width=pretrained_model_parameters['input_width'], input_height=pretrained_model_parameters['input_height'], input_channels=pretrained_model_parameters['input_channels'],pretraining=pretrained_model_name)\n",
        "    deepTA.load_or_build(architecture='Linknet', backbone='vgg16', activation='sigmoid', classes=7, pretraining=pretrained_model_name)\n",
        "\n",
        "      \n",
        "  if deepTA.model is None:\n",
        "    printmd('<font color=\"red\">Empty model!</font>')\n",
        "    raise Exception('error!')\n",
        "  else:\n",
        "    deepTA.summary()\n",
        "    printmd('<font color=\"green\">Model succesfully '+ action +', please move on to next step!</font>')\n",
        "\n",
        "except:\n",
        "  printmd('<font color=\"red\">Something went wrong, please repeat step 4</font>')\n",
        "  pass"
      ],
      "execution_count": 5,
      "outputs": [
        {
          "output_type": "stream",
          "name": "stdout",
          "text": [
            "Model: \"Linknet-vgg16-sigmoid\"\n",
            "______________________________________________________________________________________________________________________________________________________\n",
            " Layer (type)                                    Output Shape                     Param #           Connected to                                      \n",
            "======================================================================================================================================================\n",
            " input_1 (InputLayer)                            [(None, None, None, 1)]          0                 []                                                \n",
            "                                                                                                                                                      \n",
            " block1_conv1 (Conv2D)                           (None, None, None, 64)           640               ['input_1[0][0]']                                 \n",
            "                                                                                                                                                      \n",
            " block1_conv2 (Conv2D)                           (None, None, None, 64)           36928             ['block1_conv1[0][0]']                            \n",
            "                                                                                                                                                      \n",
            " block1_pool (MaxPooling2D)                      (None, None, None, 64)           0                 ['block1_conv2[0][0]']                            \n",
            "                                                                                                                                                      \n",
            " block2_conv1 (Conv2D)                           (None, None, None, 128)          73856             ['block1_pool[0][0]']                             \n",
            "                                                                                                                                                      \n",
            " block2_conv2 (Conv2D)                           (None, None, None, 128)          147584            ['block2_conv1[0][0]']                            \n",
            "                                                                                                                                                      \n",
            " block2_pool (MaxPooling2D)                      (None, None, None, 128)          0                 ['block2_conv2[0][0]']                            \n",
            "                                                                                                                                                      \n",
            " block3_conv1 (Conv2D)                           (None, None, None, 256)          295168            ['block2_pool[0][0]']                             \n",
            "                                                                                                                                                      \n",
            " block3_conv2 (Conv2D)                           (None, None, None, 256)          590080            ['block3_conv1[0][0]']                            \n",
            "                                                                                                                                                      \n",
            " block3_conv3 (Conv2D)                           (None, None, None, 256)          590080            ['block3_conv2[0][0]']                            \n",
            "                                                                                                                                                      \n",
            " block3_pool (MaxPooling2D)                      (None, None, None, 256)          0                 ['block3_conv3[0][0]']                            \n",
            "                                                                                                                                                      \n",
            " block4_conv1 (Conv2D)                           (None, None, None, 512)          1180160           ['block3_pool[0][0]']                             \n",
            "                                                                                                                                                      \n",
            " block4_conv2 (Conv2D)                           (None, None, None, 512)          2359808           ['block4_conv1[0][0]']                            \n",
            "                                                                                                                                                      \n",
            " block4_conv3 (Conv2D)                           (None, None, None, 512)          2359808           ['block4_conv2[0][0]']                            \n",
            "                                                                                                                                                      \n",
            " block4_pool (MaxPooling2D)                      (None, None, None, 512)          0                 ['block4_conv3[0][0]']                            \n",
            "                                                                                                                                                      \n",
            " block5_conv1 (Conv2D)                           (None, None, None, 512)          2359808           ['block4_pool[0][0]']                             \n",
            "                                                                                                                                                      \n",
            " block5_conv2 (Conv2D)                           (None, None, None, 512)          2359808           ['block5_conv1[0][0]']                            \n",
            "                                                                                                                                                      \n",
            " block5_conv3 (Conv2D)                           (None, None, None, 512)          2359808           ['block5_conv2[0][0]']                            \n",
            "                                                                                                                                                      \n",
            " block5_pool (MaxPooling2D)                      (None, None, None, 512)          0                 ['block5_conv3[0][0]']                            \n",
            "                                                                                                                                                      \n",
            " center_block1_conv (Conv2D)                     (None, None, None, 512)          2359296           ['block5_pool[0][0]']                             \n",
            "                                                                                                                                                      \n",
            " center_block1_bn (BatchNormalization)           (None, None, None, 512)          2048              ['center_block1_conv[0][0]']                      \n",
            "                                                                                                                                                      \n",
            " center_block1_relu (Activation)                 (None, None, None, 512)          0                 ['center_block1_bn[0][0]']                        \n",
            "                                                                                                                                                      \n",
            " center_block2_conv (Conv2D)                     (None, None, None, 512)          2359296           ['center_block1_relu[0][0]']                      \n",
            "                                                                                                                                                      \n",
            " center_block2_bn (BatchNormalization)           (None, None, None, 512)          2048              ['center_block2_conv[0][0]']                      \n",
            "                                                                                                                                                      \n",
            " center_block2_relu (Activation)                 (None, None, None, 512)          0                 ['center_block2_bn[0][0]']                        \n",
            "                                                                                                                                                      \n",
            " decoder_stage0a_conv (Conv2D)                   (None, None, None, 128)          65536             ['center_block2_relu[0][0]']                      \n",
            "                                                                                                                                                      \n",
            " decoder_stage0a_bn (BatchNormalization)         (None, None, None, 128)          512               ['decoder_stage0a_conv[0][0]']                    \n",
            "                                                                                                                                                      \n",
            " decoder_stage0a_relu (Activation)               (None, None, None, 128)          0                 ['decoder_stage0a_bn[0][0]']                      \n",
            "                                                                                                                                                      \n",
            " decoder_stage0_upsampling (UpSampling2D)        (None, None, None, 128)          0                 ['decoder_stage0a_relu[0][0]']                    \n",
            "                                                                                                                                                      \n",
            " decoder_stage0b_conv (Conv2D)                   (None, None, None, 128)          147456            ['decoder_stage0_upsampling[0][0]']               \n",
            "                                                                                                                                                      \n",
            " decoder_stage0b_bn (BatchNormalization)         (None, None, None, 128)          512               ['decoder_stage0b_conv[0][0]']                    \n",
            "                                                                                                                                                      \n",
            " decoder_stage0b_relu (Activation)               (None, None, None, 128)          0                 ['decoder_stage0b_bn[0][0]']                      \n",
            "                                                                                                                                                      \n",
            " decoder_stage0c_conv (Conv2D)                   (None, None, None, 512)          65536             ['decoder_stage0b_relu[0][0]']                    \n",
            "                                                                                                                                                      \n",
            " decoder_stage0c_bn (BatchNormalization)         (None, None, None, 512)          2048              ['decoder_stage0c_conv[0][0]']                    \n",
            "                                                                                                                                                      \n",
            " decoder_stage0c_relu (Activation)               (None, None, None, 512)          0                 ['decoder_stage0c_bn[0][0]']                      \n",
            "                                                                                                                                                      \n",
            " decoder_stage0_add (Add)                        (None, None, None, 512)          0                 ['decoder_stage0c_relu[0][0]',                    \n",
            "                                                                                                     'block5_conv3[0][0]']                            \n",
            "                                                                                                                                                      \n",
            " decoder_stage1a_conv (Conv2D)                   (None, None, None, 128)          65536             ['decoder_stage0_add[0][0]']                      \n",
            "                                                                                                                                                      \n",
            " decoder_stage1a_bn (BatchNormalization)         (None, None, None, 128)          512               ['decoder_stage1a_conv[0][0]']                    \n",
            "                                                                                                                                                      \n",
            " decoder_stage1a_relu (Activation)               (None, None, None, 128)          0                 ['decoder_stage1a_bn[0][0]']                      \n",
            "                                                                                                                                                      \n",
            " decoder_stage1_upsampling (UpSampling2D)        (None, None, None, 128)          0                 ['decoder_stage1a_relu[0][0]']                    \n",
            "                                                                                                                                                      \n",
            " decoder_stage1b_conv (Conv2D)                   (None, None, None, 128)          147456            ['decoder_stage1_upsampling[0][0]']               \n",
            "                                                                                                                                                      \n",
            " decoder_stage1b_bn (BatchNormalization)         (None, None, None, 128)          512               ['decoder_stage1b_conv[0][0]']                    \n",
            "                                                                                                                                                      \n",
            " decoder_stage1b_relu (Activation)               (None, None, None, 128)          0                 ['decoder_stage1b_bn[0][0]']                      \n",
            "                                                                                                                                                      \n",
            " decoder_stage1c_conv (Conv2D)                   (None, None, None, 512)          65536             ['decoder_stage1b_relu[0][0]']                    \n",
            "                                                                                                                                                      \n",
            " decoder_stage1c_bn (BatchNormalization)         (None, None, None, 512)          2048              ['decoder_stage1c_conv[0][0]']                    \n",
            "                                                                                                                                                      \n",
            " decoder_stage1c_relu (Activation)               (None, None, None, 512)          0                 ['decoder_stage1c_bn[0][0]']                      \n",
            "                                                                                                                                                      \n",
            " decoder_stage1_add (Add)                        (None, None, None, 512)          0                 ['decoder_stage1c_relu[0][0]',                    \n",
            "                                                                                                     'block4_conv3[0][0]']                            \n",
            "                                                                                                                                                      \n",
            " decoder_stage2a_conv (Conv2D)                   (None, None, None, 128)          65536             ['decoder_stage1_add[0][0]']                      \n",
            "                                                                                                                                                      \n",
            " decoder_stage2a_bn (BatchNormalization)         (None, None, None, 128)          512               ['decoder_stage2a_conv[0][0]']                    \n",
            "                                                                                                                                                      \n",
            " decoder_stage2a_relu (Activation)               (None, None, None, 128)          0                 ['decoder_stage2a_bn[0][0]']                      \n",
            "                                                                                                                                                      \n",
            " decoder_stage2_upsampling (UpSampling2D)        (None, None, None, 128)          0                 ['decoder_stage2a_relu[0][0]']                    \n",
            "                                                                                                                                                      \n",
            " decoder_stage2b_conv (Conv2D)                   (None, None, None, 128)          147456            ['decoder_stage2_upsampling[0][0]']               \n",
            "                                                                                                                                                      \n",
            " decoder_stage2b_bn (BatchNormalization)         (None, None, None, 128)          512               ['decoder_stage2b_conv[0][0]']                    \n",
            "                                                                                                                                                      \n",
            " decoder_stage2b_relu (Activation)               (None, None, None, 128)          0                 ['decoder_stage2b_bn[0][0]']                      \n",
            "                                                                                                                                                      \n",
            " decoder_stage2c_conv (Conv2D)                   (None, None, None, 256)          32768             ['decoder_stage2b_relu[0][0]']                    \n",
            "                                                                                                                                                      \n",
            " decoder_stage2c_bn (BatchNormalization)         (None, None, None, 256)          1024              ['decoder_stage2c_conv[0][0]']                    \n",
            "                                                                                                                                                      \n",
            " decoder_stage2c_relu (Activation)               (None, None, None, 256)          0                 ['decoder_stage2c_bn[0][0]']                      \n",
            "                                                                                                                                                      \n",
            " decoder_stage2_add (Add)                        (None, None, None, 256)          0                 ['decoder_stage2c_relu[0][0]',                    \n",
            "                                                                                                     'block3_conv3[0][0]']                            \n",
            "                                                                                                                                                      \n",
            " decoder_stage3a_conv (Conv2D)                   (None, None, None, 64)           16384             ['decoder_stage2_add[0][0]']                      \n",
            "                                                                                                                                                      \n",
            " decoder_stage3a_bn (BatchNormalization)         (None, None, None, 64)           256               ['decoder_stage3a_conv[0][0]']                    \n",
            "                                                                                                                                                      \n",
            " decoder_stage3a_relu (Activation)               (None, None, None, 64)           0                 ['decoder_stage3a_bn[0][0]']                      \n",
            "                                                                                                                                                      \n",
            " decoder_stage3_upsampling (UpSampling2D)        (None, None, None, 64)           0                 ['decoder_stage3a_relu[0][0]']                    \n",
            "                                                                                                                                                      \n",
            " decoder_stage3b_conv (Conv2D)                   (None, None, None, 64)           36864             ['decoder_stage3_upsampling[0][0]']               \n",
            "                                                                                                                                                      \n",
            " decoder_stage3b_bn (BatchNormalization)         (None, None, None, 64)           256               ['decoder_stage3b_conv[0][0]']                    \n",
            "                                                                                                                                                      \n",
            " decoder_stage3b_relu (Activation)               (None, None, None, 64)           0                 ['decoder_stage3b_bn[0][0]']                      \n",
            "                                                                                                                                                      \n",
            " decoder_stage3c_conv (Conv2D)                   (None, None, None, 128)          8192              ['decoder_stage3b_relu[0][0]']                    \n",
            "                                                                                                                                                      \n",
            " decoder_stage3c_bn (BatchNormalization)         (None, None, None, 128)          512               ['decoder_stage3c_conv[0][0]']                    \n",
            "                                                                                                                                                      \n",
            " decoder_stage3c_relu (Activation)               (None, None, None, 128)          0                 ['decoder_stage3c_bn[0][0]']                      \n",
            "                                                                                                                                                      \n",
            " decoder_stage3_add (Add)                        (None, None, None, 128)          0                 ['decoder_stage3c_relu[0][0]',                    \n",
            "                                                                                                     'block2_conv2[0][0]']                            \n",
            "                                                                                                                                                      \n",
            " decoder_stage4a_conv (Conv2D)                   (None, None, None, 32)           4096              ['decoder_stage3_add[0][0]']                      \n",
            "                                                                                                                                                      \n",
            " decoder_stage4a_bn (BatchNormalization)         (None, None, None, 32)           128               ['decoder_stage4a_conv[0][0]']                    \n",
            "                                                                                                                                                      \n",
            " decoder_stage4a_relu (Activation)               (None, None, None, 32)           0                 ['decoder_stage4a_bn[0][0]']                      \n",
            "                                                                                                                                                      \n",
            " decoder_stage4_upsampling (UpSampling2D)        (None, None, None, 32)           0                 ['decoder_stage4a_relu[0][0]']                    \n",
            "                                                                                                                                                      \n",
            " decoder_stage4b_conv (Conv2D)                   (None, None, None, 32)           9216              ['decoder_stage4_upsampling[0][0]']               \n",
            "                                                                                                                                                      \n",
            " decoder_stage4b_bn (BatchNormalization)         (None, None, None, 32)           128               ['decoder_stage4b_conv[0][0]']                    \n",
            "                                                                                                                                                      \n",
            " decoder_stage4b_relu (Activation)               (None, None, None, 32)           0                 ['decoder_stage4b_bn[0][0]']                      \n",
            "                                                                                                                                                      \n",
            " decoder_stage4c_conv (Conv2D)                   (None, None, None, 16)           512               ['decoder_stage4b_relu[0][0]']                    \n",
            "                                                                                                                                                      \n",
            " decoder_stage4c_bn (BatchNormalization)         (None, None, None, 16)           64                ['decoder_stage4c_conv[0][0]']                    \n",
            "                                                                                                                                                      \n",
            " decoder_stage4c_relu (Activation)               (None, None, None, 16)           0                 ['decoder_stage4c_bn[0][0]']                      \n",
            "                                                                                                                                                      \n",
            " conv2d (Conv2D)                                 (None, None, None, 1)            145               ['decoder_stage4c_relu[0][0]']                    \n",
            "                                                                                                                                                      \n",
            " sigmoid (Activation)                            (None, None, None, 1)            0                 ['conv2d[0][0]']                                  \n",
            "                                                                                                                                                      \n",
            "======================================================================================================================================================\n",
            "Total params: 20,323,985\n",
            "Trainable params: 20,317,169\n",
            "Non-trainable params: 6,816\n",
            "______________________________________________________________________________________________________________________________________________________\n"
          ]
        },
        {
          "output_type": "stream",
          "name": "stderr",
          "text": [
            "INFO - 2023-05-04 09:50:03,374 - deepl.py - summary - line 860 - None\n",
            "\n",
            "INFO:master:None\n"
          ]
        },
        {
          "output_type": "display_data",
          "data": {
            "text/plain": [
              "<IPython.core.display.Markdown object>"
            ],
            "text/markdown": "<font color=\"green\">Model succesfully built, please move on to next step!</font>"
          },
          "metadata": {}
        }
      ]
    },
    {
      "cell_type": "markdown",
      "metadata": {
        "id": "Aq89G9s16Ib2"
      },
      "source": [
        "# Step 6\n",
        "- Run the cell below and decide whether or not to load model weights then move to next step"
      ]
    },
    {
      "cell_type": "code",
      "metadata": {
        "id": "5bMtzjyL6Iw9",
        "cellView": "form",
        "colab": {
          "base_uri": "https://localhost:8080/",
          "height": 81,
          "referenced_widgets": [
            "82fbb15a9ed4454aa2c12343f87f0e71",
            "1e487be056994ce7a28ff4cb85ed87dc",
            "443e2bccf29f43d6bb6bbeba603ec8c5",
            "b384d7186d644ffd82757d5f5c48b778",
            "452c9268e77045b2933cf983b2ba3ca1",
            "43ca06591d54458d9fd7345b3238b957",
            "1bbc2ef85411479ebc4efead5752dd96",
            "7ac298b9e09c443eaae5021288129f13",
            "369bab2c9d9f4a9793fefa41d0627350",
            "713fe7e5ee884a02b0e773185d2d0895"
          ]
        },
        "outputId": "5a23889d-65d6-4639-ce20-3ac8d5a85a34"
      },
      "source": [
        "#@title <-- Press Run\n",
        "if model.value != 3:\n",
        "\n",
        "  f = FileBrowser(folders_only=False) #item_width=\"140px\"\n",
        "  options2 = [['No',2],['Yes',1] ] #,['Use a pre-trained model',3]    \n",
        "  drop_load_weights = widgets.Dropdown(options=options2, description='Load model weights:', layout={'width': 'max-content'}, style={'description_width': 'initial'})\n",
        "\n",
        "  def browse_for_weights(x):\n",
        "      if x == 1:\n",
        "        weight_label = Label('Please select a weight file in your drive, then move on to next step:')\n",
        "        ui = widgets.VBox([weight_label, f.widget()])\n",
        "        display(ui)\n",
        "      else:\n",
        "        weight_label = Label('No weights to load, then please move on to next step')\n",
        "        display(weight_label)\n",
        "\n",
        "\n",
        "  interact(browse_for_weights, x=drop_load_weights);\n",
        "else:\n",
        "  printmd('<br><font color=\"green\">Please move on to next step!</font>')\n",
        "\n"
      ],
      "execution_count": 6,
      "outputs": [
        {
          "output_type": "display_data",
          "data": {
            "text/plain": [
              "interactive(children=(Dropdown(description='Load model weights:', layout=Layout(width='max-content'), options=…"
            ],
            "application/vnd.jupyter.widget-view+json": {
              "version_major": 2,
              "version_minor": 0,
              "model_id": "82fbb15a9ed4454aa2c12343f87f0e71"
            }
          },
          "metadata": {}
        }
      ]
    },
    {
      "cell_type": "markdown",
      "metadata": {
        "id": "plnvUKFsMb2i"
      },
      "source": [
        "# Step 8\n",
        "- Run the cell below and follow the instructions"
      ]
    },
    {
      "cell_type": "code",
      "metadata": {
        "id": "-lp-ChN9_eAS",
        "cellView": "form",
        "colab": {
          "base_uri": "https://localhost:8080/",
          "height": 46
        },
        "outputId": "e2bf70d3-805e-4ac0-e4e7-849db9e1cc26"
      },
      "source": [
        "#@title <-- Press run\n",
        "\n",
        "if model.value != 3:\n",
        "  if drop_load_weights.value == 1:\n",
        "    try:\n",
        "      deepTA.load_weights(f.path)\n",
        "      printmd('<font color=\"green\">Weights succesfully loaded. Please move on to next step!</font>')\n",
        "    except:\n",
        "      printmd('<font color=\"red\">Something went wrong (file corrupt/wrong file), please repeat step 7.</font>')\n",
        "  else:\n",
        "    printmd('<font color=\"green\">Please move on to next step!</font>')\n",
        "else:\n",
        "  printmd('<font color=\"green\">Please move on to next step!</font>')    "
      ],
      "execution_count": 7,
      "outputs": [
        {
          "output_type": "display_data",
          "data": {
            "text/plain": [
              "<IPython.core.display.Markdown object>"
            ],
            "text/markdown": "<font color=\"green\">Please move on to next step!</font>"
          },
          "metadata": {}
        }
      ]
    },
    {
      "cell_type": "markdown",
      "metadata": {
        "id": "LU1A90QnTdTZ"
      },
      "source": [
        "# Step 9\n",
        "- Run the cell to verify model compilation or set compilation parameters"
      ]
    },
    {
      "cell_type": "code",
      "metadata": {
        "id": "A1KNb1F-Tdeb",
        "colab": {
          "base_uri": "https://localhost:8080/",
          "height": 194,
          "referenced_widgets": [
            "024279b2b90b42d985bd488cfe9199d0",
            "8bb385324bc043e1a57f0ade981725c9",
            "67306b615db143319da9fb8a95dd08b6",
            "bf6533fa29e34087b2e715a0e805212b",
            "5319157ac8a740f290d25f5f6627b85d",
            "97919e572920472583d3aa6056c78660",
            "9e5d6f387df44961b5afb56d70841720",
            "e9c27fc3d331418d8ecc6dd43099c612",
            "c837d840e1ae403690c4a65662eab74b",
            "7532d0c129af46099b7596591641f543",
            "12b1b3bc95074c4e948f6fdf7344b22b",
            "89deb16e696d4c72b66638bec377fdeb",
            "3884446979c04510a9cde5592153e8df",
            "06aa3dde6ac7467dbd2822f75de3ddc7",
            "05880220b4b44ed6a2b55904cf051a85",
            "bf9b8c6a23474a7394d093276e6a0f2f",
            "d7c1cc4998b841139e244db3274e9c50"
          ]
        },
        "cellView": "form",
        "outputId": "60a3c3da-f79e-4dae-e7c5-030b79220ad5"
      },
      "source": [
        "#@title <-- Press Run\n",
        "\n",
        "# check if already compiled and if so ask wether to go on or not or force recompile\n",
        "\n",
        "# to choose the network optimizer, loss and metric\n",
        "\n",
        "# get available optimizers\n",
        "available_optimizers = deepTA.optimizers\n",
        "optimizers = widgets.Dropdown(\n",
        "    value='adam',\n",
        "    placeholder='Choose an optimizer',\n",
        "    options=available_optimizers,\n",
        "    description='Optimizer',\n",
        "    ensure_option=True,\n",
        "    disabled=False,\n",
        "    layout={'width': 'max-content'},\n",
        "    style={'description_width': 'initial'}\n",
        ")\n",
        "\n",
        "default_loss = 'jaccard_loss'\n",
        "if model.value == 3:\n",
        "  default_loss = 'bce_jaccard_loss'\n",
        "\n",
        "# get available losses\n",
        "available_losses = deepTA.loss.keys()\n",
        "losses = widgets.Dropdown(\n",
        "    value=default_loss,\n",
        "    placeholder='Choose a loss function',\n",
        "    options=available_losses,\n",
        "    description='Loss function',\n",
        "    ensure_option=True,\n",
        "    disabled=False,\n",
        "    layout={'width': 'max-content'},\n",
        "    style={'description_width': 'initial'}\n",
        ")\n",
        "\n",
        "# get available metrics\n",
        "available_metrics = deepTA.metrics.keys()\n",
        "metrics = widgets.Dropdown(\n",
        "    value='iou_score',\n",
        "    placeholder='Choose a metric',\n",
        "    options=available_metrics,\n",
        "    description='Metric',\n",
        "    ensure_option=True,\n",
        "    disabled=False,\n",
        "    layout={'width': 'max-content'},\n",
        "    style={'description_width': 'initial'}\n",
        ")\n",
        "\n",
        "\n",
        "default_lr_checkbox = widgets.Checkbox(\n",
        "    value=True,\n",
        "    description='Use default learning rate',\n",
        "    disabled=False,\n",
        "    indent=False,\n",
        "    style={'description_width': 'initial'}\n",
        ")\n",
        "\n",
        "learning_rate_spinner = widgets.FloatSlider(\n",
        "    value=0.001,\n",
        "    min=0.0000001,\n",
        "    max=0.10,\n",
        "    step=0.00001,\n",
        "    description='Learning rate:',\n",
        "    disabled=True,\n",
        "    continuous_update=False,\n",
        "    orientation='horizontal',\n",
        "    readout=True,\n",
        "    readout_format='.7f',\n",
        "    # layout={'width': 'max-content'},\n",
        "    style={'description_width': 'initial'}\n",
        ")\n",
        "learning_rate_spinner.layout.visibility = 'hidden'\n",
        "\n",
        "\n",
        "def show_hide_lr(x):\n",
        "      # print(default_lr_checkbox.value)\n",
        "      learning_rate_spinner.disabled = default_lr_checkbox.value\n",
        "      if default_lr_checkbox.value:\n",
        "        learning_rate_spinner.layout.visibility = 'hidden'\n",
        "      else:\n",
        "        learning_rate_spinner.layout.visibility = 'visible'\n",
        "\n",
        "interactive(show_hide_lr, x=default_lr_checkbox);\n",
        "\n",
        "force_recompile = not deepTA.is_model_compiled()\n",
        "ui = widgets.VBox([losses, metrics, optimizers, default_lr_checkbox, learning_rate_spinner])\n",
        "\n",
        "options2 = [['No',2],['Yes',1]] #,['Use a pre-trained model',3]    \n",
        "force_recompile_drop = widgets.Dropdown(options=options2, description='Force recompile:', layout={'width': 'max-content'}, style={'description_width': 'initial'})  \n",
        "\n",
        "\n",
        "\n",
        "\n",
        "def recompile_model(x):\n",
        "    if x == 1:\n",
        "      # model is already compiled offer a recompile\n",
        "      # show a stuff to choose wether or not to handle that\n",
        "      # force_recompile = True\n",
        "      # print(force_recompile)\n",
        "      display(ui)\n",
        "    else:\n",
        "      weight_label = Label('Model will not be recompiled')\n",
        "      # force_recompile = False\n",
        "      # print(force_recompile)\n",
        "      display(weight_label)\n",
        "\n",
        "if force_recompile:\n",
        "  # force_recompile = True\n",
        "  print('Model must be compiled!')\n",
        "  # print(force_recompile)\n",
        "  display(ui)\n",
        "else:\n",
        "  print('Model is already compiled')\n",
        "  interact(recompile_model, x=force_recompile_drop);\n"
      ],
      "execution_count": 8,
      "outputs": [
        {
          "output_type": "stream",
          "name": "stdout",
          "text": [
            "Model must be compiled!\n"
          ]
        },
        {
          "output_type": "display_data",
          "data": {
            "text/plain": [
              "VBox(children=(Dropdown(description='Loss function', index=2, layout=Layout(width='max-content'), options=('me…"
            ],
            "application/vnd.jupyter.widget-view+json": {
              "version_major": 2,
              "version_minor": 0,
              "model_id": "024279b2b90b42d985bd488cfe9199d0"
            }
          },
          "metadata": {}
        }
      ]
    },
    {
      "cell_type": "markdown",
      "metadata": {
        "id": "9lrkuczE_eVV"
      },
      "source": [
        "# Step 10\n",
        "- Run the cell below and follow the instructions"
      ]
    },
    {
      "cell_type": "code",
      "metadata": {
        "id": "qKjn1sPuC1bs",
        "colab": {
          "base_uri": "https://localhost:8080/",
          "height": 46
        },
        "cellView": "form",
        "outputId": "97a51e5f-219e-4245-a4dc-86e8b38cc832"
      },
      "source": [
        "#@title <-- Press Run\n",
        "\n",
        "# TODO offer learning rate at som point...\n",
        "# print(force_recompile, force_recompile_drop.value)\n",
        "if force_recompile or   force_recompile_drop.value ==1:\n",
        "  # do recompile the model\n",
        "  try:\n",
        "    deepTA.compile(optimizer=optimizers.value, loss=losses.value, metrics=[metrics.value])\n",
        "    if not default_lr_checkbox.value:\n",
        "      deepTA.set_learning_rate(learning_rate_spinner.value)\n",
        "    # print(deepTA.is_model_compiled())\n",
        "    # print(deepTA.get_loaded_model_params())\n",
        "    printmd('<font color=\"green\">Model successfully compiled, please move on to next step!</font>')\n",
        "  except:\n",
        "    printmd('<font color=\"red\">Model compilation failed, please repeat previous steps.</font>')\n",
        "else:\n",
        "  printmd('<font color=\"green\">Please move on to next step!</font>')"
      ],
      "execution_count": 9,
      "outputs": [
        {
          "output_type": "display_data",
          "data": {
            "text/plain": [
              "<IPython.core.display.Markdown object>"
            ],
            "text/markdown": "<font color=\"green\">Model successfully compiled, please move on to next step!</font>"
          },
          "metadata": {}
        }
      ]
    },
    {
      "cell_type": "markdown",
      "metadata": {
        "id": "jaLF1hPshFw1"
      },
      "source": [
        "# Step 11\n",
        "- Please choose a folder with the training images (raw images you want to segment)"
      ]
    },
    {
      "cell_type": "code",
      "metadata": {
        "id": "IQPRVMwrhSJ_",
        "cellView": "form",
        "colab": {
          "base_uri": "https://localhost:8080/",
          "height": 281,
          "referenced_widgets": [
            "896d1d1805d04f83a3e096d37188c0cd",
            "475b2bf04df04ee899f0fa25a815b277",
            "51fe5e4b55dd4f1d862925ca98650cfd",
            "57736bef91cc43e7b69072b70b520df6",
            "41486dfc66d143a79e8776dcb44167a8",
            "72026f84e91e40fd8291f959d0a3cbf4",
            "ffcc4162c542472b9c6c70738085bdc9",
            "1340636f2e104bee947a5efbdbbdc225",
            "302237301e94423aa5653669b1631e00",
            "c40d7b0e126b401f84f60c5ec08e1b55",
            "5bb530a6c81542ebb586d9fa8c39aba6",
            "45f7e998deba43b18025f7befc2a5a8c",
            "f1e9cc7f63e942a6a176e4d4fb754ef9",
            "f6cd45274be444afab5c8884186b22c2",
            "97bd30e0076d419b9d5c09e6f4df6269",
            "5fe7f3bae8794062b9851762dd6aa982",
            "52e830cc467e4ddfab9af3939fa90909",
            "039b56797d8646e883606be70da7724f",
            "c6182104eede416fb06aecf074303089",
            "f0325da8033841eabd4af4f03530f368",
            "ab603f1e1bae41d6859f3dc6c679e82b",
            "a2ca0e458ad54372b7858181ea94523f",
            "fc00928218a348848c30e6003073f9a3",
            "4056cfec1739454da48ec051b3e2f4ed",
            "641ed8a6b25f472abb3a32564fdee1f8",
            "b5793f470da54b6ba868e2476bf1c4a1",
            "a5e29bfab5d04d37bc542981a01db2b0",
            "e47254b108fb47caadedbd9e4f90089a",
            "dfb50ee4d02f482784d035651fab3877",
            "15e8e7ff0f614a4a8b1fcf20c2b9f67d",
            "9bc7b1addb274dd0bc8601762ee67023",
            "ad0e7809fe2d45e1b92224f17cdc58d6",
            "914af166390047c6b86b2d695becf121",
            "45132ccecd9c4deaa1893effefc2a6f2",
            "4d80671c87f54117a9ba2e8e932032b7"
          ]
        },
        "outputId": "b00ef69e-8a26-4c00-cb78-28bfdcb4c78d"
      },
      "source": [
        "#@title <-- Press Run\n",
        "\n",
        "folder_train_originals = FileBrowser(folders_only=True)\n",
        "folder_train_originals_label = Label('Please select the folder in your drive that contains the original images to use for training (then move on to next step):')\n",
        "ui = widgets.VBox([folder_train_originals_label, folder_train_originals.widget()])\n",
        "display(ui)"
      ],
      "execution_count": 10,
      "outputs": [
        {
          "output_type": "display_data",
          "data": {
            "text/plain": [
              "VBox(children=(Label(value='Please select the folder in your drive that contains the original images to use fo…"
            ],
            "application/vnd.jupyter.widget-view+json": {
              "version_major": 2,
              "version_minor": 0,
              "model_id": "896d1d1805d04f83a3e096d37188c0cd"
            }
          },
          "metadata": {}
        }
      ]
    },
    {
      "cell_type": "markdown",
      "metadata": {
        "id": "PZZJ-_KdhThr"
      },
      "source": [
        "# Step 12\n",
        "- Please choose a folder with the segmented images the model should try to reproduce"
      ]
    },
    {
      "cell_type": "code",
      "metadata": {
        "id": "ugVpVFrghUHD",
        "cellView": "form",
        "colab": {
          "base_uri": "https://localhost:8080/",
          "height": 281,
          "referenced_widgets": [
            "fc099ccc0da4480eab322aa55026e2e2",
            "b4a0c707d16643379941019d531aa102",
            "5a8fd850d35c42abb21cb15588e71830",
            "9dcc31975df745489ac5f92af174307f",
            "c6adf333b1774425a585ea88959d1dd6",
            "5af5eee6f14b493fb0f85274ee66d3e0",
            "32e9c940c3174704b3a76614cb4be941",
            "ea0a4e1d3c5b4853bdcc5611d825b2ad",
            "efa8ff81b3424df9be6f9df3341341d1",
            "3356b217659d4a2ea81b48201070f1c5",
            "7694261cfa43466a94bc092276bf6d65",
            "2e46d4656fde40a487a58ca9d242550d",
            "04bfd297dab34f0d8f88ce044dfaa92e",
            "efd34a8e8cdd4436a95ae6b8833be468",
            "71691fd262254c398d2070399da40892",
            "aebed65d4ac44ac58a9f9a97a7d88698",
            "e5e78caab18e4bddbf783a064efa357f",
            "eaa64ce570c3426c85fe390d93bca0d9",
            "6902ad5ccb8f4712952e21508325baaa",
            "db833703d7f345aaa5e0893542e61810",
            "619e5ae40cec492f8ddddb9921102eb5",
            "a4190e7d10314ad59082d25a78d6146c",
            "f332645719dd4f93ad3c3d4fb6771276",
            "9189954133ce4eaa92a7bae8aada30fb",
            "ad341d6d63bb4be3989c8487d5c225db",
            "6eda948cf9734c42810c72f1061afd13",
            "faabbb51353a4314a7148bab7eacb192",
            "5e68184083bc437284df24ce92d3e75c",
            "2038a378607a45dd813a91820e982c80",
            "8bdcc41cf9cf4665b1ccbb5b61c057e4",
            "f44f8f0614b84e7fbddd33ae5e06afb8",
            "9854f5afdb7f4c2c9ae28956009d547d",
            "8c5cf561c3714fcdacf82bec0a66dbf2",
            "f113b6e08e44465299474d6a00685f49",
            "8b51fa2765f9484ebea10ca25a2074e1"
          ]
        },
        "outputId": "f250f475-0b5a-40ec-bdf6-2b29539370f4"
      },
      "source": [
        "#@title <-- Press Run\n",
        "\n",
        "folder_train_segmentation = FileBrowser(folders_only=True)\n",
        "folder_train_segmentation_label = Label('Please select the folder in your drive that contains the segmented images corresponding to the original loaded in the previous cell (then move on to next step):')\n",
        "ui = widgets.VBox([folder_train_segmentation_label, folder_train_segmentation.widget()])\n",
        "display(ui)"
      ],
      "execution_count": 11,
      "outputs": [
        {
          "output_type": "display_data",
          "data": {
            "text/plain": [
              "VBox(children=(Label(value='Please select the folder in your drive that contains the segmented images correspo…"
            ],
            "application/vnd.jupyter.widget-view+json": {
              "version_major": 2,
              "version_minor": 0,
              "model_id": "fc099ccc0da4480eab322aa55026e2e2"
            }
          },
          "metadata": {}
        }
      ]
    },
    {
      "cell_type": "markdown",
      "metadata": {
        "id": "j6zAAO4qWt-k"
      },
      "source": [
        "# Step 13\n",
        "-Run the cell below to check that training images and their corresponding segmentation masks are valid and as numerous "
      ]
    },
    {
      "cell_type": "code",
      "metadata": {
        "id": "OP-53HWcWuQP",
        "colab": {
          "base_uri": "https://localhost:8080/",
          "height": 133
        },
        "outputId": "9082248d-ed6b-4dd0-9446-0a65fb80e22c",
        "cellView": "form"
      },
      "source": [
        "#@title <-- Press Run\n",
        "\n",
        "# print(folder_train_originals.path)\n",
        "# print(folder_train_segmentation.path)\n",
        "\n",
        "originals_list = DataGenerator.get_list_of_images(folder_train_originals.path)\n",
        "# print(originals_list)\n",
        "segmented_list = DataGenerator.get_list_of_images(folder_train_segmentation.path)\n",
        "# print(segmented_list)    \n",
        "print('originals n=',len(originals_list), 'segmented images n=', len(segmented_list))\n",
        "\n",
        "first_orig = None\n",
        "first_mask = None\n",
        "\n",
        "if len(originals_list) > 0 and len(segmented_list)> 0 and len(originals_list) == len(segmented_list):\n",
        "  try:\n",
        "    print('first original image')\n",
        "    first_orig = Img(originals_list[0])\n",
        "    # first_orig.pop()\n",
        "    print(first_orig.shape)\n",
        "    print('first mask image')\n",
        "    first_mask = Img(segmented_list[0])\n",
        "    # first_mask.pop()\n",
        "    print(first_mask.shape)\n",
        "  \n",
        "    printmd('<font color=\"green\">Everything seems fine, please move on to next step.</font>')\n",
        "  except:\n",
        "    printmd('<font color=\"red\">Problems detected. The first image(s) could not be loaded. Please check your files and repeat steps 11 to 13.</font>')    \n",
        "else:\n",
        "  if len(originals_list) != len(segmented_list):\n",
        "    printmd('<font color=\"red\">Problems detected. There seems to be a discrepancy between the number of original images and their corresponding segmentation. You may proceed but training will most likely fail. It is recommended you repeat steps 11 and 12 to change folders or check your files.</font>')\n",
        "  else:\n",
        "    printmd('<font color=\"red\">Problems detected. A folder seems empty. Please repeat steps 11 to 13.</font>')\n"
      ],
      "execution_count": 13,
      "outputs": [
        {
          "output_type": "stream",
          "name": "stdout",
          "text": [
            "originals n= 6 segmented images n= 6\n",
            "first original image\n",
            "(512, 512, 3)\n",
            "first mask image\n",
            "(512, 512, 3)\n"
          ]
        },
        {
          "output_type": "display_data",
          "data": {
            "text/plain": [
              "<IPython.core.display.Markdown object>"
            ],
            "text/markdown": "<font color=\"green\">Everything seems fine, please move on to next step.</font>"
          },
          "metadata": {}
        }
      ]
    },
    {
      "cell_type": "markdown",
      "metadata": {
        "id": "IqtQ2tJIhhyF"
      },
      "source": [
        "# Step 14\n",
        "- Please run the cell below to define normalization and clip model input images (original images)"
      ]
    },
    {
      "cell_type": "code",
      "metadata": {
        "id": "Ts-n2q4eFuNv",
        "colab": {
          "base_uri": "https://localhost:8080/",
          "height": 273,
          "referenced_widgets": [
            "69c7803043a54c69869856dcee9608f8",
            "4adf5b85cb8745eab88195ed30f4d21b",
            "9aca61a967e14564a5cf9a66994482bd",
            "b189e9f53dfc414b9534e28365c997c5",
            "4135abb859f84cd799c80eff08132600",
            "32a45a9ef28e473e80749f5d135bf8b9",
            "54920d1c484d47eabd064c62fbe5daa4",
            "ec195dd863f048588a5436f2d86ac0d0",
            "79e5983c24fb4bb494b46f800b6c328f",
            "1b46658f3e6840ed8a3eee25898ec1f4",
            "ac88a60b5675421a850ce26ca44930b2",
            "3b9921fec35d44ed81ae3e771286260c",
            "d1d5cf1ece924532ae712249ce5d1a7f",
            "72cdbdf25af14a9cbec12aa5955a9069",
            "7bf3e1f05d1d49e5b0c5899803c49d53",
            "d36fd41e9eb846ca92ed6a37ef324c53",
            "e5d82781cbe544e4a3d0c74471d009d7",
            "8c9a1f6c84b141779f895280e1b9b2f1",
            "1182f63969764c6d850b907c60659530",
            "fd7a8bc817d249bfa00559868bccd037",
            "7401b210bf8c4003b1920be19d6358e8",
            "96b23ab062e8433d81729b4f8a97da2f",
            "22af9f57aafe4286873c2d5007b1ebca",
            "afbb6536ba68492d952e8f439327e055",
            "246e379a38184a22bd2949c016c7116d",
            "996bbe4ae8c643b28e731b58005533a6",
            "efe6bc8049a0482b9cf3a6918f8ebf26",
            "9a91e1e2ee1b44cc8b6119521fc46a72",
            "896be89ec985414dae68d479dd5cf23c",
            "c90246ce2ae3492a8821fb7d36661a25",
            "46bdf3f1791747d4907ecb74fdb131dc",
            "a06b1787a50b459bb8efb5c64cb82775",
            "95ca6f4fcf8346d8b61b242630edac38",
            "7692e2f3858d45beabe4acbee145d77e",
            "c4ba6db967a0438c81c4e93b266abf84",
            "dae7fe7544064156a7b6013b55f9c7d2",
            "53b65eb5f280481ea0068f664400dfac",
            "54ed07837b44403cb6c4038a3ce67a3f",
            "bc03f63bea5e48e0a48a3736e1e81b7c",
            "d4e158454de045a9ba96c58c3b31f047",
            "324dcca2feb049cb86aa63f9fe4bdb44",
            "45be6ea09ffb4ee9bc846b12d7cf9e35",
            "2162a533ca134765b364c70174d8efbc",
            "b64887b61c924770bd84831e51e3e143",
            "cfd8769404bb4568a7b60e5ba630bdae",
            "d355be5edb9e4265961931fbb3b3f00b",
            "9f51c024fb0e49d493e5465b4813ff5e"
          ]
        },
        "cellView": "form",
        "outputId": "93afecef-c02e-4bc5-d268-ded11fec18f1"
      },
      "source": [
        "#@title <-- Press Run\n",
        "\n",
        "# Normalization for orig data\n",
        "\n",
        "info_label_orig=widgets.Label('If you don\\'t know what to do, just leave pamaters unchanged and move on to next step.')\n",
        "\n",
        "# if image has no or 1 channel then ignore COI\n",
        "channels_orig = [0, 1, 2, 3, 4, 5, 6, 7, 8, 9]\n",
        "if first_orig is not None:\n",
        "  if first_orig.has_c():\n",
        "    channels_orig = []\n",
        "    for c in range(first_orig.get_dimension('c')):\n",
        "      channels_orig.append(c)\n",
        "  else:\n",
        "    channels_orig = [0]\n",
        "\n",
        "channel_COI_orig = widgets.Dropdown(\n",
        "    placeholder='Choose a channel of interest',\n",
        "    options=channels_orig,\n",
        "    description='Channel of interest (COI)',\n",
        "    ensure_option=True,\n",
        "    disabled=False,\n",
        "    layout={'width': 'max-content'},\n",
        "    style={'description_width': 'initial'}\n",
        ")\n",
        "\n",
        "rule_reduc_orig = widgets.Dropdown(\n",
        "    placeholder='Rule to reduce nb of channels (if needed)',\n",
        "    options=['copy the COI to all available channels','force copy the COI to all available channels even if nb of channels is ok','remove extra channels'],\n",
        "    description='Rule to reduce nb of channels (if needed)',\n",
        "    ensure_option=True,\n",
        "    disabled=False,\n",
        "    layout={'width': 'max-content'},\n",
        "    style={'description_width': 'initial'}\n",
        ")\n",
        "\n",
        "rule_aug_orig = widgets.Dropdown(\n",
        "    placeholder='Rule to increase nb of channels (if needed)',\n",
        "    options=['copy the COI to all channels', 'force copy the COI to all available channels even if nb of channels is ok', 'copy the COI to missing channels only', 'add empty channels (0 filled)'],\n",
        "    description='Rule to increase nb of channels (if needed)',\n",
        "    ensure_option=True,\n",
        "    disabled=False,\n",
        "    layout={'width': 'max-content'},\n",
        "    style={'description_width': 'initial'}\n",
        ")\n",
        "\n",
        "\n",
        "# TODO REMOVE LINE BELOW AND UPDATE LIBRARY!!!!\n",
        "# ̣̣̣!!!!!!!!!!!!!!!!!!!!!!!!!!!!!!!!!!!!!!!!!!!!!!!!\n",
        "Img.clipping_methods = ['ignore outliers', '+', '+/-', '-']\n",
        "\n",
        "# list of available normalization methods\n",
        "# print(Img.normalization_methods)\n",
        "# Img.normalization_ranges =[[0, 1], [-1, 1]]\n",
        "# print('a',Img.normalization_ranges)\n",
        "ranges = Img.normalization_ranges.copy()\n",
        "# print(ranges)\n",
        "\n",
        "for n,r in enumerate(ranges):\n",
        "  # print(r,n, str(r))\n",
        "  ranges[n]=str(r)\n",
        "\n",
        "# print(ranges)\n",
        "\n",
        "normalization_methods_orig = widgets.Dropdown(\n",
        "    # value='Rescaling (min-max normalization)',\n",
        "    placeholder='Normalization',\n",
        "    options=Img.normalization_methods,\n",
        "    description='Normalization method',\n",
        "    ensure_option=True,\n",
        "    disabled=False,\n",
        "    layout={'width': 'max-content'},\n",
        "    style={'description_width': 'initial'}\n",
        ")\n",
        "normalization_range_orig = widgets.Dropdown(\n",
        "    # value='[0, 1]',\n",
        "    placeholder='Range',\n",
        "    options=ranges,\n",
        "    description='Normalization range',\n",
        "    ensure_option=True,\n",
        "    disabled=False,\n",
        "    # layout={'width': 'max-content'},\n",
        "    style={'description_width': 'initial'}\n",
        ")\n",
        "clipping_methods_orig = widgets.Dropdown(\n",
        "    placeholder='Clipping outliers',\n",
        "    options=Img.clipping_methods,\n",
        "    description='clip intensity',\n",
        "    ensure_option=True,\n",
        "    disabled=False,\n",
        "    layout={'width': 'max-content'},\n",
        "    style={'description_width': 'initial'}\n",
        ")\n",
        "\n",
        "per_channel_orig = widgets.Checkbox(True,\n",
        "                       description='Per channel normalization',\n",
        "                       style={'description_width': 'initial'}\n",
        ")\n",
        "\n",
        "cliprange_orig = widgets.FloatSlider(description='range (clipping)', value=0.005, min=0, max=0.30, step=0.001,style={'description_width': 'initial'})\n",
        "\n",
        "percentile_min_orig = widgets.FloatSlider(description='min percentile', value=2., min=0., max=30., step=0.1,style={'description_width': 'initial'})\n",
        "percentile_max_orig = widgets.FloatSlider(description='max percentile', value=99.8, min=70., max=100., step=0.1,style={'description_width': 'initial'})\n",
        "clip_percentile_orig_checkbox = widgets.Checkbox(\n",
        "    value=False,\n",
        "    description='Clip',\n",
        "    disabled=False,\n",
        "    indent=False,\n",
        "    style={'description_width': 'initial'}\n",
        ")\n",
        "\n",
        "percentile_min_orig.layout.visibility = 'hidden'\n",
        "percentile_max_orig.layout.visibility = 'hidden'\n",
        "clip_percentile_orig_checkbox.layout.visibility = 'hidden'\n",
        "\n",
        "\n",
        "def display_percentile_range(x):\n",
        "  if not 'ercent' in normalization_methods_orig.value:\n",
        "    percentile_min_orig.layout.visibility = 'hidden'\n",
        "    percentile_max_orig.layout.visibility = 'hidden'\n",
        "    clip_percentile_orig_checkbox.layout.visibility = 'hidden'\n",
        "    normalization_range_orig.layout.visibility = 'visible'\n",
        "  else:\n",
        "    percentile_min_orig.layout.visibility = 'visible'\n",
        "    percentile_max_orig.layout.visibility = 'visible'\n",
        "    clip_percentile_orig_checkbox.layout.visibility = 'visible'\n",
        "    normalization_range_orig.layout.visibility = 'hidden'\n",
        "\n",
        "interactive(display_percentile_range, x=normalization_methods_orig);\n",
        "# display(per_channel)\n",
        "# def changed(b):\n",
        "#     print(b)\n",
        "\n",
        "# per_channel.observe(changed)\n",
        "\n",
        "# wdgts = []\n",
        "# ui = widgets.VBox(wdgts)\n",
        "# display(ui)\n",
        "\n",
        "invert_orig = widgets.Checkbox(False,\n",
        "                       description='Negative/invert intensity',\n",
        "                       style={'description_width': 'initial'}\n",
        ")\n",
        "\n",
        "\n",
        "# print(range_value)\n",
        "# print(per_channel.value) #recover checkbox value\n",
        "ui = widgets.VBox([info_label_orig, widgets.HBox([clipping_methods_orig,  cliprange_orig]), channel_COI_orig, rule_reduc_orig, rule_aug_orig,  widgets.HBox([normalization_methods_orig, normalization_range_orig, per_channel_orig]),widgets.HBox([percentile_min_orig, percentile_max_orig, clip_percentile_orig_checkbox]),  invert_orig])\n",
        "display(ui)\n",
        "\n"
      ],
      "execution_count": 14,
      "outputs": [
        {
          "output_type": "display_data",
          "data": {
            "text/plain": [
              "VBox(children=(Label(value=\"If you don't know what to do, just leave pamaters unchanged and move on to next st…"
            ],
            "application/vnd.jupyter.widget-view+json": {
              "version_major": 2,
              "version_minor": 0,
              "model_id": "69c7803043a54c69869856dcee9608f8"
            }
          },
          "metadata": {}
        }
      ]
    },
    {
      "cell_type": "markdown",
      "metadata": {
        "id": "Zp93no2Mh2yB"
      },
      "source": [
        "# Step 15\n",
        "- Please run the cell below to define normalization and pre process segmented images (mask images)"
      ]
    },
    {
      "cell_type": "code",
      "metadata": {
        "id": "IceR66bUpuD5",
        "colab": {
          "base_uri": "https://localhost:8080/",
          "height": 273,
          "referenced_widgets": [
            "f75d45a823d74f469dc04b720496e94a",
            "643d76cfec724424a7257b9fd2e364d9",
            "6ad2321df5fd437792a90761620d3947",
            "8cdb41b4ac604131840986d97ea43000",
            "12bb80f25c8948b389937ead625cf985",
            "640d777422ee46f58fc8eb9ff4433544",
            "70d03b3aa1c7401fb4c97752d3e9bbe9",
            "6058474ad707418abd64a49760316c66",
            "c0b53b5af65d40dbb7079db49e06570d",
            "d45e2b87972f46baba281b50e8eaaf6c",
            "cf21160a36234f17bb33960d976534e6",
            "22e40a0f7b3547c98a2a7e2ef3bd6cc9",
            "2a82013b96f34a0b83d57a96439e89db",
            "9e1636f23ca54888a9790f6c37b5800c",
            "25f7498402144c26ba38b407be32c619",
            "78210bd6e6cc4d25a897b7b947bda2a9",
            "93bc0ad9a4104cf2a1082aaef49d9ee9",
            "234c4861d3b5474eb4144af9383e72dc",
            "1ee1e9bd2f6c479ca2f69275b08c8843",
            "cee96a5192db471dbf30af95392ba2b4",
            "a5f286495b274de6bf5dc4c5b69d61c9",
            "dc178a6b5b024aa885e349c16b242827",
            "e7abd588e71d42f69102a5f9c36223dd",
            "b563d37fb02c497cbeadf6ff322031e7",
            "74d12976fa4f4b12b2a255057237844e",
            "36a1a93ab2814b588a9fc22aba47b17c",
            "f5e023d8a98b45a4949c1309515c4e36",
            "70666f981fc64f9c95f75784b77ce498",
            "e6d324d11eaf46bebc3a976835d5edca",
            "eb9b440b6aec4047be9a211c8ca2f25d",
            "1c3f47ffce7c4a3f91a9f59497defad8",
            "c9a4fcc50af74892987922b7eb0c8c0d",
            "952fdd78dc89463b911346335854e965",
            "dd252b4b108943f7b50d57bbf948ae3c",
            "81f58e8d08d8433697c5d896fa326e42",
            "8bc8d4776abd4407bedced9300ad5372",
            "2907d656fbf84c7e883cd4f65fc4dbf6",
            "5d8e588e45af4fd4918392d0a5f45cb7",
            "137362d978864cce978b570dd005ef34",
            "2f4fe6ef74804119a587a6dcc0425afb",
            "83963aa3d99243f8940d6662771d4c63",
            "72a93702b1cb4991b62a1a28e3eecb69"
          ]
        },
        "cellView": "form",
        "outputId": "4dd0306b-8fa0-4403-b2e6-7262cc7ade3c"
      },
      "source": [
        "#@title <-- Press Run\n",
        "\n",
        "# Normalization for masks\n",
        "# avec plus ou moins de preprocess style dilat\n",
        "\n",
        "info_label_mask=widgets.Label('If you don\\'t know what to do, just leave pamaters unchanged and move on to next step.')\n",
        "\n",
        "# if image has no or 1 channel then ignore COI\n",
        "channels_mask = [0, 1, 2, 3, 4, 5, 6, 7, 8, 9]\n",
        "if first_mask is not None:\n",
        "  if first_mask.has_c():\n",
        "    channels_mask = []\n",
        "    for c in range(first_mask.get_dimension('c')):\n",
        "      channels_mask.append(c)\n",
        "  else:\n",
        "    channels_mask = [0]\n",
        "\n",
        "channel_COI_mask = widgets.Dropdown(\n",
        "    placeholder='Choose a channel of interest',\n",
        "    options=channels_mask,\n",
        "    description='Channel of interest (COI)',\n",
        "    ensure_option=True,\n",
        "    disabled=False,\n",
        "    layout={'width': 'max-content'},\n",
        "    style={'description_width': 'initial'}\n",
        ")\n",
        "\n",
        "rule_reduc_mask = widgets.Dropdown(\n",
        "    placeholder='Rule to reduce nb of channels (if needed)',\n",
        "    options=['copy the COI to all available channels','force copy the COI to all available channels even if nb of channels is ok','remove extra channels'],\n",
        "    description='Rule to reduce nb of channels (if needed)',\n",
        "    ensure_option=True,\n",
        "    disabled=False,\n",
        "    layout={'width': 'max-content'},\n",
        "    style={'description_width': 'initial'}\n",
        ")\n",
        "\n",
        "rule_aug_mask = widgets.Dropdown(\n",
        "    placeholder='Rule to increase nb of channels (if needed)',\n",
        "    options=['copy the COI to all channels', 'force copy the COI to all available channels even if nb of channels is ok', 'copy the COI to missing channels only', 'add empty channels (0 filled)'],\n",
        "    description='Rule to increase nb of channels (if needed)',\n",
        "    ensure_option=True,\n",
        "    disabled=False,\n",
        "    layout={'width': 'max-content'},\n",
        "    style={'description_width': 'initial'}\n",
        ")\n",
        "\n",
        "\n",
        "# TODO REMOVE LINE BELOW AND UPDATE LIBRARY!!!!\n",
        "# ̣̣̣!!!!!!!!!!!!!!!!!!!!!!!!!!!!!!!!!!!!!!!!!!!!!!!!\n",
        "Img.clipping_methods = ['ignore outliers', '+', '+/-', '-']\n",
        "\n",
        "# list of available normalization methods\n",
        "# print(Img.normalization_methods)\n",
        "# Img.normalization_ranges =[[0, 1], [-1, 1]]\n",
        "# print('a',Img.normalization_ranges)\n",
        "ranges = Img.normalization_ranges.copy()\n",
        "# print(ranges)\n",
        "\n",
        "for n,r in enumerate(ranges):\n",
        "  # print(r,n, str(r))\n",
        "  ranges[n]=str(r)\n",
        "\n",
        "# print(ranges)\n",
        "\n",
        "normalization_methods_mask = widgets.Dropdown(\n",
        "    # value='Rescaling (min-max normalization)',\n",
        "    placeholder='Normalization',\n",
        "    options=Img.normalization_methods,\n",
        "    description='Normalization method',\n",
        "    ensure_option=True,\n",
        "    disabled=False,\n",
        "    layout={'width': 'max-content'},\n",
        "    style={'description_width': 'initial'}\n",
        ")\n",
        "normalization_range_mask = widgets.Dropdown(\n",
        "    # value='[0, 1]',\n",
        "    placeholder='Range',\n",
        "    options=ranges,\n",
        "    description='Normalization range',\n",
        "    ensure_option=True,\n",
        "    disabled=False,\n",
        "    # layout={'width': 'max-content'},\n",
        "    style={'description_width': 'initial'}\n",
        ")\n",
        "\n",
        "per_channel_mask = widgets.Checkbox(True,\n",
        "                       description='Per channel normalization',\n",
        "                       style={'description_width': 'initial'}\n",
        ")\n",
        "\n",
        "\n",
        "percentile_min_mask = widgets.FloatSlider(description='min percentile', value=2., min=0., max=30., step=0.1,style={'description_width': 'initial'})\n",
        "percentile_max_mask = widgets.FloatSlider(description='max percentile', value=99.8, min=70., max=100., step=0.1,style={'description_width': 'initial'})\n",
        "clip_percentile_mask_checkbox = widgets.Checkbox(\n",
        "    value=False,\n",
        "    description='Clip',\n",
        "    disabled=False,\n",
        "    indent=False,\n",
        "    style={'description_width': 'initial'}\n",
        ")\n",
        "\n",
        "percentile_min_mask.layout.visibility = 'hidden'\n",
        "percentile_max_mask.layout.visibility = 'hidden'\n",
        "clip_percentile_mask_checkbox.layout.visibility = 'hidden'\n",
        "\n",
        "\n",
        "def display_percentile_range_mask(x):\n",
        "  if not 'ercent' in normalization_methods_mask.value:\n",
        "    percentile_min_mask.layout.visibility = 'hidden'\n",
        "    percentile_max_mask.layout.visibility = 'hidden'\n",
        "    clip_percentile_mask_checkbox.layout.visibility = 'hidden'\n",
        "    normalization_range_mask.layout.visibility = 'visible'\n",
        "  else:\n",
        "    percentile_min_mask.layout.visibility = 'visible'\n",
        "    percentile_max_mask.layout.visibility = 'visible'\n",
        "    clip_percentile_mask_checkbox.layout.visibility = 'visible'\n",
        "    normalization_range_mask.layout.visibility = 'hidden'\n",
        "\n",
        "\n",
        "interactive(display_percentile_range_mask, x=normalization_methods_mask);\n",
        "\n",
        "remove_n_border_mask_pixels = widgets.IntSlider(description='Remove border pixels', value=0, min=0, max=10, step=1,style={'description_width': 'initial'})\n",
        "mask_dilations = widgets.IntSlider(description='Dilation', value=0, min=0, max=10, step=1,style={'description_width': 'initial'})\n",
        "\n",
        "\n",
        "# TODO add options to create and save temp files to gain time for training only if retraining a model\n",
        "# or offer it all the time but tick it only if model need be retrained by default --> better option in case the user reloads things\n",
        "# need make sure the model has seven outputs --> it is compatible with EPySeg\n",
        "\n",
        "set_generate_epyseg_output = False\n",
        "if model.value == 3:\n",
        "  set_generate_epyseg_output = True\n",
        "\n",
        "\n",
        "generate_default_epyseg_output_from_mask = widgets.Checkbox(set_generate_epyseg_output,\n",
        "                       description='(EPySeg pre-trained model only!) Produce EPySeg-style output (from user input watershed mask)',\n",
        "                       style={'description_width': 'initial'}\n",
        ")\n",
        "store_mask_on_drive_to_gain_speed = widgets.Checkbox(set_generate_epyseg_output,\n",
        "                       description='Save EPySeg-style output on disk (if ticked, much faster, but disk space required)',\n",
        "                       style={'description_width': 'initial'}\n",
        ")\n",
        "\n",
        "model_outputs = deepTA.get_outputs_shape()\n",
        "\n",
        "# print(model_outputs[0][-1])\n",
        "# print(model_outputs[0][-1]!= 7)\n",
        "# model_outputs = None\n",
        "# print(model_outputs)\n",
        "# print(model.value == 3)\n",
        "\n",
        "if model.value == 3 or (model_outputs is not None and model_outputs[0][-1] == 7):\n",
        "  # ui = widgets.VBox([info_label_mask, channel_COI_mask, rule_reduc_mask, rule_aug_mask, normalization_methods_mask, normalization_range_mask, per_channel_mask, remove_n_border_mask_pixels,mask_dilations, generate_default_epyseg_output_from_mask, store_mask_on_drive_to_gain_speed])\n",
        "  ui = widgets.VBox([info_label_mask, channel_COI_mask, rule_reduc_mask, rule_aug_mask,  widgets.HBox([normalization_methods_mask, normalization_range_mask, per_channel_mask]),widgets.HBox([percentile_min_mask, percentile_max_mask, clip_percentile_mask_checkbox]), remove_n_border_mask_pixels,mask_dilations, generate_default_epyseg_output_from_mask, store_mask_on_drive_to_gain_speed])    \n",
        "else:\n",
        "  # ui = widgets.VBox([info_label_mask, channel_COI_mask, rule_reduc_mask, rule_aug_mask, normalization_methods_mask, normalization_range_mask, per_channel_mask, remove_n_border_mask_pixels,mask_dilations])\n",
        "  ui = widgets.VBox([info_label_mask, channel_COI_mask, rule_reduc_mask, rule_aug_mask,  widgets.HBox([normalization_methods_mask, normalization_range_mask, per_channel_mask]),widgets.HBox([percentile_min_mask, percentile_max_mask, clip_percentile_mask_checkbox]), remove_n_border_mask_pixels,mask_dilations])    \n",
        "\n",
        "display(ui)\n",
        "\n"
      ],
      "execution_count": 15,
      "outputs": [
        {
          "output_type": "display_data",
          "data": {
            "text/plain": [
              "VBox(children=(Label(value=\"If you don't know what to do, just leave pamaters unchanged and move on to next st…"
            ],
            "application/vnd.jupyter.widget-view+json": {
              "version_major": 2,
              "version_minor": 0,
              "model_id": "f75d45a823d74f469dc04b720496e94a"
            }
          },
          "metadata": {}
        }
      ]
    },
    {
      "cell_type": "markdown",
      "metadata": {
        "id": "OXiO__JJiCO2"
      },
      "source": [
        "# Step 16\n",
        "- Please run the cell below to set training parameters"
      ]
    },
    {
      "cell_type": "code",
      "metadata": {
        "id": "cAT1vPQIh3Hu",
        "colab": {
          "base_uri": "https://localhost:8080/",
          "height": 177,
          "referenced_widgets": [
            "2a7c75f97f5141589f3e7ddffbd27dbb",
            "3881c202d0374ad3af2f06704411b5a2",
            "b29b451a7fe845838bb7f1ba457ad6fd",
            "fe5086d9beac41e9adec68f0ae17b25b",
            "6491e465d98b40eab2b100e52e0603c1",
            "6a7f254b4fb94191bf12568100dfd297",
            "815a1f0c9b6744b4a6b76a414d364953",
            "a16dd420d39a4de3b1bfd2ae8b43a51c",
            "adba13b29b9d4aa3b109e6e495cf8c93",
            "c7822fd2ef08483e86a20d536bff3377",
            "962cc46f285b488ab6e3e80bb21e972d",
            "8dc86cfa7c9245f9af3861a4909e7526",
            "8c574d72e6614e13878ae32500dfeb31",
            "977ce97a038d4804b34c355465b3c653",
            "dcc152d8554f492e9762e51441f9aa89",
            "c678ce02955348ccac4bbb3a3a82f07e",
            "9248eca3d61043ca999e776e771cd3e3",
            "b634abe43d1d4bea971769c819bd18ec",
            "96cfec2da190400dbbdb201229420454",
            "bd4235e71e4e4672bfa3f8ffc9883d5c",
            "964184d632d54066876dbbbb0ccb1ad6",
            "e68c0512c24f46b09664e1b3693d1d5f",
            "06fea95d2e234cd884f9cdbbb49ee02f",
            "e4b3bdaefcd1485eadf8b6539530785c",
            "cf596c43264644c4beede5a3d26f0a7d"
          ]
        },
        "cellView": "form",
        "outputId": "df8ac1e0-8a79-496b-df0d-1145819054b9"
      },
      "source": [
        "#@title <-- Press Run\n",
        "\n",
        "\n",
        "# input_normalization = {'method': 'Rescaling (min-max normalization)', 'range': [0, 1],\n",
        "                          #  'individual_channels': True}\n",
        "\n",
        "# now the batch size and alike parameters\n",
        "batch_size_slider = widgets.IntSlider(description='Batch size', value=16, min=1, max=256, step=1,style={'description_width': 'initial'})\n",
        "epochs_slider = widgets.IntSlider(description='Number of epochs', value=100, min=5, max=1000, step=1,style={'description_width': 'initial'})\n",
        "keep_slider = widgets.IntSlider(description='Keep best models', value=5, min=-1, max=1000, step=1,style={'description_width': 'initial'})\n",
        "# assume full set at every step\n",
        "\n",
        "# add reduce lr on plateau\n",
        "reduce_lr_on_plateau_checkbox = widgets.Checkbox(\n",
        "    value=True,\n",
        "    description='Reduce learning rate on plateau',\n",
        "    disabled=False,\n",
        "    indent=False,\n",
        "    style={'description_width': 'initial'}\n",
        ")\n",
        "shuffle_checkbox = widgets.Checkbox(\n",
        "    value=True,\n",
        "    description='Shuffle training sets',\n",
        "    disabled=False,\n",
        "    indent=False,\n",
        "    style={'description_width': 'initial'}\n",
        ")\n",
        "\n",
        "patience_slider = widgets.IntSlider(description='Patience', value=10, min=2, max=100, step=1,style={'description_width': 'initial'})\n",
        "factor_slider = widgets.FloatSlider(description='Factor (0.5 means reduce lr by 2)', value=0.50, min=0.00, max=1.00, step=0.01,style={'description_width': 'initial'})\n",
        "reduce_lr_on_plateau_box =  widgets.HBox([reduce_lr_on_plateau_checkbox, factor_slider, patience_slider,])\n",
        "\n",
        "def show_hide_reduce_lr(x):\n",
        "      # print(default_lr_checkbox.value)\n",
        "      patience_slider.disabled = not reduce_lr_on_plateau_checkbox.value\n",
        "      factor_slider.disabled = not reduce_lr_on_plateau_checkbox.value\n",
        "      if not reduce_lr_on_plateau_checkbox.value:\n",
        "        patience_slider.layout.visibility = 'hidden'\n",
        "        factor_slider.layout.visibility = 'hidden'\n",
        "      else:\n",
        "        patience_slider.layout.visibility = 'visible'\n",
        "        factor_slider.layout.visibility = 'visible'\n",
        "\n",
        "interactive(show_hide_reduce_lr, x=reduce_lr_on_plateau_checkbox);\n",
        "\n",
        "wdgts = [shuffle_checkbox, batch_size_slider, epochs_slider, keep_slider, reduce_lr_on_plateau_box]\n",
        "ui = widgets.VBox(wdgts)\n",
        "display(ui)"
      ],
      "execution_count": 16,
      "outputs": [
        {
          "output_type": "display_data",
          "data": {
            "text/plain": [
              "VBox(children=(Checkbox(value=True, description='Shuffle training sets', indent=False, style=DescriptionStyle(…"
            ],
            "application/vnd.jupyter.widget-view+json": {
              "version_major": 2,
              "version_minor": 0,
              "model_id": "2a7c75f97f5141589f3e7ddffbd27dbb"
            }
          },
          "metadata": {}
        }
      ]
    },
    {
      "cell_type": "markdown",
      "metadata": {
        "id": "IMB9Uxh7x_mR"
      },
      "source": [
        "# Step 17\n",
        "- Please run the cell to set the tiling parameters (to reduce memory usage)"
      ]
    },
    {
      "cell_type": "code",
      "metadata": {
        "id": "edC0r13ryAWM",
        "cellView": "form",
        "colab": {
          "base_uri": "https://localhost:8080/",
          "height": 81,
          "referenced_widgets": [
            "789c10e376fc4fc28c1e65f719441ce2",
            "b76ded6a952446838d966bed7430e544",
            "ce64a1f0bf34476eb3c853aac6807aed",
            "ebc3c7a9151e432b8dfd487578db23de",
            "415d4d13e83f49bd9d348f1408e4e98f",
            "7ed4354cfb3e404b8514a89fcf87aa16",
            "4a0839b6e35f47d48583163f0bda577a",
            "71bec140d0c1426099deb5f6989cc344"
          ]
        },
        "outputId": "0fadf172-3a7f-4ce4-a207-62078cd13aa0"
      },
      "source": [
        "#@title <-- Press Run\n",
        "\n",
        "test_boolean = True # True # I can have a conditional GUI in fact\n",
        "wdgts = []\n",
        "\n",
        "input_shape = deepTA.get_inputs_shape()\n",
        "output_shape = deepTA.get_outputs_shape()\n",
        "\n",
        "# so far assume model has one entry and one output maybe allow several inputs and outputs later\n",
        "# print('model input shape', input_shape[0])\n",
        "# print('model output shape', output_shape[0])\n",
        "\n",
        "input_val_width = 128\n",
        "input_val_height = 128\n",
        "if input_shape[0][-2] is not None:\n",
        "  # print(input_shape[0][-2]) # default tile width\n",
        "  input_val_width=input_shape[0][-2]\n",
        "  test_boolean = False\n",
        "if input_shape[0][-3] is not None:\n",
        "  # print(input_shape[0][-3]) # default tile height\n",
        "  input_val_height=input_shape[0][-3]\n",
        "  test_boolean = False\n",
        "\n",
        "tile_width_slider = widgets.IntSlider(description='tile width', value=input_val_width, min=16, max=1024, step=2,style={'description_width': 'initial'})\n",
        "wdgts.append(tile_width_slider)\n",
        "tile_height_slider = widgets.IntSlider(description='tile height', value=input_val_height, min=16, max=1024, step=2,style={'description_width': 'initial'})\n",
        "wdgts.append(tile_height_slider)\n",
        "\n",
        "# now the batch size and alike parameters\n",
        "if not test_boolean:\n",
        "  tile_width_slider.disabled = True\n",
        "  tile_height_slider.disabled = True\n",
        "  printmd('<font color=\"green\">input width and height is already defined with the model, please move on to next step</font>')\n",
        "else:\n",
        "  ui = widgets.VBox(wdgts)\n",
        "  display(ui)\n"
      ],
      "execution_count": 17,
      "outputs": [
        {
          "output_type": "display_data",
          "data": {
            "text/plain": [
              "VBox(children=(IntSlider(value=128, description='tile width', max=1024, min=16, step=2, style=SliderStyle(desc…"
            ],
            "application/vnd.jupyter.widget-view+json": {
              "version_major": 2,
              "version_minor": 0,
              "model_id": "789c10e376fc4fc28c1e65f719441ce2"
            }
          },
          "metadata": {}
        }
      ]
    },
    {
      "cell_type": "markdown",
      "metadata": {
        "id": "dt5BLS6kya1h"
      },
      "source": [
        "# Step 18\n",
        "- Please run the cell below to set the data augmentation parameters"
      ]
    },
    {
      "cell_type": "code",
      "metadata": {
        "id": "HBgzcAAgybe9",
        "colab": {
          "base_uri": "https://localhost:8080/",
          "height": 239,
          "referenced_widgets": [
            "ca969e66944749fd81fb45e0b85bd64e",
            "2378a85ffb5c45f584e420697656ffbc",
            "58199ad69cb1472bae0c9370466e073e",
            "3cf8595a292f49d3994f1373cce78d4c",
            "47e01aeee90043f985f4486223c99f21",
            "cb6c455133c848af8bbfd50c7544bb5a",
            "8a2f73e24f824d5a9923e245f98af050",
            "5cc6a893831e436c9c2819a4e233fd0f",
            "9c09cdd954dc4428a03e7892f4a507a4",
            "09d7b7880c32460181ccd598c0c56196",
            "35d36f1c068042a8bceb5928531a2edb",
            "f5f96f90f4b14dbf999395f2830a3649",
            "b31d59e5d2a74bfaad172597be6ee0ca",
            "f0b5b87d85f54f6680e88cb5aeebba4c",
            "0c592b627a744217ba03c38b342f7331",
            "1aee75d0895c40a6a5ddc2c9277dd3b2",
            "09997cb623464f26868cdc5eded9396f",
            "c653c529b8424684894b42b1fd45f3ad",
            "271ad7b1d00044dab99c8187e7e900d0",
            "d62b756291c74badae6eca252eeb5dee",
            "59813b7950c840ac96398c8637fcd2d6",
            "b73aa97b338a40f09b76d10224af2552",
            "0ca9ecb9a6b74231a0653fc438ad8f0c",
            "9335b1b1c78a48a59dfa006074776f5c",
            "77a8ca6dddb24f56b39b7f819f229155",
            "5aedf7ed671c4ba3ad8cdf4f79dd1411"
          ]
        },
        "cellView": "form",
        "outputId": "20be2cd2-ed04-46e8-be65-6333fec3576c"
      },
      "source": [
        "#@title <-- Press Run\n",
        "\n",
        "# need be defined here to avoid erase if people relaunch stuff and allow repopulate it maybe change this\n",
        "augmentations = []\n",
        "\n",
        "from epyseg.deeplearning.augmentation.generators.data import DataGenerator\n",
        "import json\n",
        "\n",
        "# maybe make this dynamic ??? because I need add data augs --> just give it a try but dynamic would be good ideally\n",
        "types_of_augmentations = list(DataGenerator.augmentation_types_and_ranges.keys())\n",
        "# print(types_of_augmentations)\n",
        "# faire un add et ajouter les augs à une liste puis la passer au truc suivant (est ce que je permet de changer les parametres ou pas???? peut etre une autre fois, je pense qu'il faut que ce truc soit dynamique avec du interact...)\n",
        "augmentation_drop = widgets.Dropdown(\n",
        "    value='None',\n",
        "    placeholder='Data augmentation',\n",
        "    options=types_of_augmentations,\n",
        "    description='Data augmentation',\n",
        "    ensure_option=True,\n",
        "    disabled=False,\n",
        "    # layout={'width': 'max-content'},\n",
        "    style={'description_width': 'initial'}\n",
        ")\n",
        "\n",
        "# TODO need a add button that adds to current augs and maybe a reset one too\n",
        "# need a list to have all the augs at once\n",
        "\n",
        "\n",
        "\n",
        "list1 = widgets.Select(\n",
        "    options=augmentations,\n",
        "    description='Selected augmentations:',\n",
        "    disabled=False,\n",
        "    style={'description_width': 'initial'}\n",
        ")\n",
        "\n",
        "button0 = widgets.Button(\n",
        "    description='Add augmentation',\n",
        "    disabled=False,\n",
        "    button_style='', # 'success', 'info', 'warning', 'danger' or ''\n",
        "    tooltip='Add',\n",
        "    icon='check',\n",
        "    style={'description_width': 'initial'}\n",
        ")\n",
        "\n",
        "remove = widgets.Button(description='Remove')\n",
        "def on_remove_clicked(_):\n",
        "      # \"linking function with output\"\n",
        "      # with out:\n",
        "          # what happens when we press the button\n",
        "          # clear_output()\n",
        "          # print('Something happens!')\n",
        "          try:\n",
        "            augmentations.remove(list1.value)\n",
        "            list1.options = augmentations\n",
        "          except:\n",
        "            pass\n",
        "\n",
        "remove.on_click(on_remove_clicked)\n",
        "\n",
        "data_aug_range_rate = widgets.FloatSlider(description='range/rate', value=0.05, min=0, max=0.25, step=0.01,style={'description_width': 'initial'}, disabled = True)\n",
        "\n",
        "def on_combobox_changed(x):\n",
        "    default_value = DataGenerator.augmentation_types_and_ranges[augmentation_drop.value]\n",
        "    show = default_value is not None\n",
        "    data_aug_range_rate.disabled = not show\n",
        "    if show:\n",
        "      data_aug_range_rate.max = default_value[1]\n",
        "      data_aug_range_rate.min = default_value[0]\n",
        "      data_aug_range_rate.value = default_value[2]\n",
        "\n",
        "interact(on_combobox_changed, x=augmentation_drop);\n",
        "\n",
        "add = widgets.Button(description='Add')\n",
        "def on_button_clicked(_):\n",
        "          aug_as_text = ''\n",
        "          type = augmentation_drop.value\n",
        "          if type == 'None':\n",
        "              aug_as_text = json.dumps({'type': None})\n",
        "          else:\n",
        "              if data_aug_range_rate.disabled:\n",
        "                  aug_as_text= json.dumps({'type': type})\n",
        "              else:\n",
        "                # no need to send value if 0\n",
        "                if data_aug_range_rate.value == 0:\n",
        "                    aug_as_text = json.dumps({'type': None})\n",
        "                aug_as_text = json.dumps({'type':type, 'value':data_aug_range_rate.value})\n",
        "\n",
        "\n",
        "          augmentations.append(aug_as_text)\n",
        "          list1.options = augmentations\n",
        "\n",
        "# linking button and function together using a button's method\n",
        "add.on_click(on_button_clicked)\n",
        "\n",
        "rotate_interpolation_free_data_augmenter_checkbox_checkbox = widgets.Checkbox(\n",
        "    value=True,\n",
        "    description='Rotate/flip augmented output (interpolation free)',\n",
        "    disabled=False,\n",
        "    indent=False,\n",
        "    style={'description_width': 'initial'}\n",
        ")\n",
        "\n",
        "\n",
        "ui = widgets.VBox([ list1, data_aug_range_rate, widgets.HBox([add,remove]), rotate_interpolation_free_data_augmenter_checkbox_checkbox])#augmentation_drop,\n",
        "display(ui)\n"
      ],
      "execution_count": 18,
      "outputs": [
        {
          "output_type": "display_data",
          "data": {
            "text/plain": [
              "interactive(children=(Dropdown(description='Data augmentation', options=('None', 'shear', 'zoom', 'rotate', 'r…"
            ],
            "application/vnd.jupyter.widget-view+json": {
              "version_major": 2,
              "version_minor": 0,
              "model_id": "ca969e66944749fd81fb45e0b85bd64e"
            }
          },
          "metadata": {}
        },
        {
          "output_type": "display_data",
          "data": {
            "text/plain": [
              "VBox(children=(Select(description='Selected augmentations:', options=(), style=DescriptionStyle(description_wi…"
            ],
            "application/vnd.jupyter.widget-view+json": {
              "version_major": 2,
              "version_minor": 0,
              "model_id": "5cc6a893831e436c9c2819a4e233fd0f"
            }
          },
          "metadata": {}
        }
      ]
    },
    {
      "cell_type": "markdown",
      "metadata": {
        "id": "upeNVV5_N3c6"
      },
      "source": [
        "# Step 19\n",
        "- Please run the cell below to train the model"
      ]
    },
    {
      "cell_type": "code",
      "metadata": {
        "id": "Z6_EfI0pEsiH",
        "colab": {
          "base_uri": "https://localhost:8080/"
        },
        "cellView": "form",
        "outputId": "6f7cd4c3-43dd-4b40-d59b-de2c33fc5982"
      },
      "source": [
        "#@title <-- Press Run\n",
        "\n",
        "train_parameters = {}\n",
        "dataset= {}\n",
        "\n",
        "items = []\n",
        "# reconvert json string to dict\n",
        "for aug in list1.options:\n",
        "    items.append(json.loads(aug))\n",
        "train_parameters['augmentations'] = items\n",
        "train_parameters['rotate_n_flip_independently_of_augmentation'] = rotate_interpolation_free_data_augmenter_checkbox_checkbox.value\n",
        "\n",
        "# train_parameters['input_normalization'] = {'method': normalization_methods_orig.value,\n",
        "#                                            'individual_channels': per_channel_orig.value,\n",
        "#                                            'range': normalization_range_orig.value}\n",
        "range_input = normalization_range_orig.value\n",
        "if percentile_min_orig.layout.visibility == 'visible':\n",
        "    # TODO need a check that values are ok --> but must be ok because I bounded them and bounds are non overlapping\n",
        "    range_input=[percentile_min_orig.value, percentile_max_orig.value]\n",
        "train_parameters['input_normalization'] = {'method': normalization_methods_orig.value,\n",
        "                                          'individual_channels': per_channel_orig.value,\n",
        "                                          'range': range_input,\n",
        "                                          'clip': True if clip_percentile_orig_checkbox.value and clip_percentile_orig_checkbox.layout.visibility == 'visible' else False} # can have different values for the range\n",
        "# train_parameters['output_normalization'] = {'method': normalization_methods_mask.value,\n",
        "#                                            'individual_channels': per_channel_mask.value,\n",
        "#                                            'range': normalization_range_mask.value}                                           \n",
        "range_output = normalization_range_orig.value\n",
        "if percentile_min_mask.layout.visibility == 'visible':\n",
        "    # TODO need a check that values are ok --> but must be ok because I bounded them and bounds are non overlapping\n",
        "    range_output=[percentile_min_mask.value, percentile_max_mask.value]\n",
        "train_parameters['output_normalization'] = {'method': normalization_methods_mask.value,\n",
        "                                          'individual_channels': per_channel_mask.value,\n",
        "                                          'range': range_output,\n",
        "                                          'clip': True if clip_percentile_mask_checkbox.value and clip_percentile_mask_checkbox.layout.visibility == 'visible' else False} # can have different values for the range\n",
        "\n",
        "dataset['inputs'] = [folder_train_originals.path]\n",
        "dataset['outputs'] = [folder_train_segmentation.path]\n",
        "\n",
        "def get_clip_by_freq():\n",
        "      if 'ignore' in clipping_methods_orig.value:\n",
        "          return {'lower_cutoff': None, 'upper_cutoff': None,\n",
        "                  'channel_mode': per_channel_orig.value}\n",
        "      elif clipping_methods_orig.value == '+':\n",
        "          return {'lower_cutoff': None, 'upper_cutoff': cliprange_orig.value,\n",
        "                  'channel_mode': per_channel_orig.value}\n",
        "      elif clipping_methods_orig.value == '-':\n",
        "          return {'lower_cutoff': cliprange_orig.value, 'upper_cutoff': None,\n",
        "                  'channel_mode': per_channel_orig.value}\n",
        "      else:\n",
        "        #  '/' in clipping_methods_orig.value:\n",
        "          return {'lower_cutoff': cliprange_orig.value, 'upper_cutoff': cliprange_orig.value,\n",
        "                  'channel_mode': per_channel_orig.value}\n",
        "\n",
        "train_parameters['clip_by_frequency'] = get_clip_by_freq()\n",
        "\n",
        "dataset['input_channel_reduction_rule'] =rule_reduc_orig.value\n",
        "dataset['input_channel_augmentation_rule'] =rule_aug_orig.value\n",
        "dataset['input_channel_of_interest'] =channel_COI_orig.value\n",
        "dataset['output_channel_reduction_rule'] =rule_reduc_mask.value\n",
        "dataset['output_channel_augmentation_rule'] =rule_aug_mask.value\n",
        "dataset['output_channel_of_interest'] =channel_COI_mask.value\n",
        "train_parameters['epochs'] = epochs_slider.value\n",
        "train_parameters['keep_n_best'] = keep_slider.value\n",
        "train_parameters['steps_per_epoch'] = -1 # always full set maybe change this some day though\n",
        "train_parameters['shuffle'] = shuffle_checkbox.value\n",
        "train_parameters['batch_size'] = batch_size_slider.value\n",
        "train_parameters['batch_size_auto_adjust'] = True\n",
        "train_parameters['validation_split'] = 0\n",
        "dataset['crop_parameters'] = None #TODO maybe some day...\n",
        "dataset['remove_n_border_mask_pixels'] = remove_n_border_mask_pixels.value\n",
        "dataset['mask_dilations'] = mask_dilations.value\n",
        "dataset['invert'] = invert_orig.value\n",
        "if generate_default_epyseg_output_from_mask.value:\n",
        "  if store_mask_on_drive_to_gain_speed.value:\n",
        "      dataset['create_epyseg_style_output'] = 'sevenmaskssave'\n",
        "  else:\n",
        "      dataset['create_epyseg_style_output'] = 'sevenmasks'\n",
        "\n",
        "train_parameters['datasets'] = [dataset]\n",
        "\n",
        "train_parameters['default_input_tile_width'] = tile_width_slider.value\n",
        "train_parameters['default_input_tile_height'] = tile_height_slider.value\n",
        "train_parameters['default_output_tile_width'] = tile_width_slider.value\n",
        "train_parameters['default_output_tile_height'] = tile_height_slider.value\n",
        "\n",
        "train_parameters['lr'] = None if default_lr_checkbox.value else learning_rate_spinner.value\n",
        "train_parameters['reduce_lr_on_plateau'] = None if not reduce_lr_on_plateau_checkbox.value else factor_slider.value\n",
        "train_parameters['patience'] = patience_slider.value\n",
        "\n",
        "if False:\n",
        "  print(train_parameters)\n",
        "else:\n",
        "# 'datasets': --> add inputs and outputs there\n",
        "\n",
        "# if True:\n",
        "\n",
        "  batch_size = batch_size_slider.value #16 # TODO specify that here too\n",
        "  NB_EPOCHS = epochs_slider.value #180  # 80 # 100 # 10 # 150\n",
        "  deepTA.get_loaded_model_params()\n",
        "  metaAugmenter = MetaAugmenter(input_shape=input_shape, output_shape=output_shape, **train_parameters)\n",
        "\n",
        "  metaAugmenter.appendDatasets(**train_parameters)\n",
        "  deepTA.train(metaAugmenter, progress_callback=None, **train_parameters)\n",
        "\n",
        "  print('Saving model')\n",
        "  # TODO save model here as pb and as JSON, pb is better as it has the compiler, etc...\n",
        "  deepTA.saveModel()\n",
        "  deepTA.saveAsJsonWithWeights()\n",
        "  # deepTA.plot_graph(deepTA.model._name + '_graph.png')\n",
        "  print('Done')\n"
      ],
      "execution_count": 20,
      "outputs": [
        {
          "output_type": "stream",
          "name": "stderr",
          "text": [
            "INFO - 2023-05-04 09:56:49,028 - deepl.py - train - line 1165 - train dataset batches: 6\n",
            "validation dataset batches: 0\n",
            "\n",
            "INFO:master:train dataset batches: 6\n",
            "validation dataset batches: 0\n",
            "INFO - 2023-05-04 09:56:49,031 - deepl.py - train - line 1191 - Reduce learning rate on plateau is enabled.\n",
            "\n",
            "INFO:master:Reduce learning rate on plateau is enabled.\n",
            "INFO - 2023-05-04 09:56:49,035 - deepl.py - train - line 1195 - Reduce learning rate is monitoring \"loss\"\n",
            "\n",
            "INFO:master:Reduce learning rate is monitoring \"loss\"\n"
          ]
        },
        {
          "output_type": "stream",
          "name": "stdout",
          "text": [
            "<keras.optimizers.adam.Adam object at 0x7fbeab6684c0>\n",
            "3.90625e-06\n"
          ]
        },
        {
          "output_type": "stream",
          "name": "stderr",
          "text": [
            "INFO - 2023-05-04 09:56:49,130 - saver.py - on_epoch_begin - line 109 - 0.0%\n",
            "\n",
            "INFO:master:0.0%\n"
          ]
        },
        {
          "output_type": "stream",
          "name": "stdout",
          "text": [
            "Epoch 1/100\n",
            "6/6 [==============================] - ETA: 0s - loss: 0.9440 - iou_score: 0.0560"
          ]
        },
        {
          "output_type": "stream",
          "name": "stderr",
          "text": [
            "WARNING:tensorflow:Callback method `on_train_batch_end` is slow compared to the batch time (batch time: 0.0565s vs `on_train_batch_end` time: 0.0639s). Check your callbacks.\n",
            "INFO - 2023-05-04 09:56:51,008 - saver.py - on_epoch_end - line 128 - Estimated remaining run time: 3.1298068316666177 minute(s)\n",
            "\n",
            "INFO:master:Estimated remaining run time: 3.1298068316666177 minute(s)\n",
            "INFO - 2023-05-04 09:56:51,011 - saver.py - on_epoch_end - line 368 - saving file: Linknet-vgg16-sigmoid-0.h5\n",
            "\n",
            "INFO:master:saving file: Linknet-vgg16-sigmoid-0.h5\n"
          ]
        },
        {
          "output_type": "stream",
          "name": "stdout",
          "text": [
            "\b\b\b\b\b\b\b\b\b\b\b\b\b\b\b\b\b\b\b\b\b\b\b\b\b\b\b\b\b\b\b\b\b\b\b\b\b\b\b\b\b\b\b\b\b\b\b\b\b\b\b\b\b\b\b\b\b\b\b\b\b\b\b\b\b\b\b\b\b\b\b\b\b\b\b\b\b\b\b\b\b\r6/6 [==============================] - 4s 628ms/step - loss: 0.9440 - iou_score: 0.0560 - lr: 3.9063e-06\n"
          ]
        },
        {
          "output_type": "stream",
          "name": "stderr",
          "text": [
            "INFO - 2023-05-04 09:56:53,574 - saver.py - on_epoch_begin - line 109 - 1.0%\n",
            "\n",
            "INFO:master:1.0%\n"
          ]
        },
        {
          "output_type": "stream",
          "name": "stdout",
          "text": [
            "Epoch 2/100\n",
            "6/6 [==============================] - ETA: 0s - loss: 0.9441 - iou_score: 0.0559"
          ]
        },
        {
          "output_type": "stream",
          "name": "stderr",
          "text": [
            "INFO - 2023-05-04 09:56:54,367 - saver.py - on_epoch_end - line 128 - Estimated remaining run time: 1.3080563611500509 minute(s)\n",
            "\n",
            "INFO:master:Estimated remaining run time: 1.3080563611500509 minute(s)\n",
            "INFO - 2023-05-04 09:56:54,373 - saver.py - on_epoch_end - line 248 - saving file: Linknet-vgg16-sigmoid-1.h5\n",
            "\n",
            "INFO:master:saving file: Linknet-vgg16-sigmoid-1.h5\n"
          ]
        },
        {
          "output_type": "stream",
          "name": "stdout",
          "text": [
            "\b\b\b\b\b\b\b\b\b\b\b\b\b\b\b\b\b\b\b\b\b\b\b\b\b\b\b\b\b\b\b\b\b\b\b\b\b\b\b\b\b\b\b\b\b\b\b\b\b\b\b\b\b\b\b\b\b\b\b\b\b\b\b\b\b\b\b\b\b\b\b\b\b\b\b\b\b\b\b\b\b\r6/6 [==============================] - 3s 650ms/step - loss: 0.9441 - iou_score: 0.0559 - lr: 3.9063e-06\n"
          ]
        },
        {
          "output_type": "stream",
          "name": "stderr",
          "text": [
            "INFO - 2023-05-04 09:56:56,998 - saver.py - on_epoch_begin - line 109 - 2.0%\n",
            "\n",
            "INFO:master:2.0%\n"
          ]
        },
        {
          "output_type": "stream",
          "name": "stdout",
          "text": [
            "Epoch 3/100\n",
            "6/6 [==============================] - ETA: 0s - loss: 0.9443 - iou_score: 0.0557"
          ]
        },
        {
          "output_type": "stream",
          "name": "stderr",
          "text": [
            "INFO - 2023-05-04 09:56:57,804 - saver.py - on_epoch_end - line 128 - Estimated remaining run time: 1.314938152499974 minute(s)\n",
            "\n",
            "INFO:master:Estimated remaining run time: 1.314938152499974 minute(s)\n",
            "INFO - 2023-05-04 09:56:57,808 - saver.py - on_epoch_end - line 248 - saving file: Linknet-vgg16-sigmoid-2.h5\n",
            "\n",
            "INFO:master:saving file: Linknet-vgg16-sigmoid-2.h5\n"
          ]
        },
        {
          "output_type": "stream",
          "name": "stdout",
          "text": [
            "\b\b\b\b\b\b\b\b\b\b\b\b\b\b\b\b\b\b\b\b\b\b\b\b\b\b\b\b\b\b\b\b\b\b\b\b\b\b\b\b\b\b\b\b\b\b\b\b\b\b\b\b\b\b\b\b\b\b\b\b\b\b\b\b\b\b\b\b\b\b\b\b\b\b\b\b\b\b\b\b\b\r6/6 [==============================] - 2s 344ms/step - loss: 0.9443 - iou_score: 0.0557 - lr: 3.9063e-06\n"
          ]
        },
        {
          "output_type": "stream",
          "name": "stderr",
          "text": [
            "INFO - 2023-05-04 09:56:58,893 - saver.py - on_epoch_begin - line 109 - 3.0%\n",
            "\n",
            "INFO:master:3.0%\n"
          ]
        },
        {
          "output_type": "stream",
          "name": "stdout",
          "text": [
            "Epoch 4/100\n",
            "6/6 [==============================] - ETA: 0s - loss: 0.9400 - iou_score: 0.0600"
          ]
        },
        {
          "output_type": "stream",
          "name": "stderr",
          "text": [
            "INFO - 2023-05-04 09:56:59,591 - saver.py - on_epoch_end - line 128 - Estimated remaining run time: 1.1289674331166624 minute(s)\n",
            "\n",
            "INFO:master:Estimated remaining run time: 1.1289674331166624 minute(s)\n",
            "INFO - 2023-05-04 09:56:59,895 - saver.py - on_epoch_end - line 248 - saving file: Linknet-vgg16-sigmoid-0.h5\n",
            "\n",
            "INFO:master:saving file: Linknet-vgg16-sigmoid-0.h5\n"
          ]
        },
        {
          "output_type": "stream",
          "name": "stdout",
          "text": [
            "\b\b\b\b\b\b\b\b\b\b\b\b\b\b\b\b\b\b\b\b\b\b\b\b\b\b\b\b\b\b\b\b\b\b\b\b\b\b\b\b\b\b\b\b\b\b\b\b\b\b\b\b\b\b\b\b\b\b\b\b\b\b\b\b\b\b\b\b\b\b\b\b\b\b\b\b\b\b\b\b\b\r6/6 [==============================] - 2s 451ms/step - loss: 0.9400 - iou_score: 0.0600 - lr: 3.9063e-06\n"
          ]
        },
        {
          "output_type": "stream",
          "name": "stderr",
          "text": [
            "INFO - 2023-05-04 09:57:01,268 - saver.py - on_epoch_begin - line 109 - 4.0%\n",
            "\n",
            "INFO:master:4.0%\n"
          ]
        },
        {
          "output_type": "stream",
          "name": "stdout",
          "text": [
            "Epoch 5/100\n",
            "6/6 [==============================] - ETA: 0s - loss: 0.9448 - iou_score: 0.0552"
          ]
        },
        {
          "output_type": "stream",
          "name": "stderr",
          "text": [
            "INFO - 2023-05-04 09:57:02,012 - saver.py - on_epoch_end - line 128 - Estimated remaining run time: 1.1896114191999003 minute(s)\n",
            "\n",
            "INFO:master:Estimated remaining run time: 1.1896114191999003 minute(s)\n",
            "INFO - 2023-05-04 09:57:02,020 - saver.py - on_epoch_end - line 248 - saving file: Linknet-vgg16-sigmoid-4.h5\n",
            "\n",
            "INFO:master:saving file: Linknet-vgg16-sigmoid-4.h5\n"
          ]
        },
        {
          "output_type": "stream",
          "name": "stdout",
          "text": [
            "\b\b\b\b\b\b\b\b\b\b\b\b\b\b\b\b\b\b\b\b\b\b\b\b\b\b\b\b\b\b\b\b\b\b\b\b\b\b\b\b\b\b\b\b\b\b\b\b\b\b\b\b\b\b\b\b\b\b\b\b\b\b\b\b\b\b\b\b\b\b\b\b\b\b\b\b\b\b\b\b\b\r6/6 [==============================] - 5s 967ms/step - loss: 0.9448 - iou_score: 0.0552 - lr: 3.9063e-06\n"
          ]
        },
        {
          "output_type": "stream",
          "name": "stderr",
          "text": [
            "INFO - 2023-05-04 09:57:06,230 - saver.py - on_epoch_begin - line 109 - 5.0%\n",
            "\n",
            "INFO:master:5.0%\n"
          ]
        },
        {
          "output_type": "stream",
          "name": "stdout",
          "text": [
            "Epoch 6/100\n",
            "6/6 [==============================] - ETA: 0s - loss: 0.9399 - iou_score: 0.0601"
          ]
        },
        {
          "output_type": "stream",
          "name": "stderr",
          "text": [
            "INFO - 2023-05-04 09:57:07,129 - saver.py - on_epoch_end - line 128 - Estimated remaining run time: 1.4232931476666408 minute(s)\n",
            "\n",
            "INFO:master:Estimated remaining run time: 1.4232931476666408 minute(s)\n",
            "INFO - 2023-05-04 09:57:07,397 - saver.py - on_epoch_end - line 342 - saving file: Linknet-vgg16-sigmoid-0.h5\n",
            "\n",
            "INFO:master:saving file: Linknet-vgg16-sigmoid-0.h5\n"
          ]
        },
        {
          "output_type": "stream",
          "name": "stdout",
          "text": [
            "\b\b\b\b\b\b\b\b\b\b\b\b\b\b\b\b\b\b\b\b\b\b\b\b\b\b\b\b\b\b\b\b\b\b\b\b\b\b\b\b\b\b\b\b\b\b\b\b\b\b\b\b\b\b\b\b\b\b\b\b\b\b\b\b\b\b\b\b\b\b\b\b\b\b\b\b\b\b\b\b\b\r6/6 [==============================] - 2s 437ms/step - loss: 0.9399 - iou_score: 0.0601 - lr: 3.9063e-06\n"
          ]
        },
        {
          "output_type": "stream",
          "name": "stderr",
          "text": [
            "INFO - 2023-05-04 09:57:08,593 - saver.py - on_epoch_begin - line 109 - 6.0%\n",
            "\n",
            "INFO:master:6.0%\n"
          ]
        },
        {
          "output_type": "stream",
          "name": "stdout",
          "text": [
            "Epoch 7/100\n",
            "6/6 [==============================] - ETA: 0s - loss: 0.9399 - iou_score: 0.0601"
          ]
        },
        {
          "output_type": "stream",
          "name": "stderr",
          "text": [
            "INFO - 2023-05-04 09:57:09,283 - saver.py - on_epoch_end - line 128 - Estimated remaining run time: 1.0803352085000104 minute(s)\n",
            "\n",
            "INFO:master:Estimated remaining run time: 1.0803352085000104 minute(s)\n",
            "INFO - 2023-05-04 09:57:10,770 - saver.py - on_epoch_end - line 342 - saving file: Linknet-vgg16-sigmoid-0.h5\n",
            "\n",
            "INFO:master:saving file: Linknet-vgg16-sigmoid-0.h5\n"
          ]
        },
        {
          "output_type": "stream",
          "name": "stdout",
          "text": [
            "\b\b\b\b\b\b\b\b\b\b\b\b\b\b\b\b\b\b\b\b\b\b\b\b\b\b\b\b\b\b\b\b\b\b\b\b\b\b\b\b\b\b\b\b\b\b\b\b\b\b\b\b\b\b\b\b\b\b\b\b\b\b\b\b\b\b\b\b\b\b\b\b\b\b\b\b\b\b\b\b\b\r6/6 [==============================] - 4s 686ms/step - loss: 0.9399 - iou_score: 0.0601 - lr: 3.9063e-06\n"
          ]
        },
        {
          "output_type": "stream",
          "name": "stderr",
          "text": [
            "INFO - 2023-05-04 09:57:12,137 - saver.py - on_epoch_begin - line 109 - 7.000000000000001%\n",
            "\n",
            "INFO:master:7.000000000000001%\n"
          ]
        },
        {
          "output_type": "stream",
          "name": "stdout",
          "text": [
            "Epoch 8/100\n",
            "6/6 [==============================] - ETA: 0s - loss: 0.9404 - iou_score: 0.0596"
          ]
        },
        {
          "output_type": "stream",
          "name": "stderr",
          "text": [
            "INFO - 2023-05-04 09:57:12,883 - saver.py - on_epoch_end - line 128 - Estimated remaining run time: 1.1572699047499384 minute(s)\n",
            "\n",
            "INFO:master:Estimated remaining run time: 1.1572699047499384 minute(s)\n",
            "INFO - 2023-05-04 09:57:14,023 - saver.py - on_epoch_end - line 342 - saving file: Linknet-vgg16-sigmoid-3.h5\n",
            "\n",
            "INFO:master:saving file: Linknet-vgg16-sigmoid-3.h5\n"
          ]
        },
        {
          "output_type": "stream",
          "name": "stdout",
          "text": [
            "\b\b\b\b\b\b\b\b\b\b\b\b\b\b\b\b\b\b\b\b\b\b\b\b\b\b\b\b\b\b\b\b\b\b\b\b\b\b\b\b\b\b\b\b\b\b\b\b\b\b\b\b\b\b\b\b\b\b\b\b\b\b\b\b\b\b\b\b\b\b\b\b\b\b\b\b\b\b\b\b\b\r6/6 [==============================] - 3s 541ms/step - loss: 0.9404 - iou_score: 0.0596 - lr: 3.9063e-06\n"
          ]
        },
        {
          "output_type": "stream",
          "name": "stderr",
          "text": [
            "INFO - 2023-05-04 09:57:15,015 - saver.py - on_epoch_begin - line 109 - 8.0%\n",
            "\n",
            "INFO:master:8.0%\n"
          ]
        },
        {
          "output_type": "stream",
          "name": "stdout",
          "text": [
            "Epoch 9/100\n",
            "6/6 [==============================] - ETA: 0s - loss: 0.9411 - iou_score: 0.0589"
          ]
        },
        {
          "output_type": "stream",
          "name": "stderr",
          "text": [
            "INFO - 2023-05-04 09:57:15,741 - saver.py - on_epoch_end - line 128 - Estimated remaining run time: 1.1129895300667536 minute(s)\n",
            "\n",
            "INFO:master:Estimated remaining run time: 1.1129895300667536 minute(s)\n",
            "INFO - 2023-05-04 09:57:15,744 - saver.py - on_epoch_end - line 342 - saving file: Linknet-vgg16-sigmoid-4.h5\n",
            "\n",
            "INFO:master:saving file: Linknet-vgg16-sigmoid-4.h5\n"
          ]
        },
        {
          "output_type": "stream",
          "name": "stdout",
          "text": [
            "\b\b\b\b\b\b\b\b\b\b\b\b\b\b\b\b\b\b\b\b\b\b\b\b\b\b\b\b\b\b\b\b\b\b\b\b\b\b\b\b\b\b\b\b\b\b\b\b\b\b\b\b\b\b\b\b\b\b\b\b\b\b\b\b\b\b\b\b\b\b\b\b\b\b\b\b\b\b\b\b\b\r6/6 [==============================] - 3s 612ms/step - loss: 0.9411 - iou_score: 0.0589 - lr: 3.9063e-06\n"
          ]
        },
        {
          "output_type": "stream",
          "name": "stderr",
          "text": [
            "INFO - 2023-05-04 09:57:18,253 - saver.py - on_epoch_begin - line 109 - 9.0%\n",
            "\n",
            "INFO:master:9.0%\n"
          ]
        },
        {
          "output_type": "stream",
          "name": "stdout",
          "text": [
            "Epoch 10/100\n",
            "6/6 [==============================] - ETA: 0s - loss: 0.9394 - iou_score: 0.0606"
          ]
        },
        {
          "output_type": "stream",
          "name": "stderr",
          "text": [
            "INFO - 2023-05-04 09:57:19,062 - saver.py - on_epoch_end - line 128 - Estimated remaining run time: 1.2264673769833414 minute(s)\n",
            "\n",
            "INFO:master:Estimated remaining run time: 1.2264673769833414 minute(s)\n",
            "INFO - 2023-05-04 09:57:21,850 - saver.py - on_epoch_end - line 342 - saving file: Linknet-vgg16-sigmoid-0.h5\n",
            "\n",
            "INFO:master:saving file: Linknet-vgg16-sigmoid-0.h5\n"
          ]
        },
        {
          "output_type": "stream",
          "name": "stdout",
          "text": [
            "\b\b\b\b\b\b\b\b\b\b\b\b\b\b\b\b\b\b\b\b\b\b\b\b\b\b\b\b\b\b\b\b\b\b\b\b\b\b\b\b\b\b\b\b\b\b\b\b\b\b\b\b\b\b\b\b\b\b\b\b\b\b\b\b\b\b\b\b\b\b\b\b\b\b\b\b\b\b\b\b\b\r6/6 [==============================] - 5s 910ms/step - loss: 0.9394 - iou_score: 0.0606 - lr: 3.9063e-06\n"
          ]
        },
        {
          "output_type": "stream",
          "name": "stderr",
          "text": [
            "INFO - 2023-05-04 09:57:22,985 - saver.py - on_epoch_begin - line 109 - 10.0%\n",
            "\n",
            "INFO:master:10.0%\n"
          ]
        },
        {
          "output_type": "stream",
          "name": "stdout",
          "text": [
            "Epoch 11/100\n",
            "6/6 [==============================] - ETA: 0s - loss: 0.9453 - iou_score: 0.0547"
          ]
        },
        {
          "output_type": "stream",
          "name": "stderr",
          "text": [
            "INFO - 2023-05-04 09:57:23,805 - saver.py - on_epoch_end - line 128 - Estimated remaining run time: 1.229132919000051 minute(s)\n",
            "\n",
            "INFO:master:Estimated remaining run time: 1.229132919000051 minute(s)\n"
          ]
        },
        {
          "output_type": "stream",
          "name": "stdout",
          "text": [
            "\b\b\b\b\b\b\b\b\b\b\b\b\b\b\b\b\b\b\b\b\b\b\b\b\b\b\b\b\b\b\b\b\b\b\b\b\b\b\b\b\b\b\b\b\b\b\b\b\b\b\b\b\b\b\b\b\b\b\b\b\b\b\b\b\b\b\b\b\b\b\b\b\b\b\b\b\b\b\b\b\b\r6/6 [==============================] - 1s 132ms/step - loss: 0.9453 - iou_score: 0.0547 - lr: 3.9063e-06\n"
          ]
        },
        {
          "output_type": "stream",
          "name": "stderr",
          "text": [
            "INFO - 2023-05-04 09:57:23,826 - saver.py - on_epoch_begin - line 109 - 11.0%\n",
            "\n",
            "INFO:master:11.0%\n"
          ]
        },
        {
          "output_type": "stream",
          "name": "stdout",
          "text": [
            "Epoch 12/100\n",
            "6/6 [==============================] - ETA: 0s - loss: 0.9450 - iou_score: 0.0550"
          ]
        },
        {
          "output_type": "stream",
          "name": "stderr",
          "text": [
            "INFO - 2023-05-04 09:57:24,611 - saver.py - on_epoch_end - line 128 - Estimated remaining run time: 1.1633173861333945 minute(s)\n",
            "\n",
            "INFO:master:Estimated remaining run time: 1.1633173861333945 minute(s)\n"
          ]
        },
        {
          "output_type": "stream",
          "name": "stdout",
          "text": [
            "\b\b\b\b\b\b\b\b\b\b\b\b\b\b\b\b\b\b\b\b\b\b\b\b\b\b\b\b\b\b\b\b\b\b\b\b\b\b\b\b\b\b\b\b\b\b\b\b\b\b\b\b\b\b\b\b\b\b\b\b\b\b\b\b\b\b\b\b\b\b\b\b\b\b\b\b\b\b\b\b\b\r6/6 [==============================] - 1s 136ms/step - loss: 0.9450 - iou_score: 0.0550 - lr: 3.9063e-06\n"
          ]
        },
        {
          "output_type": "stream",
          "name": "stderr",
          "text": [
            "INFO - 2023-05-04 09:57:24,633 - saver.py - on_epoch_begin - line 109 - 12.0%\n",
            "\n",
            "INFO:master:12.0%\n"
          ]
        },
        {
          "output_type": "stream",
          "name": "stdout",
          "text": [
            "Epoch 13/100\n",
            "6/6 [==============================] - ETA: 0s - loss: 0.9400 - iou_score: 0.0600"
          ]
        },
        {
          "output_type": "stream",
          "name": "stderr",
          "text": [
            "INFO - 2023-05-04 09:57:25,446 - saver.py - on_epoch_end - line 128 - Estimated remaining run time: 1.1922425885332661 minute(s)\n",
            "\n",
            "INFO:master:Estimated remaining run time: 1.1922425885332661 minute(s)\n",
            "INFO - 2023-05-04 09:57:25,452 - saver.py - on_epoch_end - line 342 - saving file: Linknet-vgg16-sigmoid-4.h5\n",
            "\n",
            "INFO:master:saving file: Linknet-vgg16-sigmoid-4.h5\n"
          ]
        },
        {
          "output_type": "stream",
          "name": "stdout",
          "text": [
            "\b\b\b\b\b\b\b\b\b\b\b\b\b\b\b\b\b\b\b\b\b\b\b\b\b\b\b\b\b\b\b\b\b\b\b\b\b\b\b\b\b\b\b\b\b\b\b\b\b\b\b\b\b\b\b\b\b\b\b\b\b\b\b\b\b\b\b\b\b\b\b\b\b\b\b\b\b\b\b\b\b\r6/6 [==============================] - 3s 633ms/step - loss: 0.9400 - iou_score: 0.0600 - lr: 3.9063e-06\n"
          ]
        },
        {
          "output_type": "stream",
          "name": "stderr",
          "text": [
            "INFO - 2023-05-04 09:57:27,926 - saver.py - on_epoch_begin - line 109 - 13.0%\n",
            "\n",
            "INFO:master:13.0%\n"
          ]
        },
        {
          "output_type": "stream",
          "name": "stdout",
          "text": [
            "Epoch 14/100\n",
            "6/6 [==============================] - ETA: 0s - loss: 0.9462 - iou_score: 0.0538"
          ]
        },
        {
          "output_type": "stream",
          "name": "stderr",
          "text": [
            "INFO - 2023-05-04 09:57:28,658 - saver.py - on_epoch_end - line 128 - Estimated remaining run time: 1.0610916995500361 minute(s)\n",
            "\n",
            "INFO:master:Estimated remaining run time: 1.0610916995500361 minute(s)\n"
          ]
        },
        {
          "output_type": "stream",
          "name": "stdout",
          "text": [
            "\b\b\b\b\b\b\b\b\b\b\b\b\b\b\b\b\b\b\b\b\b\b\b\b\b\b\b\b\b\b\b\b\b\b\b\b\b\b\b\b\b\b\b\b\b\b\b\b\b\b\b\b\b\b\b\b\b\b\b\b\b\b\b\b\b\b\b\b\b\b\b\b\b\b\b\b\b\b\b\b\b\r6/6 [==============================] - 1s 114ms/step - loss: 0.9462 - iou_score: 0.0538 - lr: 3.9063e-06\n"
          ]
        },
        {
          "output_type": "stream",
          "name": "stderr",
          "text": [
            "INFO - 2023-05-04 09:57:28,676 - saver.py - on_epoch_begin - line 109 - 14.000000000000002%\n",
            "\n",
            "INFO:master:14.000000000000002%\n"
          ]
        },
        {
          "output_type": "stream",
          "name": "stdout",
          "text": [
            "Epoch 15/100\n",
            "6/6 [==============================] - ETA: 0s - loss: 0.9412 - iou_score: 0.0588"
          ]
        },
        {
          "output_type": "stream",
          "name": "stderr",
          "text": [
            "INFO - 2023-05-04 09:57:29,324 - saver.py - on_epoch_end - line 131 - Estimated remaining run time: 55.698917810000694 second(s)\n",
            "\n",
            "INFO:master:Estimated remaining run time: 55.698917810000694 second(s)\n"
          ]
        },
        {
          "output_type": "stream",
          "name": "stdout",
          "text": [
            "\b\b\b\b\b\b\b\b\b\b\b\b\b\b\b\b\b\b\b\b\b\b\b\b\b\b\b\b\b\b\b\b\b\b\b\b\b\b\b\b\b\b\b\b\b\b\b\b\b\b\b\b\b\b\b\b\b\b\b\b\b\b\b\b\b\b\b\b\b\b\b\b\b\b\b\b\b\b\b\b\b\r6/6 [==============================] - 1s 110ms/step - loss: 0.9412 - iou_score: 0.0588 - lr: 3.9063e-06\n"
          ]
        },
        {
          "output_type": "stream",
          "name": "stderr",
          "text": [
            "INFO - 2023-05-04 09:57:29,341 - saver.py - on_epoch_begin - line 109 - 15.0%\n",
            "\n",
            "INFO:master:15.0%\n"
          ]
        },
        {
          "output_type": "stream",
          "name": "stdout",
          "text": [
            "Epoch 16/100\n",
            "6/6 [==============================] - ETA: 0s - loss: 0.9394 - iou_score: 0.0606"
          ]
        },
        {
          "output_type": "stream",
          "name": "stderr",
          "text": [
            "INFO - 2023-05-04 09:57:30,001 - saver.py - on_epoch_end - line 131 - Estimated remaining run time: 56.059771795005986 second(s)\n",
            "\n",
            "INFO:master:Estimated remaining run time: 56.059771795005986 second(s)\n",
            "INFO - 2023-05-04 09:57:31,245 - saver.py - on_epoch_end - line 342 - saving file: Linknet-vgg16-sigmoid-1.h5\n",
            "\n",
            "INFO:master:saving file: Linknet-vgg16-sigmoid-1.h5\n"
          ]
        },
        {
          "output_type": "stream",
          "name": "stdout",
          "text": [
            "\b\b\b\b\b\b\b\b\b\b\b\b\b\b\b\b\b\b\b\b\b\b\b\b\b\b\b\b\b\b\b\b\b\b\b\b\b\b\b\b\b\b\b\b\b\b\b\b\b\b\b\b\b\b\b\b\b\b\b\b\b\b\b\b\b\b\b\b\b\b\b\b\b\b\b\b\b\b\b\b\b\r6/6 [==============================] - 3s 559ms/step - loss: 0.9394 - iou_score: 0.0606 - lr: 3.9063e-06\n"
          ]
        },
        {
          "output_type": "stream",
          "name": "stderr",
          "text": [
            "INFO - 2023-05-04 09:57:32,259 - saver.py - on_epoch_begin - line 109 - 16.0%\n",
            "\n",
            "INFO:master:16.0%\n"
          ]
        },
        {
          "output_type": "stream",
          "name": "stdout",
          "text": [
            "Epoch 17/100\n",
            "6/6 [==============================] - ETA: 0s - loss: 0.9405 - iou_score: 0.0595"
          ]
        },
        {
          "output_type": "stream",
          "name": "stderr",
          "text": [
            "INFO - 2023-05-04 09:57:33,015 - saver.py - on_epoch_end - line 128 - Estimated remaining run time: 1.0583905346001075 minute(s)\n",
            "\n",
            "INFO:master:Estimated remaining run time: 1.0583905346001075 minute(s)\n"
          ]
        },
        {
          "output_type": "stream",
          "name": "stdout",
          "text": [
            "\b\b\b\b\b\b\b\b\b\b\b\b\b\b\b\b\b\b\b\b\b\b\b\b\b\b\b\b\b\b\b\b\b\b\b\b\b\b\b\b\b\b\b\b\b\b\b\b\b\b\b\b\b\b\b\b\b\b\b\b\b\b\b\b\b\b\b\b\b\b\b\b\b\b\b\b\b\b\b\b\b\r6/6 [==============================] - 1s 120ms/step - loss: 0.9405 - iou_score: 0.0595 - lr: 3.9063e-06\n"
          ]
        },
        {
          "output_type": "stream",
          "name": "stderr",
          "text": [
            "INFO - 2023-05-04 09:57:33,039 - saver.py - on_epoch_begin - line 109 - 17.0%\n",
            "\n",
            "INFO:master:17.0%\n"
          ]
        },
        {
          "output_type": "stream",
          "name": "stdout",
          "text": [
            "Epoch 18/100\n",
            "6/6 [==============================] - ETA: 0s - loss: 0.9438 - iou_score: 0.0562"
          ]
        },
        {
          "output_type": "stream",
          "name": "stderr",
          "text": [
            "INFO - 2023-05-04 09:57:33,703 - saver.py - on_epoch_end - line 131 - Estimated remaining run time: 55.119624545997 second(s)\n",
            "\n",
            "INFO:master:Estimated remaining run time: 55.119624545997 second(s)\n"
          ]
        },
        {
          "output_type": "stream",
          "name": "stdout",
          "text": [
            "\b\b\b\b\b\b\b\b\b\b\b\b\b\b\b\b\b\b\b\b\b\b\b\b\b\b\b\b\b\b\b\b\b\b\b\b\b\b\b\b\b\b\b\b\b\b\b\b\b\b\b\b\b\b\b\b\b\b\b\b\b\b\b\b\b\b\b\b\b\b\b\b\b\b\b\b\b\b\b\b\b\r6/6 [==============================] - 1s 112ms/step - loss: 0.9438 - iou_score: 0.0562 - lr: 3.9063e-06\n"
          ]
        },
        {
          "output_type": "stream",
          "name": "stderr",
          "text": [
            "INFO - 2023-05-04 09:57:33,720 - saver.py - on_epoch_begin - line 109 - 18.0%\n",
            "\n",
            "INFO:master:18.0%\n"
          ]
        },
        {
          "output_type": "stream",
          "name": "stdout",
          "text": [
            "Epoch 19/100\n",
            "6/6 [==============================] - ETA: 0s - loss: 0.9459 - iou_score: 0.0541"
          ]
        },
        {
          "output_type": "stream",
          "name": "stderr",
          "text": [
            "INFO - 2023-05-04 09:57:34,385 - saver.py - on_epoch_end - line 131 - Estimated remaining run time: 54.57752711800094 second(s)\n",
            "\n",
            "INFO:master:Estimated remaining run time: 54.57752711800094 second(s)\n"
          ]
        },
        {
          "output_type": "stream",
          "name": "stdout",
          "text": [
            "\b\b\b\b\b\b\b\b\b\b\b\b\b\b\b\b\b\b\b\b\b\b\b\b\b\b\b\b\b\b\b\b\b\b\b\b\b\b\b\b\b\b\b\b\b\b\b\b\b\b\b\b\b\b\b\b\b\b\b\b\b\b\b\b\b\b\b\b\b\b\b\b\b\b\b\b\b\b\b\b\b\r6/6 [==============================] - 1s 113ms/step - loss: 0.9459 - iou_score: 0.0541 - lr: 3.9063e-06\n"
          ]
        },
        {
          "output_type": "stream",
          "name": "stderr",
          "text": [
            "INFO - 2023-05-04 09:57:34,399 - saver.py - on_epoch_begin - line 109 - 19.0%\n",
            "\n",
            "INFO:master:19.0%\n"
          ]
        },
        {
          "output_type": "stream",
          "name": "stdout",
          "text": [
            "Epoch 20/100\n",
            "6/6 [==============================] - ETA: 0s - loss: 0.9440 - iou_score: 0.0560"
          ]
        },
        {
          "output_type": "stream",
          "name": "stderr",
          "text": [
            "INFO - 2023-05-04 09:57:35,111 - saver.py - on_epoch_end - line 131 - Estimated remaining run time: 57.715926542997074 second(s)\n",
            "\n",
            "INFO:master:Estimated remaining run time: 57.715926542997074 second(s)\n"
          ]
        },
        {
          "output_type": "stream",
          "name": "stdout",
          "text": [
            "\n",
            "Epoch 20: ReduceLROnPlateau reducing learning rate to 1.9531250927684596e-06.\n",
            "6/6 [==============================] - 1s 125ms/step - loss: 0.9440 - iou_score: 0.0560 - lr: 3.9063e-06\n"
          ]
        },
        {
          "output_type": "stream",
          "name": "stderr",
          "text": [
            "INFO - 2023-05-04 09:57:35,139 - saver.py - on_epoch_begin - line 109 - 20.0%\n",
            "\n",
            "INFO:master:20.0%\n"
          ]
        },
        {
          "output_type": "stream",
          "name": "stdout",
          "text": [
            "Epoch 21/100\n",
            "6/6 [==============================] - ETA: 0s - loss: 0.9435 - iou_score: 0.0565"
          ]
        },
        {
          "output_type": "stream",
          "name": "stderr",
          "text": [
            "INFO - 2023-05-04 09:57:35,814 - saver.py - on_epoch_end - line 131 - Estimated remaining run time: 54.04399191999801 second(s)\n",
            "\n",
            "INFO:master:Estimated remaining run time: 54.04399191999801 second(s)\n"
          ]
        },
        {
          "output_type": "stream",
          "name": "stdout",
          "text": [
            "\b\b\b\b\b\b\b\b\b\b\b\b\b\b\b\b\b\b\b\b\b\b\b\b\b\b\b\b\b\b\b\b\b\b\b\b\b\b\b\b\b\b\b\b\b\b\b\b\b\b\b\b\b\b\b\b\b\b\b\b\b\b\b\b\b\b\b\b\b\b\b\b\b\b\b\b\b\b\b\b\b\r6/6 [==============================] - 1s 119ms/step - loss: 0.9435 - iou_score: 0.0565 - lr: 1.9531e-06\n"
          ]
        },
        {
          "output_type": "stream",
          "name": "stderr",
          "text": [
            "INFO - 2023-05-04 09:57:35,856 - saver.py - on_epoch_begin - line 109 - 21.0%\n",
            "\n",
            "INFO:master:21.0%\n"
          ]
        },
        {
          "output_type": "stream",
          "name": "stdout",
          "text": [
            "Epoch 22/100\n",
            "6/6 [==============================] - ETA: 0s - loss: 0.9446 - iou_score: 0.0554"
          ]
        },
        {
          "output_type": "stream",
          "name": "stderr",
          "text": [
            "INFO - 2023-05-04 09:57:36,533 - saver.py - on_epoch_end - line 131 - Estimated remaining run time: 53.53270640500068 second(s)\n",
            "\n",
            "INFO:master:Estimated remaining run time: 53.53270640500068 second(s)\n"
          ]
        },
        {
          "output_type": "stream",
          "name": "stdout",
          "text": [
            "\b\b\b\b\b\b\b\b\b\b\b\b\b\b\b\b\b\b\b\b\b\b\b\b\b\b\b\b\b\b\b\b\b\b\b\b\b\b\b\b\b\b\b\b\b\b\b\b\b\b\b\b\b\b\b\b\b\b\b\b\b\b\b\b\b\b\b\b\b\b\b\b\b\b\b\b\b\b\b\b\b\r6/6 [==============================] - 1s 116ms/step - loss: 0.9446 - iou_score: 0.0554 - lr: 1.9531e-06\n"
          ]
        },
        {
          "output_type": "stream",
          "name": "stderr",
          "text": [
            "INFO - 2023-05-04 09:57:36,551 - saver.py - on_epoch_begin - line 109 - 22.0%\n",
            "\n",
            "INFO:master:22.0%\n"
          ]
        },
        {
          "output_type": "stream",
          "name": "stdout",
          "text": [
            "Epoch 23/100\n",
            "6/6 [==============================] - ETA: 0s - loss: 0.9433 - iou_score: 0.0567"
          ]
        },
        {
          "output_type": "stream",
          "name": "stderr",
          "text": [
            "INFO - 2023-05-04 09:57:37,325 - saver.py - on_epoch_end - line 128 - Estimated remaining run time: 1.0064885661999257 minute(s)\n",
            "\n",
            "INFO:master:Estimated remaining run time: 1.0064885661999257 minute(s)\n"
          ]
        },
        {
          "output_type": "stream",
          "name": "stdout",
          "text": [
            "\b\b\b\b\b\b\b\b\b\b\b\b\b\b\b\b\b\b\b\b\b\b\b\b\b\b\b\b\b\b\b\b\b\b\b\b\b\b\b\b\b\b\b\b\b\b\b\b\b\b\b\b\b\b\b\b\b\b\b\b\b\b\b\b\b\b\b\b\b\b\b\b\b\b\b\b\b\b\b\b\b\r6/6 [==============================] - 1s 147ms/step - loss: 0.9433 - iou_score: 0.0567 - lr: 1.9531e-06\n"
          ]
        },
        {
          "output_type": "stream",
          "name": "stderr",
          "text": [
            "INFO - 2023-05-04 09:57:37,408 - saver.py - on_epoch_begin - line 109 - 23.0%\n",
            "\n",
            "INFO:master:23.0%\n"
          ]
        },
        {
          "output_type": "stream",
          "name": "stdout",
          "text": [
            "Epoch 24/100\n",
            "6/6 [==============================] - ETA: 0s - loss: 0.9447 - iou_score: 0.0553"
          ]
        },
        {
          "output_type": "stream",
          "name": "stderr",
          "text": [
            "INFO - 2023-05-04 09:57:39,116 - saver.py - on_epoch_end - line 128 - Estimated remaining run time: 2.1922325809999736 minute(s)\n",
            "\n",
            "INFO:master:Estimated remaining run time: 2.1922325809999736 minute(s)\n"
          ]
        },
        {
          "output_type": "stream",
          "name": "stdout",
          "text": [
            "\b\b\b\b\b\b\b\b\b\b\b\b\b\b\b\b\b\b\b\b\b\b\b\b\b\b\b\b\b\b\b\b\b\b\b\b\b\b\b\b\b\b\b\b\b\b\b\b\b\b\b\b\b\b\b\b\b\b\b\b\b\b\b\b\b\b\b\b\b\b\b\b\b\b\b\b\b\b\b\b\b\r6/6 [==============================] - 2s 293ms/step - loss: 0.9447 - iou_score: 0.0553 - lr: 1.9531e-06\n"
          ]
        },
        {
          "output_type": "stream",
          "name": "stderr",
          "text": [
            "INFO - 2023-05-04 09:57:39,147 - saver.py - on_epoch_begin - line 109 - 24.0%\n",
            "\n",
            "INFO:master:24.0%\n"
          ]
        },
        {
          "output_type": "stream",
          "name": "stdout",
          "text": [
            "Epoch 25/100\n",
            "6/6 [==============================] - ETA: 0s - loss: 0.9443 - iou_score: 0.0557"
          ]
        },
        {
          "output_type": "stream",
          "name": "stderr",
          "text": [
            "INFO - 2023-05-04 09:57:40,438 - saver.py - on_epoch_end - line 128 - Estimated remaining run time: 1.6354583222000807 minute(s)\n",
            "\n",
            "INFO:master:Estimated remaining run time: 1.6354583222000807 minute(s)\n"
          ]
        },
        {
          "output_type": "stream",
          "name": "stdout",
          "text": [
            "\b\b\b\b\b\b\b\b\b\b\b\b\b\b\b\b\b\b\b\b\b\b\b\b\b\b\b\b\b\b\b\b\b\b\b\b\b\b\b\b\b\b\b\b\b\b\b\b\b\b\b\b\b\b\b\b\b\b\b\b\b\b\b\b\b\b\b\b\b\b\b\b\b\b\b\b\b\b\b\b\b\r6/6 [==============================] - 1s 238ms/step - loss: 0.9443 - iou_score: 0.0557 - lr: 1.9531e-06\n"
          ]
        },
        {
          "output_type": "stream",
          "name": "stderr",
          "text": [
            "INFO - 2023-05-04 09:57:40,475 - saver.py - on_epoch_begin - line 109 - 25.0%\n",
            "\n",
            "INFO:master:25.0%\n"
          ]
        },
        {
          "output_type": "stream",
          "name": "stdout",
          "text": [
            "Epoch 26/100\n",
            "6/6 [==============================] - ETA: 0s - loss: 0.9404 - iou_score: 0.0596"
          ]
        },
        {
          "output_type": "stream",
          "name": "stderr",
          "text": [
            "INFO - 2023-05-04 09:57:41,400 - saver.py - on_epoch_end - line 128 - Estimated remaining run time: 1.1559324862500375 minute(s)\n",
            "\n",
            "INFO:master:Estimated remaining run time: 1.1559324862500375 minute(s)\n"
          ]
        },
        {
          "output_type": "stream",
          "name": "stdout",
          "text": [
            "\b\b\b\b\b\b\b\b\b\b\b\b\b\b\b\b\b\b\b\b\b\b\b\b\b\b\b\b\b\b\b\b\b\b\b\b\b\b\b\b\b\b\b\b\b\b\b\b\b\b\b\b\b\b\b\b\b\b\b\b\b\b\b\b\b\b\b\b\b\b\b\b\b\b\b\b\b\b\b\b\b\r6/6 [==============================] - 1s 153ms/step - loss: 0.9404 - iou_score: 0.0596 - lr: 1.9531e-06\n"
          ]
        },
        {
          "output_type": "stream",
          "name": "stderr",
          "text": [
            "INFO - 2023-05-04 09:57:41,424 - saver.py - on_epoch_begin - line 109 - 26.0%\n",
            "\n",
            "INFO:master:26.0%\n"
          ]
        },
        {
          "output_type": "stream",
          "name": "stdout",
          "text": [
            "Epoch 27/100\n",
            "6/6 [==============================] - ETA: 0s - loss: 0.9465 - iou_score: 0.0535"
          ]
        },
        {
          "output_type": "stream",
          "name": "stderr",
          "text": [
            "INFO - 2023-05-04 09:57:42,153 - saver.py - on_epoch_end - line 131 - Estimated remaining run time: 53.947965958000395 second(s)\n",
            "\n",
            "INFO:master:Estimated remaining run time: 53.947965958000395 second(s)\n"
          ]
        },
        {
          "output_type": "stream",
          "name": "stdout",
          "text": [
            "\b\b\b\b\b\b\b\b\b\b\b\b\b\b\b\b\b\b\b\b\b\b\b\b\b\b\b\b\b\b\b\b\b\b\b\b\b\b\b\b\b\b\b\b\b\b\b\b\b\b\b\b\b\b\b\b\b\b\b\b\b\b\b\b\b\b\b\b\b\b\b\b\b\b\b\b\b\b\b\b\b\r6/6 [==============================] - 1s 119ms/step - loss: 0.9465 - iou_score: 0.0535 - lr: 1.9531e-06\n"
          ]
        },
        {
          "output_type": "stream",
          "name": "stderr",
          "text": [
            "INFO - 2023-05-04 09:57:42,169 - saver.py - on_epoch_begin - line 109 - 27.0%\n",
            "\n",
            "INFO:master:27.0%\n"
          ]
        },
        {
          "output_type": "stream",
          "name": "stdout",
          "text": [
            "Epoch 28/100\n",
            "6/6 [==============================] - ETA: 0s - loss: 0.9406 - iou_score: 0.0594"
          ]
        },
        {
          "output_type": "stream",
          "name": "stderr",
          "text": [
            "INFO - 2023-05-04 09:57:42,821 - saver.py - on_epoch_end - line 131 - Estimated remaining run time: 47.5998966669996 second(s)\n",
            "\n",
            "INFO:master:Estimated remaining run time: 47.5998966669996 second(s)\n"
          ]
        },
        {
          "output_type": "stream",
          "name": "stdout",
          "text": [
            "\b\b\b\b\b\b\b\b\b\b\b\b\b\b\b\b\b\b\b\b\b\b\b\b\b\b\b\b\b\b\b\b\b\b\b\b\b\b\b\b\b\b\b\b\b\b\b\b\b\b\b\b\b\b\b\b\b\b\b\b\b\b\b\b\b\b\b\b\b\b\b\b\b\b\b\b\b\b\b\b\b\r6/6 [==============================] - 1s 111ms/step - loss: 0.9406 - iou_score: 0.0594 - lr: 1.9531e-06\n"
          ]
        },
        {
          "output_type": "stream",
          "name": "stderr",
          "text": [
            "INFO - 2023-05-04 09:57:42,838 - saver.py - on_epoch_begin - line 109 - 28.000000000000004%\n",
            "\n",
            "INFO:master:28.000000000000004%\n"
          ]
        },
        {
          "output_type": "stream",
          "name": "stdout",
          "text": [
            "Epoch 29/100\n",
            "6/6 [==============================] - ETA: 0s - loss: 0.9394 - iou_score: 0.0606"
          ]
        },
        {
          "output_type": "stream",
          "name": "stderr",
          "text": [
            "INFO - 2023-05-04 09:57:43,497 - saver.py - on_epoch_end - line 131 - Estimated remaining run time: 47.42864675999863 second(s)\n",
            "\n",
            "INFO:master:Estimated remaining run time: 47.42864675999863 second(s)\n",
            "INFO - 2023-05-04 09:57:45,762 - saver.py - on_epoch_end - line 342 - saving file: Linknet-vgg16-sigmoid-0.h5\n",
            "\n",
            "INFO:master:saving file: Linknet-vgg16-sigmoid-0.h5\n"
          ]
        },
        {
          "output_type": "stream",
          "name": "stdout",
          "text": [
            "\b\b\b\b\b\b\b\b\b\b\b\b\b\b\b\b\b\b\b\b\b\b\b\b\b\b\b\b\b\b\b\b\b\b\b\b\b\b\b\b\b\b\b\b\b\b\b\b\b\b\b\b\b\b\b\b\b\b\b\b\b\b\b\b\b\b\b\b\b\b\b\b\b\b\b\b\b\b\b\b\b\r6/6 [==============================] - 4s 792ms/step - loss: 0.9394 - iou_score: 0.0606 - lr: 1.9531e-06\n"
          ]
        },
        {
          "output_type": "stream",
          "name": "stderr",
          "text": [
            "INFO - 2023-05-04 09:57:46,911 - saver.py - on_epoch_begin - line 109 - 28.999999999999996%\n",
            "\n",
            "INFO:master:28.999999999999996%\n"
          ]
        },
        {
          "output_type": "stream",
          "name": "stdout",
          "text": [
            "Epoch 30/100\n",
            "6/6 [==============================] - ETA: 0s - loss: 0.9435 - iou_score: 0.0565"
          ]
        },
        {
          "output_type": "stream",
          "name": "stderr",
          "text": [
            "INFO - 2023-05-04 09:57:47,639 - saver.py - on_epoch_end - line 131 - Estimated remaining run time: 51.72744255900034 second(s)\n",
            "\n",
            "INFO:master:Estimated remaining run time: 51.72744255900034 second(s)\n"
          ]
        },
        {
          "output_type": "stream",
          "name": "stdout",
          "text": [
            "\n",
            "Epoch 30: ReduceLROnPlateau reducing learning rate to 9.765625463842298e-07.\n",
            "6/6 [==============================] - 1s 116ms/step - loss: 0.9435 - iou_score: 0.0565 - lr: 1.9531e-06\n"
          ]
        },
        {
          "output_type": "stream",
          "name": "stderr",
          "text": [
            "INFO - 2023-05-04 09:57:47,663 - saver.py - on_epoch_begin - line 109 - 30.0%\n",
            "\n",
            "INFO:master:30.0%\n"
          ]
        },
        {
          "output_type": "stream",
          "name": "stdout",
          "text": [
            "Epoch 31/100\n",
            "6/6 [==============================] - ETA: 0s - loss: 0.9483 - iou_score: 0.0517"
          ]
        },
        {
          "output_type": "stream",
          "name": "stderr",
          "text": [
            "INFO - 2023-05-04 09:57:48,316 - saver.py - on_epoch_end - line 131 - Estimated remaining run time: 45.651245430003655 second(s)\n",
            "\n",
            "INFO:master:Estimated remaining run time: 45.651245430003655 second(s)\n"
          ]
        },
        {
          "output_type": "stream",
          "name": "stdout",
          "text": [
            "\b\b\b\b\b\b\b\b\b\b\b\b\b\b\b\b\b\b\b\b\b\b\b\b\b\b\b\b\b\b\b\b\b\b\b\b\b\b\b\b\b\b\b\b\b\b\b\b\b\b\b\b\b\b\b\b\b\b\b\b\b\b\b\b\b\b\b\b\b\b\b\b\b\b\b\b\b\b\b\b\b\r6/6 [==============================] - 1s 111ms/step - loss: 0.9483 - iou_score: 0.0517 - lr: 9.7656e-07\n"
          ]
        },
        {
          "output_type": "stream",
          "name": "stderr",
          "text": [
            "INFO - 2023-05-04 09:57:48,333 - saver.py - on_epoch_begin - line 109 - 31.0%\n",
            "\n",
            "INFO:master:31.0%\n"
          ]
        },
        {
          "output_type": "stream",
          "name": "stdout",
          "text": [
            "Epoch 32/100\n",
            "6/6 [==============================] - ETA: 0s - loss: 0.9441 - iou_score: 0.0559"
          ]
        },
        {
          "output_type": "stream",
          "name": "stderr",
          "text": [
            "INFO - 2023-05-04 09:57:48,986 - saver.py - on_epoch_end - line 131 - Estimated remaining run time: 45.00843517799797 second(s)\n",
            "\n",
            "INFO:master:Estimated remaining run time: 45.00843517799797 second(s)\n"
          ]
        },
        {
          "output_type": "stream",
          "name": "stdout",
          "text": [
            "\b\b\b\b\b\b\b\b\b\b\b\b\b\b\b\b\b\b\b\b\b\b\b\b\b\b\b\b\b\b\b\b\b\b\b\b\b\b\b\b\b\b\b\b\b\b\b\b\b\b\b\b\b\b\b\b\b\b\b\b\b\b\b\b\b\b\b\b\b\b\b\b\b\b\b\b\b\b\b\b\b\r6/6 [==============================] - 1s 111ms/step - loss: 0.9441 - iou_score: 0.0559 - lr: 9.7656e-07\n"
          ]
        },
        {
          "output_type": "stream",
          "name": "stderr",
          "text": [
            "INFO - 2023-05-04 09:57:49,003 - saver.py - on_epoch_begin - line 109 - 32.0%\n",
            "\n",
            "INFO:master:32.0%\n"
          ]
        },
        {
          "output_type": "stream",
          "name": "stdout",
          "text": [
            "Epoch 33/100\n",
            "6/6 [==============================] - ETA: 0s - loss: 0.9418 - iou_score: 0.0582"
          ]
        },
        {
          "output_type": "stream",
          "name": "stderr",
          "text": [
            "INFO - 2023-05-04 09:57:49,654 - saver.py - on_epoch_end - line 131 - Estimated remaining run time: 44.26120849999371 second(s)\n",
            "\n",
            "INFO:master:Estimated remaining run time: 44.26120849999371 second(s)\n"
          ]
        },
        {
          "output_type": "stream",
          "name": "stdout",
          "text": [
            "\b\b\b\b\b\b\b\b\b\b\b\b\b\b\b\b\b\b\b\b\b\b\b\b\b\b\b\b\b\b\b\b\b\b\b\b\b\b\b\b\b\b\b\b\b\b\b\b\b\b\b\b\b\b\b\b\b\b\b\b\b\b\b\b\b\b\b\b\b\b\b\b\b\b\b\b\b\b\b\b\b\r6/6 [==============================] - 1s 111ms/step - loss: 0.9418 - iou_score: 0.0582 - lr: 9.7656e-07\n"
          ]
        },
        {
          "output_type": "stream",
          "name": "stderr",
          "text": [
            "INFO - 2023-05-04 09:57:49,671 - saver.py - on_epoch_begin - line 109 - 33.0%\n",
            "\n",
            "INFO:master:33.0%\n"
          ]
        },
        {
          "output_type": "stream",
          "name": "stdout",
          "text": [
            "Epoch 34/100\n",
            "6/6 [==============================] - ETA: 0s - loss: 0.9417 - iou_score: 0.0583"
          ]
        },
        {
          "output_type": "stream",
          "name": "stderr",
          "text": [
            "INFO - 2023-05-04 09:57:50,326 - saver.py - on_epoch_end - line 131 - Estimated remaining run time: 43.89072273800275 second(s)\n",
            "\n",
            "INFO:master:Estimated remaining run time: 43.89072273800275 second(s)\n"
          ]
        },
        {
          "output_type": "stream",
          "name": "stdout",
          "text": [
            "\b\b\b\b\b\b\b\b\b\b\b\b\b\b\b\b\b\b\b\b\b\b\b\b\b\b\b\b\b\b\b\b\b\b\b\b\b\b\b\b\b\b\b\b\b\b\b\b\b\b\b\b\b\b\b\b\b\b\b\b\b\b\b\b\b\b\b\b\b\b\b\b\b\b\b\b\b\b\b\b\b\r6/6 [==============================] - 1s 112ms/step - loss: 0.9417 - iou_score: 0.0583 - lr: 9.7656e-07\n"
          ]
        },
        {
          "output_type": "stream",
          "name": "stderr",
          "text": [
            "INFO - 2023-05-04 09:57:50,344 - saver.py - on_epoch_begin - line 109 - 34.0%\n",
            "\n",
            "INFO:master:34.0%\n"
          ]
        },
        {
          "output_type": "stream",
          "name": "stdout",
          "text": [
            "Epoch 35/100\n",
            "6/6 [==============================] - ETA: 0s - loss: 0.9414 - iou_score: 0.0586"
          ]
        },
        {
          "output_type": "stream",
          "name": "stderr",
          "text": [
            "INFO - 2023-05-04 09:57:51,004 - saver.py - on_epoch_end - line 131 - Estimated remaining run time: 43.52687842800128 second(s)\n",
            "\n",
            "INFO:master:Estimated remaining run time: 43.52687842800128 second(s)\n"
          ]
        },
        {
          "output_type": "stream",
          "name": "stdout",
          "text": [
            "\b\b\b\b\b\b\b\b\b\b\b\b\b\b\b\b\b\b\b\b\b\b\b\b\b\b\b\b\b\b\b\b\b\b\b\b\b\b\b\b\b\b\b\b\b\b\b\b\b\b\b\b\b\b\b\b\b\b\b\b\b\b\b\b\b\b\b\b\b\b\b\b\b\b\b\b\b\b\b\b\b\r6/6 [==============================] - 1s 113ms/step - loss: 0.9414 - iou_score: 0.0586 - lr: 9.7656e-07\n"
          ]
        },
        {
          "output_type": "stream",
          "name": "stderr",
          "text": [
            "INFO - 2023-05-04 09:57:51,021 - saver.py - on_epoch_begin - line 109 - 35.0%\n",
            "\n",
            "INFO:master:35.0%\n"
          ]
        },
        {
          "output_type": "stream",
          "name": "stdout",
          "text": [
            "Epoch 36/100\n",
            "6/6 [==============================] - ETA: 0s - loss: 0.9441 - iou_score: 0.0559"
          ]
        },
        {
          "output_type": "stream",
          "name": "stderr",
          "text": [
            "INFO - 2023-05-04 09:57:51,665 - saver.py - on_epoch_end - line 131 - Estimated remaining run time: 41.91716060999909 second(s)\n",
            "\n",
            "INFO:master:Estimated remaining run time: 41.91716060999909 second(s)\n"
          ]
        },
        {
          "output_type": "stream",
          "name": "stdout",
          "text": [
            "\b\b\b\b\b\b\b\b\b\b\b\b\b\b\b\b\b\b\b\b\b\b\b\b\b\b\b\b\b\b\b\b\b\b\b\b\b\b\b\b\b\b\b\b\b\b\b\b\b\b\b\b\b\b\b\b\b\b\b\b\b\b\b\b\b\b\b\b\b\b\b\b\b\b\b\b\b\b\b\b\b\r6/6 [==============================] - 1s 110ms/step - loss: 0.9441 - iou_score: 0.0559 - lr: 9.7656e-07\n"
          ]
        },
        {
          "output_type": "stream",
          "name": "stderr",
          "text": [
            "INFO - 2023-05-04 09:57:51,683 - saver.py - on_epoch_begin - line 109 - 36.0%\n",
            "\n",
            "INFO:master:36.0%\n"
          ]
        },
        {
          "output_type": "stream",
          "name": "stdout",
          "text": [
            "Epoch 37/100\n",
            "6/6 [==============================] - ETA: 0s - loss: 0.9415 - iou_score: 0.0585"
          ]
        },
        {
          "output_type": "stream",
          "name": "stderr",
          "text": [
            "INFO - 2023-05-04 09:57:52,405 - saver.py - on_epoch_end - line 131 - Estimated remaining run time: 46.21268224000232 second(s)\n",
            "\n",
            "INFO:master:Estimated remaining run time: 46.21268224000232 second(s)\n"
          ]
        },
        {
          "output_type": "stream",
          "name": "stdout",
          "text": [
            "\b\b\b\b\b\b\b\b\b\b\b\b\b\b\b\b\b\b\b\b\b\b\b\b\b\b\b\b\b\b\b\b\b\b\b\b\b\b\b\b\b\b\b\b\b\b\b\b\b\b\b\b\b\b\b\b\b\b\b\b\b\b\b\b\b\b\b\b\b\b\b\b\b\b\b\b\b\b\b\b\b\r6/6 [==============================] - 1s 125ms/step - loss: 0.9415 - iou_score: 0.0585 - lr: 9.7656e-07\n"
          ]
        },
        {
          "output_type": "stream",
          "name": "stderr",
          "text": [
            "INFO - 2023-05-04 09:57:52,424 - saver.py - on_epoch_begin - line 109 - 37.0%\n",
            "\n",
            "INFO:master:37.0%\n"
          ]
        },
        {
          "output_type": "stream",
          "name": "stdout",
          "text": [
            "Epoch 38/100\n",
            "6/6 [==============================] - ETA: 0s - loss: 0.9395 - iou_score: 0.0605"
          ]
        },
        {
          "output_type": "stream",
          "name": "stderr",
          "text": [
            "INFO - 2023-05-04 09:57:53,156 - saver.py - on_epoch_end - line 131 - Estimated remaining run time: 46.106605440001545 second(s)\n",
            "\n",
            "INFO:master:Estimated remaining run time: 46.106605440001545 second(s)\n",
            "INFO - 2023-05-04 09:57:54,677 - saver.py - on_epoch_end - line 342 - saving file: Linknet-vgg16-sigmoid-3.h5\n",
            "\n",
            "INFO:master:saving file: Linknet-vgg16-sigmoid-3.h5\n"
          ]
        },
        {
          "output_type": "stream",
          "name": "stdout",
          "text": [
            "\b\b\b\b\b\b\b\b\b\b\b\b\b\b\b\b\b\b\b\b\b\b\b\b\b\b\b\b\b\b\b\b\b\b\b\b\b\b\b\b\b\b\b\b\b\b\b\b\b\b\b\b\b\b\b\b\b\b\b\b\b\b\b\b\b\b\b\b\b\b\b\b\b\b\b\b\b\b\b\b\b\r6/6 [==============================] - 3s 654ms/step - loss: 0.9395 - iou_score: 0.0605 - lr: 9.7656e-07\n"
          ]
        },
        {
          "output_type": "stream",
          "name": "stderr",
          "text": [
            "INFO - 2023-05-04 09:57:55,810 - saver.py - on_epoch_begin - line 109 - 38.0%\n",
            "\n",
            "INFO:master:38.0%\n"
          ]
        },
        {
          "output_type": "stream",
          "name": "stdout",
          "text": [
            "Epoch 39/100\n",
            "6/6 [==============================] - ETA: 0s - loss: 0.9452 - iou_score: 0.0548"
          ]
        },
        {
          "output_type": "stream",
          "name": "stderr",
          "text": [
            "INFO - 2023-05-04 09:57:56,593 - saver.py - on_epoch_end - line 131 - Estimated remaining run time: 48.528869709997934 second(s)\n",
            "\n",
            "INFO:master:Estimated remaining run time: 48.528869709997934 second(s)\n"
          ]
        },
        {
          "output_type": "stream",
          "name": "stdout",
          "text": [
            "\b\b\b\b\b\b\b\b\b\b\b\b\b\b\b\b\b\b\b\b\b\b\b\b\b\b\b\b\b\b\b\b\b\b\b\b\b\b\b\b\b\b\b\b\b\b\b\b\b\b\b\b\b\b\b\b\b\b\b\b\b\b\b\b\b\b\b\b\b\b\b\b\b\b\b\b\b\b\b\b\b\r6/6 [==============================] - 1s 137ms/step - loss: 0.9452 - iou_score: 0.0548 - lr: 9.7656e-07\n"
          ]
        },
        {
          "output_type": "stream",
          "name": "stderr",
          "text": [
            "INFO - 2023-05-04 09:57:56,671 - saver.py - on_epoch_begin - line 109 - 39.0%\n",
            "\n",
            "INFO:master:39.0%\n"
          ]
        },
        {
          "output_type": "stream",
          "name": "stdout",
          "text": [
            "Epoch 40/100\n",
            "6/6 [==============================] - ETA: 0s - loss: 0.9452 - iou_score: 0.0548"
          ]
        },
        {
          "output_type": "stream",
          "name": "stderr",
          "text": [
            "INFO - 2023-05-04 09:57:57,326 - saver.py - on_epoch_end - line 131 - Estimated remaining run time: 39.9933776619971 second(s)\n",
            "\n",
            "INFO:master:Estimated remaining run time: 39.9933776619971 second(s)\n"
          ]
        },
        {
          "output_type": "stream",
          "name": "stdout",
          "text": [
            "\n",
            "Epoch 40: ReduceLROnPlateau reducing learning rate to 4.882812731921149e-07.\n",
            "6/6 [==============================] - 1s 114ms/step - loss: 0.9452 - iou_score: 0.0548 - lr: 9.7656e-07\n"
          ]
        },
        {
          "output_type": "stream",
          "name": "stderr",
          "text": [
            "INFO - 2023-05-04 09:57:57,358 - saver.py - on_epoch_begin - line 109 - 40.0%\n",
            "\n",
            "INFO:master:40.0%\n"
          ]
        },
        {
          "output_type": "stream",
          "name": "stdout",
          "text": [
            "Epoch 41/100\n",
            "6/6 [==============================] - ETA: 0s - loss: 0.9438 - iou_score: 0.0562"
          ]
        },
        {
          "output_type": "stream",
          "name": "stderr",
          "text": [
            "INFO - 2023-05-04 09:57:58,096 - saver.py - on_epoch_end - line 131 - Estimated remaining run time: 44.29097081999771 second(s)\n",
            "\n",
            "INFO:master:Estimated remaining run time: 44.29097081999771 second(s)\n"
          ]
        },
        {
          "output_type": "stream",
          "name": "stdout",
          "text": [
            "\b\b\b\b\b\b\b\b\b\b\b\b\b\b\b\b\b\b\b\b\b\b\b\b\b\b\b\b\b\b\b\b\b\b\b\b\b\b\b\b\b\b\b\b\b\b\b\b\b\b\b\b\b\b\b\b\b\b\b\b\b\b\b\b\b\b\b\b\b\b\b\b\b\b\b\b\b\b\b\b\b\r6/6 [==============================] - 1s 128ms/step - loss: 0.9438 - iou_score: 0.0562 - lr: 4.8828e-07\n"
          ]
        },
        {
          "output_type": "stream",
          "name": "stderr",
          "text": [
            "INFO - 2023-05-04 09:57:58,128 - saver.py - on_epoch_begin - line 109 - 41.0%\n",
            "\n",
            "INFO:master:41.0%\n"
          ]
        },
        {
          "output_type": "stream",
          "name": "stdout",
          "text": [
            "Epoch 42/100\n",
            "6/6 [==============================] - ETA: 0s - loss: 0.9400 - iou_score: 0.0600"
          ]
        },
        {
          "output_type": "stream",
          "name": "stderr",
          "text": [
            "INFO - 2023-05-04 09:57:58,828 - saver.py - on_epoch_end - line 131 - Estimated remaining run time: 41.28603759100133 second(s)\n",
            "\n",
            "INFO:master:Estimated remaining run time: 41.28603759100133 second(s)\n"
          ]
        },
        {
          "output_type": "stream",
          "name": "stdout",
          "text": [
            "\b\b\b\b\b\b\b\b\b\b\b\b\b\b\b\b\b\b\b\b\b\b\b\b\b\b\b\b\b\b\b\b\b\b\b\b\b\b\b\b\b\b\b\b\b\b\b\b\b\b\b\b\b\b\b\b\b\b\b\b\b\b\b\b\b\b\b\b\b\b\b\b\b\b\b\b\b\b\b\b\b\r6/6 [==============================] - 1s 121ms/step - loss: 0.9400 - iou_score: 0.0600 - lr: 4.8828e-07\n"
          ]
        },
        {
          "output_type": "stream",
          "name": "stderr",
          "text": [
            "INFO - 2023-05-04 09:57:58,860 - saver.py - on_epoch_begin - line 109 - 42.0%\n",
            "\n",
            "INFO:master:42.0%\n"
          ]
        },
        {
          "output_type": "stream",
          "name": "stdout",
          "text": [
            "Epoch 43/100\n",
            "6/6 [==============================] - ETA: 0s - loss: 0.9394 - iou_score: 0.0606"
          ]
        },
        {
          "output_type": "stream",
          "name": "stderr",
          "text": [
            "INFO - 2023-05-04 09:57:59,617 - saver.py - on_epoch_end - line 131 - Estimated remaining run time: 43.9160457740054 second(s)\n",
            "\n",
            "INFO:master:Estimated remaining run time: 43.9160457740054 second(s)\n",
            "INFO - 2023-05-04 09:58:00,921 - saver.py - on_epoch_end - line 342 - saving file: Linknet-vgg16-sigmoid-2.h5\n",
            "\n",
            "INFO:master:saving file: Linknet-vgg16-sigmoid-2.h5\n"
          ]
        },
        {
          "output_type": "stream",
          "name": "stdout",
          "text": [
            "\b\b\b\b\b\b\b\b\b\b\b\b\b\b\b\b\b\b\b\b\b\b\b\b\b\b\b\b\b\b\b\b\b\b\b\b\b\b\b\b\b\b\b\b\b\b\b\b\b\b\b\b\b\b\b\b\b\b\b\b\b\b\b\b\b\b\b\b\b\b\b\b\b\b\b\b\b\b\b\b\b\r6/6 [==============================] - 4s 786ms/step - loss: 0.9394 - iou_score: 0.0606 - lr: 4.8828e-07\n"
          ]
        },
        {
          "output_type": "stream",
          "name": "stderr",
          "text": [
            "INFO - 2023-05-04 09:58:02,930 - saver.py - on_epoch_begin - line 109 - 43.0%\n",
            "\n",
            "INFO:master:43.0%\n"
          ]
        },
        {
          "output_type": "stream",
          "name": "stdout",
          "text": [
            "Epoch 44/100\n",
            "6/6 [==============================] - ETA: 0s - loss: 0.9405 - iou_score: 0.0595"
          ]
        },
        {
          "output_type": "stream",
          "name": "stderr",
          "text": [
            "INFO - 2023-05-04 09:58:03,709 - saver.py - on_epoch_end - line 131 - Estimated remaining run time: 44.40214990200195 second(s)\n",
            "\n",
            "INFO:master:Estimated remaining run time: 44.40214990200195 second(s)\n"
          ]
        },
        {
          "output_type": "stream",
          "name": "stdout",
          "text": [
            "\b\b\b\b\b\b\b\b\b\b\b\b\b\b\b\b\b\b\b\b\b\b\b\b\b\b\b\b\b\b\b\b\b\b\b\b\b\b\b\b\b\b\b\b\b\b\b\b\b\b\b\b\b\b\b\b\b\b\b\b\b\b\b\b\b\b\b\b\b\b\b\b\b\b\b\b\b\b\b\b\b\r6/6 [==============================] - 1s 126ms/step - loss: 0.9405 - iou_score: 0.0595 - lr: 4.8828e-07\n"
          ]
        },
        {
          "output_type": "stream",
          "name": "stderr",
          "text": [
            "INFO - 2023-05-04 09:58:03,735 - saver.py - on_epoch_begin - line 109 - 44.0%\n",
            "\n",
            "INFO:master:44.0%\n"
          ]
        },
        {
          "output_type": "stream",
          "name": "stdout",
          "text": [
            "Epoch 45/100\n",
            "6/6 [==============================] - ETA: 0s - loss: 0.9394 - iou_score: 0.0606"
          ]
        },
        {
          "output_type": "stream",
          "name": "stderr",
          "text": [
            "INFO - 2023-05-04 09:58:04,407 - saver.py - on_epoch_end - line 131 - Estimated remaining run time: 37.628253432004385 second(s)\n",
            "\n",
            "INFO:master:Estimated remaining run time: 37.628253432004385 second(s)\n",
            "INFO - 2023-05-04 09:58:06,424 - saver.py - on_epoch_end - line 342 - saving file: Linknet-vgg16-sigmoid-3.h5\n",
            "\n",
            "INFO:master:saving file: Linknet-vgg16-sigmoid-3.h5\n"
          ]
        },
        {
          "output_type": "stream",
          "name": "stdout",
          "text": [
            "\b\b\b\b\b\b\b\b\b\b\b\b\b\b\b\b\b\b\b\b\b\b\b\b\b\b\b\b\b\b\b\b\b\b\b\b\b\b\b\b\b\b\b\b\b\b\b\b\b\b\b\b\b\b\b\b\b\b\b\b\b\b\b\b\b\b\b\b\b\b\b\b\b\b\b\b\b\b\b\b\b\r6/6 [==============================] - 4s 830ms/step - loss: 0.9394 - iou_score: 0.0606 - lr: 4.8828e-07\n"
          ]
        },
        {
          "output_type": "stream",
          "name": "stderr",
          "text": [
            "INFO - 2023-05-04 09:58:08,012 - saver.py - on_epoch_begin - line 109 - 45.0%\n",
            "\n",
            "INFO:master:45.0%\n"
          ]
        },
        {
          "output_type": "stream",
          "name": "stdout",
          "text": [
            "Epoch 46/100\n",
            "6/6 [==============================] - ETA: 0s - loss: 0.9432 - iou_score: 0.0568"
          ]
        },
        {
          "output_type": "stream",
          "name": "stderr",
          "text": [
            "INFO - 2023-05-04 09:58:09,104 - saver.py - on_epoch_end - line 128 - Estimated remaining run time: 1.0011552943333109 minute(s)\n",
            "\n",
            "INFO:master:Estimated remaining run time: 1.0011552943333109 minute(s)\n"
          ]
        },
        {
          "output_type": "stream",
          "name": "stdout",
          "text": [
            "\b\b\b\b\b\b\b\b\b\b\b\b\b\b\b\b\b\b\b\b\b\b\b\b\b\b\b\b\b\b\b\b\b\b\b\b\b\b\b\b\b\b\b\b\b\b\b\b\b\b\b\b\b\b\b\b\b\b\b\b\b\b\b\b\b\b\b\b\b\b\b\b\b\b\b\b\b\b\b\b\b\r6/6 [==============================] - 1s 184ms/step - loss: 0.9432 - iou_score: 0.0568 - lr: 4.8828e-07\n"
          ]
        },
        {
          "output_type": "stream",
          "name": "stderr",
          "text": [
            "INFO - 2023-05-04 09:58:09,145 - saver.py - on_epoch_begin - line 109 - 46.0%\n",
            "\n",
            "INFO:master:46.0%\n"
          ]
        },
        {
          "output_type": "stream",
          "name": "stdout",
          "text": [
            "Epoch 47/100\n",
            "6/6 [==============================] - ETA: 0s - loss: 0.9431 - iou_score: 0.0569"
          ]
        },
        {
          "output_type": "stream",
          "name": "stderr",
          "text": [
            "INFO - 2023-05-04 09:58:10,222 - saver.py - on_epoch_end - line 131 - Estimated remaining run time: 58.14503033399979 second(s)\n",
            "\n",
            "INFO:master:Estimated remaining run time: 58.14503033399979 second(s)\n"
          ]
        },
        {
          "output_type": "stream",
          "name": "stdout",
          "text": [
            "\b\b\b\b\b\b\b\b\b\b\b\b\b\b\b\b\b\b\b\b\b\b\b\b\b\b\b\b\b\b\b\b\b\b\b\b\b\b\b\b\b\b\b\b\b\b\b\b\b\b\b\b\b\b\b\b\b\b\b\b\b\b\b\b\b\b\b\b\b\b\b\b\b\b\b\b\b\b\b\b\b\r6/6 [==============================] - 1s 198ms/step - loss: 0.9431 - iou_score: 0.0569 - lr: 4.8828e-07\n"
          ]
        },
        {
          "output_type": "stream",
          "name": "stderr",
          "text": [
            "INFO - 2023-05-04 09:58:10,308 - saver.py - on_epoch_begin - line 109 - 47.0%\n",
            "\n",
            "INFO:master:47.0%\n"
          ]
        },
        {
          "output_type": "stream",
          "name": "stdout",
          "text": [
            "Epoch 48/100\n",
            "6/6 [==============================] - ETA: 0s - loss: 0.9400 - iou_score: 0.0600"
          ]
        },
        {
          "output_type": "stream",
          "name": "stderr",
          "text": [
            "INFO - 2023-05-04 09:58:11,103 - saver.py - on_epoch_end - line 131 - Estimated remaining run time: 42.14953954299858 second(s)\n",
            "\n",
            "INFO:master:Estimated remaining run time: 42.14953954299858 second(s)\n"
          ]
        },
        {
          "output_type": "stream",
          "name": "stdout",
          "text": [
            "\b\b\b\b\b\b\b\b\b\b\b\b\b\b\b\b\b\b\b\b\b\b\b\b\b\b\b\b\b\b\b\b\b\b\b\b\b\b\b\b\b\b\b\b\b\b\b\b\b\b\b\b\b\b\b\b\b\b\b\b\b\b\b\b\b\b\b\b\b\b\b\b\b\b\b\b\b\b\b\b\b\r6/6 [==============================] - 1s 135ms/step - loss: 0.9400 - iou_score: 0.0600 - lr: 4.8828e-07\n"
          ]
        },
        {
          "output_type": "stream",
          "name": "stderr",
          "text": [
            "INFO - 2023-05-04 09:58:11,125 - saver.py - on_epoch_begin - line 109 - 48.0%\n",
            "\n",
            "INFO:master:48.0%\n"
          ]
        },
        {
          "output_type": "stream",
          "name": "stdout",
          "text": [
            "Epoch 49/100\n",
            "6/6 [==============================] - ETA: 0s - loss: 0.9416 - iou_score: 0.0584"
          ]
        },
        {
          "output_type": "stream",
          "name": "stderr",
          "text": [
            "INFO - 2023-05-04 09:58:11,796 - saver.py - on_epoch_end - line 131 - Estimated remaining run time: 34.90329777999977 second(s)\n",
            "\n",
            "INFO:master:Estimated remaining run time: 34.90329777999977 second(s)\n"
          ]
        },
        {
          "output_type": "stream",
          "name": "stdout",
          "text": [
            "\b\b\b\b\b\b\b\b\b\b\b\b\b\b\b\b\b\b\b\b\b\b\b\b\b\b\b\b\b\b\b\b\b\b\b\b\b\b\b\b\b\b\b\b\b\b\b\b\b\b\b\b\b\b\b\b\b\b\b\b\b\b\b\b\b\b\b\b\b\b\b\b\b\b\b\b\b\b\b\b\b\r6/6 [==============================] - 1s 113ms/step - loss: 0.9416 - iou_score: 0.0584 - lr: 4.8828e-07\n"
          ]
        },
        {
          "output_type": "stream",
          "name": "stderr",
          "text": [
            "INFO - 2023-05-04 09:58:11,812 - saver.py - on_epoch_begin - line 109 - 49.0%\n",
            "\n",
            "INFO:master:49.0%\n"
          ]
        },
        {
          "output_type": "stream",
          "name": "stdout",
          "text": [
            "Epoch 50/100\n",
            "6/6 [==============================] - ETA: 0s - loss: 0.9407 - iou_score: 0.0593"
          ]
        },
        {
          "output_type": "stream",
          "name": "stderr",
          "text": [
            "INFO - 2023-05-04 09:58:12,489 - saver.py - on_epoch_end - line 131 - Estimated remaining run time: 34.524864680999606 second(s)\n",
            "\n",
            "INFO:master:Estimated remaining run time: 34.524864680999606 second(s)\n"
          ]
        },
        {
          "output_type": "stream",
          "name": "stdout",
          "text": [
            "\n",
            "Epoch 50: ReduceLROnPlateau reducing learning rate to 2.4414063659605745e-07.\n",
            "6/6 [==============================] - 1s 118ms/step - loss: 0.9407 - iou_score: 0.0593 - lr: 4.8828e-07\n"
          ]
        },
        {
          "output_type": "stream",
          "name": "stderr",
          "text": [
            "INFO - 2023-05-04 09:58:12,518 - saver.py - on_epoch_begin - line 109 - 50.0%\n",
            "\n",
            "INFO:master:50.0%\n"
          ]
        },
        {
          "output_type": "stream",
          "name": "stdout",
          "text": [
            "Epoch 51/100\n",
            "6/6 [==============================] - ETA: 0s - loss: 0.9443 - iou_score: 0.0557"
          ]
        },
        {
          "output_type": "stream",
          "name": "stderr",
          "text": [
            "INFO - 2023-05-04 09:58:13,215 - saver.py - on_epoch_end - line 131 - Estimated remaining run time: 34.845124600002464 second(s)\n",
            "\n",
            "INFO:master:Estimated remaining run time: 34.845124600002464 second(s)\n"
          ]
        },
        {
          "output_type": "stream",
          "name": "stdout",
          "text": [
            "\b\b\b\b\b\b\b\b\b\b\b\b\b\b\b\b\b\b\b\b\b\b\b\b\b\b\b\b\b\b\b\b\b\b\b\b\b\b\b\b\b\b\b\b\b\b\b\b\b\b\b\b\b\b\b\b\b\b\b\b\b\b\b\b\b\b\b\b\b\b\b\b\b\b\b\b\b\b\b\b\b\r6/6 [==============================] - 1s 119ms/step - loss: 0.9443 - iou_score: 0.0557 - lr: 2.4414e-07\n"
          ]
        },
        {
          "output_type": "stream",
          "name": "stderr",
          "text": [
            "INFO - 2023-05-04 09:58:13,239 - saver.py - on_epoch_begin - line 109 - 51.0%\n",
            "\n",
            "INFO:master:51.0%\n"
          ]
        },
        {
          "output_type": "stream",
          "name": "stdout",
          "text": [
            "Epoch 52/100\n",
            "6/6 [==============================] - ETA: 0s - loss: 0.9443 - iou_score: 0.0557"
          ]
        },
        {
          "output_type": "stream",
          "name": "stderr",
          "text": [
            "INFO - 2023-05-04 09:58:13,950 - saver.py - on_epoch_end - line 131 - Estimated remaining run time: 34.832994608999 second(s)\n",
            "\n",
            "INFO:master:Estimated remaining run time: 34.832994608999 second(s)\n"
          ]
        },
        {
          "output_type": "stream",
          "name": "stdout",
          "text": [
            "\b\b\b\b\b\b\b\b\b\b\b\b\b\b\b\b\b\b\b\b\b\b\b\b\b\b\b\b\b\b\b\b\b\b\b\b\b\b\b\b\b\b\b\b\b\b\b\b\b\b\b\b\b\b\b\b\b\b\b\b\b\b\b\b\b\b\b\b\b\b\b\b\b\b\b\b\b\b\b\b\b\r6/6 [==============================] - 1s 120ms/step - loss: 0.9443 - iou_score: 0.0557 - lr: 2.4414e-07\n"
          ]
        },
        {
          "output_type": "stream",
          "name": "stderr",
          "text": [
            "INFO - 2023-05-04 09:58:13,977 - saver.py - on_epoch_begin - line 109 - 52.0%\n",
            "\n",
            "INFO:master:52.0%\n"
          ]
        },
        {
          "output_type": "stream",
          "name": "stdout",
          "text": [
            "Epoch 53/100\n",
            "6/6 [==============================] - ETA: 0s - loss: 0.9422 - iou_score: 0.0578"
          ]
        },
        {
          "output_type": "stream",
          "name": "stderr",
          "text": [
            "INFO - 2023-05-04 09:58:14,677 - saver.py - on_epoch_end - line 131 - Estimated remaining run time: 33.62806022399854 second(s)\n",
            "\n",
            "INFO:master:Estimated remaining run time: 33.62806022399854 second(s)\n"
          ]
        },
        {
          "output_type": "stream",
          "name": "stdout",
          "text": [
            "\b\b\b\b\b\b\b\b\b\b\b\b\b\b\b\b\b\b\b\b\b\b\b\b\b\b\b\b\b\b\b\b\b\b\b\b\b\b\b\b\b\b\b\b\b\b\b\b\b\b\b\b\b\b\b\b\b\b\b\b\b\b\b\b\b\b\b\b\b\b\b\b\b\b\b\b\b\b\b\b\b\r6/6 [==============================] - 1s 120ms/step - loss: 0.9422 - iou_score: 0.0578 - lr: 2.4414e-07\n"
          ]
        },
        {
          "output_type": "stream",
          "name": "stderr",
          "text": [
            "INFO - 2023-05-04 09:58:14,702 - saver.py - on_epoch_begin - line 109 - 53.0%\n",
            "\n",
            "INFO:master:53.0%\n"
          ]
        },
        {
          "output_type": "stream",
          "name": "stdout",
          "text": [
            "Epoch 54/100\n",
            "6/6 [==============================] - ETA: 0s - loss: 0.9428 - iou_score: 0.0572"
          ]
        },
        {
          "output_type": "stream",
          "name": "stderr",
          "text": [
            "INFO - 2023-05-04 09:58:15,374 - saver.py - on_epoch_end - line 131 - Estimated remaining run time: 31.55391247999637 second(s)\n",
            "\n",
            "INFO:master:Estimated remaining run time: 31.55391247999637 second(s)\n"
          ]
        },
        {
          "output_type": "stream",
          "name": "stdout",
          "text": [
            "\b\b\b\b\b\b\b\b\b\b\b\b\b\b\b\b\b\b\b\b\b\b\b\b\b\b\b\b\b\b\b\b\b\b\b\b\b\b\b\b\b\b\b\b\b\b\b\b\b\b\b\b\b\b\b\b\b\b\b\b\b\b\b\b\b\b\b\b\b\b\b\b\b\b\b\b\b\b\b\b\b\r6/6 [==============================] - 1s 123ms/step - loss: 0.9428 - iou_score: 0.0572 - lr: 2.4414e-07\n"
          ]
        },
        {
          "output_type": "stream",
          "name": "stderr",
          "text": [
            "INFO - 2023-05-04 09:58:15,447 - saver.py - on_epoch_begin - line 109 - 54.0%\n",
            "\n",
            "INFO:master:54.0%\n"
          ]
        },
        {
          "output_type": "stream",
          "name": "stdout",
          "text": [
            "Epoch 55/100\n",
            "6/6 [==============================] - ETA: 0s - loss: 0.9423 - iou_score: 0.0577"
          ]
        },
        {
          "output_type": "stream",
          "name": "stderr",
          "text": [
            "INFO - 2023-05-04 09:58:16,116 - saver.py - on_epoch_end - line 131 - Estimated remaining run time: 30.76768502800064 second(s)\n",
            "\n",
            "INFO:master:Estimated remaining run time: 30.76768502800064 second(s)\n"
          ]
        },
        {
          "output_type": "stream",
          "name": "stdout",
          "text": [
            "\b\b\b\b\b\b\b\b\b\b\b\b\b\b\b\b\b\b\b\b\b\b\b\b\b\b\b\b\b\b\b\b\b\b\b\b\b\b\b\b\b\b\b\b\b\b\b\b\b\b\b\b\b\b\b\b\b\b\b\b\b\b\b\b\b\b\b\b\b\b\b\b\b\b\b\b\b\b\b\b\b\r6/6 [==============================] - 1s 114ms/step - loss: 0.9423 - iou_score: 0.0577 - lr: 2.4414e-07\n"
          ]
        },
        {
          "output_type": "stream",
          "name": "stderr",
          "text": [
            "INFO - 2023-05-04 09:58:16,134 - saver.py - on_epoch_begin - line 109 - 55.00000000000001%\n",
            "\n",
            "INFO:master:55.00000000000001%\n"
          ]
        },
        {
          "output_type": "stream",
          "name": "stdout",
          "text": [
            "Epoch 56/100\n",
            "6/6 [==============================] - ETA: 0s - loss: 0.9431 - iou_score: 0.0569"
          ]
        },
        {
          "output_type": "stream",
          "name": "stderr",
          "text": [
            "INFO - 2023-05-04 09:58:16,946 - saver.py - on_epoch_end - line 131 - Estimated remaining run time: 36.55582033499968 second(s)\n",
            "\n",
            "INFO:master:Estimated remaining run time: 36.55582033499968 second(s)\n"
          ]
        },
        {
          "output_type": "stream",
          "name": "stdout",
          "text": [
            "\b\b\b\b\b\b\b\b\b\b\b\b\b\b\b\b\b\b\b\b\b\b\b\b\b\b\b\b\b\b\b\b\b\b\b\b\b\b\b\b\b\b\b\b\b\b\b\b\b\b\b\b\b\b\b\b\b\b\b\b\b\b\b\b\b\b\b\b\b\b\b\b\b\b\b\b\b\b\b\b\b\r6/6 [==============================] - 1s 144ms/step - loss: 0.9431 - iou_score: 0.0569 - lr: 2.4414e-07\n"
          ]
        },
        {
          "output_type": "stream",
          "name": "stderr",
          "text": [
            "INFO - 2023-05-04 09:58:16,994 - saver.py - on_epoch_begin - line 109 - 56.00000000000001%\n",
            "\n",
            "INFO:master:56.00000000000001%\n"
          ]
        },
        {
          "output_type": "stream",
          "name": "stdout",
          "text": [
            "Epoch 57/100\n",
            "6/6 [==============================] - ETA: 0s - loss: 0.9436 - iou_score: 0.0564"
          ]
        },
        {
          "output_type": "stream",
          "name": "stderr",
          "text": [
            "INFO - 2023-05-04 09:58:17,852 - saver.py - on_epoch_end - line 131 - Estimated remaining run time: 37.725100071998895 second(s)\n",
            "\n",
            "INFO:master:Estimated remaining run time: 37.725100071998895 second(s)\n"
          ]
        },
        {
          "output_type": "stream",
          "name": "stdout",
          "text": [
            "\b\b\b\b\b\b\b\b\b\b\b\b\b\b\b\b\b\b\b\b\b\b\b\b\b\b\b\b\b\b\b\b\b\b\b\b\b\b\b\b\b\b\b\b\b\b\b\b\b\b\b\b\b\b\b\b\b\b\b\b\b\b\b\b\b\b\b\b\b\b\b\b\b\b\b\b\b\b\b\b\b\r6/6 [==============================] - 1s 141ms/step - loss: 0.9436 - iou_score: 0.0564 - lr: 2.4414e-07\n"
          ]
        },
        {
          "output_type": "stream",
          "name": "stderr",
          "text": [
            "INFO - 2023-05-04 09:58:17,906 - saver.py - on_epoch_begin - line 109 - 56.99999999999999%\n",
            "\n",
            "INFO:master:56.99999999999999%\n"
          ]
        },
        {
          "output_type": "stream",
          "name": "stdout",
          "text": [
            "Epoch 58/100\n",
            "6/6 [==============================] - ETA: 0s - loss: 0.9412 - iou_score: 0.0588"
          ]
        },
        {
          "output_type": "stream",
          "name": "stderr",
          "text": [
            "INFO - 2023-05-04 09:58:18,583 - saver.py - on_epoch_end - line 131 - Estimated remaining run time: 29.10897439900089 second(s)\n",
            "\n",
            "INFO:master:Estimated remaining run time: 29.10897439900089 second(s)\n"
          ]
        },
        {
          "output_type": "stream",
          "name": "stdout",
          "text": [
            "\b\b\b\b\b\b\b\b\b\b\b\b\b\b\b\b\b\b\b\b\b\b\b\b\b\b\b\b\b\b\b\b\b\b\b\b\b\b\b\b\b\b\b\b\b\b\b\b\b\b\b\b\b\b\b\b\b\b\b\b\b\b\b\b\b\b\b\b\b\b\b\b\b\b\b\b\b\b\b\b\b\r6/6 [==============================] - 1s 116ms/step - loss: 0.9412 - iou_score: 0.0588 - lr: 2.4414e-07\n"
          ]
        },
        {
          "output_type": "stream",
          "name": "stderr",
          "text": [
            "INFO - 2023-05-04 09:58:18,610 - saver.py - on_epoch_begin - line 109 - 57.99999999999999%\n",
            "\n",
            "INFO:master:57.99999999999999%\n"
          ]
        },
        {
          "output_type": "stream",
          "name": "stdout",
          "text": [
            "Epoch 59/100\n",
            "6/6 [==============================] - ETA: 0s - loss: 0.9425 - iou_score: 0.0575"
          ]
        },
        {
          "output_type": "stream",
          "name": "stderr",
          "text": [
            "INFO - 2023-05-04 09:58:19,341 - saver.py - on_epoch_end - line 131 - Estimated remaining run time: 30.701358995998365 second(s)\n",
            "\n",
            "INFO:master:Estimated remaining run time: 30.701358995998365 second(s)\n"
          ]
        },
        {
          "output_type": "stream",
          "name": "stdout",
          "text": [
            "\b\b\b\b\b\b\b\b\b\b\b\b\b\b\b\b\b\b\b\b\b\b\b\b\b\b\b\b\b\b\b\b\b\b\b\b\b\b\b\b\b\b\b\b\b\b\b\b\b\b\b\b\b\b\b\b\b\b\b\b\b\b\b\b\b\b\b\b\b\b\b\b\b\b\b\b\b\b\b\b\b\r6/6 [==============================] - 1s 124ms/step - loss: 0.9425 - iou_score: 0.0575 - lr: 2.4414e-07\n"
          ]
        },
        {
          "output_type": "stream",
          "name": "stderr",
          "text": [
            "INFO - 2023-05-04 09:58:19,366 - saver.py - on_epoch_begin - line 109 - 59.0%\n",
            "\n",
            "INFO:master:59.0%\n"
          ]
        },
        {
          "output_type": "stream",
          "name": "stdout",
          "text": [
            "Epoch 60/100\n",
            "6/6 [==============================] - ETA: 0s - loss: 0.9422 - iou_score: 0.0578"
          ]
        },
        {
          "output_type": "stream",
          "name": "stderr",
          "text": [
            "INFO - 2023-05-04 09:58:20,081 - saver.py - on_epoch_end - line 131 - Estimated remaining run time: 29.337840156998823 second(s)\n",
            "\n",
            "INFO:master:Estimated remaining run time: 29.337840156998823 second(s)\n"
          ]
        },
        {
          "output_type": "stream",
          "name": "stdout",
          "text": [
            "\n",
            "Epoch 60: ReduceLROnPlateau reducing learning rate to 1.2207031829802872e-07.\n",
            "6/6 [==============================] - 1s 124ms/step - loss: 0.9422 - iou_score: 0.0578 - lr: 2.4414e-07\n"
          ]
        },
        {
          "output_type": "stream",
          "name": "stderr",
          "text": [
            "INFO - 2023-05-04 09:58:20,109 - saver.py - on_epoch_begin - line 109 - 60.0%\n",
            "\n",
            "INFO:master:60.0%\n"
          ]
        },
        {
          "output_type": "stream",
          "name": "stdout",
          "text": [
            "Epoch 61/100\n",
            "6/6 [==============================] - ETA: 0s - loss: 0.9431 - iou_score: 0.0569"
          ]
        },
        {
          "output_type": "stream",
          "name": "stderr",
          "text": [
            "INFO - 2023-05-04 09:58:20,799 - saver.py - on_epoch_end - line 131 - Estimated remaining run time: 27.606168519996576 second(s)\n",
            "\n",
            "INFO:master:Estimated remaining run time: 27.606168519996576 second(s)\n"
          ]
        },
        {
          "output_type": "stream",
          "name": "stdout",
          "text": [
            "\b\b\b\b\b\b\b\b\b\b\b\b\b\b\b\b\b\b\b\b\b\b\b\b\b\b\b\b\b\b\b\b\b\b\b\b\b\b\b\b\b\b\b\b\b\b\b\b\b\b\b\b\b\b\b\b\b\b\b\b\b\b\b\b\b\b\b\b\b\b\b\b\b\b\b\b\b\b\b\b\b\r6/6 [==============================] - 1s 117ms/step - loss: 0.9431 - iou_score: 0.0569 - lr: 1.2207e-07\n"
          ]
        },
        {
          "output_type": "stream",
          "name": "stderr",
          "text": [
            "INFO - 2023-05-04 09:58:20,822 - saver.py - on_epoch_begin - line 109 - 61.0%\n",
            "\n",
            "INFO:master:61.0%\n"
          ]
        },
        {
          "output_type": "stream",
          "name": "stdout",
          "text": [
            "Epoch 62/100\n",
            "6/6 [==============================] - ETA: 0s - loss: 0.9423 - iou_score: 0.0577"
          ]
        },
        {
          "output_type": "stream",
          "name": "stderr",
          "text": [
            "INFO - 2023-05-04 09:58:21,537 - saver.py - on_epoch_end - line 131 - Estimated remaining run time: 27.88051613099617 second(s)\n",
            "\n",
            "INFO:master:Estimated remaining run time: 27.88051613099617 second(s)\n"
          ]
        },
        {
          "output_type": "stream",
          "name": "stdout",
          "text": [
            "\b\b\b\b\b\b\b\b\b\b\b\b\b\b\b\b\b\b\b\b\b\b\b\b\b\b\b\b\b\b\b\b\b\b\b\b\b\b\b\b\b\b\b\b\b\b\b\b\b\b\b\b\b\b\b\b\b\b\b\b\b\b\b\b\b\b\b\b\b\b\b\b\b\b\b\b\b\b\b\b\b\r6/6 [==============================] - 1s 123ms/step - loss: 0.9423 - iou_score: 0.0577 - lr: 1.2207e-07\n"
          ]
        },
        {
          "output_type": "stream",
          "name": "stderr",
          "text": [
            "INFO - 2023-05-04 09:58:21,559 - saver.py - on_epoch_begin - line 109 - 62.0%\n",
            "\n",
            "INFO:master:62.0%\n"
          ]
        },
        {
          "output_type": "stream",
          "name": "stdout",
          "text": [
            "Epoch 63/100\n",
            "6/6 [==============================] - ETA: 0s - loss: 0.9406 - iou_score: 0.0594"
          ]
        },
        {
          "output_type": "stream",
          "name": "stderr",
          "text": [
            "INFO - 2023-05-04 09:58:22,361 - saver.py - on_epoch_end - line 131 - Estimated remaining run time: 30.472544470000685 second(s)\n",
            "\n",
            "INFO:master:Estimated remaining run time: 30.472544470000685 second(s)\n"
          ]
        },
        {
          "output_type": "stream",
          "name": "stdout",
          "text": [
            "\b\b\b\b\b\b\b\b\b\b\b\b\b\b\b\b\b\b\b\b\b\b\b\b\b\b\b\b\b\b\b\b\b\b\b\b\b\b\b\b\b\b\b\b\b\b\b\b\b\b\b\b\b\b\b\b\b\b\b\b\b\b\b\b\b\b\b\b\b\b\b\b\b\b\b\b\b\b\b\b\b\r6/6 [==============================] - 1s 137ms/step - loss: 0.9406 - iou_score: 0.0594 - lr: 1.2207e-07\n"
          ]
        },
        {
          "output_type": "stream",
          "name": "stderr",
          "text": [
            "INFO - 2023-05-04 09:58:22,382 - saver.py - on_epoch_begin - line 109 - 63.0%\n",
            "\n",
            "INFO:master:63.0%\n"
          ]
        },
        {
          "output_type": "stream",
          "name": "stdout",
          "text": [
            "Epoch 64/100\n",
            "6/6 [==============================] - ETA: 0s - loss: 0.9393 - iou_score: 0.0607"
          ]
        },
        {
          "output_type": "stream",
          "name": "stderr",
          "text": [
            "INFO - 2023-05-04 09:58:23,244 - saver.py - on_epoch_end - line 131 - Estimated remaining run time: 31.88461206400018 second(s)\n",
            "\n",
            "INFO:master:Estimated remaining run time: 31.88461206400018 second(s)\n",
            "INFO - 2023-05-04 09:58:23,490 - saver.py - on_epoch_end - line 342 - saving file: Linknet-vgg16-sigmoid-0.h5\n",
            "\n",
            "INFO:master:saving file: Linknet-vgg16-sigmoid-0.h5\n"
          ]
        },
        {
          "output_type": "stream",
          "name": "stdout",
          "text": [
            "\b\b\b\b\b\b\b\b\b\b\b\b\b\b\b\b\b\b\b\b\b\b\b\b\b\b\b\b\b\b\b\b\b\b\b\b\b\b\b\b\b\b\b\b\b\b\b\b\b\b\b\b\b\b\b\b\b\b\b\b\b\b\b\b\b\b\b\b\b\b\b\b\b\b\b\b\b\b\b\b\b\r6/6 [==============================] - 3s 506ms/step - loss: 0.9393 - iou_score: 0.0607 - lr: 1.2207e-07\n"
          ]
        },
        {
          "output_type": "stream",
          "name": "stderr",
          "text": [
            "INFO - 2023-05-04 09:58:25,053 - saver.py - on_epoch_begin - line 109 - 64.0%\n",
            "\n",
            "INFO:master:64.0%\n"
          ]
        },
        {
          "output_type": "stream",
          "name": "stdout",
          "text": [
            "Epoch 65/100\n",
            "6/6 [==============================] - ETA: 0s - loss: 0.9422 - iou_score: 0.0578"
          ]
        },
        {
          "output_type": "stream",
          "name": "stderr",
          "text": [
            "INFO - 2023-05-04 09:58:25,924 - saver.py - on_epoch_end - line 131 - Estimated remaining run time: 31.35522614400179 second(s)\n",
            "\n",
            "INFO:master:Estimated remaining run time: 31.35522614400179 second(s)\n"
          ]
        },
        {
          "output_type": "stream",
          "name": "stdout",
          "text": [
            "\b\b\b\b\b\b\b\b\b\b\b\b\b\b\b\b\b\b\b\b\b\b\b\b\b\b\b\b\b\b\b\b\b\b\b\b\b\b\b\b\b\b\b\b\b\b\b\b\b\b\b\b\b\b\b\b\b\b\b\b\b\b\b\b\b\b\b\b\b\b\b\b\b\b\b\b\b\b\b\b\b\r6/6 [==============================] - 1s 143ms/step - loss: 0.9422 - iou_score: 0.0578 - lr: 1.2207e-07\n"
          ]
        },
        {
          "output_type": "stream",
          "name": "stderr",
          "text": [
            "INFO - 2023-05-04 09:58:25,944 - saver.py - on_epoch_begin - line 109 - 65.0%\n",
            "\n",
            "INFO:master:65.0%\n"
          ]
        },
        {
          "output_type": "stream",
          "name": "stdout",
          "text": [
            "Epoch 66/100\n",
            "6/6 [==============================] - ETA: 0s - loss: 0.9417 - iou_score: 0.0583"
          ]
        },
        {
          "output_type": "stream",
          "name": "stderr",
          "text": [
            "INFO - 2023-05-04 09:58:26,617 - saver.py - on_epoch_end - line 131 - Estimated remaining run time: 23.541707139997925 second(s)\n",
            "\n",
            "INFO:master:Estimated remaining run time: 23.541707139997925 second(s)\n"
          ]
        },
        {
          "output_type": "stream",
          "name": "stdout",
          "text": [
            "\b\b\b\b\b\b\b\b\b\b\b\b\b\b\b\b\b\b\b\b\b\b\b\b\b\b\b\b\b\b\b\b\b\b\b\b\b\b\b\b\b\b\b\b\b\b\b\b\b\b\b\b\b\b\b\b\b\b\b\b\b\b\b\b\b\b\b\b\b\b\b\b\b\b\b\b\b\b\b\b\b\r6/6 [==============================] - 1s 115ms/step - loss: 0.9417 - iou_score: 0.0583 - lr: 1.2207e-07\n"
          ]
        },
        {
          "output_type": "stream",
          "name": "stderr",
          "text": [
            "INFO - 2023-05-04 09:58:26,634 - saver.py - on_epoch_begin - line 109 - 66.0%\n",
            "\n",
            "INFO:master:66.0%\n"
          ]
        },
        {
          "output_type": "stream",
          "name": "stdout",
          "text": [
            "Epoch 67/100\n",
            "6/6 [==============================] - ETA: 0s - loss: 0.9429 - iou_score: 0.0571"
          ]
        },
        {
          "output_type": "stream",
          "name": "stderr",
          "text": [
            "INFO - 2023-05-04 09:58:27,288 - saver.py - on_epoch_end - line 131 - Estimated remaining run time: 22.24374972200053 second(s)\n",
            "\n",
            "INFO:master:Estimated remaining run time: 22.24374972200053 second(s)\n"
          ]
        },
        {
          "output_type": "stream",
          "name": "stdout",
          "text": [
            "\b\b\b\b\b\b\b\b\b\b\b\b\b\b\b\b\b\b\b\b\b\b\b\b\b\b\b\b\b\b\b\b\b\b\b\b\b\b\b\b\b\b\b\b\b\b\b\b\b\b\b\b\b\b\b\b\b\b\b\b\b\b\b\b\b\b\b\b\b\b\b\b\b\b\b\b\b\b\b\b\b\r6/6 [==============================] - 1s 120ms/step - loss: 0.9429 - iou_score: 0.0571 - lr: 1.2207e-07\n"
          ]
        },
        {
          "output_type": "stream",
          "name": "stderr",
          "text": [
            "INFO - 2023-05-04 09:58:27,349 - saver.py - on_epoch_begin - line 109 - 67.0%\n",
            "\n",
            "INFO:master:67.0%\n"
          ]
        },
        {
          "output_type": "stream",
          "name": "stdout",
          "text": [
            "Epoch 68/100\n",
            "6/6 [==============================] - ETA: 0s - loss: 0.9446 - iou_score: 0.0554"
          ]
        },
        {
          "output_type": "stream",
          "name": "stderr",
          "text": [
            "INFO - 2023-05-04 09:58:28,020 - saver.py - on_epoch_end - line 131 - Estimated remaining run time: 22.14350631900072 second(s)\n",
            "\n",
            "INFO:master:Estimated remaining run time: 22.14350631900072 second(s)\n"
          ]
        },
        {
          "output_type": "stream",
          "name": "stdout",
          "text": [
            "\b\b\b\b\b\b\b\b\b\b\b\b\b\b\b\b\b\b\b\b\b\b\b\b\b\b\b\b\b\b\b\b\b\b\b\b\b\b\b\b\b\b\b\b\b\b\b\b\b\b\b\b\b\b\b\b\b\b\b\b\b\b\b\b\b\b\b\b\b\b\b\b\b\b\b\b\b\b\b\b\b\r6/6 [==============================] - 1s 115ms/step - loss: 0.9446 - iou_score: 0.0554 - lr: 1.2207e-07\n"
          ]
        },
        {
          "output_type": "stream",
          "name": "stderr",
          "text": [
            "INFO - 2023-05-04 09:58:28,036 - saver.py - on_epoch_begin - line 109 - 68.0%\n",
            "\n",
            "INFO:master:68.0%\n"
          ]
        },
        {
          "output_type": "stream",
          "name": "stdout",
          "text": [
            "Epoch 69/100\n",
            "6/6 [==============================] - ETA: 0s - loss: 0.9451 - iou_score: 0.0549"
          ]
        },
        {
          "output_type": "stream",
          "name": "stderr",
          "text": [
            "INFO - 2023-05-04 09:58:28,689 - saver.py - on_epoch_end - line 131 - Estimated remaining run time: 20.882571072001156 second(s)\n",
            "\n",
            "INFO:master:Estimated remaining run time: 20.882571072001156 second(s)\n"
          ]
        },
        {
          "output_type": "stream",
          "name": "stdout",
          "text": [
            "\b\b\b\b\b\b\b\b\b\b\b\b\b\b\b\b\b\b\b\b\b\b\b\b\b\b\b\b\b\b\b\b\b\b\b\b\b\b\b\b\b\b\b\b\b\b\b\b\b\b\b\b\b\b\b\b\b\b\b\b\b\b\b\b\b\b\b\b\b\b\b\b\b\b\b\b\b\b\b\b\b\r6/6 [==============================] - 1s 111ms/step - loss: 0.9451 - iou_score: 0.0549 - lr: 1.2207e-07\n"
          ]
        },
        {
          "output_type": "stream",
          "name": "stderr",
          "text": [
            "INFO - 2023-05-04 09:58:28,703 - saver.py - on_epoch_begin - line 109 - 69.0%\n",
            "\n",
            "INFO:master:69.0%\n"
          ]
        },
        {
          "output_type": "stream",
          "name": "stdout",
          "text": [
            "Epoch 70/100\n",
            "6/6 [==============================] - ETA: 0s - loss: 0.9418 - iou_score: 0.0582"
          ]
        },
        {
          "output_type": "stream",
          "name": "stderr",
          "text": [
            "INFO - 2023-05-04 09:58:29,369 - saver.py - on_epoch_end - line 131 - Estimated remaining run time: 20.620467283999687 second(s)\n",
            "\n",
            "INFO:master:Estimated remaining run time: 20.620467283999687 second(s)\n"
          ]
        },
        {
          "output_type": "stream",
          "name": "stdout",
          "text": [
            "\n",
            "Epoch 70: ReduceLROnPlateau reducing learning rate to 6.103515914901436e-08.\n",
            "6/6 [==============================] - 1s 114ms/step - loss: 0.9418 - iou_score: 0.0582 - lr: 1.2207e-07\n"
          ]
        },
        {
          "output_type": "stream",
          "name": "stderr",
          "text": [
            "INFO - 2023-05-04 09:58:29,390 - saver.py - on_epoch_begin - line 109 - 70.0%\n",
            "\n",
            "INFO:master:70.0%\n"
          ]
        },
        {
          "output_type": "stream",
          "name": "stdout",
          "text": [
            "Epoch 71/100\n",
            "6/6 [==============================] - ETA: 0s - loss: 0.9408 - iou_score: 0.0592"
          ]
        },
        {
          "output_type": "stream",
          "name": "stderr",
          "text": [
            "INFO - 2023-05-04 09:58:30,048 - saver.py - on_epoch_end - line 131 - Estimated remaining run time: 19.75881275999882 second(s)\n",
            "\n",
            "INFO:master:Estimated remaining run time: 19.75881275999882 second(s)\n"
          ]
        },
        {
          "output_type": "stream",
          "name": "stdout",
          "text": [
            "\b\b\b\b\b\b\b\b\b\b\b\b\b\b\b\b\b\b\b\b\b\b\b\b\b\b\b\b\b\b\b\b\b\b\b\b\b\b\b\b\b\b\b\b\b\b\b\b\b\b\b\b\b\b\b\b\b\b\b\b\b\b\b\b\b\b\b\b\b\b\b\b\b\b\b\b\b\b\b\b\b\r6/6 [==============================] - 1s 112ms/step - loss: 0.9408 - iou_score: 0.0592 - lr: 6.1035e-08\n"
          ]
        },
        {
          "output_type": "stream",
          "name": "stderr",
          "text": [
            "INFO - 2023-05-04 09:58:30,065 - saver.py - on_epoch_begin - line 109 - 71.0%\n",
            "\n",
            "INFO:master:71.0%\n"
          ]
        },
        {
          "output_type": "stream",
          "name": "stdout",
          "text": [
            "Epoch 72/100\n",
            "6/6 [==============================] - ETA: 0s - loss: 0.9416 - iou_score: 0.0584"
          ]
        },
        {
          "output_type": "stream",
          "name": "stderr",
          "text": [
            "INFO - 2023-05-04 09:58:30,750 - saver.py - on_epoch_end - line 131 - Estimated remaining run time: 19.855873468001164 second(s)\n",
            "\n",
            "INFO:master:Estimated remaining run time: 19.855873468001164 second(s)\n"
          ]
        },
        {
          "output_type": "stream",
          "name": "stdout",
          "text": [
            "\b\b\b\b\b\b\b\b\b\b\b\b\b\b\b\b\b\b\b\b\b\b\b\b\b\b\b\b\b\b\b\b\b\b\b\b\b\b\b\b\b\b\b\b\b\b\b\b\b\b\b\b\b\b\b\b\b\b\b\b\b\b\b\b\b\b\b\b\b\b\b\b\b\b\b\b\b\b\b\b\b\r6/6 [==============================] - 1s 117ms/step - loss: 0.9416 - iou_score: 0.0584 - lr: 6.1035e-08\n"
          ]
        },
        {
          "output_type": "stream",
          "name": "stderr",
          "text": [
            "INFO - 2023-05-04 09:58:30,767 - saver.py - on_epoch_begin - line 109 - 72.0%\n",
            "\n",
            "INFO:master:72.0%\n"
          ]
        },
        {
          "output_type": "stream",
          "name": "stdout",
          "text": [
            "Epoch 73/100\n",
            "6/6 [==============================] - ETA: 0s - loss: 0.9395 - iou_score: 0.0605"
          ]
        },
        {
          "output_type": "stream",
          "name": "stderr",
          "text": [
            "INFO - 2023-05-04 09:58:31,429 - saver.py - on_epoch_end - line 131 - Estimated remaining run time: 18.52410954800007 second(s)\n",
            "\n",
            "INFO:master:Estimated remaining run time: 18.52410954800007 second(s)\n"
          ]
        },
        {
          "output_type": "stream",
          "name": "stdout",
          "text": [
            "\b\b\b\b\b\b\b\b\b\b\b\b\b\b\b\b\b\b\b\b\b\b\b\b\b\b\b\b\b\b\b\b\b\b\b\b\b\b\b\b\b\b\b\b\b\b\b\b\b\b\b\b\b\b\b\b\b\b\b\b\b\b\b\b\b\b\b\b\b\b\b\b\b\b\b\b\b\b\b\b\b\r6/6 [==============================] - 1s 113ms/step - loss: 0.9395 - iou_score: 0.0605 - lr: 6.1035e-08\n"
          ]
        },
        {
          "output_type": "stream",
          "name": "stderr",
          "text": [
            "INFO - 2023-05-04 09:58:31,449 - saver.py - on_epoch_begin - line 109 - 73.0%\n",
            "\n",
            "INFO:master:73.0%\n"
          ]
        },
        {
          "output_type": "stream",
          "name": "stdout",
          "text": [
            "Epoch 74/100\n",
            "6/6 [==============================] - ETA: 0s - loss: 0.9443 - iou_score: 0.0557"
          ]
        },
        {
          "output_type": "stream",
          "name": "stderr",
          "text": [
            "INFO - 2023-05-04 09:58:32,120 - saver.py - on_epoch_end - line 131 - Estimated remaining run time: 18.11167686900012 second(s)\n",
            "\n",
            "INFO:master:Estimated remaining run time: 18.11167686900012 second(s)\n"
          ]
        },
        {
          "output_type": "stream",
          "name": "stdout",
          "text": [
            "\b\b\b\b\b\b\b\b\b\b\b\b\b\b\b\b\b\b\b\b\b\b\b\b\b\b\b\b\b\b\b\b\b\b\b\b\b\b\b\b\b\b\b\b\b\b\b\b\b\b\b\b\b\b\b\b\b\b\b\b\b\b\b\b\b\b\b\b\b\b\b\b\b\b\b\b\b\b\b\b\b\r6/6 [==============================] - 1s 114ms/step - loss: 0.9443 - iou_score: 0.0557 - lr: 6.1035e-08\n"
          ]
        },
        {
          "output_type": "stream",
          "name": "stderr",
          "text": [
            "INFO - 2023-05-04 09:58:32,139 - saver.py - on_epoch_begin - line 109 - 74.0%\n",
            "\n",
            "INFO:master:74.0%\n"
          ]
        },
        {
          "output_type": "stream",
          "name": "stdout",
          "text": [
            "Epoch 75/100\n",
            "6/6 [==============================] - ETA: 0s - loss: 0.9460 - iou_score: 0.0540"
          ]
        },
        {
          "output_type": "stream",
          "name": "stderr",
          "text": [
            "INFO - 2023-05-04 09:58:32,804 - saver.py - on_epoch_end - line 131 - Estimated remaining run time: 17.282815550000123 second(s)\n",
            "\n",
            "INFO:master:Estimated remaining run time: 17.282815550000123 second(s)\n"
          ]
        },
        {
          "output_type": "stream",
          "name": "stdout",
          "text": [
            "\b\b\b\b\b\b\b\b\b\b\b\b\b\b\b\b\b\b\b\b\b\b\b\b\b\b\b\b\b\b\b\b\b\b\b\b\b\b\b\b\b\b\b\b\b\b\b\b\b\b\b\b\b\b\b\b\b\b\b\b\b\b\b\b\b\b\b\b\b\b\b\b\b\b\b\b\b\b\b\b\b\r6/6 [==============================] - 1s 114ms/step - loss: 0.9460 - iou_score: 0.0540 - lr: 6.1035e-08\n"
          ]
        },
        {
          "output_type": "stream",
          "name": "stderr",
          "text": [
            "INFO - 2023-05-04 09:58:32,825 - saver.py - on_epoch_begin - line 109 - 75.0%\n",
            "\n",
            "INFO:master:75.0%\n"
          ]
        },
        {
          "output_type": "stream",
          "name": "stdout",
          "text": [
            "Epoch 76/100\n",
            "6/6 [==============================] - ETA: 0s - loss: 0.9422 - iou_score: 0.0578"
          ]
        },
        {
          "output_type": "stream",
          "name": "stderr",
          "text": [
            "INFO - 2023-05-04 09:58:33,478 - saver.py - on_epoch_end - line 131 - Estimated remaining run time: 16.327379424998867 second(s)\n",
            "\n",
            "INFO:master:Estimated remaining run time: 16.327379424998867 second(s)\n"
          ]
        },
        {
          "output_type": "stream",
          "name": "stdout",
          "text": [
            "\b\b\b\b\b\b\b\b\b\b\b\b\b\b\b\b\b\b\b\b\b\b\b\b\b\b\b\b\b\b\b\b\b\b\b\b\b\b\b\b\b\b\b\b\b\b\b\b\b\b\b\b\b\b\b\b\b\b\b\b\b\b\b\b\b\b\b\b\b\b\b\b\b\b\b\b\b\b\b\b\b\r6/6 [==============================] - 1s 112ms/step - loss: 0.9422 - iou_score: 0.0578 - lr: 6.1035e-08\n"
          ]
        },
        {
          "output_type": "stream",
          "name": "stderr",
          "text": [
            "INFO - 2023-05-04 09:58:33,499 - saver.py - on_epoch_begin - line 109 - 76.0%\n",
            "\n",
            "INFO:master:76.0%\n"
          ]
        },
        {
          "output_type": "stream",
          "name": "stdout",
          "text": [
            "Epoch 77/100\n",
            "6/6 [==============================] - ETA: 0s - loss: 0.9464 - iou_score: 0.0536"
          ]
        },
        {
          "output_type": "stream",
          "name": "stderr",
          "text": [
            "INFO - 2023-05-04 09:58:34,225 - saver.py - on_epoch_end - line 131 - Estimated remaining run time: 17.420671104001485 second(s)\n",
            "\n",
            "INFO:master:Estimated remaining run time: 17.420671104001485 second(s)\n"
          ]
        },
        {
          "output_type": "stream",
          "name": "stdout",
          "text": [
            "\b\b\b\b\b\b\b\b\b\b\b\b\b\b\b\b\b\b\b\b\b\b\b\b\b\b\b\b\b\b\b\b\b\b\b\b\b\b\b\b\b\b\b\b\b\b\b\b\b\b\b\b\b\b\b\b\b\b\b\b\b\b\b\b\b\b\b\b\b\b\b\b\b\b\b\b\b\b\b\b\b\r6/6 [==============================] - 1s 127ms/step - loss: 0.9464 - iou_score: 0.0536 - lr: 6.1035e-08\n"
          ]
        },
        {
          "output_type": "stream",
          "name": "stderr",
          "text": [
            "INFO - 2023-05-04 09:58:34,250 - saver.py - on_epoch_begin - line 109 - 77.0%\n",
            "\n",
            "INFO:master:77.0%\n"
          ]
        },
        {
          "output_type": "stream",
          "name": "stdout",
          "text": [
            "Epoch 78/100\n",
            "6/6 [==============================] - ETA: 0s - loss: 0.9447 - iou_score: 0.0553"
          ]
        },
        {
          "output_type": "stream",
          "name": "stderr",
          "text": [
            "INFO - 2023-05-04 09:58:34,955 - saver.py - on_epoch_end - line 131 - Estimated remaining run time: 16.202800731001616 second(s)\n",
            "\n",
            "INFO:master:Estimated remaining run time: 16.202800731001616 second(s)\n"
          ]
        },
        {
          "output_type": "stream",
          "name": "stdout",
          "text": [
            "\b\b\b\b\b\b\b\b\b\b\b\b\b\b\b\b\b\b\b\b\b\b\b\b\b\b\b\b\b\b\b\b\b\b\b\b\b\b\b\b\b\b\b\b\b\b\b\b\b\b\b\b\b\b\b\b\b\b\b\b\b\b\b\b\b\b\b\b\b\b\b\b\b\b\b\b\b\b\b\b\b\r6/6 [==============================] - 1s 123ms/step - loss: 0.9447 - iou_score: 0.0553 - lr: 6.1035e-08\n"
          ]
        },
        {
          "output_type": "stream",
          "name": "stderr",
          "text": [
            "INFO - 2023-05-04 09:58:35,000 - saver.py - on_epoch_begin - line 109 - 78.0%\n",
            "\n",
            "INFO:master:78.0%\n"
          ]
        },
        {
          "output_type": "stream",
          "name": "stdout",
          "text": [
            "Epoch 79/100\n",
            "6/6 [==============================] - ETA: 0s - loss: 0.9423 - iou_score: 0.0577"
          ]
        },
        {
          "output_type": "stream",
          "name": "stderr",
          "text": [
            "INFO - 2023-05-04 09:58:35,682 - saver.py - on_epoch_end - line 131 - Estimated remaining run time: 15.000546836000241 second(s)\n",
            "\n",
            "INFO:master:Estimated remaining run time: 15.000546836000241 second(s)\n"
          ]
        },
        {
          "output_type": "stream",
          "name": "stdout",
          "text": [
            "\b\b\b\b\b\b\b\b\b\b\b\b\b\b\b\b\b\b\b\b\b\b\b\b\b\b\b\b\b\b\b\b\b\b\b\b\b\b\b\b\b\b\b\b\b\b\b\b\b\b\b\b\b\b\b\b\b\b\b\b\b\b\b\b\b\b\b\b\b\b\b\b\b\b\b\b\b\b\b\b\b\r6/6 [==============================] - 1s 116ms/step - loss: 0.9423 - iou_score: 0.0577 - lr: 6.1035e-08\n"
          ]
        },
        {
          "output_type": "stream",
          "name": "stderr",
          "text": [
            "INFO - 2023-05-04 09:58:35,698 - saver.py - on_epoch_begin - line 109 - 79.0%\n",
            "\n",
            "INFO:master:79.0%\n"
          ]
        },
        {
          "output_type": "stream",
          "name": "stdout",
          "text": [
            "Epoch 80/100\n",
            "6/6 [==============================] - ETA: 0s - loss: 0.9400 - iou_score: 0.0600"
          ]
        },
        {
          "output_type": "stream",
          "name": "stderr",
          "text": [
            "INFO - 2023-05-04 09:58:36,383 - saver.py - on_epoch_end - line 131 - Estimated remaining run time: 14.388462207000543 second(s)\n",
            "\n",
            "INFO:master:Estimated remaining run time: 14.388462207000543 second(s)\n"
          ]
        },
        {
          "output_type": "stream",
          "name": "stdout",
          "text": [
            "\n",
            "Epoch 80: ReduceLROnPlateau reducing learning rate to 3.051757957450718e-08.\n",
            "6/6 [==============================] - 1s 119ms/step - loss: 0.9400 - iou_score: 0.0600 - lr: 6.1035e-08\n"
          ]
        },
        {
          "output_type": "stream",
          "name": "stderr",
          "text": [
            "INFO - 2023-05-04 09:58:36,412 - saver.py - on_epoch_begin - line 109 - 80.0%\n",
            "\n",
            "INFO:master:80.0%\n"
          ]
        },
        {
          "output_type": "stream",
          "name": "stdout",
          "text": [
            "Epoch 81/100\n",
            "6/6 [==============================] - ETA: 0s - loss: 0.9426 - iou_score: 0.0574"
          ]
        },
        {
          "output_type": "stream",
          "name": "stderr",
          "text": [
            "INFO - 2023-05-04 09:58:37,227 - saver.py - on_epoch_end - line 131 - Estimated remaining run time: 16.295994879999398 second(s)\n",
            "\n",
            "INFO:master:Estimated remaining run time: 16.295994879999398 second(s)\n"
          ]
        },
        {
          "output_type": "stream",
          "name": "stdout",
          "text": [
            "\b\b\b\b\b\b\b\b\b\b\b\b\b\b\b\b\b\b\b\b\b\b\b\b\b\b\b\b\b\b\b\b\b\b\b\b\b\b\b\b\b\b\b\b\b\b\b\b\b\b\b\b\b\b\b\b\b\b\b\b\b\b\b\b\b\b\b\b\b\b\b\b\b\b\b\b\b\b\b\b\b\r6/6 [==============================] - 1s 141ms/step - loss: 0.9426 - iou_score: 0.0574 - lr: 3.0518e-08\n"
          ]
        },
        {
          "output_type": "stream",
          "name": "stderr",
          "text": [
            "INFO - 2023-05-04 09:58:37,257 - saver.py - on_epoch_begin - line 109 - 81.0%\n",
            "\n",
            "INFO:master:81.0%\n"
          ]
        },
        {
          "output_type": "stream",
          "name": "stdout",
          "text": [
            "Epoch 82/100\n",
            "6/6 [==============================] - ETA: 0s - loss: 0.9434 - iou_score: 0.0566"
          ]
        },
        {
          "output_type": "stream",
          "name": "stderr",
          "text": [
            "INFO - 2023-05-04 09:58:37,999 - saver.py - on_epoch_end - line 131 - Estimated remaining run time: 14.097566572001485 second(s)\n",
            "\n",
            "INFO:master:Estimated remaining run time: 14.097566572001485 second(s)\n"
          ]
        },
        {
          "output_type": "stream",
          "name": "stdout",
          "text": [
            "\b\b\b\b\b\b\b\b\b\b\b\b\b\b\b\b\b\b\b\b\b\b\b\b\b\b\b\b\b\b\b\b\b\b\b\b\b\b\b\b\b\b\b\b\b\b\b\b\b\b\b\b\b\b\b\b\b\b\b\b\b\b\b\b\b\b\b\b\b\b\b\b\b\b\b\b\b\b\b\b\b\r6/6 [==============================] - 1s 127ms/step - loss: 0.9434 - iou_score: 0.0566 - lr: 3.0518e-08\n"
          ]
        },
        {
          "output_type": "stream",
          "name": "stderr",
          "text": [
            "INFO - 2023-05-04 09:58:38,017 - saver.py - on_epoch_begin - line 109 - 82.0%\n",
            "\n",
            "INFO:master:82.0%\n"
          ]
        },
        {
          "output_type": "stream",
          "name": "stdout",
          "text": [
            "Epoch 83/100\n",
            "6/6 [==============================] - ETA: 0s - loss: 0.9449 - iou_score: 0.0551"
          ]
        },
        {
          "output_type": "stream",
          "name": "stderr",
          "text": [
            "INFO - 2023-05-04 09:58:39,080 - saver.py - on_epoch_end - line 131 - Estimated remaining run time: 19.1376752940007 second(s)\n",
            "\n",
            "INFO:master:Estimated remaining run time: 19.1376752940007 second(s)\n"
          ]
        },
        {
          "output_type": "stream",
          "name": "stdout",
          "text": [
            "\b\b\b\b\b\b\b\b\b\b\b\b\b\b\b\b\b\b\b\b\b\b\b\b\b\b\b\b\b\b\b\b\b\b\b\b\b\b\b\b\b\b\b\b\b\b\b\b\b\b\b\b\b\b\b\b\b\b\b\b\b\b\b\b\b\b\b\b\b\b\b\b\b\b\b\b\b\b\b\b\b\r6/6 [==============================] - 1s 192ms/step - loss: 0.9449 - iou_score: 0.0551 - lr: 3.0518e-08\n"
          ]
        },
        {
          "output_type": "stream",
          "name": "stderr",
          "text": [
            "INFO - 2023-05-04 09:58:39,107 - saver.py - on_epoch_begin - line 109 - 83.0%\n",
            "\n",
            "INFO:master:83.0%\n"
          ]
        },
        {
          "output_type": "stream",
          "name": "stdout",
          "text": [
            "Epoch 84/100\n",
            "6/6 [==============================] - ETA: 0s - loss: 0.9420 - iou_score: 0.0580"
          ]
        },
        {
          "output_type": "stream",
          "name": "stderr",
          "text": [
            "INFO - 2023-05-04 09:58:40,541 - saver.py - on_epoch_end - line 131 - Estimated remaining run time: 24.366039955999668 second(s)\n",
            "\n",
            "INFO:master:Estimated remaining run time: 24.366039955999668 second(s)\n"
          ]
        },
        {
          "output_type": "stream",
          "name": "stdout",
          "text": [
            "\b\b\b\b\b\b\b\b\b\b\b\b\b\b\b\b\b\b\b\b\b\b\b\b\b\b\b\b\b\b\b\b\b\b\b\b\b\b\b\b\b\b\b\b\b\b\b\b\b\b\b\b\b\b\b\b\b\b\b\b\b\b\b\b\b\b\b\b\b\b\b\b\b\b\b\b\b\b\b\b\b\r6/6 [==============================] - 1s 230ms/step - loss: 0.9420 - iou_score: 0.0580 - lr: 3.0518e-08\n"
          ]
        },
        {
          "output_type": "stream",
          "name": "stderr",
          "text": [
            "INFO - 2023-05-04 09:58:40,574 - saver.py - on_epoch_begin - line 109 - 84.0%\n",
            "\n",
            "INFO:master:84.0%\n"
          ]
        },
        {
          "output_type": "stream",
          "name": "stdout",
          "text": [
            "Epoch 85/100\n",
            "6/6 [==============================] - ETA: 0s - loss: 0.9436 - iou_score: 0.0564"
          ]
        },
        {
          "output_type": "stream",
          "name": "stderr",
          "text": [
            "INFO - 2023-05-04 09:58:41,604 - saver.py - on_epoch_end - line 131 - Estimated remaining run time: 16.476897168000505 second(s)\n",
            "\n",
            "INFO:master:Estimated remaining run time: 16.476897168000505 second(s)\n"
          ]
        },
        {
          "output_type": "stream",
          "name": "stdout",
          "text": [
            "\b\b\b\b\b\b\b\b\b\b\b\b\b\b\b\b\b\b\b\b\b\b\b\b\b\b\b\b\b\b\b\b\b\b\b\b\b\b\b\b\b\b\b\b\b\b\b\b\b\b\b\b\b\b\b\b\b\b\b\b\b\b\b\b\b\b\b\b\b\b\b\b\b\b\b\b\b\b\b\b\b\r6/6 [==============================] - 1s 181ms/step - loss: 0.9436 - iou_score: 0.0564 - lr: 3.0518e-08\n"
          ]
        },
        {
          "output_type": "stream",
          "name": "stderr",
          "text": [
            "INFO - 2023-05-04 09:58:41,647 - saver.py - on_epoch_begin - line 109 - 85.0%\n",
            "\n",
            "INFO:master:85.0%\n"
          ]
        },
        {
          "output_type": "stream",
          "name": "stdout",
          "text": [
            "Epoch 86/100\n",
            "6/6 [==============================] - ETA: 0s - loss: 0.9409 - iou_score: 0.0591"
          ]
        },
        {
          "output_type": "stream",
          "name": "stderr",
          "text": [
            "INFO - 2023-05-04 09:58:42,431 - saver.py - on_epoch_end - line 131 - Estimated remaining run time: 11.758171994998747 second(s)\n",
            "\n",
            "INFO:master:Estimated remaining run time: 11.758171994998747 second(s)\n"
          ]
        },
        {
          "output_type": "stream",
          "name": "stdout",
          "text": [
            "\b\b\b\b\b\b\b\b\b\b\b\b\b\b\b\b\b\b\b\b\b\b\b\b\b\b\b\b\b\b\b\b\b\b\b\b\b\b\b\b\b\b\b\b\b\b\b\b\b\b\b\b\b\b\b\b\b\b\b\b\b\b\b\b\b\b\b\b\b\b\b\b\b\b\b\b\b\b\b\b\b\r6/6 [==============================] - 1s 133ms/step - loss: 0.9409 - iou_score: 0.0591 - lr: 3.0518e-08\n"
          ]
        },
        {
          "output_type": "stream",
          "name": "stderr",
          "text": [
            "INFO - 2023-05-04 09:58:42,461 - saver.py - on_epoch_begin - line 109 - 86.0%\n",
            "\n",
            "INFO:master:86.0%\n"
          ]
        },
        {
          "output_type": "stream",
          "name": "stdout",
          "text": [
            "Epoch 87/100\n",
            "6/6 [==============================] - ETA: 0s - loss: 0.9399 - iou_score: 0.0601"
          ]
        },
        {
          "output_type": "stream",
          "name": "stderr",
          "text": [
            "INFO - 2023-05-04 09:58:43,141 - saver.py - on_epoch_end - line 131 - Estimated remaining run time: 9.526820660000112 second(s)\n",
            "\n",
            "INFO:master:Estimated remaining run time: 9.526820660000112 second(s)\n"
          ]
        },
        {
          "output_type": "stream",
          "name": "stdout",
          "text": [
            "\b\b\b\b\b\b\b\b\b\b\b\b\b\b\b\b\b\b\b\b\b\b\b\b\b\b\b\b\b\b\b\b\b\b\b\b\b\b\b\b\b\b\b\b\b\b\b\b\b\b\b\b\b\b\b\b\b\b\b\b\b\b\b\b\b\b\b\b\b\b\b\b\b\b\b\b\b\b\b\b\b\r6/6 [==============================] - 1s 118ms/step - loss: 0.9399 - iou_score: 0.0601 - lr: 3.0518e-08\n"
          ]
        },
        {
          "output_type": "stream",
          "name": "stderr",
          "text": [
            "INFO - 2023-05-04 09:58:43,172 - saver.py - on_epoch_begin - line 109 - 87.0%\n",
            "\n",
            "INFO:master:87.0%\n"
          ]
        },
        {
          "output_type": "stream",
          "name": "stdout",
          "text": [
            "Epoch 88/100\n",
            "6/6 [==============================] - ETA: 0s - loss: 0.9422 - iou_score: 0.0578"
          ]
        },
        {
          "output_type": "stream",
          "name": "stderr",
          "text": [
            "INFO - 2023-05-04 09:58:43,844 - saver.py - on_epoch_end - line 131 - Estimated remaining run time: 8.727706272999171 second(s)\n",
            "\n",
            "INFO:master:Estimated remaining run time: 8.727706272999171 second(s)\n"
          ]
        },
        {
          "output_type": "stream",
          "name": "stdout",
          "text": [
            "\b\b\b\b\b\b\b\b\b\b\b\b\b\b\b\b\b\b\b\b\b\b\b\b\b\b\b\b\b\b\b\b\b\b\b\b\b\b\b\b\b\b\b\b\b\b\b\b\b\b\b\b\b\b\b\b\b\b\b\b\b\b\b\b\b\b\b\b\b\b\b\b\b\b\b\b\b\b\b\b\b\r6/6 [==============================] - 1s 112ms/step - loss: 0.9422 - iou_score: 0.0578 - lr: 3.0518e-08\n"
          ]
        },
        {
          "output_type": "stream",
          "name": "stderr",
          "text": [
            "INFO - 2023-05-04 09:58:43,862 - saver.py - on_epoch_begin - line 109 - 88.0%\n",
            "\n",
            "INFO:master:88.0%\n"
          ]
        },
        {
          "output_type": "stream",
          "name": "stdout",
          "text": [
            "Epoch 89/100\n",
            "6/6 [==============================] - ETA: 0s - loss: 0.9435 - iou_score: 0.0565"
          ]
        },
        {
          "output_type": "stream",
          "name": "stderr",
          "text": [
            "INFO - 2023-05-04 09:58:44,538 - saver.py - on_epoch_end - line 131 - Estimated remaining run time: 8.109544860000371 second(s)\n",
            "\n",
            "INFO:master:Estimated remaining run time: 8.109544860000371 second(s)\n"
          ]
        },
        {
          "output_type": "stream",
          "name": "stdout",
          "text": [
            "\b\b\b\b\b\b\b\b\b\b\b\b\b\b\b\b\b\b\b\b\b\b\b\b\b\b\b\b\b\b\b\b\b\b\b\b\b\b\b\b\b\b\b\b\b\b\b\b\b\b\b\b\b\b\b\b\b\b\b\b\b\b\b\b\b\b\b\b\b\b\b\b\b\b\b\b\b\b\b\b\b\r6/6 [==============================] - 1s 116ms/step - loss: 0.9435 - iou_score: 0.0565 - lr: 3.0518e-08\n"
          ]
        },
        {
          "output_type": "stream",
          "name": "stderr",
          "text": [
            "INFO - 2023-05-04 09:58:44,564 - saver.py - on_epoch_begin - line 109 - 89.0%\n",
            "\n",
            "INFO:master:89.0%\n"
          ]
        },
        {
          "output_type": "stream",
          "name": "stdout",
          "text": [
            "Epoch 90/100\n",
            "6/6 [==============================] - ETA: 0s - loss: 0.9429 - iou_score: 0.0571"
          ]
        },
        {
          "output_type": "stream",
          "name": "stderr",
          "text": [
            "INFO - 2023-05-04 09:58:45,256 - saver.py - on_epoch_end - line 131 - Estimated remaining run time: 7.6124472160001915 second(s)\n",
            "\n",
            "INFO:master:Estimated remaining run time: 7.6124472160001915 second(s)\n"
          ]
        },
        {
          "output_type": "stream",
          "name": "stdout",
          "text": [
            "\n",
            "Epoch 90: ReduceLROnPlateau reducing learning rate to 1.525878978725359e-08.\n",
            "6/6 [==============================] - 1s 123ms/step - loss: 0.9429 - iou_score: 0.0571 - lr: 3.0518e-08\n"
          ]
        },
        {
          "output_type": "stream",
          "name": "stderr",
          "text": [
            "INFO - 2023-05-04 09:58:45,309 - saver.py - on_epoch_begin - line 109 - 90.0%\n",
            "\n",
            "INFO:master:90.0%\n"
          ]
        },
        {
          "output_type": "stream",
          "name": "stdout",
          "text": [
            "Epoch 91/100\n",
            "6/6 [==============================] - ETA: 0s - loss: 0.9418 - iou_score: 0.0582"
          ]
        },
        {
          "output_type": "stream",
          "name": "stderr",
          "text": [
            "INFO - 2023-05-04 09:58:46,021 - saver.py - on_epoch_end - line 131 - Estimated remaining run time: 7.118954620000296 second(s)\n",
            "\n",
            "INFO:master:Estimated remaining run time: 7.118954620000296 second(s)\n"
          ]
        },
        {
          "output_type": "stream",
          "name": "stdout",
          "text": [
            "\b\b\b\b\b\b\b\b\b\b\b\b\b\b\b\b\b\b\b\b\b\b\b\b\b\b\b\b\b\b\b\b\b\b\b\b\b\b\b\b\b\b\b\b\b\b\b\b\b\b\b\b\b\b\b\b\b\b\b\b\b\b\b\b\b\b\b\b\b\b\b\b\b\b\b\b\b\b\b\b\b\r6/6 [==============================] - 1s 123ms/step - loss: 0.9418 - iou_score: 0.0582 - lr: 1.5259e-08\n"
          ]
        },
        {
          "output_type": "stream",
          "name": "stderr",
          "text": [
            "INFO - 2023-05-04 09:58:46,054 - saver.py - on_epoch_begin - line 109 - 91.0%\n",
            "\n",
            "INFO:master:91.0%\n"
          ]
        },
        {
          "output_type": "stream",
          "name": "stdout",
          "text": [
            "Epoch 92/100\n",
            "6/6 [==============================] - ETA: 0s - loss: 0.9451 - iou_score: 0.0549"
          ]
        },
        {
          "output_type": "stream",
          "name": "stderr",
          "text": [
            "INFO - 2023-05-04 09:58:46,752 - saver.py - on_epoch_end - line 131 - Estimated remaining run time: 6.287571630000571 second(s)\n",
            "\n",
            "INFO:master:Estimated remaining run time: 6.287571630000571 second(s)\n"
          ]
        },
        {
          "output_type": "stream",
          "name": "stdout",
          "text": [
            "\b\b\b\b\b\b\b\b\b\b\b\b\b\b\b\b\b\b\b\b\b\b\b\b\b\b\b\b\b\b\b\b\b\b\b\b\b\b\b\b\b\b\b\b\b\b\b\b\b\b\b\b\b\b\b\b\b\b\b\b\b\b\b\b\b\b\b\b\b\b\b\b\b\b\b\b\b\b\b\b\b\r6/6 [==============================] - 1s 119ms/step - loss: 0.9451 - iou_score: 0.0549 - lr: 1.5259e-08\n"
          ]
        },
        {
          "output_type": "stream",
          "name": "stderr",
          "text": [
            "INFO - 2023-05-04 09:58:46,769 - saver.py - on_epoch_begin - line 109 - 92.0%\n",
            "\n",
            "INFO:master:92.0%\n"
          ]
        },
        {
          "output_type": "stream",
          "name": "stdout",
          "text": [
            "Epoch 93/100\n",
            "6/6 [==============================] - ETA: 0s - loss: 0.9410 - iou_score: 0.0590"
          ]
        },
        {
          "output_type": "stream",
          "name": "stderr",
          "text": [
            "INFO - 2023-05-04 09:58:47,467 - saver.py - on_epoch_end - line 131 - Estimated remaining run time: 5.583957608000674 second(s)\n",
            "\n",
            "INFO:master:Estimated remaining run time: 5.583957608000674 second(s)\n"
          ]
        },
        {
          "output_type": "stream",
          "name": "stdout",
          "text": [
            "\b\b\b\b\b\b\b\b\b\b\b\b\b\b\b\b\b\b\b\b\b\b\b\b\b\b\b\b\b\b\b\b\b\b\b\b\b\b\b\b\b\b\b\b\b\b\b\b\b\b\b\b\b\b\b\b\b\b\b\b\b\b\b\b\b\b\b\b\b\b\b\b\b\b\b\b\b\b\b\b\b\r6/6 [==============================] - 1s 118ms/step - loss: 0.9410 - iou_score: 0.0590 - lr: 1.5259e-08\n"
          ]
        },
        {
          "output_type": "stream",
          "name": "stderr",
          "text": [
            "INFO - 2023-05-04 09:58:47,486 - saver.py - on_epoch_begin - line 109 - 93.0%\n",
            "\n",
            "INFO:master:93.0%\n"
          ]
        },
        {
          "output_type": "stream",
          "name": "stdout",
          "text": [
            "Epoch 94/100\n",
            "6/6 [==============================] - ETA: 0s - loss: 0.9429 - iou_score: 0.0571"
          ]
        },
        {
          "output_type": "stream",
          "name": "stderr",
          "text": [
            "INFO - 2023-05-04 09:58:48,163 - saver.py - on_epoch_end - line 131 - Estimated remaining run time: 4.735484522999968 second(s)\n",
            "\n",
            "INFO:master:Estimated remaining run time: 4.735484522999968 second(s)\n"
          ]
        },
        {
          "output_type": "stream",
          "name": "stdout",
          "text": [
            "\b\b\b\b\b\b\b\b\b\b\b\b\b\b\b\b\b\b\b\b\b\b\b\b\b\b\b\b\b\b\b\b\b\b\b\b\b\b\b\b\b\b\b\b\b\b\b\b\b\b\b\b\b\b\b\b\b\b\b\b\b\b\b\b\b\b\b\b\b\b\b\b\b\b\b\b\b\b\b\b\b\r6/6 [==============================] - 1s 115ms/step - loss: 0.9429 - iou_score: 0.0571 - lr: 1.5259e-08\n"
          ]
        },
        {
          "output_type": "stream",
          "name": "stderr",
          "text": [
            "INFO - 2023-05-04 09:58:48,179 - saver.py - on_epoch_begin - line 109 - 94.0%\n",
            "\n",
            "INFO:master:94.0%\n"
          ]
        },
        {
          "output_type": "stream",
          "name": "stdout",
          "text": [
            "Epoch 95/100\n",
            "6/6 [==============================] - ETA: 0s - loss: 0.9422 - iou_score: 0.0578"
          ]
        },
        {
          "output_type": "stream",
          "name": "stderr",
          "text": [
            "INFO - 2023-05-04 09:58:48,845 - saver.py - on_epoch_end - line 131 - Estimated remaining run time: 3.9984958379998266 second(s)\n",
            "\n",
            "INFO:master:Estimated remaining run time: 3.9984958379998266 second(s)\n"
          ]
        },
        {
          "output_type": "stream",
          "name": "stdout",
          "text": [
            "\b\b\b\b\b\b\b\b\b\b\b\b\b\b\b\b\b\b\b\b\b\b\b\b\b\b\b\b\b\b\b\b\b\b\b\b\b\b\b\b\b\b\b\b\b\b\b\b\b\b\b\b\b\b\b\b\b\b\b\b\b\b\b\b\b\b\b\b\b\b\b\b\b\b\b\b\b\b\b\b\b\r6/6 [==============================] - 1s 113ms/step - loss: 0.9422 - iou_score: 0.0578 - lr: 1.5259e-08\n"
          ]
        },
        {
          "output_type": "stream",
          "name": "stderr",
          "text": [
            "INFO - 2023-05-04 09:58:48,861 - saver.py - on_epoch_begin - line 109 - 95.0%\n",
            "\n",
            "INFO:master:95.0%\n"
          ]
        },
        {
          "output_type": "stream",
          "name": "stdout",
          "text": [
            "Epoch 96/100\n",
            "6/6 [==============================] - ETA: 0s - loss: 0.9462 - iou_score: 0.0538"
          ]
        },
        {
          "output_type": "stream",
          "name": "stderr",
          "text": [
            "INFO - 2023-05-04 09:58:49,668 - saver.py - on_epoch_end - line 131 - Estimated remaining run time: 4.0311095200002 second(s)\n",
            "\n",
            "INFO:master:Estimated remaining run time: 4.0311095200002 second(s)\n"
          ]
        },
        {
          "output_type": "stream",
          "name": "stdout",
          "text": [
            "\b\b\b\b\b\b\b\b\b\b\b\b\b\b\b\b\b\b\b\b\b\b\b\b\b\b\b\b\b\b\b\b\b\b\b\b\b\b\b\b\b\b\b\b\b\b\b\b\b\b\b\b\b\b\b\b\b\b\b\b\b\b\b\b\b\b\b\b\b\b\b\b\b\b\b\b\b\b\b\b\b\r6/6 [==============================] - 1s 152ms/step - loss: 0.9462 - iou_score: 0.0538 - lr: 1.5259e-08\n"
          ]
        },
        {
          "output_type": "stream",
          "name": "stderr",
          "text": [
            "INFO - 2023-05-04 09:58:49,738 - saver.py - on_epoch_begin - line 109 - 96.0%\n",
            "\n",
            "INFO:master:96.0%\n"
          ]
        },
        {
          "output_type": "stream",
          "name": "stdout",
          "text": [
            "Epoch 97/100\n",
            "6/6 [==============================] - ETA: 0s - loss: 0.9438 - iou_score: 0.0562"
          ]
        },
        {
          "output_type": "stream",
          "name": "stderr",
          "text": [
            "INFO - 2023-05-04 09:58:50,625 - saver.py - on_epoch_end - line 131 - Estimated remaining run time: 3.545692692000103 second(s)\n",
            "\n",
            "INFO:master:Estimated remaining run time: 3.545692692000103 second(s)\n"
          ]
        },
        {
          "output_type": "stream",
          "name": "stdout",
          "text": [
            "\b\b\b\b\b\b\b\b\b\b\b\b\b\b\b\b\b\b\b\b\b\b\b\b\b\b\b\b\b\b\b\b\b\b\b\b\b\b\b\b\b\b\b\b\b\b\b\b\b\b\b\b\b\b\b\b\b\b\b\b\b\b\b\b\b\b\b\b\b\b\b\b\b\b\b\b\b\b\b\b\b\r6/6 [==============================] - 1s 155ms/step - loss: 0.9438 - iou_score: 0.0562 - lr: 1.5259e-08\n"
          ]
        },
        {
          "output_type": "stream",
          "name": "stderr",
          "text": [
            "INFO - 2023-05-04 09:58:50,643 - saver.py - on_epoch_begin - line 109 - 97.0%\n",
            "\n",
            "INFO:master:97.0%\n"
          ]
        },
        {
          "output_type": "stream",
          "name": "stdout",
          "text": [
            "Epoch 98/100\n",
            "6/6 [==============================] - ETA: 0s - loss: 0.9414 - iou_score: 0.0586"
          ]
        },
        {
          "output_type": "stream",
          "name": "stderr",
          "text": [
            "INFO - 2023-05-04 09:58:51,406 - saver.py - on_epoch_end - line 131 - Estimated remaining run time: 2.2907768880002095 second(s)\n",
            "\n",
            "INFO:master:Estimated remaining run time: 2.2907768880002095 second(s)\n"
          ]
        },
        {
          "output_type": "stream",
          "name": "stdout",
          "text": [
            "\b\b\b\b\b\b\b\b\b\b\b\b\b\b\b\b\b\b\b\b\b\b\b\b\b\b\b\b\b\b\b\b\b\b\b\b\b\b\b\b\b\b\b\b\b\b\b\b\b\b\b\b\b\b\b\b\b\b\b\b\b\b\b\b\b\b\b\b\b\b\b\b\b\b\b\b\b\b\b\b\b\r6/6 [==============================] - 1s 133ms/step - loss: 0.9414 - iou_score: 0.0586 - lr: 1.5259e-08\n"
          ]
        },
        {
          "output_type": "stream",
          "name": "stderr",
          "text": [
            "INFO - 2023-05-04 09:58:51,427 - saver.py - on_epoch_begin - line 109 - 98.0%\n",
            "\n",
            "INFO:master:98.0%\n"
          ]
        },
        {
          "output_type": "stream",
          "name": "stdout",
          "text": [
            "Epoch 99/100\n",
            "6/6 [==============================] - ETA: 0s - loss: 0.9417 - iou_score: 0.0583"
          ]
        },
        {
          "output_type": "stream",
          "name": "stderr",
          "text": [
            "INFO - 2023-05-04 09:58:52,158 - saver.py - on_epoch_end - line 131 - Estimated remaining run time: 1.4618755920000694 second(s)\n",
            "\n",
            "INFO:master:Estimated remaining run time: 1.4618755920000694 second(s)\n"
          ]
        },
        {
          "output_type": "stream",
          "name": "stdout",
          "text": [
            "\b\b\b\b\b\b\b\b\b\b\b\b\b\b\b\b\b\b\b\b\b\b\b\b\b\b\b\b\b\b\b\b\b\b\b\b\b\b\b\b\b\b\b\b\b\b\b\b\b\b\b\b\b\b\b\b\b\b\b\b\b\b\b\b\b\b\b\b\b\b\b\b\b\b\b\b\b\b\b\b\b\r6/6 [==============================] - 1s 128ms/step - loss: 0.9417 - iou_score: 0.0583 - lr: 1.5259e-08\n"
          ]
        },
        {
          "output_type": "stream",
          "name": "stderr",
          "text": [
            "INFO - 2023-05-04 09:58:52,197 - saver.py - on_epoch_begin - line 109 - 99.0%\n",
            "\n",
            "INFO:master:99.0%\n"
          ]
        },
        {
          "output_type": "stream",
          "name": "stdout",
          "text": [
            "Epoch 100/100\n",
            "6/6 [==============================] - ETA: 0s - loss: 0.9423 - iou_score: 0.0577"
          ]
        },
        {
          "output_type": "stream",
          "name": "stderr",
          "text": [
            "INFO - 2023-05-04 09:58:53,277 - saver.py - on_epoch_end - line 131 - Estimated remaining run time: 1.0808194349999667 second(s)\n",
            "\n",
            "INFO:master:Estimated remaining run time: 1.0808194349999667 second(s)\n"
          ]
        },
        {
          "output_type": "stream",
          "name": "stdout",
          "text": [
            "\n",
            "Epoch 100: ReduceLROnPlateau reducing learning rate to 7.629394893626795e-09.\n",
            "6/6 [==============================] - 1s 201ms/step - loss: 0.9423 - iou_score: 0.0577 - lr: 1.5259e-08\n",
            "Saving model\n"
          ]
        },
        {
          "output_type": "stream",
          "name": "stderr",
          "text": [
            "WARNING:absl:Found untraced functions such as _jit_compiled_convolution_op, _jit_compiled_convolution_op, _jit_compiled_convolution_op, _jit_compiled_convolution_op, _jit_compiled_convolution_op while saving (showing 5 of 31). These functions will not be directly callable after loading.\n"
          ]
        },
        {
          "output_type": "stream",
          "name": "stdout",
          "text": [
            "Done\n"
          ]
        }
      ]
    }
  ]
}