{
  "nbformat": 4,
  "nbformat_minor": 0,
  "metadata": {
    "colab": {
      "name": "Untitled6.ipynb",
      "provenance": [],
      "collapsed_sections": [],
      "authorship_tag": "ABX9TyPV7G/VIM6y//jeqg3XgHds",
      "include_colab_link": true
    },
    "kernelspec": {
      "name": "python3",
      "display_name": "Python 3"
    }
  },
  "cells": [
    {
      "cell_type": "markdown",
      "metadata": {
        "id": "view-in-github",
        "colab_type": "text"
      },
      "source": [
        "<a href=\"https://colab.research.google.com/github/baigouy/notebooks/blob/master/Untitled6.ipynb\" target=\"_parent\"><img src=\"https://colab.research.google.com/assets/colab-badge.svg\" alt=\"Open In Colab\"/></a>"
      ]
    },
    {
      "cell_type": "code",
      "metadata": {
        "id": "rPRJ8icPLjXi",
        "colab_type": "code",
        "colab": {}
      },
      "source": [
        "#this is a test"
      ],
      "execution_count": 0,
      "outputs": []
    },
    {
      "cell_type": "markdown",
      "metadata": {
        "id": "nr46PMorLt0F",
        "colab_type": "text"
      },
      "source": [
        "## hello\n",
        "\n",
        "Mounting your Google Drive:\n",
        "\n",
        "# link to html\n",
        "[![Mount drive](https://github.com/baigouy/notebooks/raw/master/images/demo_mounting_drive0000.jpg)](http://google.com/)\n",
        "\n",
        "\n",
        "\n",
        "# just showing image\n",
        "![](https://github.com/baigouy/notebooks/raw/master/images/demo_mounting_drive0000.jpg)"
      ]
    }
  ]
}